{
 "cells": [
  {
   "cell_type": "code",
   "execution_count": 1,
   "id": "4b06bccb",
   "metadata": {},
   "outputs": [
    {
     "ename": "ModuleNotFoundError",
     "evalue": "No module named 'tensorflow'",
     "output_type": "error",
     "traceback": [
      "\u001b[0;31m---------------------------------------------------------------------------\u001b[0m",
      "\u001b[0;31mModuleNotFoundError\u001b[0m                       Traceback (most recent call last)",
      "Cell \u001b[0;32mIn[1], line 1\u001b[0m\n\u001b[0;32m----> 1\u001b[0m \u001b[38;5;28;01mimport\u001b[39;00m \u001b[38;5;21;01mtensorflow\u001b[39;00m \u001b[38;5;28;01mas\u001b[39;00m \u001b[38;5;21;01mtf\u001b[39;00m\n\u001b[1;32m      2\u001b[0m \u001b[38;5;28;01mimport\u001b[39;00m \u001b[38;5;21;01mtensorflow_decision_forests\u001b[39;00m \u001b[38;5;28;01mas\u001b[39;00m \u001b[38;5;21;01mtfdf\u001b[39;00m\n\u001b[1;32m      3\u001b[0m \u001b[38;5;28;01mimport\u001b[39;00m \u001b[38;5;21;01mpandas\u001b[39;00m \u001b[38;5;28;01mas\u001b[39;00m \u001b[38;5;21;01mpd\u001b[39;00m\n",
      "\u001b[0;31mModuleNotFoundError\u001b[0m: No module named 'tensorflow'"
     ]
    }
   ],
   "source": [
    "import tensorflow as tf\n",
    "import tensorflow_decision_forests as tfdf\n",
    "import pandas as pd\n",
    "import numpy as np\n",
    "import seaborn as sns\n",
    "import matplotlib.pyplot as plt\n",
    "\n",
    "print(\"Tensorflow v\" + tf.__version__)\n",
    "print(\"Tensorflow Decision Forests V\" + tfdf.__version__)\n",
    "dataset_df = pd.read_csv('../data/train.csv')\n",
    "print(dataset_df.head(5))\n",
    "\n",
    "print(\"0\" * 100)\n",
    "print(dataset_df.columns)\n",
    "print(\"2\" * 100)\n",
    "# There are 12 feature columns. Using these features your model has to predict whether the passenger is rescued or not indicated by the column Transported.\n",
    "#\n",
    "# add Codeadd Markdown\n",
    "# Let us quickly do a basic exploration of the dataset\n",
    "print(dataset_df.describe())\n",
    "print(dataset_df.info())\n",
    "# Bar chart for label column: Transported¶\n",
    "plot_df = dataset_df.Transported.value_counts()\n",
    "plot_df.plot(kind='bar')\n",
    "# Numerical data distribution¶\n",
    "# Let us plot all the numerical columns and their value counts:\n",
    "\n",
    "\n",
    "# Prepare the dataset¶\n",
    "# We will drop both PassengerId and Name columns as they are not necessary for model training.\n"
   ]
  },
  {
   "cell_type": "code",
   "execution_count": null,
   "id": "d1f64be4",
   "metadata": {},
   "outputs": [],
   "source": [
    "fig, ax = plt.subplots(5, 1, figsize=(10, 10))\n",
    "plt.subplots_adjust(top=1)\n",
    "sns.histplot(dataset_df['Age'], bins=50, color='b', ax=ax[0])\n",
    "sns.histplot(dataset_df['FoodCourt'], bins=50, color='b', ax=ax[1])\n",
    "sns.histplot(dataset_df['ShoppingMall'], bins=50, color='b', ax=ax[2])\n",
    "sns.histplot(dataset_df['Spa'], bins=50, color='b', ax=ax[3])\n",
    "sns.histplot(dataset_df['VRDeck'], bins=50, color='b', ax=ax[4])"
   ]
  },
  {
   "cell_type": "code",
   "execution_count": null,
   "id": "563e5d7c",
   "metadata": {},
   "outputs": [],
   "source": [
    "dataset_df.isnull().sum().sort_values(ascending=False)"
   ]
  },
  {
   "cell_type": "code",
   "execution_count": null,
   "id": "cf1b6287",
   "metadata": {},
   "outputs": [],
   "source": [
    "dataset_df = dataset_df.drop(['PassengerId', 'Name'], axis=1)\n",
    "print(\"4\" * 100)\n",
    "print(dataset_df.head(5))\n",
    "\n",
    "# plt.show()\n",
    "# We will check for the missing values using the following code:\n",
    "dataset_df.isnull().sum().sort_values(ascending=False)\n",
    "# This dataset contains a mix of numeric, categorical and missing features. TF-DF supports all these feature types natively, and no preprocessing is required.\n",
    "#\n",
    "# But this datatset also has boolean fields with missing values. TF-DF doesn't support boolean fields yet. So we need to convert those fields into int. To account for the missing values in the boolean fields, we will replace them with zero.\n",
    "#\n",
    "# In this notebook, we will replace null value entries with zero for numerical columns as well and only let TF-DF handle the missing values in categorical columns.\n",
    "#\n",
    "# Note: You can choose to let TF-DF handle missing values in numerical columns if need be.\n",
    "dataset_df[['VIP', 'CryoSleep', 'FoodCourt', 'ShoppingMall', 'Spa', 'VRDeck']] = dataset_df[[\n",
    "    'VIP', 'CryoSleep', 'FoodCourt', 'ShoppingMall', 'Spa', 'VRDeck'\n",
    "]].fillna(value=0)"
   ]
  },
  {
   "cell_type": "code",
   "execution_count": null,
   "id": "f85cfd2e",
   "metadata": {},
   "outputs": [],
   "source": [
    "dataset_df.Cabin.head()"
   ]
  },
  {
   "cell_type": "code",
   "execution_count": null,
   "id": "c8fb6ada",
   "metadata": {},
   "outputs": [],
   "source": [
    "\n",
    "label = 'Transported'\n",
    "dataset_df[label] = dataset_df[label].astype(int)\n",
    "# We will also convert the boolean fields CryoSleep and VIP to int.\n",
    "print(\"5\" * 100)\n",
    "dataset_df['VIP'] = dataset_df['VIP'].astype(int)\n",
    "dataset_df['CryoSleep'] = dataset_df['CryoSleep'].astype(int)\n",
    "# The value of column Cabin is a string with the format Deck/Cabin_num/Side. Here we will split the Cabin column and create 3 new columns Deck, Cabin_num and Side, since it will be easier to train the model on those individual data.\n",
    "# Run the following command to split the column Cabin into columns Deck, Cabin_num and Side\n",
    "dataset_df[[ \"Deck\", \"Cabin_num\", \"Side\"]]=dataset_df['Cabin'].str.split('/',expand=True)\n",
    "# Remove original Cabin column from the dataset since it's not needed anymore.\n",
    "print(\"6\" * 100)\n",
    "print(dataset_df.columns)\n",
    "try:\n",
    "    dataset_df.drop('Cabin',inplace=True,axis=1)\n",
    "except KeyError:\n",
    "    print('Field does not exists!')\n",
    "\n"
   ]
  },
  {
   "cell_type": "code",
   "execution_count": null,
   "id": "667b422d",
   "metadata": {},
   "outputs": [],
   "source": [
    "dataset_df.head(5)"
   ]
  },
  {
   "cell_type": "code",
   "execution_count": null,
   "id": "a1987149",
   "metadata": {},
   "outputs": [],
   "source": [
    "def split_dataset(dataset, test_ratio=0.2):\n",
    "    test_indice = np.random.rand(len(dataset)) < test_ratio\n",
    "    return dataset[~test_indice], dataset[test_indice]\n"
   ]
  },
  {
   "cell_type": "code",
   "execution_count": null,
   "id": "fde7eab7",
   "metadata": {},
   "outputs": [],
   "source": [
    "label = 'Transported'\n",
    "train_ds_pd, valid_ds_pd = split_dataset(dataset_df)\n",
    "print(\"{} examples in training ,{} examples in testing.\".format(\n",
    "    len(train_ds_pd), len(valid_ds_pd)))\n",
    "train_ds = tfdf.keras.pd_dataframe_to_tf_dataset(train_ds_pd, label=label)\n",
    "valid_ds = tfdf.keras.pd_dataframe_to_tf_dataset(valid_ds_pd, label=label)"
   ]
  },
  {
   "cell_type": "code",
   "execution_count": 2,
   "id": "5ba62804",
   "metadata": {},
   "outputs": [
    {
     "ename": "NameError",
     "evalue": "name 'tfdf' is not defined",
     "output_type": "error",
     "traceback": [
      "\u001b[0;31m---------------------------------------------------------------------------\u001b[0m",
      "\u001b[0;31mNameError\u001b[0m                                 Traceback (most recent call last)",
      "Cell \u001b[0;32mIn[2], line 1\u001b[0m\n\u001b[0;32m----> 1\u001b[0m \u001b[43mtfdf\u001b[49m\u001b[38;5;241m.\u001b[39mkeras\u001b[38;5;241m.\u001b[39mget_all_models()\n",
      "\u001b[0;31mNameError\u001b[0m: name 'tfdf' is not defined"
     ]
    }
   ],
   "source": [
    "tfdf.keras.get_all_models()\n"
   ]
  },
  {
   "cell_type": "code",
   "execution_count": null,
   "id": "29a6ba31",
   "metadata": {},
   "outputs": [],
   "source": [
    "rf = tfdf.keras.RandomForestModel(hyperparameter_template='benchmark_rank1')\n",
    "rf = tfdf.keras.RandomForestModel()\n",
    "rf.compile(metrics=['accuracy'])\n",
    "rf.fit(x=train_ds)\n",
    "tfdf.model_plotter.plot_model_in_colab(rf, tree_idx=0, max_depth=3)\n"
   ]
  },
  {
   "cell_type": "code",
   "execution_count": null,
   "id": "b94880be",
   "metadata": {},
   "outputs": [],
   "source": []
  }
 ],
 "metadata": {
  "kernelspec": {
   "display_name": "Python 3 (ipykernel)",
   "language": "python",
   "name": "python3"
  },
  "language_info": {
   "codemirror_mode": {
    "name": "ipython",
    "version": 3
   },
   "file_extension": ".py",
   "mimetype": "text/x-python",
   "name": "python",
   "nbconvert_exporter": "python",
   "pygments_lexer": "ipython3",
   "version": "3.8.0"
  }
 },
 "nbformat": 4,
 "nbformat_minor": 5
}
