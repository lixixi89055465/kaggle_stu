{
 "cells": [
  {
   "cell_type": "code",
   "execution_count": 1,
   "id": "c6351b86",
   "metadata": {
    "_cell_guid": "b1076dfc-b9ad-4769-8c92-a6c4dae69d19",
    "_uuid": "8f2839f25d086af736a60e9eeb907d3b93b6e0e5",
    "execution": {
     "iopub.execute_input": "2024-06-01T10:13:51.660612Z",
     "iopub.status.busy": "2024-06-01T10:13:51.660240Z",
     "iopub.status.idle": "2024-06-01T10:13:52.860405Z",
     "shell.execute_reply": "2024-06-01T10:13:52.859310Z"
    },
    "papermill": {
     "duration": 1.237985,
     "end_time": "2024-06-01T10:13:52.862884",
     "exception": false,
     "start_time": "2024-06-01T10:13:51.624899",
     "status": "completed"
    },
    "tags": []
   },
   "outputs": [
    {
     "data": {
      "text/html": [
       "<div>\n",
       "<style scoped>\n",
       "    .dataframe tbody tr th:only-of-type {\n",
       "        vertical-align: middle;\n",
       "    }\n",
       "\n",
       "    .dataframe tbody tr th {\n",
       "        vertical-align: top;\n",
       "    }\n",
       "\n",
       "    .dataframe thead th {\n",
       "        text-align: right;\n",
       "    }\n",
       "</style>\n",
       "<table border=\"1\" class=\"dataframe\">\n",
       "  <thead>\n",
       "    <tr style=\"text-align: right;\">\n",
       "      <th></th>\n",
       "      <th>id</th>\n",
       "      <th>Marital status</th>\n",
       "      <th>Application mode</th>\n",
       "      <th>Application order</th>\n",
       "      <th>Course</th>\n",
       "      <th>Daytime/evening attendance</th>\n",
       "      <th>Previous qualification</th>\n",
       "      <th>Previous qualification (grade)</th>\n",
       "      <th>Nacionality</th>\n",
       "      <th>Mother's qualification</th>\n",
       "      <th>...</th>\n",
       "      <th>Curricular units 2nd sem (credited)</th>\n",
       "      <th>Curricular units 2nd sem (enrolled)</th>\n",
       "      <th>Curricular units 2nd sem (evaluations)</th>\n",
       "      <th>Curricular units 2nd sem (approved)</th>\n",
       "      <th>Curricular units 2nd sem (grade)</th>\n",
       "      <th>Curricular units 2nd sem (without evaluations)</th>\n",
       "      <th>Unemployment rate</th>\n",
       "      <th>Inflation rate</th>\n",
       "      <th>GDP</th>\n",
       "      <th>Target</th>\n",
       "    </tr>\n",
       "  </thead>\n",
       "  <tbody>\n",
       "    <tr>\n",
       "      <th>0</th>\n",
       "      <td>0</td>\n",
       "      <td>1</td>\n",
       "      <td>1</td>\n",
       "      <td>1</td>\n",
       "      <td>9238</td>\n",
       "      <td>1</td>\n",
       "      <td>1</td>\n",
       "      <td>126.0</td>\n",
       "      <td>1</td>\n",
       "      <td>1</td>\n",
       "      <td>...</td>\n",
       "      <td>0</td>\n",
       "      <td>6</td>\n",
       "      <td>7</td>\n",
       "      <td>6</td>\n",
       "      <td>12.428571</td>\n",
       "      <td>0</td>\n",
       "      <td>11.1</td>\n",
       "      <td>0.6</td>\n",
       "      <td>2.02</td>\n",
       "      <td>Graduate</td>\n",
       "    </tr>\n",
       "    <tr>\n",
       "      <th>1</th>\n",
       "      <td>1</td>\n",
       "      <td>1</td>\n",
       "      <td>17</td>\n",
       "      <td>1</td>\n",
       "      <td>9238</td>\n",
       "      <td>1</td>\n",
       "      <td>1</td>\n",
       "      <td>125.0</td>\n",
       "      <td>1</td>\n",
       "      <td>19</td>\n",
       "      <td>...</td>\n",
       "      <td>0</td>\n",
       "      <td>6</td>\n",
       "      <td>9</td>\n",
       "      <td>0</td>\n",
       "      <td>0.000000</td>\n",
       "      <td>0</td>\n",
       "      <td>11.1</td>\n",
       "      <td>0.6</td>\n",
       "      <td>2.02</td>\n",
       "      <td>Dropout</td>\n",
       "    </tr>\n",
       "    <tr>\n",
       "      <th>2</th>\n",
       "      <td>2</td>\n",
       "      <td>1</td>\n",
       "      <td>17</td>\n",
       "      <td>2</td>\n",
       "      <td>9254</td>\n",
       "      <td>1</td>\n",
       "      <td>1</td>\n",
       "      <td>137.0</td>\n",
       "      <td>1</td>\n",
       "      <td>3</td>\n",
       "      <td>...</td>\n",
       "      <td>0</td>\n",
       "      <td>6</td>\n",
       "      <td>0</td>\n",
       "      <td>0</td>\n",
       "      <td>0.000000</td>\n",
       "      <td>0</td>\n",
       "      <td>16.2</td>\n",
       "      <td>0.3</td>\n",
       "      <td>-0.92</td>\n",
       "      <td>Dropout</td>\n",
       "    </tr>\n",
       "    <tr>\n",
       "      <th>3</th>\n",
       "      <td>3</td>\n",
       "      <td>1</td>\n",
       "      <td>1</td>\n",
       "      <td>3</td>\n",
       "      <td>9500</td>\n",
       "      <td>1</td>\n",
       "      <td>1</td>\n",
       "      <td>131.0</td>\n",
       "      <td>1</td>\n",
       "      <td>19</td>\n",
       "      <td>...</td>\n",
       "      <td>0</td>\n",
       "      <td>8</td>\n",
       "      <td>11</td>\n",
       "      <td>7</td>\n",
       "      <td>12.820000</td>\n",
       "      <td>0</td>\n",
       "      <td>11.1</td>\n",
       "      <td>0.6</td>\n",
       "      <td>2.02</td>\n",
       "      <td>Enrolled</td>\n",
       "    </tr>\n",
       "    <tr>\n",
       "      <th>4</th>\n",
       "      <td>4</td>\n",
       "      <td>1</td>\n",
       "      <td>1</td>\n",
       "      <td>2</td>\n",
       "      <td>9500</td>\n",
       "      <td>1</td>\n",
       "      <td>1</td>\n",
       "      <td>132.0</td>\n",
       "      <td>1</td>\n",
       "      <td>19</td>\n",
       "      <td>...</td>\n",
       "      <td>0</td>\n",
       "      <td>7</td>\n",
       "      <td>12</td>\n",
       "      <td>6</td>\n",
       "      <td>12.933333</td>\n",
       "      <td>0</td>\n",
       "      <td>7.6</td>\n",
       "      <td>2.6</td>\n",
       "      <td>0.32</td>\n",
       "      <td>Graduate</td>\n",
       "    </tr>\n",
       "  </tbody>\n",
       "</table>\n",
       "<p>5 rows × 38 columns</p>\n",
       "</div>"
      ],
      "text/plain": [
       "   id  Marital status  Application mode  Application order  Course  \\\n",
       "0   0               1                 1                  1    9238   \n",
       "1   1               1                17                  1    9238   \n",
       "2   2               1                17                  2    9254   \n",
       "3   3               1                 1                  3    9500   \n",
       "4   4               1                 1                  2    9500   \n",
       "\n",
       "   Daytime/evening attendance  Previous qualification  \\\n",
       "0                           1                       1   \n",
       "1                           1                       1   \n",
       "2                           1                       1   \n",
       "3                           1                       1   \n",
       "4                           1                       1   \n",
       "\n",
       "   Previous qualification (grade)  Nacionality  Mother's qualification  ...  \\\n",
       "0                           126.0            1                       1  ...   \n",
       "1                           125.0            1                      19  ...   \n",
       "2                           137.0            1                       3  ...   \n",
       "3                           131.0            1                      19  ...   \n",
       "4                           132.0            1                      19  ...   \n",
       "\n",
       "   Curricular units 2nd sem (credited)  Curricular units 2nd sem (enrolled)  \\\n",
       "0                                    0                                    6   \n",
       "1                                    0                                    6   \n",
       "2                                    0                                    6   \n",
       "3                                    0                                    8   \n",
       "4                                    0                                    7   \n",
       "\n",
       "   Curricular units 2nd sem (evaluations)  \\\n",
       "0                                       7   \n",
       "1                                       9   \n",
       "2                                       0   \n",
       "3                                      11   \n",
       "4                                      12   \n",
       "\n",
       "   Curricular units 2nd sem (approved)  Curricular units 2nd sem (grade)  \\\n",
       "0                                    6                         12.428571   \n",
       "1                                    0                          0.000000   \n",
       "2                                    0                          0.000000   \n",
       "3                                    7                         12.820000   \n",
       "4                                    6                         12.933333   \n",
       "\n",
       "   Curricular units 2nd sem (without evaluations)  Unemployment rate  \\\n",
       "0                                               0               11.1   \n",
       "1                                               0               11.1   \n",
       "2                                               0               16.2   \n",
       "3                                               0               11.1   \n",
       "4                                               0                7.6   \n",
       "\n",
       "   Inflation rate   GDP    Target  \n",
       "0             0.6  2.02  Graduate  \n",
       "1             0.6  2.02   Dropout  \n",
       "2             0.3 -0.92   Dropout  \n",
       "3             0.6  2.02  Enrolled  \n",
       "4             2.6  0.32  Graduate  \n",
       "\n",
       "[5 rows x 38 columns]"
      ]
     },
     "execution_count": 1,
     "metadata": {},
     "output_type": "execute_result"
    }
   ],
   "source": [
    "import pandas as pd\n",
    "train = pd.read_csv('/kaggle/input/playground-series-s4e6/train.csv')\n",
    "train.head()"
   ]
  },
  {
   "cell_type": "code",
   "execution_count": 2,
   "id": "fb1b5704",
   "metadata": {
    "execution": {
     "iopub.execute_input": "2024-06-01T10:13:52.929503Z",
     "iopub.status.busy": "2024-06-01T10:13:52.929076Z",
     "iopub.status.idle": "2024-06-01T10:13:53.157948Z",
     "shell.execute_reply": "2024-06-01T10:13:53.156850Z"
    },
    "papermill": {
     "duration": 0.264777,
     "end_time": "2024-06-01T10:13:53.160502",
     "exception": false,
     "start_time": "2024-06-01T10:13:52.895725",
     "status": "completed"
    },
    "tags": []
   },
   "outputs": [
    {
     "data": {
      "text/html": [
       "<div>\n",
       "<style scoped>\n",
       "    .dataframe tbody tr th:only-of-type {\n",
       "        vertical-align: middle;\n",
       "    }\n",
       "\n",
       "    .dataframe tbody tr th {\n",
       "        vertical-align: top;\n",
       "    }\n",
       "\n",
       "    .dataframe thead th {\n",
       "        text-align: right;\n",
       "    }\n",
       "</style>\n",
       "<table border=\"1\" class=\"dataframe\">\n",
       "  <thead>\n",
       "    <tr style=\"text-align: right;\">\n",
       "      <th></th>\n",
       "      <th>id</th>\n",
       "      <th>Marital status</th>\n",
       "      <th>Application mode</th>\n",
       "      <th>Application order</th>\n",
       "      <th>Course</th>\n",
       "      <th>Daytime/evening attendance</th>\n",
       "      <th>Previous qualification</th>\n",
       "      <th>Previous qualification (grade)</th>\n",
       "      <th>Nacionality</th>\n",
       "      <th>Mother's qualification</th>\n",
       "      <th>...</th>\n",
       "      <th>Curricular units 1st sem (without evaluations)</th>\n",
       "      <th>Curricular units 2nd sem (credited)</th>\n",
       "      <th>Curricular units 2nd sem (enrolled)</th>\n",
       "      <th>Curricular units 2nd sem (evaluations)</th>\n",
       "      <th>Curricular units 2nd sem (approved)</th>\n",
       "      <th>Curricular units 2nd sem (grade)</th>\n",
       "      <th>Curricular units 2nd sem (without evaluations)</th>\n",
       "      <th>Unemployment rate</th>\n",
       "      <th>Inflation rate</th>\n",
       "      <th>GDP</th>\n",
       "    </tr>\n",
       "  </thead>\n",
       "  <tbody>\n",
       "    <tr>\n",
       "      <th>0</th>\n",
       "      <td>76518</td>\n",
       "      <td>1</td>\n",
       "      <td>1</td>\n",
       "      <td>1</td>\n",
       "      <td>9500</td>\n",
       "      <td>1</td>\n",
       "      <td>1</td>\n",
       "      <td>141.0</td>\n",
       "      <td>1</td>\n",
       "      <td>3</td>\n",
       "      <td>...</td>\n",
       "      <td>0</td>\n",
       "      <td>0</td>\n",
       "      <td>8</td>\n",
       "      <td>0</td>\n",
       "      <td>0</td>\n",
       "      <td>0.000000</td>\n",
       "      <td>0</td>\n",
       "      <td>13.9</td>\n",
       "      <td>-0.3</td>\n",
       "      <td>0.79</td>\n",
       "    </tr>\n",
       "    <tr>\n",
       "      <th>1</th>\n",
       "      <td>76519</td>\n",
       "      <td>1</td>\n",
       "      <td>1</td>\n",
       "      <td>1</td>\n",
       "      <td>9238</td>\n",
       "      <td>1</td>\n",
       "      <td>1</td>\n",
       "      <td>128.0</td>\n",
       "      <td>1</td>\n",
       "      <td>1</td>\n",
       "      <td>...</td>\n",
       "      <td>0</td>\n",
       "      <td>0</td>\n",
       "      <td>6</td>\n",
       "      <td>6</td>\n",
       "      <td>6</td>\n",
       "      <td>13.500000</td>\n",
       "      <td>0</td>\n",
       "      <td>11.1</td>\n",
       "      <td>0.6</td>\n",
       "      <td>2.02</td>\n",
       "    </tr>\n",
       "    <tr>\n",
       "      <th>2</th>\n",
       "      <td>76520</td>\n",
       "      <td>1</td>\n",
       "      <td>1</td>\n",
       "      <td>1</td>\n",
       "      <td>9238</td>\n",
       "      <td>1</td>\n",
       "      <td>1</td>\n",
       "      <td>118.0</td>\n",
       "      <td>1</td>\n",
       "      <td>1</td>\n",
       "      <td>...</td>\n",
       "      <td>0</td>\n",
       "      <td>0</td>\n",
       "      <td>6</td>\n",
       "      <td>11</td>\n",
       "      <td>5</td>\n",
       "      <td>11.000000</td>\n",
       "      <td>0</td>\n",
       "      <td>15.5</td>\n",
       "      <td>2.8</td>\n",
       "      <td>-4.06</td>\n",
       "    </tr>\n",
       "    <tr>\n",
       "      <th>3</th>\n",
       "      <td>76521</td>\n",
       "      <td>1</td>\n",
       "      <td>44</td>\n",
       "      <td>1</td>\n",
       "      <td>9147</td>\n",
       "      <td>1</td>\n",
       "      <td>39</td>\n",
       "      <td>130.0</td>\n",
       "      <td>1</td>\n",
       "      <td>1</td>\n",
       "      <td>...</td>\n",
       "      <td>0</td>\n",
       "      <td>3</td>\n",
       "      <td>8</td>\n",
       "      <td>14</td>\n",
       "      <td>5</td>\n",
       "      <td>11.000000</td>\n",
       "      <td>0</td>\n",
       "      <td>8.9</td>\n",
       "      <td>1.4</td>\n",
       "      <td>3.51</td>\n",
       "    </tr>\n",
       "    <tr>\n",
       "      <th>4</th>\n",
       "      <td>76522</td>\n",
       "      <td>1</td>\n",
       "      <td>39</td>\n",
       "      <td>1</td>\n",
       "      <td>9670</td>\n",
       "      <td>1</td>\n",
       "      <td>1</td>\n",
       "      <td>110.0</td>\n",
       "      <td>1</td>\n",
       "      <td>1</td>\n",
       "      <td>...</td>\n",
       "      <td>0</td>\n",
       "      <td>0</td>\n",
       "      <td>6</td>\n",
       "      <td>9</td>\n",
       "      <td>4</td>\n",
       "      <td>10.666667</td>\n",
       "      <td>2</td>\n",
       "      <td>7.6</td>\n",
       "      <td>2.6</td>\n",
       "      <td>0.32</td>\n",
       "    </tr>\n",
       "  </tbody>\n",
       "</table>\n",
       "<p>5 rows × 37 columns</p>\n",
       "</div>"
      ],
      "text/plain": [
       "      id  Marital status  Application mode  Application order  Course  \\\n",
       "0  76518               1                 1                  1    9500   \n",
       "1  76519               1                 1                  1    9238   \n",
       "2  76520               1                 1                  1    9238   \n",
       "3  76521               1                44                  1    9147   \n",
       "4  76522               1                39                  1    9670   \n",
       "\n",
       "   Daytime/evening attendance  Previous qualification  \\\n",
       "0                           1                       1   \n",
       "1                           1                       1   \n",
       "2                           1                       1   \n",
       "3                           1                      39   \n",
       "4                           1                       1   \n",
       "\n",
       "   Previous qualification (grade)  Nacionality  Mother's qualification  ...  \\\n",
       "0                           141.0            1                       3  ...   \n",
       "1                           128.0            1                       1  ...   \n",
       "2                           118.0            1                       1  ...   \n",
       "3                           130.0            1                       1  ...   \n",
       "4                           110.0            1                       1  ...   \n",
       "\n",
       "   Curricular units 1st sem (without evaluations)  \\\n",
       "0                                               0   \n",
       "1                                               0   \n",
       "2                                               0   \n",
       "3                                               0   \n",
       "4                                               0   \n",
       "\n",
       "   Curricular units 2nd sem (credited)  Curricular units 2nd sem (enrolled)  \\\n",
       "0                                    0                                    8   \n",
       "1                                    0                                    6   \n",
       "2                                    0                                    6   \n",
       "3                                    3                                    8   \n",
       "4                                    0                                    6   \n",
       "\n",
       "   Curricular units 2nd sem (evaluations)  \\\n",
       "0                                       0   \n",
       "1                                       6   \n",
       "2                                      11   \n",
       "3                                      14   \n",
       "4                                       9   \n",
       "\n",
       "   Curricular units 2nd sem (approved)  Curricular units 2nd sem (grade)  \\\n",
       "0                                    0                          0.000000   \n",
       "1                                    6                         13.500000   \n",
       "2                                    5                         11.000000   \n",
       "3                                    5                         11.000000   \n",
       "4                                    4                         10.666667   \n",
       "\n",
       "   Curricular units 2nd sem (without evaluations)  Unemployment rate  \\\n",
       "0                                               0               13.9   \n",
       "1                                               0               11.1   \n",
       "2                                               0               15.5   \n",
       "3                                               0                8.9   \n",
       "4                                               2                7.6   \n",
       "\n",
       "   Inflation rate   GDP  \n",
       "0            -0.3  0.79  \n",
       "1             0.6  2.02  \n",
       "2             2.8 -4.06  \n",
       "3             1.4  3.51  \n",
       "4             2.6  0.32  \n",
       "\n",
       "[5 rows x 37 columns]"
      ]
     },
     "execution_count": 2,
     "metadata": {},
     "output_type": "execute_result"
    }
   ],
   "source": [
    "test = pd.read_csv('/kaggle/input/playground-series-s4e6/test.csv')\n",
    "test.head()"
   ]
  },
  {
   "cell_type": "code",
   "execution_count": 3,
   "id": "7b125e0d",
   "metadata": {
    "execution": {
     "iopub.execute_input": "2024-06-01T10:13:53.225703Z",
     "iopub.status.busy": "2024-06-01T10:13:53.225351Z",
     "iopub.status.idle": "2024-06-01T10:13:53.254492Z",
     "shell.execute_reply": "2024-06-01T10:13:53.253329Z"
    },
    "papermill": {
     "duration": 0.065001,
     "end_time": "2024-06-01T10:13:53.257403",
     "exception": false,
     "start_time": "2024-06-01T10:13:53.192402",
     "status": "completed"
    },
    "tags": []
   },
   "outputs": [
    {
     "name": "stdout",
     "output_type": "stream",
     "text": [
      "<class 'pandas.core.frame.DataFrame'>\n",
      "RangeIndex: 76518 entries, 0 to 76517\n",
      "Data columns (total 38 columns):\n",
      " #   Column                                          Non-Null Count  Dtype  \n",
      "---  ------                                          --------------  -----  \n",
      " 0   id                                              76518 non-null  int64  \n",
      " 1   Marital status                                  76518 non-null  int64  \n",
      " 2   Application mode                                76518 non-null  int64  \n",
      " 3   Application order                               76518 non-null  int64  \n",
      " 4   Course                                          76518 non-null  int64  \n",
      " 5   Daytime/evening attendance                      76518 non-null  int64  \n",
      " 6   Previous qualification                          76518 non-null  int64  \n",
      " 7   Previous qualification (grade)                  76518 non-null  float64\n",
      " 8   Nacionality                                     76518 non-null  int64  \n",
      " 9   Mother's qualification                          76518 non-null  int64  \n",
      " 10  Father's qualification                          76518 non-null  int64  \n",
      " 11  Mother's occupation                             76518 non-null  int64  \n",
      " 12  Father's occupation                             76518 non-null  int64  \n",
      " 13  Admission grade                                 76518 non-null  float64\n",
      " 14  Displaced                                       76518 non-null  int64  \n",
      " 15  Educational special needs                       76518 non-null  int64  \n",
      " 16  Debtor                                          76518 non-null  int64  \n",
      " 17  Tuition fees up to date                         76518 non-null  int64  \n",
      " 18  Gender                                          76518 non-null  int64  \n",
      " 19  Scholarship holder                              76518 non-null  int64  \n",
      " 20  Age at enrollment                               76518 non-null  int64  \n",
      " 21  International                                   76518 non-null  int64  \n",
      " 22  Curricular units 1st sem (credited)             76518 non-null  int64  \n",
      " 23  Curricular units 1st sem (enrolled)             76518 non-null  int64  \n",
      " 24  Curricular units 1st sem (evaluations)          76518 non-null  int64  \n",
      " 25  Curricular units 1st sem (approved)             76518 non-null  int64  \n",
      " 26  Curricular units 1st sem (grade)                76518 non-null  float64\n",
      " 27  Curricular units 1st sem (without evaluations)  76518 non-null  int64  \n",
      " 28  Curricular units 2nd sem (credited)             76518 non-null  int64  \n",
      " 29  Curricular units 2nd sem (enrolled)             76518 non-null  int64  \n",
      " 30  Curricular units 2nd sem (evaluations)          76518 non-null  int64  \n",
      " 31  Curricular units 2nd sem (approved)             76518 non-null  int64  \n",
      " 32  Curricular units 2nd sem (grade)                76518 non-null  float64\n",
      " 33  Curricular units 2nd sem (without evaluations)  76518 non-null  int64  \n",
      " 34  Unemployment rate                               76518 non-null  float64\n",
      " 35  Inflation rate                                  76518 non-null  float64\n",
      " 36  GDP                                             76518 non-null  float64\n",
      " 37  Target                                          76518 non-null  object \n",
      "dtypes: float64(7), int64(30), object(1)\n",
      "memory usage: 22.2+ MB\n"
     ]
    }
   ],
   "source": [
    "train.info()"
   ]
  },
  {
   "cell_type": "code",
   "execution_count": 4,
   "id": "6cab6c3f",
   "metadata": {
    "execution": {
     "iopub.execute_input": "2024-06-01T10:13:53.323802Z",
     "iopub.status.busy": "2024-06-01T10:13:53.323434Z",
     "iopub.status.idle": "2024-06-01T10:13:53.364322Z",
     "shell.execute_reply": "2024-06-01T10:13:53.363284Z"
    },
    "papermill": {
     "duration": 0.076693,
     "end_time": "2024-06-01T10:13:53.366756",
     "exception": false,
     "start_time": "2024-06-01T10:13:53.290063",
     "status": "completed"
    },
    "tags": []
   },
   "outputs": [
    {
     "data": {
      "text/plain": [
       "id                                                76518\n",
       "Marital status                                        6\n",
       "Application mode                                     22\n",
       "Application order                                     8\n",
       "Course                                               19\n",
       "Daytime/evening attendance                            2\n",
       "Previous qualification                               21\n",
       "Previous qualification (grade)                      110\n",
       "Nacionality                                          18\n",
       "Mother's qualification                               35\n",
       "Father's qualification                               39\n",
       "Mother's occupation                                  40\n",
       "Father's occupation                                  56\n",
       "Admission grade                                     668\n",
       "Displaced                                             2\n",
       "Educational special needs                             2\n",
       "Debtor                                                2\n",
       "Tuition fees up to date                               2\n",
       "Gender                                                2\n",
       "Scholarship holder                                    2\n",
       "Age at enrollment                                    46\n",
       "International                                         2\n",
       "Curricular units 1st sem (credited)                  21\n",
       "Curricular units 1st sem (enrolled)                  24\n",
       "Curricular units 1st sem (evaluations)               36\n",
       "Curricular units 1st sem (approved)                  23\n",
       "Curricular units 1st sem (grade)                   1206\n",
       "Curricular units 1st sem (without evaluations)       12\n",
       "Curricular units 2nd sem (credited)                  20\n",
       "Curricular units 2nd sem (enrolled)                  22\n",
       "Curricular units 2nd sem (evaluations)               31\n",
       "Curricular units 2nd sem (approved)                  21\n",
       "Curricular units 2nd sem (grade)                   1234\n",
       "Curricular units 2nd sem (without evaluations)       11\n",
       "Unemployment rate                                    11\n",
       "Inflation rate                                       13\n",
       "GDP                                                  11\n",
       "Target                                                3\n",
       "dtype: int64"
      ]
     },
     "execution_count": 4,
     "metadata": {},
     "output_type": "execute_result"
    }
   ],
   "source": [
    "train.nunique()"
   ]
  },
  {
   "cell_type": "code",
   "execution_count": 5,
   "id": "a830b84b",
   "metadata": {
    "execution": {
     "iopub.execute_input": "2024-06-01T10:13:53.433342Z",
     "iopub.status.busy": "2024-06-01T10:13:53.432597Z",
     "iopub.status.idle": "2024-06-01T10:13:53.466732Z",
     "shell.execute_reply": "2024-06-01T10:13:53.465685Z"
    },
    "papermill": {
     "duration": 0.069978,
     "end_time": "2024-06-01T10:13:53.468965",
     "exception": false,
     "start_time": "2024-06-01T10:13:53.398987",
     "status": "completed"
    },
    "tags": []
   },
   "outputs": [
    {
     "data": {
      "text/html": [
       "<div>\n",
       "<style scoped>\n",
       "    .dataframe tbody tr th:only-of-type {\n",
       "        vertical-align: middle;\n",
       "    }\n",
       "\n",
       "    .dataframe tbody tr th {\n",
       "        vertical-align: top;\n",
       "    }\n",
       "\n",
       "    .dataframe thead th {\n",
       "        text-align: right;\n",
       "    }\n",
       "</style>\n",
       "<table border=\"1\" class=\"dataframe\">\n",
       "  <thead>\n",
       "    <tr style=\"text-align: right;\">\n",
       "      <th></th>\n",
       "      <th>Marital status</th>\n",
       "      <th>Application mode</th>\n",
       "      <th>Application order</th>\n",
       "      <th>Course</th>\n",
       "      <th>Daytime/evening attendance</th>\n",
       "      <th>Previous qualification</th>\n",
       "      <th>Previous qualification (grade)</th>\n",
       "      <th>Nacionality</th>\n",
       "      <th>Mother's qualification</th>\n",
       "      <th>Father's qualification</th>\n",
       "      <th>...</th>\n",
       "      <th>Curricular units 2nd sem (credited)</th>\n",
       "      <th>Curricular units 2nd sem (enrolled)</th>\n",
       "      <th>Curricular units 2nd sem (evaluations)</th>\n",
       "      <th>Curricular units 2nd sem (approved)</th>\n",
       "      <th>Curricular units 2nd sem (grade)</th>\n",
       "      <th>Curricular units 2nd sem (without evaluations)</th>\n",
       "      <th>Unemployment rate</th>\n",
       "      <th>Inflation rate</th>\n",
       "      <th>GDP</th>\n",
       "      <th>Target</th>\n",
       "    </tr>\n",
       "  </thead>\n",
       "  <tbody>\n",
       "    <tr>\n",
       "      <th>0</th>\n",
       "      <td>1</td>\n",
       "      <td>1</td>\n",
       "      <td>1</td>\n",
       "      <td>9238</td>\n",
       "      <td>1</td>\n",
       "      <td>1</td>\n",
       "      <td>126.0</td>\n",
       "      <td>1</td>\n",
       "      <td>1</td>\n",
       "      <td>19</td>\n",
       "      <td>...</td>\n",
       "      <td>0</td>\n",
       "      <td>6</td>\n",
       "      <td>7</td>\n",
       "      <td>6</td>\n",
       "      <td>12.428571</td>\n",
       "      <td>0</td>\n",
       "      <td>11.1</td>\n",
       "      <td>0.6</td>\n",
       "      <td>2.02</td>\n",
       "      <td>Graduate</td>\n",
       "    </tr>\n",
       "    <tr>\n",
       "      <th>1</th>\n",
       "      <td>1</td>\n",
       "      <td>17</td>\n",
       "      <td>1</td>\n",
       "      <td>9238</td>\n",
       "      <td>1</td>\n",
       "      <td>1</td>\n",
       "      <td>125.0</td>\n",
       "      <td>1</td>\n",
       "      <td>19</td>\n",
       "      <td>19</td>\n",
       "      <td>...</td>\n",
       "      <td>0</td>\n",
       "      <td>6</td>\n",
       "      <td>9</td>\n",
       "      <td>0</td>\n",
       "      <td>0.000000</td>\n",
       "      <td>0</td>\n",
       "      <td>11.1</td>\n",
       "      <td>0.6</td>\n",
       "      <td>2.02</td>\n",
       "      <td>Dropout</td>\n",
       "    </tr>\n",
       "    <tr>\n",
       "      <th>2</th>\n",
       "      <td>1</td>\n",
       "      <td>17</td>\n",
       "      <td>2</td>\n",
       "      <td>9254</td>\n",
       "      <td>1</td>\n",
       "      <td>1</td>\n",
       "      <td>137.0</td>\n",
       "      <td>1</td>\n",
       "      <td>3</td>\n",
       "      <td>19</td>\n",
       "      <td>...</td>\n",
       "      <td>0</td>\n",
       "      <td>6</td>\n",
       "      <td>0</td>\n",
       "      <td>0</td>\n",
       "      <td>0.000000</td>\n",
       "      <td>0</td>\n",
       "      <td>16.2</td>\n",
       "      <td>0.3</td>\n",
       "      <td>-0.92</td>\n",
       "      <td>Dropout</td>\n",
       "    </tr>\n",
       "    <tr>\n",
       "      <th>3</th>\n",
       "      <td>1</td>\n",
       "      <td>1</td>\n",
       "      <td>3</td>\n",
       "      <td>9500</td>\n",
       "      <td>1</td>\n",
       "      <td>1</td>\n",
       "      <td>131.0</td>\n",
       "      <td>1</td>\n",
       "      <td>19</td>\n",
       "      <td>3</td>\n",
       "      <td>...</td>\n",
       "      <td>0</td>\n",
       "      <td>8</td>\n",
       "      <td>11</td>\n",
       "      <td>7</td>\n",
       "      <td>12.820000</td>\n",
       "      <td>0</td>\n",
       "      <td>11.1</td>\n",
       "      <td>0.6</td>\n",
       "      <td>2.02</td>\n",
       "      <td>Enrolled</td>\n",
       "    </tr>\n",
       "    <tr>\n",
       "      <th>4</th>\n",
       "      <td>1</td>\n",
       "      <td>1</td>\n",
       "      <td>2</td>\n",
       "      <td>9500</td>\n",
       "      <td>1</td>\n",
       "      <td>1</td>\n",
       "      <td>132.0</td>\n",
       "      <td>1</td>\n",
       "      <td>19</td>\n",
       "      <td>37</td>\n",
       "      <td>...</td>\n",
       "      <td>0</td>\n",
       "      <td>7</td>\n",
       "      <td>12</td>\n",
       "      <td>6</td>\n",
       "      <td>12.933333</td>\n",
       "      <td>0</td>\n",
       "      <td>7.6</td>\n",
       "      <td>2.6</td>\n",
       "      <td>0.32</td>\n",
       "      <td>Graduate</td>\n",
       "    </tr>\n",
       "  </tbody>\n",
       "</table>\n",
       "<p>5 rows × 37 columns</p>\n",
       "</div>"
      ],
      "text/plain": [
       "   Marital status  Application mode  Application order  Course  \\\n",
       "0               1                 1                  1    9238   \n",
       "1               1                17                  1    9238   \n",
       "2               1                17                  2    9254   \n",
       "3               1                 1                  3    9500   \n",
       "4               1                 1                  2    9500   \n",
       "\n",
       "   Daytime/evening attendance  Previous qualification  \\\n",
       "0                           1                       1   \n",
       "1                           1                       1   \n",
       "2                           1                       1   \n",
       "3                           1                       1   \n",
       "4                           1                       1   \n",
       "\n",
       "   Previous qualification (grade)  Nacionality  Mother's qualification  \\\n",
       "0                           126.0            1                       1   \n",
       "1                           125.0            1                      19   \n",
       "2                           137.0            1                       3   \n",
       "3                           131.0            1                      19   \n",
       "4                           132.0            1                      19   \n",
       "\n",
       "   Father's qualification  ...  Curricular units 2nd sem (credited)  \\\n",
       "0                      19  ...                                    0   \n",
       "1                      19  ...                                    0   \n",
       "2                      19  ...                                    0   \n",
       "3                       3  ...                                    0   \n",
       "4                      37  ...                                    0   \n",
       "\n",
       "   Curricular units 2nd sem (enrolled)  \\\n",
       "0                                    6   \n",
       "1                                    6   \n",
       "2                                    6   \n",
       "3                                    8   \n",
       "4                                    7   \n",
       "\n",
       "   Curricular units 2nd sem (evaluations)  \\\n",
       "0                                       7   \n",
       "1                                       9   \n",
       "2                                       0   \n",
       "3                                      11   \n",
       "4                                      12   \n",
       "\n",
       "   Curricular units 2nd sem (approved)  Curricular units 2nd sem (grade)  \\\n",
       "0                                    6                         12.428571   \n",
       "1                                    0                          0.000000   \n",
       "2                                    0                          0.000000   \n",
       "3                                    7                         12.820000   \n",
       "4                                    6                         12.933333   \n",
       "\n",
       "   Curricular units 2nd sem (without evaluations)  Unemployment rate  \\\n",
       "0                                               0               11.1   \n",
       "1                                               0               11.1   \n",
       "2                                               0               16.2   \n",
       "3                                               0               11.1   \n",
       "4                                               0                7.6   \n",
       "\n",
       "   Inflation rate   GDP    Target  \n",
       "0             0.6  2.02  Graduate  \n",
       "1             0.6  2.02   Dropout  \n",
       "2             0.3 -0.92   Dropout  \n",
       "3             0.6  2.02  Enrolled  \n",
       "4             2.6  0.32  Graduate  \n",
       "\n",
       "[5 rows x 37 columns]"
      ]
     },
     "execution_count": 5,
     "metadata": {},
     "output_type": "execute_result"
    }
   ],
   "source": [
    "train=train.drop(['id'],axis=1)\n",
    "train.head()"
   ]
  },
  {
   "cell_type": "code",
   "execution_count": 6,
   "id": "22143002",
   "metadata": {
    "execution": {
     "iopub.execute_input": "2024-06-01T10:13:53.537004Z",
     "iopub.status.busy": "2024-06-01T10:13:53.536592Z",
     "iopub.status.idle": "2024-06-01T10:13:53.560618Z",
     "shell.execute_reply": "2024-06-01T10:13:53.559540Z"
    },
    "papermill": {
     "duration": 0.061734,
     "end_time": "2024-06-01T10:13:53.563143",
     "exception": false,
     "start_time": "2024-06-01T10:13:53.501409",
     "status": "completed"
    },
    "tags": []
   },
   "outputs": [
    {
     "data": {
      "text/html": [
       "<div>\n",
       "<style scoped>\n",
       "    .dataframe tbody tr th:only-of-type {\n",
       "        vertical-align: middle;\n",
       "    }\n",
       "\n",
       "    .dataframe tbody tr th {\n",
       "        vertical-align: top;\n",
       "    }\n",
       "\n",
       "    .dataframe thead th {\n",
       "        text-align: right;\n",
       "    }\n",
       "</style>\n",
       "<table border=\"1\" class=\"dataframe\">\n",
       "  <thead>\n",
       "    <tr style=\"text-align: right;\">\n",
       "      <th></th>\n",
       "      <th>Marital status</th>\n",
       "      <th>Application mode</th>\n",
       "      <th>Application order</th>\n",
       "      <th>Course</th>\n",
       "      <th>Daytime/evening attendance</th>\n",
       "      <th>Previous qualification</th>\n",
       "      <th>Previous qualification (grade)</th>\n",
       "      <th>Nacionality</th>\n",
       "      <th>Mother's qualification</th>\n",
       "      <th>Father's qualification</th>\n",
       "      <th>...</th>\n",
       "      <th>Curricular units 1st sem (without evaluations)</th>\n",
       "      <th>Curricular units 2nd sem (credited)</th>\n",
       "      <th>Curricular units 2nd sem (enrolled)</th>\n",
       "      <th>Curricular units 2nd sem (evaluations)</th>\n",
       "      <th>Curricular units 2nd sem (approved)</th>\n",
       "      <th>Curricular units 2nd sem (grade)</th>\n",
       "      <th>Curricular units 2nd sem (without evaluations)</th>\n",
       "      <th>Unemployment rate</th>\n",
       "      <th>Inflation rate</th>\n",
       "      <th>GDP</th>\n",
       "    </tr>\n",
       "  </thead>\n",
       "  <tbody>\n",
       "    <tr>\n",
       "      <th>0</th>\n",
       "      <td>1</td>\n",
       "      <td>1</td>\n",
       "      <td>1</td>\n",
       "      <td>9500</td>\n",
       "      <td>1</td>\n",
       "      <td>1</td>\n",
       "      <td>141.0</td>\n",
       "      <td>1</td>\n",
       "      <td>3</td>\n",
       "      <td>1</td>\n",
       "      <td>...</td>\n",
       "      <td>0</td>\n",
       "      <td>0</td>\n",
       "      <td>8</td>\n",
       "      <td>0</td>\n",
       "      <td>0</td>\n",
       "      <td>0.000000</td>\n",
       "      <td>0</td>\n",
       "      <td>13.9</td>\n",
       "      <td>-0.3</td>\n",
       "      <td>0.79</td>\n",
       "    </tr>\n",
       "    <tr>\n",
       "      <th>1</th>\n",
       "      <td>1</td>\n",
       "      <td>1</td>\n",
       "      <td>1</td>\n",
       "      <td>9238</td>\n",
       "      <td>1</td>\n",
       "      <td>1</td>\n",
       "      <td>128.0</td>\n",
       "      <td>1</td>\n",
       "      <td>1</td>\n",
       "      <td>19</td>\n",
       "      <td>...</td>\n",
       "      <td>0</td>\n",
       "      <td>0</td>\n",
       "      <td>6</td>\n",
       "      <td>6</td>\n",
       "      <td>6</td>\n",
       "      <td>13.500000</td>\n",
       "      <td>0</td>\n",
       "      <td>11.1</td>\n",
       "      <td>0.6</td>\n",
       "      <td>2.02</td>\n",
       "    </tr>\n",
       "    <tr>\n",
       "      <th>2</th>\n",
       "      <td>1</td>\n",
       "      <td>1</td>\n",
       "      <td>1</td>\n",
       "      <td>9238</td>\n",
       "      <td>1</td>\n",
       "      <td>1</td>\n",
       "      <td>118.0</td>\n",
       "      <td>1</td>\n",
       "      <td>1</td>\n",
       "      <td>19</td>\n",
       "      <td>...</td>\n",
       "      <td>0</td>\n",
       "      <td>0</td>\n",
       "      <td>6</td>\n",
       "      <td>11</td>\n",
       "      <td>5</td>\n",
       "      <td>11.000000</td>\n",
       "      <td>0</td>\n",
       "      <td>15.5</td>\n",
       "      <td>2.8</td>\n",
       "      <td>-4.06</td>\n",
       "    </tr>\n",
       "    <tr>\n",
       "      <th>3</th>\n",
       "      <td>1</td>\n",
       "      <td>44</td>\n",
       "      <td>1</td>\n",
       "      <td>9147</td>\n",
       "      <td>1</td>\n",
       "      <td>39</td>\n",
       "      <td>130.0</td>\n",
       "      <td>1</td>\n",
       "      <td>1</td>\n",
       "      <td>19</td>\n",
       "      <td>...</td>\n",
       "      <td>0</td>\n",
       "      <td>3</td>\n",
       "      <td>8</td>\n",
       "      <td>14</td>\n",
       "      <td>5</td>\n",
       "      <td>11.000000</td>\n",
       "      <td>0</td>\n",
       "      <td>8.9</td>\n",
       "      <td>1.4</td>\n",
       "      <td>3.51</td>\n",
       "    </tr>\n",
       "    <tr>\n",
       "      <th>4</th>\n",
       "      <td>1</td>\n",
       "      <td>39</td>\n",
       "      <td>1</td>\n",
       "      <td>9670</td>\n",
       "      <td>1</td>\n",
       "      <td>1</td>\n",
       "      <td>110.0</td>\n",
       "      <td>1</td>\n",
       "      <td>1</td>\n",
       "      <td>37</td>\n",
       "      <td>...</td>\n",
       "      <td>0</td>\n",
       "      <td>0</td>\n",
       "      <td>6</td>\n",
       "      <td>9</td>\n",
       "      <td>4</td>\n",
       "      <td>10.666667</td>\n",
       "      <td>2</td>\n",
       "      <td>7.6</td>\n",
       "      <td>2.6</td>\n",
       "      <td>0.32</td>\n",
       "    </tr>\n",
       "  </tbody>\n",
       "</table>\n",
       "<p>5 rows × 36 columns</p>\n",
       "</div>"
      ],
      "text/plain": [
       "   Marital status  Application mode  Application order  Course  \\\n",
       "0               1                 1                  1    9500   \n",
       "1               1                 1                  1    9238   \n",
       "2               1                 1                  1    9238   \n",
       "3               1                44                  1    9147   \n",
       "4               1                39                  1    9670   \n",
       "\n",
       "   Daytime/evening attendance  Previous qualification  \\\n",
       "0                           1                       1   \n",
       "1                           1                       1   \n",
       "2                           1                       1   \n",
       "3                           1                      39   \n",
       "4                           1                       1   \n",
       "\n",
       "   Previous qualification (grade)  Nacionality  Mother's qualification  \\\n",
       "0                           141.0            1                       3   \n",
       "1                           128.0            1                       1   \n",
       "2                           118.0            1                       1   \n",
       "3                           130.0            1                       1   \n",
       "4                           110.0            1                       1   \n",
       "\n",
       "   Father's qualification  ...  \\\n",
       "0                       1  ...   \n",
       "1                      19  ...   \n",
       "2                      19  ...   \n",
       "3                      19  ...   \n",
       "4                      37  ...   \n",
       "\n",
       "   Curricular units 1st sem (without evaluations)  \\\n",
       "0                                               0   \n",
       "1                                               0   \n",
       "2                                               0   \n",
       "3                                               0   \n",
       "4                                               0   \n",
       "\n",
       "   Curricular units 2nd sem (credited)  Curricular units 2nd sem (enrolled)  \\\n",
       "0                                    0                                    8   \n",
       "1                                    0                                    6   \n",
       "2                                    0                                    6   \n",
       "3                                    3                                    8   \n",
       "4                                    0                                    6   \n",
       "\n",
       "   Curricular units 2nd sem (evaluations)  \\\n",
       "0                                       0   \n",
       "1                                       6   \n",
       "2                                      11   \n",
       "3                                      14   \n",
       "4                                       9   \n",
       "\n",
       "   Curricular units 2nd sem (approved)  Curricular units 2nd sem (grade)  \\\n",
       "0                                    0                          0.000000   \n",
       "1                                    6                         13.500000   \n",
       "2                                    5                         11.000000   \n",
       "3                                    5                         11.000000   \n",
       "4                                    4                         10.666667   \n",
       "\n",
       "   Curricular units 2nd sem (without evaluations)  Unemployment rate  \\\n",
       "0                                               0               13.9   \n",
       "1                                               0               11.1   \n",
       "2                                               0               15.5   \n",
       "3                                               0                8.9   \n",
       "4                                               2                7.6   \n",
       "\n",
       "   Inflation rate   GDP  \n",
       "0            -0.3  0.79  \n",
       "1             0.6  2.02  \n",
       "2             2.8 -4.06  \n",
       "3             1.4  3.51  \n",
       "4             2.6  0.32  \n",
       "\n",
       "[5 rows x 36 columns]"
      ]
     },
     "execution_count": 6,
     "metadata": {},
     "output_type": "execute_result"
    }
   ],
   "source": [
    "test=test.drop(['id'],axis=1)\n",
    "test.head()"
   ]
  },
  {
   "cell_type": "code",
   "execution_count": 7,
   "id": "82a78065",
   "metadata": {
    "execution": {
     "iopub.execute_input": "2024-06-01T10:13:53.690391Z",
     "iopub.status.busy": "2024-06-01T10:13:53.689993Z",
     "iopub.status.idle": "2024-06-01T10:13:53.713988Z",
     "shell.execute_reply": "2024-06-01T10:13:53.712719Z"
    },
    "papermill": {
     "duration": 0.120152,
     "end_time": "2024-06-01T10:13:53.716419",
     "exception": false,
     "start_time": "2024-06-01T10:13:53.596267",
     "status": "completed"
    },
    "tags": []
   },
   "outputs": [
    {
     "data": {
      "text/plain": [
       "Marital status\n",
       "single               70189\n",
       "married               5296\n",
       "divorced               866\n",
       "facto union            116\n",
       "legally separated       35\n",
       "widower                 16\n",
       "Name: count, dtype: int64"
      ]
     },
     "execution_count": 7,
     "metadata": {},
     "output_type": "execute_result"
    }
   ],
   "source": [
    "train['Marital status']=train['Marital status'].replace({1:'single',\n",
    "                                                         2: 'married',\n",
    "                                                         3:'widower',\n",
    "                                                         4:'divorced',\n",
    "                                                         5:'facto union',\n",
    "                                                         6:'legally separated'})\n",
    "train['Marital status'].value_counts()"
   ]
  },
  {
   "cell_type": "code",
   "execution_count": 8,
   "id": "3cc85aa2",
   "metadata": {
    "execution": {
     "iopub.execute_input": "2024-06-01T10:13:53.784802Z",
     "iopub.status.busy": "2024-06-01T10:13:53.784421Z",
     "iopub.status.idle": "2024-06-01T10:13:53.803991Z",
     "shell.execute_reply": "2024-06-01T10:13:53.802899Z"
    },
    "papermill": {
     "duration": 0.056474,
     "end_time": "2024-06-01T10:13:53.806433",
     "exception": false,
     "start_time": "2024-06-01T10:13:53.749959",
     "status": "completed"
    },
    "tags": []
   },
   "outputs": [
    {
     "data": {
      "text/plain": [
       "Marital status\n",
       "single               46929\n",
       "married               3396\n",
       "divorced               568\n",
       "facto union             88\n",
       "legally separated       17\n",
       "widower                 14\n",
       "Name: count, dtype: int64"
      ]
     },
     "execution_count": 8,
     "metadata": {},
     "output_type": "execute_result"
    }
   ],
   "source": [
    "test['Marital status']=test['Marital status'].replace({1:'single',\n",
    "                                                         2: 'married',\n",
    "                                                         3:'widower',\n",
    "                                                         4:'divorced',\n",
    "                                                         5:'facto union',\n",
    "                                                         6:'legally separated'})\n",
    "test['Marital status'].value_counts()"
   ]
  },
  {
   "cell_type": "code",
   "execution_count": 9,
   "id": "cba44b82",
   "metadata": {
    "execution": {
     "iopub.execute_input": "2024-06-01T10:13:53.874961Z",
     "iopub.status.busy": "2024-06-01T10:13:53.874593Z",
     "iopub.status.idle": "2024-06-01T10:13:53.910649Z",
     "shell.execute_reply": "2024-06-01T10:13:53.909420Z"
    },
    "papermill": {
     "duration": 0.073142,
     "end_time": "2024-06-01T10:13:53.913084",
     "exception": false,
     "start_time": "2024-06-01T10:13:53.839942",
     "status": "completed"
    },
    "tags": []
   },
   "outputs": [
    {
     "data": {
      "text/plain": [
       "Application mode\n",
       "1st phase - general contingent                         35227\n",
       "2nd phase - general contingent                         16523\n",
       "Over 23 years old                                      14519\n",
       "Technological specialization diploma holders            3012\n",
       "Change of course                                        2671\n",
       "Holders of other higher courses                         1498\n",
       "3rd phase - general contingent                          1256\n",
       "Transfer                                                 551\n",
       "Change of institution/course                             442\n",
       "1st phase - special contingent (Madeira Island)          265\n",
       "Short cycle diploma holders                              225\n",
       "International student (bachelor)                         183\n",
       "1st phase - special contingent (Azores Island)            87\n",
       "Ordinance No. 854-B/99                                    43\n",
       "Ordinance No. 612/93                                       8\n",
       "Ordinance No. 533-A/99, item b3 (Other Institution)        2\n",
       "12                                                         1\n",
       "Ordinance No. 533-A/99, item b2) (Different Plan)          1\n",
       "4                                                          1\n",
       "35                                                         1\n",
       "9                                                          1\n",
       "3                                                          1\n",
       "Name: count, dtype: int64"
      ]
     },
     "execution_count": 9,
     "metadata": {},
     "output_type": "execute_result"
    }
   ],
   "source": [
    "train['Application mode']=train['Application mode'].replace({1 : '1st phase - general contingent',\n",
    "                                                             2 : 'Ordinance No. 612/93' ,\n",
    "                                                             5 :'1st phase - special contingent (Azores Island)',\n",
    "                                                             7 :'Holders of other higher courses',\n",
    "                                                             10 :'Ordinance No. 854-B/99', \n",
    "                                                             15 : 'International student (bachelor)', \n",
    "                                                             16 :'1st phase - special contingent (Madeira Island)', \n",
    "                                                             17 : '2nd phase - general contingent', \n",
    "                                                             18 :'3rd phase - general contingent', \n",
    "                                                             26 :'Ordinance No. 533-A/99, item b2) (Different Plan)', \n",
    "                                                             27 : 'Ordinance No. 533-A/99, item b3 (Other Institution)', \n",
    "                                                             39 :'Over 23 years old', \n",
    "                                                             42 :'Transfer', \n",
    "                                                             43 :'Change of course' ,\n",
    "                                                             44 :'Technological specialization diploma holders', \n",
    "                                                             51 : 'Change of institution/course', \n",
    "                                                             53 :'Short cycle diploma holders', \n",
    "                                                             57 :'Change of institution/course (International)'})\n",
    "train['Application mode'].value_counts()"
   ]
  },
  {
   "cell_type": "code",
   "execution_count": 10,
   "id": "1d6d32c3",
   "metadata": {
    "execution": {
     "iopub.execute_input": "2024-06-01T10:13:53.983577Z",
     "iopub.status.busy": "2024-06-01T10:13:53.983173Z",
     "iopub.status.idle": "2024-06-01T10:13:54.012041Z",
     "shell.execute_reply": "2024-06-01T10:13:54.010889Z"
    },
    "papermill": {
     "duration": 0.067854,
     "end_time": "2024-06-01T10:13:54.014648",
     "exception": false,
     "start_time": "2024-06-01T10:13:53.946794",
     "status": "completed"
    },
    "tags": []
   },
   "outputs": [
    {
     "data": {
      "text/plain": [
       "Application mode\n",
       "1st phase - general contingent                         23357\n",
       "2nd phase - general contingent                         11207\n",
       "Over 23 years old                                       9585\n",
       "Technological specialization diploma holders            2000\n",
       "Change of course                                        1850\n",
       "Holders of other higher courses                         1011\n",
       "3rd phase - general contingent                           788\n",
       "Transfer                                                 347\n",
       "Change of institution/course                             296\n",
       "1st phase - special contingent (Madeira Island)          198\n",
       "Short cycle diploma holders                              147\n",
       "International student (bachelor)                         119\n",
       "1st phase - special contingent (Azores Island)            79\n",
       "Ordinance No. 854-B/99                                    20\n",
       "Ordinance No. 612/93                                       3\n",
       "14                                                         1\n",
       "Ordinance No. 533-A/99, item b3 (Other Institution)        1\n",
       "35                                                         1\n",
       "19                                                         1\n",
       "3                                                          1\n",
       "Name: count, dtype: int64"
      ]
     },
     "execution_count": 10,
     "metadata": {},
     "output_type": "execute_result"
    }
   ],
   "source": [
    "test['Application mode']=test['Application mode'].replace({1 : '1st phase - general contingent',\n",
    "                                                             2 : 'Ordinance No. 612/93' ,\n",
    "                                                             5 :'1st phase - special contingent (Azores Island)',\n",
    "                                                             7 :'Holders of other higher courses',\n",
    "                                                             10 :'Ordinance No. 854-B/99', \n",
    "                                                             15 : 'International student (bachelor)', \n",
    "                                                             16 :'1st phase - special contingent (Madeira Island)', \n",
    "                                                             17 : '2nd phase - general contingent', \n",
    "                                                             18 :'3rd phase - general contingent', \n",
    "                                                             26 :'Ordinance No. 533-A/99, item b2) (Different Plan)', \n",
    "                                                             27 : 'Ordinance No. 533-A/99, item b3 (Other Institution)', \n",
    "                                                             39 :'Over 23 years old', \n",
    "                                                             42 :'Transfer', \n",
    "                                                             43 :'Change of course' ,\n",
    "                                                             44 :'Technological specialization diploma holders', \n",
    "                                                             51 : 'Change of institution/course', \n",
    "                                                             53 :'Short cycle diploma holders', \n",
    "                                                             57 :'Change of institution/course (International)'})\n",
    "test['Application mode'].value_counts()"
   ]
  },
  {
   "cell_type": "code",
   "execution_count": 11,
   "id": "bc8319ff",
   "metadata": {
    "execution": {
     "iopub.execute_input": "2024-06-01T10:13:54.085383Z",
     "iopub.status.busy": "2024-06-01T10:13:54.084634Z",
     "iopub.status.idle": "2024-06-01T10:13:54.095511Z",
     "shell.execute_reply": "2024-06-01T10:13:54.094368Z"
    },
    "papermill": {
     "duration": 0.048218,
     "end_time": "2024-06-01T10:13:54.097769",
     "exception": false,
     "start_time": "2024-06-01T10:13:54.049551",
     "status": "completed"
    },
    "tags": []
   },
   "outputs": [
    {
     "data": {
      "text/plain": [
       "Application order\n",
       "1    54381\n",
       "2     8875\n",
       "3     5364\n",
       "4     3822\n",
       "5     2125\n",
       "6     1947\n",
       "0        3\n",
       "9        1\n",
       "Name: count, dtype: int64"
      ]
     },
     "execution_count": 11,
     "metadata": {},
     "output_type": "execute_result"
    }
   ],
   "source": [
    "train['Application order'].value_counts()"
   ]
  },
  {
   "cell_type": "code",
   "execution_count": 12,
   "id": "5442160d",
   "metadata": {
    "execution": {
     "iopub.execute_input": "2024-06-01T10:13:54.167009Z",
     "iopub.status.busy": "2024-06-01T10:13:54.166628Z",
     "iopub.status.idle": "2024-06-01T10:13:54.175639Z",
     "shell.execute_reply": "2024-06-01T10:13:54.174481Z"
    },
    "papermill": {
     "duration": 0.046056,
     "end_time": "2024-06-01T10:13:54.177926",
     "exception": false,
     "start_time": "2024-06-01T10:13:54.131870",
     "status": "completed"
    },
    "tags": []
   },
   "outputs": [
    {
     "data": {
      "text/plain": [
       "Application order\n",
       "1    36145\n",
       "2     6102\n",
       "3     3428\n",
       "4     2600\n",
       "5     1388\n",
       "6     1343\n",
       "9        5\n",
       "0        1\n",
       "Name: count, dtype: int64"
      ]
     },
     "execution_count": 12,
     "metadata": {},
     "output_type": "execute_result"
    }
   ],
   "source": [
    "test['Application order'].value_counts()"
   ]
  },
  {
   "cell_type": "code",
   "execution_count": 13,
   "id": "43e8cf52",
   "metadata": {
    "execution": {
     "iopub.execute_input": "2024-06-01T10:13:54.247216Z",
     "iopub.status.busy": "2024-06-01T10:13:54.246816Z",
     "iopub.status.idle": "2024-06-01T10:13:54.287791Z",
     "shell.execute_reply": "2024-06-01T10:13:54.286704Z"
    },
    "papermill": {
     "duration": 0.078447,
     "end_time": "2024-06-01T10:13:54.290250",
     "exception": false,
     "start_time": "2024-06-01T10:13:54.211803",
     "status": "completed"
    },
    "tags": []
   },
   "outputs": [
    {
     "data": {
      "text/plain": [
       "Course\n",
       "Nursing                                 12074\n",
       "Journalism and Communication             8214\n",
       "Social Service                           7935\n",
       "Management                               7741\n",
       "Tourism                                  5425\n",
       "Veterinary Nursing                       5373\n",
       "Advertising and Marketing Management     4760\n",
       "Management (evening attendance)          4057\n",
       "Agronomy                                 3733\n",
       "Communication Design                     3281\n",
       "Basic Education                          3198\n",
       "Informatics Engineering                  3004\n",
       "Animation and Multimedia Design          2859\n",
       "Social Service (evening attendance)      2438\n",
       "Equinculture                             1606\n",
       "Oral Hygiene                              746\n",
       "Biofuel Production Technologies            72\n",
       "979                                         1\n",
       "39                                          1\n",
       "Name: count, dtype: int64"
      ]
     },
     "execution_count": 13,
     "metadata": {},
     "output_type": "execute_result"
    }
   ],
   "source": [
    "train['Course']=train['Course'].replace({33 : 'Biofuel Production Technologies',\n",
    "                                         171 : 'Animation and Multimedia Design',\n",
    "                                         8014 : 'Social Service (evening attendance)',\n",
    "                                         9003 : 'Agronomy',\n",
    "                                         9070 : 'Communication Design',\n",
    "                                         9085 : 'Veterinary Nursing',\n",
    "                                         9119 : 'Informatics Engineering',\n",
    "                                         9130 : 'Equinculture',\n",
    "                                         9147 : 'Management',\n",
    "                                         9238 : 'Social Service',\n",
    "                                         9254 : 'Tourism',\n",
    "                                         9500 : 'Nursing',\n",
    "                                         9556 : 'Oral Hygiene',\n",
    "                                         9670 : 'Advertising and Marketing Management',\n",
    "                                         9773 : 'Journalism and Communication',\n",
    "                                         9853 : 'Basic Education',\n",
    "                                         9991 : 'Management (evening attendance)'})\n",
    "train['Course'].value_counts()"
   ]
  },
  {
   "cell_type": "code",
   "execution_count": 14,
   "id": "4b558e36",
   "metadata": {
    "execution": {
     "iopub.execute_input": "2024-06-01T10:13:54.361615Z",
     "iopub.status.busy": "2024-06-01T10:13:54.361224Z",
     "iopub.status.idle": "2024-06-01T10:13:54.392084Z",
     "shell.execute_reply": "2024-06-01T10:13:54.391113Z"
    },
    "papermill": {
     "duration": 0.069321,
     "end_time": "2024-06-01T10:13:54.394510",
     "exception": false,
     "start_time": "2024-06-01T10:13:54.325189",
     "status": "completed"
    },
    "tags": []
   },
   "outputs": [
    {
     "data": {
      "text/plain": [
       "Course\n",
       "Nursing                                 8140\n",
       "Journalism and Communication            5610\n",
       "Social Service                          5300\n",
       "Management                              5042\n",
       "Tourism                                 3651\n",
       "Veterinary Nursing                      3511\n",
       "Advertising and Marketing Management    3270\n",
       "Management (evening attendance)         2647\n",
       "Agronomy                                2535\n",
       "Communication Design                    2267\n",
       "Basic Education                         2105\n",
       "Informatics Engineering                 1935\n",
       "Animation and Multimedia Design         1792\n",
       "Social Service (evening attendance)     1531\n",
       "Equinculture                            1138\n",
       "Oral Hygiene                             492\n",
       "Biofuel Production Technologies           42\n",
       "7500                                       1\n",
       "9257                                       1\n",
       "2105                                       1\n",
       "4147                                       1\n",
       "Name: count, dtype: int64"
      ]
     },
     "execution_count": 14,
     "metadata": {},
     "output_type": "execute_result"
    }
   ],
   "source": [
    "test['Course']=test['Course'].replace({33 : 'Biofuel Production Technologies',\n",
    "                                         171 : 'Animation and Multimedia Design',\n",
    "                                         8014 : 'Social Service (evening attendance)',\n",
    "                                         9003 : 'Agronomy',\n",
    "                                         9070 : 'Communication Design',\n",
    "                                         9085 : 'Veterinary Nursing',\n",
    "                                         9119 : 'Informatics Engineering',\n",
    "                                         9130 : 'Equinculture',\n",
    "                                         9147 : 'Management',\n",
    "                                         9238 : 'Social Service',\n",
    "                                         9254 : 'Tourism',\n",
    "                                         9500 : 'Nursing',\n",
    "                                         9556 : 'Oral Hygiene',\n",
    "                                         9670 : 'Advertising and Marketing Management',\n",
    "                                         9773 : 'Journalism and Communication',\n",
    "                                         9853 : 'Basic Education',\n",
    "                                         9991 : 'Management (evening attendance)'})\n",
    "test['Course'].value_counts()"
   ]
  },
  {
   "cell_type": "code",
   "execution_count": 15,
   "id": "69f50673",
   "metadata": {
    "execution": {
     "iopub.execute_input": "2024-06-01T10:13:54.465095Z",
     "iopub.status.busy": "2024-06-01T10:13:54.464055Z",
     "iopub.status.idle": "2024-06-01T10:13:54.483860Z",
     "shell.execute_reply": "2024-06-01T10:13:54.482867Z"
    },
    "papermill": {
     "duration": 0.057513,
     "end_time": "2024-06-01T10:13:54.486159",
     "exception": false,
     "start_time": "2024-06-01T10:13:54.428646",
     "status": "completed"
    },
    "tags": []
   },
   "outputs": [
    {
     "data": {
      "text/plain": [
       "Daytime/evening attendance\n",
       "daytime    70038\n",
       "evening     6480\n",
       "Name: count, dtype: int64"
      ]
     },
     "execution_count": 15,
     "metadata": {},
     "output_type": "execute_result"
    }
   ],
   "source": [
    "train['Daytime/evening attendance']=train['Daytime/evening attendance'].replace({1 :'daytime',\n",
    "                                                                                 0 :'evening'})\n",
    "train['Daytime/evening attendance'].value_counts()"
   ]
  },
  {
   "cell_type": "code",
   "execution_count": 16,
   "id": "21d03869",
   "metadata": {
    "execution": {
     "iopub.execute_input": "2024-06-01T10:13:54.557220Z",
     "iopub.status.busy": "2024-06-01T10:13:54.556058Z",
     "iopub.status.idle": "2024-06-01T10:13:54.573145Z",
     "shell.execute_reply": "2024-06-01T10:13:54.572055Z"
    },
    "papermill": {
     "duration": 0.055269,
     "end_time": "2024-06-01T10:13:54.575843",
     "exception": false,
     "start_time": "2024-06-01T10:13:54.520574",
     "status": "completed"
    },
    "tags": []
   },
   "outputs": [
    {
     "data": {
      "text/plain": [
       "Daytime/evening attendance\n",
       "daytime    46845\n",
       "evening     4167\n",
       "Name: count, dtype: int64"
      ]
     },
     "execution_count": 16,
     "metadata": {},
     "output_type": "execute_result"
    }
   ],
   "source": [
    "test['Daytime/evening attendance']=test['Daytime/evening attendance'].replace({1 :'daytime',\n",
    "                                                                                 0 :'evening'})\n",
    "test['Daytime/evening attendance'].value_counts()"
   ]
  },
  {
   "cell_type": "code",
   "execution_count": 17,
   "id": "614e71d9",
   "metadata": {
    "execution": {
     "iopub.execute_input": "2024-06-01T10:13:54.648078Z",
     "iopub.status.busy": "2024-06-01T10:13:54.647709Z",
     "iopub.status.idle": "2024-06-01T10:13:54.682246Z",
     "shell.execute_reply": "2024-06-01T10:13:54.681125Z"
    },
    "papermill": {
     "duration": 0.073796,
     "end_time": "2024-06-01T10:13:54.684592",
     "exception": false,
     "start_time": "2024-06-01T10:13:54.610796",
     "status": "completed"
    },
    "tags": []
   },
   "outputs": [
    {
     "data": {
      "text/plain": [
       "Previous qualification\n",
       "Secondary education                                         67183\n",
       "Basic education 3rd cycle (9th/10th/11th year) or equiv.     2947\n",
       "Technological specialization course                          2928\n",
       "Higher education - degree                                    1401\n",
       "Other - 11th year of schooling                                899\n",
       "12th year of schooling - not completed                        308\n",
       "Higher education - degree (1st cycle)                         259\n",
       "Professional higher technical course                          229\n",
       "Higher education - bachelor's degree                           98\n",
       "Frequency of higher education                                  98\n",
       "11th year of schooling - not completed                         43\n",
       "Higher education - master (2nd cycle)                          39\n",
       "Basic education 2nd cycle (6th/7th/8th year) or equiv.         38\n",
       "Higher education - master's                                    23\n",
       "10th year of schooling - not completed                         11\n",
       "Higher education - doctorate                                    3\n",
       "10th year of schooling                                          3\n",
       "37                                                              3\n",
       "11                                                              2\n",
       "17                                                              2\n",
       "36                                                              1\n",
       "Name: count, dtype: int64"
      ]
     },
     "execution_count": 17,
     "metadata": {},
     "output_type": "execute_result"
    }
   ],
   "source": [
    "train['Previous qualification']=train['Previous qualification'].replace({1 :'Secondary education',\n",
    "                                                                         2 :\"Higher education - bachelor's degree\",\n",
    "                                                                         3 :'Higher education - degree',\n",
    "                                                                         4 :\"Higher education - master's\",\n",
    "                                                                         5 :\"Higher education - doctorate\",\n",
    "                                                                         6 :\"Frequency of higher education\",\n",
    "                                                                         9 :\"12th year of schooling - not completed\",\n",
    "                                                                         10 :\"11th year of schooling - not completed\",\n",
    "                                                                         12 :\"Other - 11th year of schooling\",\n",
    "                                                                         14 :\"10th year of schooling\",\n",
    "                                                                         15 :\"10th year of schooling - not completed\",\n",
    "                                                                         19 :\"Basic education 3rd cycle (9th/10th/11th year) or equiv.\",\n",
    "                                                                         38 :\"Basic education 2nd cycle (6th/7th/8th year) or equiv.\",\n",
    "                                                                         39 :\"Technological specialization course\", \n",
    "                                                                         40 :\"Higher education - degree (1st cycle)\",\n",
    "                                                                         42 :\"Professional higher technical course\",\n",
    "                                                                         43 :\"Higher education - master (2nd cycle)\"})\n",
    "train['Previous qualification'].value_counts()"
   ]
  },
  {
   "cell_type": "code",
   "execution_count": 18,
   "id": "272caac5",
   "metadata": {
    "execution": {
     "iopub.execute_input": "2024-06-01T10:13:54.755481Z",
     "iopub.status.busy": "2024-06-01T10:13:54.754575Z",
     "iopub.status.idle": "2024-06-01T10:13:54.783025Z",
     "shell.execute_reply": "2024-06-01T10:13:54.781899Z"
    },
    "papermill": {
     "duration": 0.06657,
     "end_time": "2024-06-01T10:13:54.785407",
     "exception": false,
     "start_time": "2024-06-01T10:13:54.718837",
     "status": "completed"
    },
    "tags": []
   },
   "outputs": [
    {
     "data": {
      "text/plain": [
       "Previous qualification\n",
       "Secondary education                                         44823\n",
       "Basic education 3rd cycle (9th/10th/11th year) or equiv.     1983\n",
       "Technological specialization course                          1927\n",
       "Higher education - degree                                     939\n",
       "Other - 11th year of schooling                                583\n",
       "12th year of schooling - not completed                        200\n",
       "Higher education - degree (1st cycle)                         170\n",
       "Professional higher technical course                          151\n",
       "Higher education - bachelor's degree                           67\n",
       "Frequency of higher education                                  58\n",
       "Basic education 2nd cycle (6th/7th/8th year) or equiv.         27\n",
       "11th year of schooling - not completed                         26\n",
       "Higher education - master (2nd cycle)                          22\n",
       "Higher education - master's                                    19\n",
       "10th year of schooling - not completed                          9\n",
       "10th year of schooling                                          3\n",
       "Higher education - doctorate                                    2\n",
       "17                                                              1\n",
       "11                                                              1\n",
       "16                                                              1\n",
       "Name: count, dtype: int64"
      ]
     },
     "execution_count": 18,
     "metadata": {},
     "output_type": "execute_result"
    }
   ],
   "source": [
    "test['Previous qualification']=test['Previous qualification'].replace({1 :'Secondary education',\n",
    "                                                                         2 :\"Higher education - bachelor's degree\",\n",
    "                                                                         3 :'Higher education - degree',\n",
    "                                                                         4 :\"Higher education - master's\",\n",
    "                                                                         5 :\"Higher education - doctorate\",\n",
    "                                                                         6 :\"Frequency of higher education\",\n",
    "                                                                         9 :\"12th year of schooling - not completed\",\n",
    "                                                                         10 :\"11th year of schooling - not completed\",\n",
    "                                                                         12 :\"Other - 11th year of schooling\",\n",
    "                                                                         14 :\"10th year of schooling\",\n",
    "                                                                         15 :\"10th year of schooling - not completed\",\n",
    "                                                                         19 :\"Basic education 3rd cycle (9th/10th/11th year) or equiv.\",\n",
    "                                                                         38 :\"Basic education 2nd cycle (6th/7th/8th year) or equiv.\",\n",
    "                                                                         39 :\"Technological specialization course\", \n",
    "                                                                         40 :\"Higher education - degree (1st cycle)\",\n",
    "                                                                         42 :\"Professional higher technical course\",\n",
    "                                                                         43 :\"Higher education - master (2nd cycle)\"})\n",
    "test['Previous qualification'].value_counts()"
   ]
  },
  {
   "cell_type": "code",
   "execution_count": 19,
   "id": "b301135a",
   "metadata": {
    "execution": {
     "iopub.execute_input": "2024-06-01T10:13:54.856142Z",
     "iopub.status.busy": "2024-06-01T10:13:54.855745Z",
     "iopub.status.idle": "2024-06-01T10:13:54.876133Z",
     "shell.execute_reply": "2024-06-01T10:13:54.875138Z"
    },
    "papermill": {
     "duration": 0.058511,
     "end_time": "2024-06-01T10:13:54.878477",
     "exception": false,
     "start_time": "2024-06-01T10:13:54.819966",
     "status": "completed"
    },
    "tags": []
   },
   "outputs": [
    {
     "data": {
      "text/plain": [
       "count    76518.000000\n",
       "mean       132.378766\n",
       "std         10.995328\n",
       "min         95.000000\n",
       "25%        125.000000\n",
       "50%        133.100000\n",
       "75%        140.000000\n",
       "max        190.000000\n",
       "Name: Previous qualification (grade), dtype: float64"
      ]
     },
     "execution_count": 19,
     "metadata": {},
     "output_type": "execute_result"
    }
   ],
   "source": [
    "train['Previous qualification (grade)'].describe()"
   ]
  },
  {
   "cell_type": "code",
   "execution_count": 20,
   "id": "cfabc51b",
   "metadata": {
    "execution": {
     "iopub.execute_input": "2024-06-01T10:13:54.949738Z",
     "iopub.status.busy": "2024-06-01T10:13:54.949369Z",
     "iopub.status.idle": "2024-06-01T10:13:54.962355Z",
     "shell.execute_reply": "2024-06-01T10:13:54.961172Z"
    },
    "papermill": {
     "duration": 0.05156,
     "end_time": "2024-06-01T10:13:54.964799",
     "exception": false,
     "start_time": "2024-06-01T10:13:54.913239",
     "status": "completed"
    },
    "tags": []
   },
   "outputs": [
    {
     "data": {
      "text/plain": [
       "count    51012.000000\n",
       "mean       132.328001\n",
       "std         10.885679\n",
       "min         95.000000\n",
       "25%        125.000000\n",
       "50%        133.100000\n",
       "75%        139.000000\n",
       "max        190.000000\n",
       "Name: Previous qualification (grade), dtype: float64"
      ]
     },
     "execution_count": 20,
     "metadata": {},
     "output_type": "execute_result"
    }
   ],
   "source": [
    "test['Previous qualification (grade)'].describe()"
   ]
  },
  {
   "cell_type": "code",
   "execution_count": 21,
   "id": "c6f6bad7",
   "metadata": {
    "execution": {
     "iopub.execute_input": "2024-06-01T10:13:55.037475Z",
     "iopub.status.busy": "2024-06-01T10:13:55.037034Z",
     "iopub.status.idle": "2024-06-01T10:13:55.074368Z",
     "shell.execute_reply": "2024-06-01T10:13:55.073372Z"
    },
    "papermill": {
     "duration": 0.076225,
     "end_time": "2024-06-01T10:13:55.076827",
     "exception": false,
     "start_time": "2024-06-01T10:13:55.000602",
     "status": "completed"
    },
    "tags": []
   },
   "outputs": [
    {
     "data": {
      "text/plain": [
       "Nacionality\n",
       "Portuguese               76013\n",
       "Brazilian                  221\n",
       "Santomean                   67\n",
       "Spanish                     56\n",
       "Cape Verdean                56\n",
       "Guinean                     15\n",
       "Italian                     15\n",
       "German                      13\n",
       "Ukrainian                   12\n",
       "Russian                      9\n",
       "Mexican                      9\n",
       "Moldova (Republic of)        9\n",
       "Angolan                      6\n",
       "Mozambican                   6\n",
       "Romanian                     6\n",
       "Lithuanian                   2\n",
       "Colombian                    2\n",
       "Turkish                      1\n",
       "Name: count, dtype: int64"
      ]
     },
     "execution_count": 21,
     "metadata": {},
     "output_type": "execute_result"
    }
   ],
   "source": [
    "train['Nacionality']=train['Nacionality'].replace({1 : 'Portuguese',\n",
    "                                                   2 : 'German',\n",
    "                                                   6 : 'Spanish',\n",
    "                                                   11 : 'Italian',\n",
    "                                                   13 : 'Dutch',\n",
    "                                                   14 : 'English',\n",
    "                                                   17 : 'Lithuanian',\n",
    "                                                   21 : 'Angolan',\n",
    "                                                   22 : 'Cape Verdean',\n",
    "                                                   24 : 'Guinean',\n",
    "                                                   25 : 'Mozambican',\n",
    "                                                   26 : 'Santomean',\n",
    "                                                   32 : 'Turkish',\n",
    "                                                   41 : 'Brazilian',\n",
    "                                                   62 : 'Romanian',\n",
    "                                                   100 : 'Moldova (Republic of)',\n",
    "                                                   101 : 'Mexican',\n",
    "                                                   103 : 'Ukrainian',\n",
    "                                                   105 : 'Russian',\n",
    "                                                   108 : 'Cuban',\n",
    "                                                   109 : 'Colombian'})\n",
    "train['Nacionality'].value_counts()"
   ]
  },
  {
   "cell_type": "code",
   "execution_count": 22,
   "id": "455c88ed",
   "metadata": {
    "execution": {
     "iopub.execute_input": "2024-06-01T10:13:55.149995Z",
     "iopub.status.busy": "2024-06-01T10:13:55.149608Z",
     "iopub.status.idle": "2024-06-01T10:13:55.179359Z",
     "shell.execute_reply": "2024-06-01T10:13:55.178359Z"
    },
    "papermill": {
     "duration": 0.068785,
     "end_time": "2024-06-01T10:13:55.181766",
     "exception": false,
     "start_time": "2024-06-01T10:13:55.112981",
     "status": "completed"
    },
    "tags": []
   },
   "outputs": [
    {
     "data": {
      "text/plain": [
       "Nacionality\n",
       "Portuguese               50719\n",
       "Brazilian                  106\n",
       "Santomean                   37\n",
       "Cape Verdean                36\n",
       "Spanish                     33\n",
       "Guinean                     13\n",
       "Romanian                    11\n",
       "Italian                      9\n",
       "Moldova (Republic of)        8\n",
       "German                       8\n",
       "Mozambican                   7\n",
       "Ukrainian                    7\n",
       "Russian                      7\n",
       "Angolan                      3\n",
       "Mexican                      3\n",
       "Turkish                      2\n",
       "Colombian                    2\n",
       "English                      1\n",
       "Name: count, dtype: int64"
      ]
     },
     "execution_count": 22,
     "metadata": {},
     "output_type": "execute_result"
    }
   ],
   "source": [
    "test['Nacionality']=test['Nacionality'].replace({1 : 'Portuguese',\n",
    "                                                   2 : 'German',\n",
    "                                                   6 : 'Spanish',\n",
    "                                                   11 : 'Italian',\n",
    "                                                   13 : 'Dutch',\n",
    "                                                   14 : 'English',\n",
    "                                                   17 : 'Lithuanian',\n",
    "                                                   21 : 'Angolan',\n",
    "                                                   22 : 'Cape Verdean',\n",
    "                                                   24 : 'Guinean',\n",
    "                                                   25 : 'Mozambican',\n",
    "                                                   26 : 'Santomean',\n",
    "                                                   32 : 'Turkish',\n",
    "                                                   41 : 'Brazilian',\n",
    "                                                   62 : 'Romanian',\n",
    "                                                   100 : 'Moldova (Republic of)',\n",
    "                                                   101 : 'Mexican',\n",
    "                                                   103 : 'Ukrainian',\n",
    "                                                   105 : 'Russian',\n",
    "                                                   108 : 'Cuban',\n",
    "                                                   109 : 'Colombian'})\n",
    "test['Nacionality'].value_counts()"
   ]
  },
  {
   "cell_type": "code",
   "execution_count": 23,
   "id": "e508663f",
   "metadata": {
    "execution": {
     "iopub.execute_input": "2024-06-01T10:13:55.254196Z",
     "iopub.status.busy": "2024-06-01T10:13:55.253452Z",
     "iopub.status.idle": "2024-06-01T10:13:55.327878Z",
     "shell.execute_reply": "2024-06-01T10:13:55.326656Z"
    },
    "papermill": {
     "duration": 0.113649,
     "end_time": "2024-06-01T10:13:55.330472",
     "exception": false,
     "start_time": "2024-06-01T10:13:55.216823",
     "status": "completed"
    },
    "tags": []
   },
   "outputs": [
    {
     "name": "stdout",
     "output_type": "stream",
     "text": [
      "<class 'pandas.core.frame.DataFrame'>\n",
      "RangeIndex: 76518 entries, 0 to 76517\n",
      "Data columns (total 37 columns):\n",
      " #   Column                                          Non-Null Count  Dtype  \n",
      "---  ------                                          --------------  -----  \n",
      " 0   Marital status                                  76518 non-null  object \n",
      " 1   Application mode                                76518 non-null  object \n",
      " 2   Application order                               76518 non-null  int64  \n",
      " 3   Course                                          76518 non-null  object \n",
      " 4   Daytime/evening attendance                      76518 non-null  object \n",
      " 5   Previous qualification                          76518 non-null  object \n",
      " 6   Previous qualification (grade)                  76518 non-null  float64\n",
      " 7   Nationality                                     76518 non-null  object \n",
      " 8   Mother's qualification                          76518 non-null  int64  \n",
      " 9   Father's qualification                          76518 non-null  int64  \n",
      " 10  Mother's occupation                             76518 non-null  int64  \n",
      " 11  Father's occupation                             76518 non-null  int64  \n",
      " 12  Admission grade                                 76518 non-null  float64\n",
      " 13  Displaced                                       76518 non-null  int64  \n",
      " 14  Educational special needs                       76518 non-null  int64  \n",
      " 15  Debtor                                          76518 non-null  int64  \n",
      " 16  Tuition fees up to date                         76518 non-null  int64  \n",
      " 17  Gender                                          76518 non-null  int64  \n",
      " 18  Scholarship holder                              76518 non-null  int64  \n",
      " 19  Age at enrollment                               76518 non-null  int64  \n",
      " 20  International                                   76518 non-null  int64  \n",
      " 21  Curricular units 1st sem (credited)             76518 non-null  int64  \n",
      " 22  Curricular units 1st sem (enrolled)             76518 non-null  int64  \n",
      " 23  Curricular units 1st sem (evaluations)          76518 non-null  int64  \n",
      " 24  Curricular units 1st sem (approved)             76518 non-null  int64  \n",
      " 25  Curricular units 1st sem (grade)                76518 non-null  float64\n",
      " 26  Curricular units 1st sem (without evaluations)  76518 non-null  int64  \n",
      " 27  Curricular units 2nd sem (credited)             76518 non-null  int64  \n",
      " 28  Curricular units 2nd sem (enrolled)             76518 non-null  int64  \n",
      " 29  Curricular units 2nd sem (evaluations)          76518 non-null  int64  \n",
      " 30  Curricular units 2nd sem (approved)             76518 non-null  int64  \n",
      " 31  Curricular units 2nd sem (grade)                76518 non-null  float64\n",
      " 32  Curricular units 2nd sem (without evaluations)  76518 non-null  int64  \n",
      " 33  Unemployment rate                               76518 non-null  float64\n",
      " 34  Inflation rate                                  76518 non-null  float64\n",
      " 35  GDP                                             76518 non-null  float64\n",
      " 36  Target                                          76518 non-null  object \n",
      "dtypes: float64(7), int64(23), object(7)\n",
      "memory usage: 21.6+ MB\n"
     ]
    }
   ],
   "source": [
    "train = train.rename({'Nacionality': 'Nationality'}, axis='columns')\n",
    "train.info()"
   ]
  },
  {
   "cell_type": "code",
   "execution_count": 24,
   "id": "d730ef2c",
   "metadata": {
    "execution": {
     "iopub.execute_input": "2024-06-01T10:13:55.403516Z",
     "iopub.status.busy": "2024-06-01T10:13:55.402572Z",
     "iopub.status.idle": "2024-06-01T10:13:55.445840Z",
     "shell.execute_reply": "2024-06-01T10:13:55.444678Z"
    },
    "papermill": {
     "duration": 0.08242,
     "end_time": "2024-06-01T10:13:55.448398",
     "exception": false,
     "start_time": "2024-06-01T10:13:55.365978",
     "status": "completed"
    },
    "tags": []
   },
   "outputs": [
    {
     "name": "stdout",
     "output_type": "stream",
     "text": [
      "<class 'pandas.core.frame.DataFrame'>\n",
      "RangeIndex: 51012 entries, 0 to 51011\n",
      "Data columns (total 36 columns):\n",
      " #   Column                                          Non-Null Count  Dtype  \n",
      "---  ------                                          --------------  -----  \n",
      " 0   Marital status                                  51012 non-null  object \n",
      " 1   Application mode                                51012 non-null  object \n",
      " 2   Application order                               51012 non-null  int64  \n",
      " 3   Course                                          51012 non-null  object \n",
      " 4   Daytime/evening attendance                      51012 non-null  object \n",
      " 5   Previous qualification                          51012 non-null  object \n",
      " 6   Previous qualification (grade)                  51012 non-null  float64\n",
      " 7   Nationality                                     51012 non-null  object \n",
      " 8   Mother's qualification                          51012 non-null  int64  \n",
      " 9   Father's qualification                          51012 non-null  int64  \n",
      " 10  Mother's occupation                             51012 non-null  int64  \n",
      " 11  Father's occupation                             51012 non-null  int64  \n",
      " 12  Admission grade                                 51012 non-null  float64\n",
      " 13  Displaced                                       51012 non-null  int64  \n",
      " 14  Educational special needs                       51012 non-null  int64  \n",
      " 15  Debtor                                          51012 non-null  int64  \n",
      " 16  Tuition fees up to date                         51012 non-null  int64  \n",
      " 17  Gender                                          51012 non-null  int64  \n",
      " 18  Scholarship holder                              51012 non-null  int64  \n",
      " 19  Age at enrollment                               51012 non-null  int64  \n",
      " 20  International                                   51012 non-null  int64  \n",
      " 21  Curricular units 1st sem (credited)             51012 non-null  int64  \n",
      " 22  Curricular units 1st sem (enrolled)             51012 non-null  int64  \n",
      " 23  Curricular units 1st sem (evaluations)          51012 non-null  int64  \n",
      " 24  Curricular units 1st sem (approved)             51012 non-null  int64  \n",
      " 25  Curricular units 1st sem (grade)                51012 non-null  float64\n",
      " 26  Curricular units 1st sem (without evaluations)  51012 non-null  int64  \n",
      " 27  Curricular units 2nd sem (credited)             51012 non-null  int64  \n",
      " 28  Curricular units 2nd sem (enrolled)             51012 non-null  int64  \n",
      " 29  Curricular units 2nd sem (evaluations)          51012 non-null  int64  \n",
      " 30  Curricular units 2nd sem (approved)             51012 non-null  int64  \n",
      " 31  Curricular units 2nd sem (grade)                51012 non-null  float64\n",
      " 32  Curricular units 2nd sem (without evaluations)  51012 non-null  int64  \n",
      " 33  Unemployment rate                               51012 non-null  float64\n",
      " 34  Inflation rate                                  51012 non-null  float64\n",
      " 35  GDP                                             51012 non-null  float64\n",
      "dtypes: float64(7), int64(23), object(6)\n",
      "memory usage: 14.0+ MB\n"
     ]
    }
   ],
   "source": [
    "test = test.rename({'Nacionality': 'Nationality'}, axis='columns')\n",
    "test.info()"
   ]
  },
  {
   "cell_type": "code",
   "execution_count": 25,
   "id": "d18cdd09",
   "metadata": {
    "execution": {
     "iopub.execute_input": "2024-06-01T10:13:55.521335Z",
     "iopub.status.busy": "2024-06-01T10:13:55.520885Z",
     "iopub.status.idle": "2024-06-01T10:13:55.568388Z",
     "shell.execute_reply": "2024-06-01T10:13:55.567191Z"
    },
    "papermill": {
     "duration": 0.086812,
     "end_time": "2024-06-01T10:13:55.570781",
     "exception": false,
     "start_time": "2024-06-01T10:13:55.483969",
     "status": "completed"
    },
    "tags": []
   },
   "outputs": [
    {
     "data": {
      "text/plain": [
       "Mother's qualification\n",
       "Secondary Education - 12th Year of Schooling or Eq.         20202\n",
       "Basic Education 3rd Cycle (9th/10th/11th Year) or Equiv.    18980\n",
       "Basic education 1st cycle (4th/5th year) or equiv.          18664\n",
       "Basic Education 2nd Cycle (6th/7th/8th Year) or Equiv.       9059\n",
       "Higher Education - Degree                                    5890\n",
       "Unknown                                                      1993\n",
       "Higher Education - Bachelor's Degree                          613\n",
       "Other - 11th Year of Schooling                                358\n",
       "Higher Education - Master's                                   313\n",
       "Higher Education - Doctorate                                   99\n",
       "Higher education - degree (1st cycle)                          49\n",
       "Technological specialization course                            46\n",
       "12th Year of Schooling - Not Completed                         45\n",
       "7th Year (Old)                                                 32\n",
       "Specialized higher studies course                              26\n",
       "Frequency of Higher Education                                  21\n",
       "Professional higher technical course                           19\n",
       "Higher Education - Master (2nd cycle)                          16\n",
       "11th Year of Schooling - Not Completed                         15\n",
       "Can read without having a 4th year of schooling                15\n",
       "9th Year of Schooling - Not Completed                          15\n",
       "Can't read or write                                            10\n",
       "8th year of schooling                                          10\n",
       "Technical-professional course                                   5\n",
       "10th Year of Schooling                                          5\n",
       "7th year of schooling                                           4\n",
       "General commerce course                                         3\n",
       "Higher Education - Doctorate (3rd cycle)                        2\n",
       "33                                                              2\n",
       "31                                                              2\n",
       "15                                                              1\n",
       "7                                                               1\n",
       "8                                                               1\n",
       "28                                                              1\n",
       "2nd cycle of the general high school course                     1\n",
       "Name: count, dtype: int64"
      ]
     },
     "execution_count": 25,
     "metadata": {},
     "output_type": "execute_result"
    }
   ],
   "source": [
    "train[\"Mother's qualification\"]=train[\"Mother's qualification\"].replace({1 :\"Secondary Education - 12th Year of Schooling or Eq.\",\n",
    "                                                                         2 :\"Higher Education - Bachelor's Degree\",\n",
    "                                                                         3 :\"Higher Education - Degree\",\n",
    "                                                                         4 :\"Higher Education - Master's\",\n",
    "                                                                         5 :\"Higher Education - Doctorate\",\n",
    "                                                                         6 :\"Frequency of Higher Education\", \n",
    "                                                                         9 :\"12th Year of Schooling - Not Completed\",\n",
    "                                                                         10 :\"11th Year of Schooling - Not Completed\",\n",
    "                                                                         11 :\"7th Year (Old)\",\n",
    "                                                                         12 :\"Other - 11th Year of Schooling\",\n",
    "                                                                         14 :\"10th Year of Schooling\",\n",
    "                                                                         18 :\"General commerce course\",\n",
    "                                                                         19 :\"Basic Education 3rd Cycle (9th/10th/11th Year) or Equiv.\", \n",
    "                                                                         22 :\"Technical-professional course\", \n",
    "                                                                         26 : \"7th year of schooling\", \n",
    "                                                                         27 :\"2nd cycle of the general high school course\",\n",
    "                                                                         29 :\"9th Year of Schooling - Not Completed\",\n",
    "                                                                         30 :\"8th year of schooling\",\n",
    "                                                                         34 :\"Unknown\",\n",
    "                                                                         35 :\"Can't read or write\" ,\n",
    "                                                                         36 : \"Can read without having a 4th year of schooling\", \n",
    "                                                                         37 :\"Basic education 1st cycle (4th/5th year) or equiv.\",\n",
    "                                                                         38 : \"Basic Education 2nd Cycle (6th/7th/8th Year) or Equiv.\" ,\n",
    "                                                                         39 :\"Technological specialization course\" ,\n",
    "                                                                         40 :\"Higher education - degree (1st cycle)\",\n",
    "                                                                         41 : \"Specialized higher studies course\" ,\n",
    "                                                                         42 : \"Professional higher technical course\" ,\n",
    "                                                                         43 : \"Higher Education - Master (2nd cycle)\" ,\n",
    "                                                                         44 : \"Higher Education - Doctorate (3rd cycle)\"})\n",
    "train[\"Mother's qualification\"].value_counts()"
   ]
  },
  {
   "cell_type": "code",
   "execution_count": 26,
   "id": "42b27e30",
   "metadata": {
    "execution": {
     "iopub.execute_input": "2024-06-01T10:13:55.647151Z",
     "iopub.status.busy": "2024-06-01T10:13:55.646177Z",
     "iopub.status.idle": "2024-06-01T10:13:55.683577Z",
     "shell.execute_reply": "2024-06-01T10:13:55.682498Z"
    },
    "papermill": {
     "duration": 0.078168,
     "end_time": "2024-06-01T10:13:55.685888",
     "exception": false,
     "start_time": "2024-06-01T10:13:55.607720",
     "status": "completed"
    },
    "tags": []
   },
   "outputs": [
    {
     "data": {
      "text/plain": [
       "Mother's qualification\n",
       "Secondary Education - 12th Year of Schooling or Eq.         13313\n",
       "Basic Education 3rd Cycle (9th/10th/11th Year) or Equiv.    12719\n",
       "Basic education 1st cycle (4th/5th year) or equiv.          12513\n",
       "Basic Education 2nd Cycle (6th/7th/8th Year) or Equiv.       6068\n",
       "Higher Education - Degree                                    3918\n",
       "Unknown                                                      1310\n",
       "Higher Education - Bachelor's Degree                          434\n",
       "Other - 11th Year of Schooling                                241\n",
       "Higher Education - Master's                                   219\n",
       "Higher Education - Doctorate                                   59\n",
       "12th Year of Schooling - Not Completed                         36\n",
       "Higher education - degree (1st cycle)                          31\n",
       "Technological specialization course                            29\n",
       "Specialized higher studies course                              18\n",
       "Frequency of Higher Education                                  16\n",
       "Professional higher technical course                           12\n",
       "Higher Education - Master (2nd cycle)                          11\n",
       "7th Year (Old)                                                  9\n",
       "9th Year of Schooling - Not Completed                           9\n",
       "Technical-professional course                                   7\n",
       "8th year of schooling                                           7\n",
       "11th Year of Schooling - Not Completed                          6\n",
       "Can't read or write                                             5\n",
       "Can read without having a 4th year of schooling                 4\n",
       "General commerce course                                         4\n",
       "10th Year of Schooling                                          3\n",
       "Higher Education - Doctorate (3rd cycle)                        3\n",
       "25                                                              2\n",
       "13                                                              2\n",
       "31                                                              2\n",
       "33                                                              1\n",
       "7th year of schooling                                           1\n",
       "Name: count, dtype: int64"
      ]
     },
     "execution_count": 26,
     "metadata": {},
     "output_type": "execute_result"
    }
   ],
   "source": [
    "test[\"Mother's qualification\"]=test[\"Mother's qualification\"].replace({1 :\"Secondary Education - 12th Year of Schooling or Eq.\",\n",
    "                                                                         2 :\"Higher Education - Bachelor's Degree\",\n",
    "                                                                         3 :\"Higher Education - Degree\",\n",
    "                                                                         4 :\"Higher Education - Master's\",\n",
    "                                                                         5 :\"Higher Education - Doctorate\",\n",
    "                                                                         6 :\"Frequency of Higher Education\", \n",
    "                                                                         9 :\"12th Year of Schooling - Not Completed\",\n",
    "                                                                         10 :\"11th Year of Schooling - Not Completed\",\n",
    "                                                                         11 :\"7th Year (Old)\",\n",
    "                                                                         12 :\"Other - 11th Year of Schooling\",\n",
    "                                                                         14 :\"10th Year of Schooling\",\n",
    "                                                                         18 :\"General commerce course\",\n",
    "                                                                         19 :\"Basic Education 3rd Cycle (9th/10th/11th Year) or Equiv.\", \n",
    "                                                                         22 :\"Technical-professional course\", \n",
    "                                                                         26 : \"7th year of schooling\", \n",
    "                                                                         27 :\"2nd cycle of the general high school course\",\n",
    "                                                                         29 :\"9th Year of Schooling - Not Completed\",\n",
    "                                                                         30 :\"8th year of schooling\",\n",
    "                                                                         34 :\"Unknown\",\n",
    "                                                                         35 :\"Can't read or write\" ,\n",
    "                                                                         36 : \"Can read without having a 4th year of schooling\", \n",
    "                                                                         37 :\"Basic education 1st cycle (4th/5th year) or equiv.\",\n",
    "                                                                         38 : \"Basic Education 2nd Cycle (6th/7th/8th Year) or Equiv.\" ,\n",
    "                                                                         39 :\"Technological specialization course\" ,\n",
    "                                                                         40 :\"Higher education - degree (1st cycle)\",\n",
    "                                                                         41 : \"Specialized higher studies course\" ,\n",
    "                                                                         42 : \"Professional higher technical course\" ,\n",
    "                                                                         43 : \"Higher Education - Master (2nd cycle)\" ,\n",
    "                                                                         44 : \"Higher Education - Doctorate (3rd cycle)\"})\n",
    "test[\"Mother's qualification\"].value_counts()"
   ]
  },
  {
   "cell_type": "code",
   "execution_count": 27,
   "id": "879c701c",
   "metadata": {
    "execution": {
     "iopub.execute_input": "2024-06-01T10:13:55.760046Z",
     "iopub.status.busy": "2024-06-01T10:13:55.759673Z",
     "iopub.status.idle": "2024-06-01T10:13:55.810863Z",
     "shell.execute_reply": "2024-06-01T10:13:55.809789Z"
    },
    "papermill": {
     "duration": 0.091588,
     "end_time": "2024-06-01T10:13:55.813115",
     "exception": false,
     "start_time": "2024-06-01T10:13:55.721527",
     "status": "completed"
    },
    "tags": []
   },
   "outputs": [
    {
     "data": {
      "text/plain": [
       "Father's qualification\n",
       "Basic education 1st cycle (4th/5th year) or equiv.          23290\n",
       "Basic Education 3rd Cycle (9th/10th/11th Year) or Equiv.    19015\n",
       "Secondary Education - 12th Year of Schooling or Eq.         15604\n",
       "Basic Education 2nd Cycle (6th/7th/8th Year) or Equiv.      12253\n",
       "Higher Education - Degree                                    3011\n",
       "Unknown                                                      1790\n",
       "Higher Education - Bachelor's Degree                          496\n",
       "Other - 11th Year of Schooling                                294\n",
       "Higher Education - Master's                                   224\n",
       "Technological specialization course                           120\n",
       "Higher Education - Doctorate                                  100\n",
       "7th Year (Old)                                                 75\n",
       "Can read without having a 4th year of schooling                43\n",
       "9th Year of Schooling - Not Completed                          25\n",
       "Higher education - degree (1st cycle)                          25\n",
       "12th Year of Schooling - Not Completed                         19\n",
       "10th Year of Schooling                                         18\n",
       "Higher Education - Master (2nd cycle)                          14\n",
       "8th year of schooling                                          14\n",
       "Specialized higher studies course                              13\n",
       "Technical-professional course                                  11\n",
       "11th Year of Schooling - Not Completed                         10\n",
       "Frequency of Higher Education                                   9\n",
       "7th year of schooling                                           9\n",
       "Professional higher technical course                            7\n",
       "Can't read or write                                             5\n",
       "General commerce course                                         4\n",
       "2nd year complementary high school course                       3\n",
       "Higher Education - Doctorate (3rd cycle)                        3\n",
       "Complementary High School Course                                3\n",
       "2nd cycle of the general high school course                     2\n",
       "7                                                               2\n",
       "Supplementary Accounting and Administration                     1\n",
       "General Course of Administration and Commerce                   1\n",
       "21                                                              1\n",
       "23                                                              1\n",
       "15                                                              1\n",
       "24                                                              1\n",
       "Complementary High School Course - not concluded                1\n",
       "Name: count, dtype: int64"
      ]
     },
     "execution_count": 27,
     "metadata": {},
     "output_type": "execute_result"
    }
   ],
   "source": [
    "train[\"Father's qualification\"]=train[\"Father's qualification\"].replace({1 :\"Secondary Education - 12th Year of Schooling or Eq.\",\n",
    "                                                                         2 :\"Higher Education - Bachelor's Degree\",\n",
    "                                                                         3 :\"Higher Education - Degree\",\n",
    "                                                                         4 : \"Higher Education - Master's\",\n",
    "                                                                         5 : \"Higher Education - Doctorate\" ,\n",
    "                                                                         6 : \"Frequency of Higher Education\",\n",
    "                                                                         9 :\"12th Year of Schooling - Not Completed\",\n",
    "                                                                         10 : \"11th Year of Schooling - Not Completed\",\n",
    "                                                                         11 : \"7th Year (Old)\",\n",
    "                                                                         12 : \"Other - 11th Year of Schooling\",\n",
    "                                                                         13 : \"2nd year complementary high school course\",\n",
    "                                                                         14 : \"10th Year of Schooling\",\n",
    "                                                                         18 : \"General commerce course\",\n",
    "                                                                         19 : \"Basic Education 3rd Cycle (9th/10th/11th Year) or Equiv.\",\n",
    "                                                                         20 : \"Complementary High School Course\",\n",
    "                                                                         22 : \"Technical-professional course\",\n",
    "                                                                         25 : \"Complementary High School Course - not concluded\",\n",
    "                                                                         26 : \"7th year of schooling\",\n",
    "                                                                         27 : \"2nd cycle of the general high school course\",\n",
    "                                                                         29 : \"9th Year of Schooling - Not Completed\",\n",
    "                                                                         30 : \"8th year of schooling\",\n",
    "                                                                         31 : \"General Course of Administration and Commerce\",\n",
    "                                                                         33 : \"Supplementary Accounting and Administration\",\n",
    "                                                                         34 : \"Unknown\",\n",
    "                                                                         35 : \"Can't read or write\",\n",
    "                                                                         36 : \"Can read without having a 4th year of schooling\",\n",
    "                                                                         37 : \"Basic education 1st cycle (4th/5th year) or equiv.\",\n",
    "                                                                         38 : \"Basic Education 2nd Cycle (6th/7th/8th Year) or Equiv.\",\n",
    "                                                                         39 : \"Technological specialization course\",\n",
    "                                                                         40 : \"Higher education - degree (1st cycle)\",\n",
    "                                                                         41 : \"Specialized higher studies course\",\n",
    "                                                                         42 : \"Professional higher technical course\",\n",
    "                                                                         43 : \"Higher Education - Master (2nd cycle)\",\n",
    "                                                                         44 : \"Higher Education - Doctorate (3rd cycle)\"})\n",
    "train[\"Father's qualification\"].value_counts()"
   ]
  },
  {
   "cell_type": "code",
   "execution_count": 28,
   "id": "71f6b09b",
   "metadata": {
    "execution": {
     "iopub.execute_input": "2024-06-01T10:13:55.887659Z",
     "iopub.status.busy": "2024-06-01T10:13:55.887283Z",
     "iopub.status.idle": "2024-06-01T10:13:55.927052Z",
     "shell.execute_reply": "2024-06-01T10:13:55.925993Z"
    },
    "papermill": {
     "duration": 0.079864,
     "end_time": "2024-06-01T10:13:55.929514",
     "exception": false,
     "start_time": "2024-06-01T10:13:55.849650",
     "status": "completed"
    },
    "tags": []
   },
   "outputs": [
    {
     "data": {
      "text/plain": [
       "Father's qualification\n",
       "Basic education 1st cycle (4th/5th year) or equiv.          15536\n",
       "Basic Education 3rd Cycle (9th/10th/11th Year) or Equiv.    12736\n",
       "Secondary Education - 12th Year of Schooling or Eq.         10197\n",
       "Basic Education 2nd Cycle (6th/7th/8th Year) or Equiv.       8302\n",
       "Higher Education - Degree                                    2024\n",
       "Unknown                                                      1160\n",
       "Higher Education - Bachelor's Degree                          342\n",
       "Other - 11th Year of Schooling                                189\n",
       "Higher Education - Master's                                   148\n",
       "Technological specialization course                            91\n",
       "Higher Education - Doctorate                                   61\n",
       "7th Year (Old)                                                 39\n",
       "Can read without having a 4th year of schooling                28\n",
       "Higher education - degree (1st cycle)                          19\n",
       "8th year of schooling                                          17\n",
       "12th Year of Schooling - Not Completed                         16\n",
       "Technical-professional course                                  16\n",
       "9th Year of Schooling - Not Completed                          16\n",
       "Frequency of Higher Education                                  15\n",
       "11th Year of Schooling - Not Completed                         11\n",
       "10th Year of Schooling                                         11\n",
       "7th year of schooling                                           6\n",
       "Higher Education - Master (2nd cycle)                           5\n",
       "Specialized higher studies course                               5\n",
       "Can't read or write                                             4\n",
       "2nd cycle of the general high school course                     3\n",
       "Supplementary Accounting and Administration                     3\n",
       "General commerce course                                         2\n",
       "General Course of Administration and Commerce                   2\n",
       "Complementary High School Course - not concluded                2\n",
       "16                                                              1\n",
       "21                                                              1\n",
       "28                                                              1\n",
       "7                                                               1\n",
       "Professional higher technical course                            1\n",
       "2nd year complementary high school course                       1\n",
       "Name: count, dtype: int64"
      ]
     },
     "execution_count": 28,
     "metadata": {},
     "output_type": "execute_result"
    }
   ],
   "source": [
    "test[\"Father's qualification\"]=test[\"Father's qualification\"].replace({1 :\"Secondary Education - 12th Year of Schooling or Eq.\",\n",
    "                                                                         2 :\"Higher Education - Bachelor's Degree\",\n",
    "                                                                         3 :\"Higher Education - Degree\",\n",
    "                                                                         4 : \"Higher Education - Master's\",\n",
    "                                                                         5 : \"Higher Education - Doctorate\" ,\n",
    "                                                                         6 : \"Frequency of Higher Education\",\n",
    "                                                                         9 :\"12th Year of Schooling - Not Completed\",\n",
    "                                                                         10 : \"11th Year of Schooling - Not Completed\",\n",
    "                                                                         11 : \"7th Year (Old)\",\n",
    "                                                                         12 : \"Other - 11th Year of Schooling\",\n",
    "                                                                         13 : \"2nd year complementary high school course\",\n",
    "                                                                         14 : \"10th Year of Schooling\",\n",
    "                                                                         18 : \"General commerce course\",\n",
    "                                                                         19 : \"Basic Education 3rd Cycle (9th/10th/11th Year) or Equiv.\",\n",
    "                                                                         20 : \"Complementary High School Course\",\n",
    "                                                                         22 : \"Technical-professional course\",\n",
    "                                                                         25 : \"Complementary High School Course - not concluded\",\n",
    "                                                                         26 : \"7th year of schooling\",\n",
    "                                                                         27 : \"2nd cycle of the general high school course\",\n",
    "                                                                         29 : \"9th Year of Schooling - Not Completed\",\n",
    "                                                                         30 : \"8th year of schooling\",\n",
    "                                                                         31 : \"General Course of Administration and Commerce\",\n",
    "                                                                         33 : \"Supplementary Accounting and Administration\",\n",
    "                                                                         34 : \"Unknown\",\n",
    "                                                                         35 : \"Can't read or write\",\n",
    "                                                                         36 : \"Can read without having a 4th year of schooling\",\n",
    "                                                                         37 : \"Basic education 1st cycle (4th/5th year) or equiv.\",\n",
    "                                                                         38 : \"Basic Education 2nd Cycle (6th/7th/8th Year) or Equiv.\",\n",
    "                                                                         39 : \"Technological specialization course\",\n",
    "                                                                         40 : \"Higher education - degree (1st cycle)\",\n",
    "                                                                         41 : \"Specialized higher studies course\",\n",
    "                                                                         42 : \"Professional higher technical course\",\n",
    "                                                                         43 : \"Higher Education - Master (2nd cycle)\",\n",
    "                                                                         44 : \"Higher Education - Doctorate (3rd cycle)\"})\n",
    "test[\"Father's qualification\"].value_counts()"
   ]
  },
  {
   "cell_type": "code",
   "execution_count": 29,
   "id": "62aea852",
   "metadata": {
    "execution": {
     "iopub.execute_input": "2024-06-01T10:13:56.003973Z",
     "iopub.status.busy": "2024-06-01T10:13:56.003596Z",
     "iopub.status.idle": "2024-06-01T10:13:56.017331Z",
     "shell.execute_reply": "2024-06-01T10:13:56.016205Z"
    },
    "papermill": {
     "duration": 0.054372,
     "end_time": "2024-06-01T10:13:56.019705",
     "exception": false,
     "start_time": "2024-06-01T10:13:55.965333",
     "status": "completed"
    },
    "tags": []
   },
   "outputs": [
    {
     "data": {
      "text/plain": [
       "count    76518.000000\n",
       "mean       125.363971\n",
       "std         12.562328\n",
       "min         95.000000\n",
       "25%        118.000000\n",
       "50%        124.600000\n",
       "75%        132.000000\n",
       "max        190.000000\n",
       "Name: Admission grade, dtype: float64"
      ]
     },
     "execution_count": 29,
     "metadata": {},
     "output_type": "execute_result"
    }
   ],
   "source": [
    "train['Admission grade'].describe()"
   ]
  },
  {
   "cell_type": "code",
   "execution_count": 30,
   "id": "fa19284e",
   "metadata": {
    "execution": {
     "iopub.execute_input": "2024-06-01T10:13:56.093472Z",
     "iopub.status.busy": "2024-06-01T10:13:56.093073Z",
     "iopub.status.idle": "2024-06-01T10:13:56.104891Z",
     "shell.execute_reply": "2024-06-01T10:13:56.103845Z"
    },
    "papermill": {
     "duration": 0.05141,
     "end_time": "2024-06-01T10:13:56.107258",
     "exception": false,
     "start_time": "2024-06-01T10:13:56.055848",
     "status": "completed"
    },
    "tags": []
   },
   "outputs": [
    {
     "data": {
      "text/plain": [
       "count    51012.000000\n",
       "mean       125.419794\n",
       "std         12.598137\n",
       "min         95.000000\n",
       "25%        118.000000\n",
       "50%        124.600000\n",
       "75%        132.000000\n",
       "max        190.000000\n",
       "Name: Admission grade, dtype: float64"
      ]
     },
     "execution_count": 30,
     "metadata": {},
     "output_type": "execute_result"
    }
   ],
   "source": [
    "test['Admission grade'].describe()"
   ]
  },
  {
   "cell_type": "code",
   "execution_count": 31,
   "id": "ba72962d",
   "metadata": {
    "execution": {
     "iopub.execute_input": "2024-06-01T10:13:56.182933Z",
     "iopub.status.busy": "2024-06-01T10:13:56.182584Z",
     "iopub.status.idle": "2024-06-01T10:13:56.230902Z",
     "shell.execute_reply": "2024-06-01T10:13:56.229749Z"
    },
    "papermill": {
     "duration": 0.089733,
     "end_time": "2024-06-01T10:13:56.233928",
     "exception": false,
     "start_time": "2024-06-01T10:13:56.144195",
     "status": "completed"
    },
    "tags": []
   },
   "outputs": [
    {
     "name": "stdout",
     "output_type": "stream",
     "text": [
      "<class 'pandas.core.frame.DataFrame'>\n",
      "RangeIndex: 76518 entries, 0 to 76517\n",
      "Data columns (total 37 columns):\n",
      " #   Column                                          Non-Null Count  Dtype  \n",
      "---  ------                                          --------------  -----  \n",
      " 0   Marital status                                  76518 non-null  object \n",
      " 1   Application mode                                76518 non-null  object \n",
      " 2   Application order                               76518 non-null  int64  \n",
      " 3   Course                                          76518 non-null  object \n",
      " 4   Daytime/evening attendance                      76518 non-null  object \n",
      " 5   Previous qualification                          76518 non-null  object \n",
      " 6   Previous qualification (grade)                  76518 non-null  float64\n",
      " 7   Nationality                                     76518 non-null  object \n",
      " 8   Mother's qualification                          76518 non-null  object \n",
      " 9   Father's qualification                          76518 non-null  object \n",
      " 10  Mother's occupation                             76518 non-null  int64  \n",
      " 11  Father's occupation                             76518 non-null  int64  \n",
      " 12  Admission grade                                 76518 non-null  int64  \n",
      " 13  Displaced                                       76518 non-null  int64  \n",
      " 14  Educational special needs                       76518 non-null  int64  \n",
      " 15  Debtor                                          76518 non-null  int64  \n",
      " 16  Tuition fees up to date                         76518 non-null  int64  \n",
      " 17  Gender                                          76518 non-null  int64  \n",
      " 18  Scholarship holder                              76518 non-null  int64  \n",
      " 19  Age at enrollment                               76518 non-null  int64  \n",
      " 20  International                                   76518 non-null  int64  \n",
      " 21  Curricular units 1st sem (credited)             76518 non-null  int64  \n",
      " 22  Curricular units 1st sem (enrolled)             76518 non-null  int64  \n",
      " 23  Curricular units 1st sem (evaluations)          76518 non-null  int64  \n",
      " 24  Curricular units 1st sem (approved)             76518 non-null  int64  \n",
      " 25  Curricular units 1st sem (grade)                76518 non-null  float64\n",
      " 26  Curricular units 1st sem (without evaluations)  76518 non-null  int64  \n",
      " 27  Curricular units 2nd sem (credited)             76518 non-null  int64  \n",
      " 28  Curricular units 2nd sem (enrolled)             76518 non-null  int64  \n",
      " 29  Curricular units 2nd sem (evaluations)          76518 non-null  int64  \n",
      " 30  Curricular units 2nd sem (approved)             76518 non-null  int64  \n",
      " 31  Curricular units 2nd sem (grade)                76518 non-null  float64\n",
      " 32  Curricular units 2nd sem (without evaluations)  76518 non-null  int64  \n",
      " 33  Unemployment rate                               76518 non-null  float64\n",
      " 34  Inflation rate                                  76518 non-null  float64\n",
      " 35  GDP                                             76518 non-null  float64\n",
      " 36  Target                                          76518 non-null  object \n",
      "dtypes: float64(6), int64(22), object(9)\n",
      "memory usage: 21.6+ MB\n"
     ]
    }
   ],
   "source": [
    "train['Admission grade']=train['Admission grade'].astype('int')\n",
    "train.info()"
   ]
  },
  {
   "cell_type": "code",
   "execution_count": 32,
   "id": "30a5db58",
   "metadata": {
    "execution": {
     "iopub.execute_input": "2024-06-01T10:13:56.311048Z",
     "iopub.status.busy": "2024-06-01T10:13:56.310706Z",
     "iopub.status.idle": "2024-06-01T10:13:56.345287Z",
     "shell.execute_reply": "2024-06-01T10:13:56.344174Z"
    },
    "papermill": {
     "duration": 0.075929,
     "end_time": "2024-06-01T10:13:56.347790",
     "exception": false,
     "start_time": "2024-06-01T10:13:56.271861",
     "status": "completed"
    },
    "tags": []
   },
   "outputs": [
    {
     "name": "stdout",
     "output_type": "stream",
     "text": [
      "<class 'pandas.core.frame.DataFrame'>\n",
      "RangeIndex: 51012 entries, 0 to 51011\n",
      "Data columns (total 36 columns):\n",
      " #   Column                                          Non-Null Count  Dtype  \n",
      "---  ------                                          --------------  -----  \n",
      " 0   Marital status                                  51012 non-null  object \n",
      " 1   Application mode                                51012 non-null  object \n",
      " 2   Application order                               51012 non-null  int64  \n",
      " 3   Course                                          51012 non-null  object \n",
      " 4   Daytime/evening attendance                      51012 non-null  object \n",
      " 5   Previous qualification                          51012 non-null  object \n",
      " 6   Previous qualification (grade)                  51012 non-null  float64\n",
      " 7   Nationality                                     51012 non-null  object \n",
      " 8   Mother's qualification                          51012 non-null  object \n",
      " 9   Father's qualification                          51012 non-null  object \n",
      " 10  Mother's occupation                             51012 non-null  int64  \n",
      " 11  Father's occupation                             51012 non-null  int64  \n",
      " 12  Admission grade                                 51012 non-null  int64  \n",
      " 13  Displaced                                       51012 non-null  int64  \n",
      " 14  Educational special needs                       51012 non-null  int64  \n",
      " 15  Debtor                                          51012 non-null  int64  \n",
      " 16  Tuition fees up to date                         51012 non-null  int64  \n",
      " 17  Gender                                          51012 non-null  int64  \n",
      " 18  Scholarship holder                              51012 non-null  int64  \n",
      " 19  Age at enrollment                               51012 non-null  int64  \n",
      " 20  International                                   51012 non-null  int64  \n",
      " 21  Curricular units 1st sem (credited)             51012 non-null  int64  \n",
      " 22  Curricular units 1st sem (enrolled)             51012 non-null  int64  \n",
      " 23  Curricular units 1st sem (evaluations)          51012 non-null  int64  \n",
      " 24  Curricular units 1st sem (approved)             51012 non-null  int64  \n",
      " 25  Curricular units 1st sem (grade)                51012 non-null  float64\n",
      " 26  Curricular units 1st sem (without evaluations)  51012 non-null  int64  \n",
      " 27  Curricular units 2nd sem (credited)             51012 non-null  int64  \n",
      " 28  Curricular units 2nd sem (enrolled)             51012 non-null  int64  \n",
      " 29  Curricular units 2nd sem (evaluations)          51012 non-null  int64  \n",
      " 30  Curricular units 2nd sem (approved)             51012 non-null  int64  \n",
      " 31  Curricular units 2nd sem (grade)                51012 non-null  float64\n",
      " 32  Curricular units 2nd sem (without evaluations)  51012 non-null  int64  \n",
      " 33  Unemployment rate                               51012 non-null  float64\n",
      " 34  Inflation rate                                  51012 non-null  float64\n",
      " 35  GDP                                             51012 non-null  float64\n",
      "dtypes: float64(6), int64(22), object(8)\n",
      "memory usage: 14.0+ MB\n"
     ]
    }
   ],
   "source": [
    "test['Admission grade']=test['Admission grade'].astype('int')\n",
    "test.info()"
   ]
  },
  {
   "cell_type": "code",
   "execution_count": 33,
   "id": "c454642e",
   "metadata": {
    "execution": {
     "iopub.execute_input": "2024-06-01T10:13:56.423272Z",
     "iopub.status.busy": "2024-06-01T10:13:56.422873Z",
     "iopub.status.idle": "2024-06-01T10:13:56.442140Z",
     "shell.execute_reply": "2024-06-01T10:13:56.441184Z"
    },
    "papermill": {
     "duration": 0.059908,
     "end_time": "2024-06-01T10:13:56.444487",
     "exception": false,
     "start_time": "2024-06-01T10:13:56.384579",
     "status": "completed"
    },
    "tags": []
   },
   "outputs": [
    {
     "data": {
      "text/plain": [
       "Displaced\n",
       "yes    43559\n",
       "no     32959\n",
       "Name: count, dtype: int64"
      ]
     },
     "execution_count": 33,
     "metadata": {},
     "output_type": "execute_result"
    }
   ],
   "source": [
    "train[\"Displaced\"]=train[\"Displaced\"].replace({1 : 'yes',\n",
    "                                               0 : 'no'})\n",
    "train[\"Displaced\"].value_counts()"
   ]
  },
  {
   "cell_type": "code",
   "execution_count": 34,
   "id": "af4722d4",
   "metadata": {
    "execution": {
     "iopub.execute_input": "2024-06-01T10:13:56.519296Z",
     "iopub.status.busy": "2024-06-01T10:13:56.518906Z",
     "iopub.status.idle": "2024-06-01T10:13:56.535968Z",
     "shell.execute_reply": "2024-06-01T10:13:56.534809Z"
    },
    "papermill": {
     "duration": 0.057699,
     "end_time": "2024-06-01T10:13:56.538860",
     "exception": false,
     "start_time": "2024-06-01T10:13:56.481161",
     "status": "completed"
    },
    "tags": []
   },
   "outputs": [
    {
     "data": {
      "text/plain": [
       "Displaced\n",
       "yes    29052\n",
       "no     21960\n",
       "Name: count, dtype: int64"
      ]
     },
     "execution_count": 34,
     "metadata": {},
     "output_type": "execute_result"
    }
   ],
   "source": [
    "test[\"Displaced\"]=test[\"Displaced\"].replace({1 : 'yes',\n",
    "                                               0 : 'no'})\n",
    "test[\"Displaced\"].value_counts()"
   ]
  },
  {
   "cell_type": "code",
   "execution_count": 35,
   "id": "170e0934",
   "metadata": {
    "execution": {
     "iopub.execute_input": "2024-06-01T10:13:56.614846Z",
     "iopub.status.busy": "2024-06-01T10:13:56.614499Z",
     "iopub.status.idle": "2024-06-01T10:13:56.633354Z",
     "shell.execute_reply": "2024-06-01T10:13:56.632228Z"
    },
    "papermill": {
     "duration": 0.059599,
     "end_time": "2024-06-01T10:13:56.635897",
     "exception": false,
     "start_time": "2024-06-01T10:13:56.576298",
     "status": "completed"
    },
    "tags": []
   },
   "outputs": [
    {
     "data": {
      "text/plain": [
       "Educational special needs\n",
       "no     76232\n",
       "yes      286\n",
       "Name: count, dtype: int64"
      ]
     },
     "execution_count": 35,
     "metadata": {},
     "output_type": "execute_result"
    }
   ],
   "source": [
    "train[\"Educational special needs\"]=train[\"Educational special needs\"].replace({1 : 'yes',\n",
    "                                               0 : 'no'})\n",
    "train[\"Educational special needs\"].value_counts()"
   ]
  },
  {
   "cell_type": "code",
   "execution_count": 36,
   "id": "75b85efb",
   "metadata": {
    "execution": {
     "iopub.execute_input": "2024-06-01T10:13:56.715287Z",
     "iopub.status.busy": "2024-06-01T10:13:56.714533Z",
     "iopub.status.idle": "2024-06-01T10:13:56.730168Z",
     "shell.execute_reply": "2024-06-01T10:13:56.729040Z"
    },
    "papermill": {
     "duration": 0.058183,
     "end_time": "2024-06-01T10:13:56.732454",
     "exception": false,
     "start_time": "2024-06-01T10:13:56.674271",
     "status": "completed"
    },
    "tags": []
   },
   "outputs": [
    {
     "data": {
      "text/plain": [
       "Educational special needs\n",
       "no     50801\n",
       "yes      211\n",
       "Name: count, dtype: int64"
      ]
     },
     "execution_count": 36,
     "metadata": {},
     "output_type": "execute_result"
    }
   ],
   "source": [
    "test[\"Educational special needs\"]=test[\"Educational special needs\"].replace({1 : 'yes',\n",
    "                                               0 : 'no'})\n",
    "test[\"Educational special needs\"].value_counts()"
   ]
  },
  {
   "cell_type": "code",
   "execution_count": 37,
   "id": "c3226749",
   "metadata": {
    "execution": {
     "iopub.execute_input": "2024-06-01T10:13:56.808947Z",
     "iopub.status.busy": "2024-06-01T10:13:56.808601Z",
     "iopub.status.idle": "2024-06-01T10:13:56.828429Z",
     "shell.execute_reply": "2024-06-01T10:13:56.827031Z"
    },
    "papermill": {
     "duration": 0.060633,
     "end_time": "2024-06-01T10:13:56.830929",
     "exception": false,
     "start_time": "2024-06-01T10:13:56.770296",
     "status": "completed"
    },
    "tags": []
   },
   "outputs": [
    {
     "data": {
      "text/plain": [
       "Debtor\n",
       "no     71056\n",
       "yes     5462\n",
       "Name: count, dtype: int64"
      ]
     },
     "execution_count": 37,
     "metadata": {},
     "output_type": "execute_result"
    }
   ],
   "source": [
    "train[\"Debtor\"]=train[\"Debtor\"].replace({1 : 'yes',\n",
    "                                               0 : 'no'})\n",
    "train[\"Debtor\"].value_counts()"
   ]
  },
  {
   "cell_type": "code",
   "execution_count": 38,
   "id": "e363045b",
   "metadata": {
    "execution": {
     "iopub.execute_input": "2024-06-01T10:13:56.907032Z",
     "iopub.status.busy": "2024-06-01T10:13:56.906071Z",
     "iopub.status.idle": "2024-06-01T10:13:56.922340Z",
     "shell.execute_reply": "2024-06-01T10:13:56.921255Z"
    },
    "papermill": {
     "duration": 0.057003,
     "end_time": "2024-06-01T10:13:56.924796",
     "exception": false,
     "start_time": "2024-06-01T10:13:56.867793",
     "status": "completed"
    },
    "tags": []
   },
   "outputs": [
    {
     "data": {
      "text/plain": [
       "Debtor\n",
       "no     47553\n",
       "yes     3459\n",
       "Name: count, dtype: int64"
      ]
     },
     "execution_count": 38,
     "metadata": {},
     "output_type": "execute_result"
    }
   ],
   "source": [
    "test[\"Debtor\"]=test[\"Debtor\"].replace({1 : 'yes',\n",
    "                                               0 : 'no'})\n",
    "test[\"Debtor\"].value_counts()"
   ]
  },
  {
   "cell_type": "code",
   "execution_count": 39,
   "id": "cbb583c3",
   "metadata": {
    "execution": {
     "iopub.execute_input": "2024-06-01T10:13:57.002444Z",
     "iopub.status.busy": "2024-06-01T10:13:57.002021Z",
     "iopub.status.idle": "2024-06-01T10:13:57.021180Z",
     "shell.execute_reply": "2024-06-01T10:13:57.020125Z"
    },
    "papermill": {
     "duration": 0.060815,
     "end_time": "2024-06-01T10:13:57.023640",
     "exception": false,
     "start_time": "2024-06-01T10:13:56.962825",
     "status": "completed"
    },
    "tags": []
   },
   "outputs": [
    {
     "data": {
      "text/plain": [
       "Tuition fees up to date\n",
       "yes    68380\n",
       "no      8138\n",
       "Name: count, dtype: int64"
      ]
     },
     "execution_count": 39,
     "metadata": {},
     "output_type": "execute_result"
    }
   ],
   "source": [
    "train[\"Tuition fees up to date\"]=train[\"Tuition fees up to date\"].replace({1 : 'yes',\n",
    "                                               0 : 'no'})\n",
    "train[\"Tuition fees up to date\"].value_counts()"
   ]
  },
  {
   "cell_type": "code",
   "execution_count": 40,
   "id": "2eb49b7c",
   "metadata": {
    "execution": {
     "iopub.execute_input": "2024-06-01T10:13:57.101460Z",
     "iopub.status.busy": "2024-06-01T10:13:57.101035Z",
     "iopub.status.idle": "2024-06-01T10:13:57.119397Z",
     "shell.execute_reply": "2024-06-01T10:13:57.118371Z"
    },
    "papermill": {
     "duration": 0.060284,
     "end_time": "2024-06-01T10:13:57.122185",
     "exception": false,
     "start_time": "2024-06-01T10:13:57.061901",
     "status": "completed"
    },
    "tags": []
   },
   "outputs": [
    {
     "data": {
      "text/plain": [
       "Tuition fees up to date\n",
       "yes    45664\n",
       "no      5348\n",
       "Name: count, dtype: int64"
      ]
     },
     "execution_count": 40,
     "metadata": {},
     "output_type": "execute_result"
    }
   ],
   "source": [
    "test[\"Tuition fees up to date\"]=test[\"Tuition fees up to date\"].replace({1 : 'yes',\n",
    "                                               0 : 'no'})\n",
    "test[\"Tuition fees up to date\"].value_counts()"
   ]
  },
  {
   "cell_type": "code",
   "execution_count": 41,
   "id": "fb871d89",
   "metadata": {
    "execution": {
     "iopub.execute_input": "2024-06-01T10:13:57.199575Z",
     "iopub.status.busy": "2024-06-01T10:13:57.199174Z",
     "iopub.status.idle": "2024-06-01T10:13:57.219321Z",
     "shell.execute_reply": "2024-06-01T10:13:57.218315Z"
    },
    "papermill": {
     "duration": 0.062056,
     "end_time": "2024-06-01T10:13:57.221671",
     "exception": false,
     "start_time": "2024-06-01T10:13:57.159615",
     "status": "completed"
    },
    "tags": []
   },
   "outputs": [
    {
     "data": {
      "text/plain": [
       "Gender\n",
       "female    52352\n",
       "male      24166\n",
       "Name: count, dtype: int64"
      ]
     },
     "execution_count": 41,
     "metadata": {},
     "output_type": "execute_result"
    }
   ],
   "source": [
    "train[\"Gender\"]=train[\"Gender\"].replace({1 : 'male',\n",
    "                                         0 : 'female'})\n",
    "train[\"Gender\"].value_counts()"
   ]
  },
  {
   "cell_type": "code",
   "execution_count": 42,
   "id": "b03a8ac8",
   "metadata": {
    "execution": {
     "iopub.execute_input": "2024-06-01T10:13:57.299830Z",
     "iopub.status.busy": "2024-06-01T10:13:57.299480Z",
     "iopub.status.idle": "2024-06-01T10:13:57.316745Z",
     "shell.execute_reply": "2024-06-01T10:13:57.315693Z"
    },
    "papermill": {
     "duration": 0.060106,
     "end_time": "2024-06-01T10:13:57.319254",
     "exception": false,
     "start_time": "2024-06-01T10:13:57.259148",
     "status": "completed"
    },
    "tags": []
   },
   "outputs": [
    {
     "data": {
      "text/plain": [
       "Gender\n",
       "female    35049\n",
       "male      15963\n",
       "Name: count, dtype: int64"
      ]
     },
     "execution_count": 42,
     "metadata": {},
     "output_type": "execute_result"
    }
   ],
   "source": [
    "test[\"Gender\"]=test[\"Gender\"].replace({1 : 'male',\n",
    "                                       0 : 'female'})\n",
    "test[\"Gender\"].value_counts()"
   ]
  },
  {
   "cell_type": "code",
   "execution_count": 43,
   "id": "5fd2777b",
   "metadata": {
    "execution": {
     "iopub.execute_input": "2024-06-01T10:13:57.397152Z",
     "iopub.status.busy": "2024-06-01T10:13:57.396777Z",
     "iopub.status.idle": "2024-06-01T10:13:57.416456Z",
     "shell.execute_reply": "2024-06-01T10:13:57.415370Z"
    },
    "papermill": {
     "duration": 0.061135,
     "end_time": "2024-06-01T10:13:57.418907",
     "exception": false,
     "start_time": "2024-06-01T10:13:57.357772",
     "status": "completed"
    },
    "tags": []
   },
   "outputs": [
    {
     "data": {
      "text/plain": [
       "Scholarship holder\n",
       "no     57588\n",
       "yes    18930\n",
       "Name: count, dtype: int64"
      ]
     },
     "execution_count": 43,
     "metadata": {},
     "output_type": "execute_result"
    }
   ],
   "source": [
    "train[\"Scholarship holder\"]=train[\"Scholarship holder\"].replace({1 : 'yes',\n",
    "                                         0 : 'no'})\n",
    "train[\"Scholarship holder\"].value_counts()"
   ]
  },
  {
   "cell_type": "code",
   "execution_count": 44,
   "id": "5822ba8a",
   "metadata": {
    "execution": {
     "iopub.execute_input": "2024-06-01T10:13:57.496903Z",
     "iopub.status.busy": "2024-06-01T10:13:57.496556Z",
     "iopub.status.idle": "2024-06-01T10:13:57.513322Z",
     "shell.execute_reply": "2024-06-01T10:13:57.512261Z"
    },
    "papermill": {
     "duration": 0.058696,
     "end_time": "2024-06-01T10:13:57.515608",
     "exception": false,
     "start_time": "2024-06-01T10:13:57.456912",
     "status": "completed"
    },
    "tags": []
   },
   "outputs": [
    {
     "data": {
      "text/plain": [
       "Scholarship holder\n",
       "no     38581\n",
       "yes    12431\n",
       "Name: count, dtype: int64"
      ]
     },
     "execution_count": 44,
     "metadata": {},
     "output_type": "execute_result"
    }
   ],
   "source": [
    "test[\"Scholarship holder\"]=test[\"Scholarship holder\"].replace({1 : 'yes',\n",
    "                                         0 : 'no'})\n",
    "test[\"Scholarship holder\"].value_counts()"
   ]
  },
  {
   "cell_type": "code",
   "execution_count": 45,
   "id": "65747f60",
   "metadata": {
    "execution": {
     "iopub.execute_input": "2024-06-01T10:13:57.593734Z",
     "iopub.status.busy": "2024-06-01T10:13:57.593347Z",
     "iopub.status.idle": "2024-06-01T10:13:57.606251Z",
     "shell.execute_reply": "2024-06-01T10:13:57.604966Z"
    },
    "papermill": {
     "duration": 0.054484,
     "end_time": "2024-06-01T10:13:57.608573",
     "exception": false,
     "start_time": "2024-06-01T10:13:57.554089",
     "status": "completed"
    },
    "tags": []
   },
   "outputs": [
    {
     "data": {
      "text/plain": [
       "count    76518.000000\n",
       "mean        22.278653\n",
       "std          6.889241\n",
       "min         17.000000\n",
       "25%         18.000000\n",
       "50%         19.000000\n",
       "75%         23.000000\n",
       "max         70.000000\n",
       "Name: Age at enrollment, dtype: float64"
      ]
     },
     "execution_count": 45,
     "metadata": {},
     "output_type": "execute_result"
    }
   ],
   "source": [
    "train['Age at enrollment'].describe()"
   ]
  },
  {
   "cell_type": "code",
   "execution_count": 46,
   "id": "181c43d6",
   "metadata": {
    "execution": {
     "iopub.execute_input": "2024-06-01T10:13:57.689496Z",
     "iopub.status.busy": "2024-06-01T10:13:57.688551Z",
     "iopub.status.idle": "2024-06-01T10:13:57.700191Z",
     "shell.execute_reply": "2024-06-01T10:13:57.699182Z"
    },
    "papermill": {
     "duration": 0.0547,
     "end_time": "2024-06-01T10:13:57.702659",
     "exception": false,
     "start_time": "2024-06-01T10:13:57.647959",
     "status": "completed"
    },
    "tags": []
   },
   "outputs": [
    {
     "data": {
      "text/plain": [
       "count    51012.000000\n",
       "mean        22.206971\n",
       "std          6.760468\n",
       "min         17.000000\n",
       "25%         18.000000\n",
       "50%         19.000000\n",
       "75%         23.000000\n",
       "max         70.000000\n",
       "Name: Age at enrollment, dtype: float64"
      ]
     },
     "execution_count": 46,
     "metadata": {},
     "output_type": "execute_result"
    }
   ],
   "source": [
    "test['Age at enrollment'].describe()"
   ]
  },
  {
   "cell_type": "code",
   "execution_count": 47,
   "id": "16074255",
   "metadata": {
    "execution": {
     "iopub.execute_input": "2024-06-01T10:13:57.781064Z",
     "iopub.status.busy": "2024-06-01T10:13:57.780707Z",
     "iopub.status.idle": "2024-06-01T10:13:57.850426Z",
     "shell.execute_reply": "2024-06-01T10:13:57.849328Z"
    },
    "papermill": {
     "duration": 0.111626,
     "end_time": "2024-06-01T10:13:57.853020",
     "exception": false,
     "start_time": "2024-06-01T10:13:57.741394",
     "status": "completed"
    },
    "tags": []
   },
   "outputs": [
    {
     "name": "stdout",
     "output_type": "stream",
     "text": [
      "<class 'pandas.core.frame.DataFrame'>\n",
      "RangeIndex: 76518 entries, 0 to 76517\n",
      "Data columns (total 37 columns):\n",
      " #   Column                                          Non-Null Count  Dtype  \n",
      "---  ------                                          --------------  -----  \n",
      " 0   Marital status                                  76518 non-null  object \n",
      " 1   Application mode                                76518 non-null  object \n",
      " 2   Application order                               76518 non-null  int64  \n",
      " 3   Course                                          76518 non-null  object \n",
      " 4   Daytime/evening attendance                      76518 non-null  object \n",
      " 5   Previous qualification                          76518 non-null  object \n",
      " 6   Previous qualification (grade)                  76518 non-null  float64\n",
      " 7   Nationality                                     76518 non-null  object \n",
      " 8   Mother's qualification                          76518 non-null  object \n",
      " 9   Father's qualification                          76518 non-null  object \n",
      " 10  Mother's occupation                             76518 non-null  int64  \n",
      " 11  Father's occupation                             76518 non-null  int64  \n",
      " 12  Admission grade                                 76518 non-null  int64  \n",
      " 13  Displaced                                       76518 non-null  object \n",
      " 14  Educational special needs                       76518 non-null  object \n",
      " 15  Debtor                                          76518 non-null  object \n",
      " 16  Tuition fees up to date                         76518 non-null  object \n",
      " 17  Gender                                          76518 non-null  object \n",
      " 18  Scholarship holder                              76518 non-null  object \n",
      " 19  Age at enrollment                               76518 non-null  int64  \n",
      " 20  International                                   76518 non-null  int64  \n",
      " 21  Curricular units 1st sem (credited)             76518 non-null  int64  \n",
      " 22  Curricular units 1st sem (enrolled)             76518 non-null  int64  \n",
      " 23  Curricular units 1st sem (evaluations)          76518 non-null  int64  \n",
      " 24  Curricular units 1st sem (approved)             76518 non-null  int64  \n",
      " 25  Curricular units 1st sem (grade)                76518 non-null  float64\n",
      " 26  Curricular units 1st sem (without evaluations)  76518 non-null  int64  \n",
      " 27  Curricular units 2nd sem (credited)             76518 non-null  int64  \n",
      " 28  Curricular units 2nd sem (enrolled)             76518 non-null  int64  \n",
      " 29  Curricular units 2nd sem (evaluations)          76518 non-null  int64  \n",
      " 30  Curricular units 2nd sem (approved)             76518 non-null  int64  \n",
      " 31  Curricular units 2nd sem (grade)                76518 non-null  float64\n",
      " 32  Curricular units 2nd sem (without evaluations)  76518 non-null  int64  \n",
      " 33  Unemployment rate                               76518 non-null  float64\n",
      " 34  Inflation rate                                  76518 non-null  float64\n",
      " 35  GDP                                             76518 non-null  float64\n",
      " 36  Target                                          76518 non-null  object \n",
      "dtypes: float64(6), int64(16), object(15)\n",
      "memory usage: 21.6+ MB\n"
     ]
    }
   ],
   "source": [
    "train['Age at enrollment']=train['Age at enrollment'].astype('int')\n",
    "train.info()"
   ]
  },
  {
   "cell_type": "code",
   "execution_count": 48,
   "id": "c4f2f4f7",
   "metadata": {
    "execution": {
     "iopub.execute_input": "2024-06-01T10:13:57.932560Z",
     "iopub.status.busy": "2024-06-01T10:13:57.932179Z",
     "iopub.status.idle": "2024-06-01T10:13:57.982063Z",
     "shell.execute_reply": "2024-06-01T10:13:57.980898Z"
    },
    "papermill": {
     "duration": 0.093044,
     "end_time": "2024-06-01T10:13:57.984786",
     "exception": false,
     "start_time": "2024-06-01T10:13:57.891742",
     "status": "completed"
    },
    "tags": []
   },
   "outputs": [
    {
     "name": "stdout",
     "output_type": "stream",
     "text": [
      "<class 'pandas.core.frame.DataFrame'>\n",
      "RangeIndex: 51012 entries, 0 to 51011\n",
      "Data columns (total 36 columns):\n",
      " #   Column                                          Non-Null Count  Dtype  \n",
      "---  ------                                          --------------  -----  \n",
      " 0   Marital status                                  51012 non-null  object \n",
      " 1   Application mode                                51012 non-null  object \n",
      " 2   Application order                               51012 non-null  int64  \n",
      " 3   Course                                          51012 non-null  object \n",
      " 4   Daytime/evening attendance                      51012 non-null  object \n",
      " 5   Previous qualification                          51012 non-null  object \n",
      " 6   Previous qualification (grade)                  51012 non-null  float64\n",
      " 7   Nationality                                     51012 non-null  object \n",
      " 8   Mother's qualification                          51012 non-null  object \n",
      " 9   Father's qualification                          51012 non-null  object \n",
      " 10  Mother's occupation                             51012 non-null  int64  \n",
      " 11  Father's occupation                             51012 non-null  int64  \n",
      " 12  Admission grade                                 51012 non-null  int64  \n",
      " 13  Displaced                                       51012 non-null  object \n",
      " 14  Educational special needs                       51012 non-null  object \n",
      " 15  Debtor                                          51012 non-null  object \n",
      " 16  Tuition fees up to date                         51012 non-null  object \n",
      " 17  Gender                                          51012 non-null  object \n",
      " 18  Scholarship holder                              51012 non-null  object \n",
      " 19  Age at enrollment                               51012 non-null  int64  \n",
      " 20  International                                   51012 non-null  int64  \n",
      " 21  Curricular units 1st sem (credited)             51012 non-null  int64  \n",
      " 22  Curricular units 1st sem (enrolled)             51012 non-null  int64  \n",
      " 23  Curricular units 1st sem (evaluations)          51012 non-null  int64  \n",
      " 24  Curricular units 1st sem (approved)             51012 non-null  int64  \n",
      " 25  Curricular units 1st sem (grade)                51012 non-null  float64\n",
      " 26  Curricular units 1st sem (without evaluations)  51012 non-null  int64  \n",
      " 27  Curricular units 2nd sem (credited)             51012 non-null  int64  \n",
      " 28  Curricular units 2nd sem (enrolled)             51012 non-null  int64  \n",
      " 29  Curricular units 2nd sem (evaluations)          51012 non-null  int64  \n",
      " 30  Curricular units 2nd sem (approved)             51012 non-null  int64  \n",
      " 31  Curricular units 2nd sem (grade)                51012 non-null  float64\n",
      " 32  Curricular units 2nd sem (without evaluations)  51012 non-null  int64  \n",
      " 33  Unemployment rate                               51012 non-null  float64\n",
      " 34  Inflation rate                                  51012 non-null  float64\n",
      " 35  GDP                                             51012 non-null  float64\n",
      "dtypes: float64(6), int64(16), object(14)\n",
      "memory usage: 14.0+ MB\n"
     ]
    }
   ],
   "source": [
    "test['Age at enrollment']=test['Age at enrollment'].astype('int')\n",
    "test.info()"
   ]
  },
  {
   "cell_type": "code",
   "execution_count": 49,
   "id": "68795892",
   "metadata": {
    "execution": {
     "iopub.execute_input": "2024-06-01T10:13:58.064770Z",
     "iopub.status.busy": "2024-06-01T10:13:58.064412Z",
     "iopub.status.idle": "2024-06-01T10:13:58.083131Z",
     "shell.execute_reply": "2024-06-01T10:13:58.082161Z"
    },
    "papermill": {
     "duration": 0.061327,
     "end_time": "2024-06-01T10:13:58.085727",
     "exception": false,
     "start_time": "2024-06-01T10:13:58.024400",
     "status": "completed"
    },
    "tags": []
   },
   "outputs": [
    {
     "data": {
      "text/plain": [
       "International\n",
       "no     76011\n",
       "yes      507\n",
       "Name: count, dtype: int64"
      ]
     },
     "execution_count": 49,
     "metadata": {},
     "output_type": "execute_result"
    }
   ],
   "source": [
    "train[\"International\"]=train[\"International\"].replace({1 : 'yes',\n",
    "                                                       0 : 'no'})\n",
    "train[\"International\"].value_counts()"
   ]
  },
  {
   "cell_type": "code",
   "execution_count": 50,
   "id": "09d0465e",
   "metadata": {
    "execution": {
     "iopub.execute_input": "2024-06-01T10:13:58.166378Z",
     "iopub.status.busy": "2024-06-01T10:13:58.165857Z",
     "iopub.status.idle": "2024-06-01T10:13:58.182977Z",
     "shell.execute_reply": "2024-06-01T10:13:58.181912Z"
    },
    "papermill": {
     "duration": 0.060145,
     "end_time": "2024-06-01T10:13:58.185428",
     "exception": false,
     "start_time": "2024-06-01T10:13:58.125283",
     "status": "completed"
    },
    "tags": []
   },
   "outputs": [
    {
     "data": {
      "text/plain": [
       "International\n",
       "no     50717\n",
       "yes      295\n",
       "Name: count, dtype: int64"
      ]
     },
     "execution_count": 50,
     "metadata": {},
     "output_type": "execute_result"
    }
   ],
   "source": [
    "test[\"International\"]=test[\"International\"].replace({1 : 'yes',\n",
    "                                                     0 : 'no'})\n",
    "test[\"International\"].value_counts()"
   ]
  },
  {
   "cell_type": "code",
   "execution_count": 51,
   "id": "0aba73e8",
   "metadata": {
    "execution": {
     "iopub.execute_input": "2024-06-01T10:13:58.264824Z",
     "iopub.status.busy": "2024-06-01T10:13:58.264031Z",
     "iopub.status.idle": "2024-06-01T10:13:58.275682Z",
     "shell.execute_reply": "2024-06-01T10:13:58.274629Z"
    },
    "papermill": {
     "duration": 0.053731,
     "end_time": "2024-06-01T10:13:58.277999",
     "exception": false,
     "start_time": "2024-06-01T10:13:58.224268",
     "status": "completed"
    },
    "tags": []
   },
   "outputs": [
    {
     "data": {
      "text/plain": [
       "count    76518.000000\n",
       "mean         0.188871\n",
       "std          1.175296\n",
       "min          0.000000\n",
       "25%          0.000000\n",
       "50%          0.000000\n",
       "75%          0.000000\n",
       "max         20.000000\n",
       "Name: Curricular units 1st sem (credited), dtype: float64"
      ]
     },
     "execution_count": 51,
     "metadata": {},
     "output_type": "execute_result"
    }
   ],
   "source": [
    "train['Curricular units 1st sem (credited)'].describe()"
   ]
  },
  {
   "cell_type": "code",
   "execution_count": 52,
   "id": "f843967a",
   "metadata": {
    "execution": {
     "iopub.execute_input": "2024-06-01T10:13:58.357642Z",
     "iopub.status.busy": "2024-06-01T10:13:58.357254Z",
     "iopub.status.idle": "2024-06-01T10:13:58.368216Z",
     "shell.execute_reply": "2024-06-01T10:13:58.367254Z"
    },
    "papermill": {
     "duration": 0.053382,
     "end_time": "2024-06-01T10:13:58.370414",
     "exception": false,
     "start_time": "2024-06-01T10:13:58.317032",
     "status": "completed"
    },
    "tags": []
   },
   "outputs": [
    {
     "data": {
      "text/plain": [
       "count    51012.000000\n",
       "mean         0.182055\n",
       "std          1.145390\n",
       "min          0.000000\n",
       "25%          0.000000\n",
       "50%          0.000000\n",
       "75%          0.000000\n",
       "max         20.000000\n",
       "Name: Curricular units 1st sem (credited), dtype: float64"
      ]
     },
     "execution_count": 52,
     "metadata": {},
     "output_type": "execute_result"
    }
   ],
   "source": [
    "test['Curricular units 1st sem (credited)'].describe()"
   ]
  },
  {
   "cell_type": "code",
   "execution_count": 53,
   "id": "0a60e945",
   "metadata": {
    "execution": {
     "iopub.execute_input": "2024-06-01T10:13:58.449916Z",
     "iopub.status.busy": "2024-06-01T10:13:58.449544Z",
     "iopub.status.idle": "2024-06-01T10:13:58.461537Z",
     "shell.execute_reply": "2024-06-01T10:13:58.460370Z"
    },
    "papermill": {
     "duration": 0.054316,
     "end_time": "2024-06-01T10:13:58.463721",
     "exception": false,
     "start_time": "2024-06-01T10:13:58.409405",
     "status": "completed"
    },
    "tags": []
   },
   "outputs": [
    {
     "data": {
      "text/plain": [
       "count    76518.000000\n",
       "mean         5.891516\n",
       "std          1.671776\n",
       "min          0.000000\n",
       "25%          5.000000\n",
       "50%          6.000000\n",
       "75%          6.000000\n",
       "max         26.000000\n",
       "Name: Curricular units 1st sem (enrolled), dtype: float64"
      ]
     },
     "execution_count": 53,
     "metadata": {},
     "output_type": "execute_result"
    }
   ],
   "source": [
    "train['Curricular units 1st sem (enrolled)'].describe()"
   ]
  },
  {
   "cell_type": "code",
   "execution_count": 54,
   "id": "2d4bfcb0",
   "metadata": {
    "execution": {
     "iopub.execute_input": "2024-06-01T10:13:58.543985Z",
     "iopub.status.busy": "2024-06-01T10:13:58.542979Z",
     "iopub.status.idle": "2024-06-01T10:13:58.555184Z",
     "shell.execute_reply": "2024-06-01T10:13:58.554075Z"
    },
    "papermill": {
     "duration": 0.054796,
     "end_time": "2024-06-01T10:13:58.557661",
     "exception": false,
     "start_time": "2024-06-01T10:13:58.502865",
     "status": "completed"
    },
    "tags": []
   },
   "outputs": [
    {
     "data": {
      "text/plain": [
       "count    51012.000000\n",
       "mean         5.903376\n",
       "std          1.639316\n",
       "min          0.000000\n",
       "25%          5.000000\n",
       "50%          6.000000\n",
       "75%          6.000000\n",
       "max         23.000000\n",
       "Name: Curricular units 1st sem (enrolled), dtype: float64"
      ]
     },
     "execution_count": 54,
     "metadata": {},
     "output_type": "execute_result"
    }
   ],
   "source": [
    "test['Curricular units 1st sem (enrolled)'].describe()"
   ]
  },
  {
   "cell_type": "code",
   "execution_count": 55,
   "id": "657b8fb0",
   "metadata": {
    "execution": {
     "iopub.execute_input": "2024-06-01T10:13:58.644650Z",
     "iopub.status.busy": "2024-06-01T10:13:58.644189Z",
     "iopub.status.idle": "2024-06-01T10:13:58.662137Z",
     "shell.execute_reply": "2024-06-01T10:13:58.660410Z"
    },
    "papermill": {
     "duration": 0.068277,
     "end_time": "2024-06-01T10:13:58.665404",
     "exception": false,
     "start_time": "2024-06-01T10:13:58.597127",
     "status": "completed"
    },
    "tags": []
   },
   "outputs": [
    {
     "data": {
      "text/plain": [
       "count    76518.000000\n",
       "mean         7.352362\n",
       "std          3.508292\n",
       "min          0.000000\n",
       "25%          6.000000\n",
       "50%          7.000000\n",
       "75%          9.000000\n",
       "max         45.000000\n",
       "Name: Curricular units 1st sem (evaluations), dtype: float64"
      ]
     },
     "execution_count": 55,
     "metadata": {},
     "output_type": "execute_result"
    }
   ],
   "source": [
    "train['Curricular units 1st sem (evaluations)'].describe()"
   ]
  },
  {
   "cell_type": "code",
   "execution_count": 56,
   "id": "5ad676f7",
   "metadata": {
    "execution": {
     "iopub.execute_input": "2024-06-01T10:13:58.757953Z",
     "iopub.status.busy": "2024-06-01T10:13:58.757587Z",
     "iopub.status.idle": "2024-06-01T10:13:58.771718Z",
     "shell.execute_reply": "2024-06-01T10:13:58.770258Z"
    },
    "papermill": {
     "duration": 0.067304,
     "end_time": "2024-06-01T10:13:58.775377",
     "exception": false,
     "start_time": "2024-06-01T10:13:58.708073",
     "status": "completed"
    },
    "tags": []
   },
   "outputs": [
    {
     "data": {
      "text/plain": [
       "count    51012.000000\n",
       "mean         7.392417\n",
       "std          3.458179\n",
       "min          0.000000\n",
       "25%          6.000000\n",
       "50%          7.000000\n",
       "75%          9.000000\n",
       "max         45.000000\n",
       "Name: Curricular units 1st sem (evaluations), dtype: float64"
      ]
     },
     "execution_count": 56,
     "metadata": {},
     "output_type": "execute_result"
    }
   ],
   "source": [
    "test['Curricular units 1st sem (evaluations)'].describe()"
   ]
  },
  {
   "cell_type": "code",
   "execution_count": 57,
   "id": "518b9cfa",
   "metadata": {
    "execution": {
     "iopub.execute_input": "2024-06-01T10:13:58.865547Z",
     "iopub.status.busy": "2024-06-01T10:13:58.865079Z",
     "iopub.status.idle": "2024-06-01T10:13:58.878169Z",
     "shell.execute_reply": "2024-06-01T10:13:58.877141Z"
    },
    "papermill": {
     "duration": 0.055863,
     "end_time": "2024-06-01T10:13:58.880421",
     "exception": false,
     "start_time": "2024-06-01T10:13:58.824558",
     "status": "completed"
    },
    "tags": []
   },
   "outputs": [
    {
     "data": {
      "text/plain": [
       "count    76518.000000\n",
       "mean         4.178520\n",
       "std          2.687995\n",
       "min          0.000000\n",
       "25%          2.000000\n",
       "50%          5.000000\n",
       "75%          6.000000\n",
       "max         26.000000\n",
       "Name: Curricular units 1st sem (approved), dtype: float64"
      ]
     },
     "execution_count": 57,
     "metadata": {},
     "output_type": "execute_result"
    }
   ],
   "source": [
    "train['Curricular units 1st sem (approved)'].describe()"
   ]
  },
  {
   "cell_type": "code",
   "execution_count": 58,
   "id": "f0814e6c",
   "metadata": {
    "execution": {
     "iopub.execute_input": "2024-06-01T10:13:58.961656Z",
     "iopub.status.busy": "2024-06-01T10:13:58.961228Z",
     "iopub.status.idle": "2024-06-01T10:13:58.973919Z",
     "shell.execute_reply": "2024-06-01T10:13:58.972904Z"
    },
    "papermill": {
     "duration": 0.05603,
     "end_time": "2024-06-01T10:13:58.976437",
     "exception": false,
     "start_time": "2024-06-01T10:13:58.920407",
     "status": "completed"
    },
    "tags": []
   },
   "outputs": [
    {
     "data": {
      "text/plain": [
       "count    51012.000000\n",
       "mean         4.217655\n",
       "std          2.666393\n",
       "min          0.000000\n",
       "25%          2.000000\n",
       "50%          5.000000\n",
       "75%          6.000000\n",
       "max         23.000000\n",
       "Name: Curricular units 1st sem (approved), dtype: float64"
      ]
     },
     "execution_count": 58,
     "metadata": {},
     "output_type": "execute_result"
    }
   ],
   "source": [
    "test['Curricular units 1st sem (approved)'].describe()"
   ]
  },
  {
   "cell_type": "code",
   "execution_count": 59,
   "id": "7c2a0f69",
   "metadata": {
    "execution": {
     "iopub.execute_input": "2024-06-01T10:13:59.058792Z",
     "iopub.status.busy": "2024-06-01T10:13:59.058415Z",
     "iopub.status.idle": "2024-06-01T10:13:59.072381Z",
     "shell.execute_reply": "2024-06-01T10:13:59.071214Z"
    },
    "papermill": {
     "duration": 0.058145,
     "end_time": "2024-06-01T10:13:59.074923",
     "exception": false,
     "start_time": "2024-06-01T10:13:59.016778",
     "status": "completed"
    },
    "tags": []
   },
   "outputs": [
    {
     "data": {
      "text/plain": [
       "count    76518.000000\n",
       "mean         9.995862\n",
       "std          5.264224\n",
       "min          0.000000\n",
       "25%         10.666667\n",
       "50%         12.166667\n",
       "75%         13.314286\n",
       "max         18.875000\n",
       "Name: Curricular units 1st sem (grade), dtype: float64"
      ]
     },
     "execution_count": 59,
     "metadata": {},
     "output_type": "execute_result"
    }
   ],
   "source": [
    "train['Curricular units 1st sem (grade)'].describe()"
   ]
  },
  {
   "cell_type": "code",
   "execution_count": 60,
   "id": "8f90ac0b",
   "metadata": {
    "execution": {
     "iopub.execute_input": "2024-06-01T10:13:59.157962Z",
     "iopub.status.busy": "2024-06-01T10:13:59.157606Z",
     "iopub.status.idle": "2024-06-01T10:13:59.170573Z",
     "shell.execute_reply": "2024-06-01T10:13:59.169435Z"
    },
    "papermill": {
     "duration": 0.056673,
     "end_time": "2024-06-01T10:13:59.173043",
     "exception": false,
     "start_time": "2024-06-01T10:13:59.116370",
     "status": "completed"
    },
    "tags": []
   },
   "outputs": [
    {
     "data": {
      "text/plain": [
       "count    51012.000000\n",
       "mean        10.088485\n",
       "std          5.215587\n",
       "min          0.000000\n",
       "25%         10.750000\n",
       "50%         12.200000\n",
       "75%         13.333333\n",
       "max         18.875000\n",
       "Name: Curricular units 1st sem (grade), dtype: float64"
      ]
     },
     "execution_count": 60,
     "metadata": {},
     "output_type": "execute_result"
    }
   ],
   "source": [
    "test['Curricular units 1st sem (grade)'].describe()"
   ]
  },
  {
   "cell_type": "code",
   "execution_count": 61,
   "id": "1b964930",
   "metadata": {
    "execution": {
     "iopub.execute_input": "2024-06-01T10:13:59.254878Z",
     "iopub.status.busy": "2024-06-01T10:13:59.254054Z",
     "iopub.status.idle": "2024-06-01T10:13:59.266006Z",
     "shell.execute_reply": "2024-06-01T10:13:59.264937Z"
    },
    "papermill": {
     "duration": 0.055501,
     "end_time": "2024-06-01T10:13:59.268398",
     "exception": false,
     "start_time": "2024-06-01T10:13:59.212897",
     "status": "completed"
    },
    "tags": []
   },
   "outputs": [
    {
     "data": {
      "text/plain": [
       "count    76518.00000\n",
       "mean         0.05796\n",
       "std          0.40849\n",
       "min          0.00000\n",
       "25%          0.00000\n",
       "50%          0.00000\n",
       "75%          0.00000\n",
       "max         12.00000\n",
       "Name: Curricular units 1st sem (without evaluations), dtype: float64"
      ]
     },
     "execution_count": 61,
     "metadata": {},
     "output_type": "execute_result"
    }
   ],
   "source": [
    "train['Curricular units 1st sem (without evaluations)'].describe()"
   ]
  },
  {
   "cell_type": "code",
   "execution_count": 62,
   "id": "cec40ae8",
   "metadata": {
    "execution": {
     "iopub.execute_input": "2024-06-01T10:13:59.350440Z",
     "iopub.status.busy": "2024-06-01T10:13:59.350039Z",
     "iopub.status.idle": "2024-06-01T10:13:59.361307Z",
     "shell.execute_reply": "2024-06-01T10:13:59.360224Z"
    },
    "papermill": {
     "duration": 0.055483,
     "end_time": "2024-06-01T10:13:59.363723",
     "exception": false,
     "start_time": "2024-06-01T10:13:59.308240",
     "status": "completed"
    },
    "tags": []
   },
   "outputs": [
    {
     "data": {
      "text/plain": [
       "count    51012.000000\n",
       "mean         0.057810\n",
       "std          0.403434\n",
       "min          0.000000\n",
       "25%          0.000000\n",
       "50%          0.000000\n",
       "75%          0.000000\n",
       "max         12.000000\n",
       "Name: Curricular units 1st sem (without evaluations), dtype: float64"
      ]
     },
     "execution_count": 62,
     "metadata": {},
     "output_type": "execute_result"
    }
   ],
   "source": [
    "test['Curricular units 1st sem (without evaluations)'].describe()"
   ]
  },
  {
   "cell_type": "code",
   "execution_count": 63,
   "id": "f44eaf0f",
   "metadata": {
    "execution": {
     "iopub.execute_input": "2024-06-01T10:13:59.445513Z",
     "iopub.status.busy": "2024-06-01T10:13:59.445092Z",
     "iopub.status.idle": "2024-06-01T10:13:59.456603Z",
     "shell.execute_reply": "2024-06-01T10:13:59.455613Z"
    },
    "papermill": {
     "duration": 0.054953,
     "end_time": "2024-06-01T10:13:59.458855",
     "exception": false,
     "start_time": "2024-06-01T10:13:59.403902",
     "status": "completed"
    },
    "tags": []
   },
   "outputs": [
    {
     "data": {
      "text/plain": [
       "count    76518.000000\n",
       "mean         0.137053\n",
       "std          0.933830\n",
       "min          0.000000\n",
       "25%          0.000000\n",
       "50%          0.000000\n",
       "75%          0.000000\n",
       "max         19.000000\n",
       "Name: Curricular units 2nd sem (credited), dtype: float64"
      ]
     },
     "execution_count": 63,
     "metadata": {},
     "output_type": "execute_result"
    }
   ],
   "source": [
    "train['Curricular units 2nd sem (credited)'].describe()"
   ]
  },
  {
   "cell_type": "code",
   "execution_count": 64,
   "id": "0ffb20cf",
   "metadata": {
    "execution": {
     "iopub.execute_input": "2024-06-01T10:13:59.551136Z",
     "iopub.status.busy": "2024-06-01T10:13:59.549940Z",
     "iopub.status.idle": "2024-06-01T10:13:59.563478Z",
     "shell.execute_reply": "2024-06-01T10:13:59.562173Z"
    },
    "papermill": {
     "duration": 0.066031,
     "end_time": "2024-06-01T10:13:59.565956",
     "exception": false,
     "start_time": "2024-06-01T10:13:59.499925",
     "status": "completed"
    },
    "tags": []
   },
   "outputs": [
    {
     "data": {
      "text/plain": [
       "count    51012.000000\n",
       "mean         0.129283\n",
       "std          0.877250\n",
       "min          0.000000\n",
       "25%          0.000000\n",
       "50%          0.000000\n",
       "75%          0.000000\n",
       "max         19.000000\n",
       "Name: Curricular units 2nd sem (credited), dtype: float64"
      ]
     },
     "execution_count": 64,
     "metadata": {},
     "output_type": "execute_result"
    }
   ],
   "source": [
    "test['Curricular units 2nd sem (credited)'].describe()"
   ]
  },
  {
   "cell_type": "code",
   "execution_count": 65,
   "id": "9bc4537e",
   "metadata": {
    "execution": {
     "iopub.execute_input": "2024-06-01T10:13:59.651709Z",
     "iopub.status.busy": "2024-06-01T10:13:59.651354Z",
     "iopub.status.idle": "2024-06-01T10:13:59.666130Z",
     "shell.execute_reply": "2024-06-01T10:13:59.664948Z"
    },
    "papermill": {
     "duration": 0.05901,
     "end_time": "2024-06-01T10:13:59.668686",
     "exception": false,
     "start_time": "2024-06-01T10:13:59.609676",
     "status": "completed"
    },
    "tags": []
   },
   "outputs": [
    {
     "data": {
      "text/plain": [
       "count    76518.000000\n",
       "mean         5.933414\n",
       "std          1.627182\n",
       "min          0.000000\n",
       "25%          5.000000\n",
       "50%          6.000000\n",
       "75%          6.000000\n",
       "max         23.000000\n",
       "Name: Curricular units 2nd sem (enrolled), dtype: float64"
      ]
     },
     "execution_count": 65,
     "metadata": {},
     "output_type": "execute_result"
    }
   ],
   "source": [
    "train['Curricular units 2nd sem (enrolled)'].describe()"
   ]
  },
  {
   "cell_type": "code",
   "execution_count": 66,
   "id": "51880b62",
   "metadata": {
    "execution": {
     "iopub.execute_input": "2024-06-01T10:13:59.752011Z",
     "iopub.status.busy": "2024-06-01T10:13:59.751620Z",
     "iopub.status.idle": "2024-06-01T10:13:59.763543Z",
     "shell.execute_reply": "2024-06-01T10:13:59.762500Z"
    },
    "papermill": {
     "duration": 0.056296,
     "end_time": "2024-06-01T10:13:59.766009",
     "exception": false,
     "start_time": "2024-06-01T10:13:59.709713",
     "status": "completed"
    },
    "tags": []
   },
   "outputs": [
    {
     "data": {
      "text/plain": [
       "count    51012.000000\n",
       "mean         5.944131\n",
       "std          1.599746\n",
       "min          0.000000\n",
       "25%          5.000000\n",
       "50%          6.000000\n",
       "75%          6.000000\n",
       "max         23.000000\n",
       "Name: Curricular units 2nd sem (enrolled), dtype: float64"
      ]
     },
     "execution_count": 66,
     "metadata": {},
     "output_type": "execute_result"
    }
   ],
   "source": [
    "test['Curricular units 2nd sem (enrolled)'].describe()"
   ]
  },
  {
   "cell_type": "code",
   "execution_count": 67,
   "id": "97e30334",
   "metadata": {
    "execution": {
     "iopub.execute_input": "2024-06-01T10:13:59.850856Z",
     "iopub.status.busy": "2024-06-01T10:13:59.850238Z",
     "iopub.status.idle": "2024-06-01T10:13:59.862777Z",
     "shell.execute_reply": "2024-06-01T10:13:59.861564Z"
    },
    "papermill": {
     "duration": 0.057223,
     "end_time": "2024-06-01T10:13:59.864948",
     "exception": false,
     "start_time": "2024-06-01T10:13:59.807725",
     "status": "completed"
    },
    "tags": []
   },
   "outputs": [
    {
     "data": {
      "text/plain": [
       "count    76518.000000\n",
       "mean         7.234468\n",
       "std          3.503040\n",
       "min          0.000000\n",
       "25%          6.000000\n",
       "50%          7.000000\n",
       "75%          9.000000\n",
       "max         33.000000\n",
       "Name: Curricular units 2nd sem (evaluations), dtype: float64"
      ]
     },
     "execution_count": 67,
     "metadata": {},
     "output_type": "execute_result"
    }
   ],
   "source": [
    "train['Curricular units 2nd sem (evaluations)'].describe()"
   ]
  },
  {
   "cell_type": "code",
   "execution_count": 68,
   "id": "1b853728",
   "metadata": {
    "execution": {
     "iopub.execute_input": "2024-06-01T10:13:59.948604Z",
     "iopub.status.busy": "2024-06-01T10:13:59.947594Z",
     "iopub.status.idle": "2024-06-01T10:13:59.960832Z",
     "shell.execute_reply": "2024-06-01T10:13:59.959298Z"
    },
    "papermill": {
     "duration": 0.05817,
     "end_time": "2024-06-01T10:13:59.963730",
     "exception": false,
     "start_time": "2024-06-01T10:13:59.905560",
     "status": "completed"
    },
    "tags": []
   },
   "outputs": [
    {
     "data": {
      "text/plain": [
       "count    51012.000000\n",
       "mean         7.274092\n",
       "std          3.433149\n",
       "min          0.000000\n",
       "25%          6.000000\n",
       "50%          8.000000\n",
       "75%          9.000000\n",
       "max         33.000000\n",
       "Name: Curricular units 2nd sem (evaluations), dtype: float64"
      ]
     },
     "execution_count": 68,
     "metadata": {},
     "output_type": "execute_result"
    }
   ],
   "source": [
    "test['Curricular units 2nd sem (evaluations)'].describe()"
   ]
  },
  {
   "cell_type": "code",
   "execution_count": 69,
   "id": "51362cfd",
   "metadata": {
    "execution": {
     "iopub.execute_input": "2024-06-01T10:14:00.058915Z",
     "iopub.status.busy": "2024-06-01T10:14:00.058512Z",
     "iopub.status.idle": "2024-06-01T10:14:00.071273Z",
     "shell.execute_reply": "2024-06-01T10:14:00.070263Z"
    },
    "papermill": {
     "duration": 0.060936,
     "end_time": "2024-06-01T10:14:00.073608",
     "exception": false,
     "start_time": "2024-06-01T10:14:00.012672",
     "status": "completed"
    },
    "tags": []
   },
   "outputs": [
    {
     "data": {
      "text/plain": [
       "count    76518.000000\n",
       "mean         4.007201\n",
       "std          2.772956\n",
       "min          0.000000\n",
       "25%          1.000000\n",
       "50%          5.000000\n",
       "75%          6.000000\n",
       "max         20.000000\n",
       "Name: Curricular units 2nd sem (approved), dtype: float64"
      ]
     },
     "execution_count": 69,
     "metadata": {},
     "output_type": "execute_result"
    }
   ],
   "source": [
    "train['Curricular units 2nd sem (approved)'].describe()"
   ]
  },
  {
   "cell_type": "code",
   "execution_count": 70,
   "id": "32ce4f75",
   "metadata": {
    "execution": {
     "iopub.execute_input": "2024-06-01T10:14:00.157558Z",
     "iopub.status.busy": "2024-06-01T10:14:00.157144Z",
     "iopub.status.idle": "2024-06-01T10:14:00.169002Z",
     "shell.execute_reply": "2024-06-01T10:14:00.167923Z"
    },
    "papermill": {
     "duration": 0.056619,
     "end_time": "2024-06-01T10:14:00.171355",
     "exception": false,
     "start_time": "2024-06-01T10:14:00.114736",
     "status": "completed"
    },
    "tags": []
   },
   "outputs": [
    {
     "data": {
      "text/plain": [
       "count    51012.000000\n",
       "mean         4.039697\n",
       "std          2.749871\n",
       "min          0.000000\n",
       "25%          1.000000\n",
       "50%          5.000000\n",
       "75%          6.000000\n",
       "max         20.000000\n",
       "Name: Curricular units 2nd sem (approved), dtype: float64"
      ]
     },
     "execution_count": 70,
     "metadata": {},
     "output_type": "execute_result"
    }
   ],
   "source": [
    "test['Curricular units 2nd sem (approved)'].describe()"
   ]
  },
  {
   "cell_type": "code",
   "execution_count": 71,
   "id": "a6268a49",
   "metadata": {
    "execution": {
     "iopub.execute_input": "2024-06-01T10:14:00.255211Z",
     "iopub.status.busy": "2024-06-01T10:14:00.254835Z",
     "iopub.status.idle": "2024-06-01T10:14:00.268582Z",
     "shell.execute_reply": "2024-06-01T10:14:00.267588Z"
    },
    "papermill": {
     "duration": 0.058375,
     "end_time": "2024-06-01T10:14:00.270907",
     "exception": false,
     "start_time": "2024-06-01T10:14:00.212532",
     "status": "completed"
    },
    "tags": []
   },
   "outputs": [
    {
     "data": {
      "text/plain": [
       "count    76518.000000\n",
       "mean         9.626085\n",
       "std          5.546035\n",
       "min          0.000000\n",
       "25%         10.000000\n",
       "50%         12.142857\n",
       "75%         13.244048\n",
       "max         18.000000\n",
       "Name: Curricular units 2nd sem (grade), dtype: float64"
      ]
     },
     "execution_count": 71,
     "metadata": {},
     "output_type": "execute_result"
    }
   ],
   "source": [
    "train['Curricular units 2nd sem (grade)'].describe()"
   ]
  },
  {
   "cell_type": "code",
   "execution_count": 72,
   "id": "ce795f8c",
   "metadata": {
    "execution": {
     "iopub.execute_input": "2024-06-01T10:14:00.355655Z",
     "iopub.status.busy": "2024-06-01T10:14:00.355288Z",
     "iopub.status.idle": "2024-06-01T10:14:00.367613Z",
     "shell.execute_reply": "2024-06-01T10:14:00.366508Z"
    },
    "papermill": {
     "duration": 0.057542,
     "end_time": "2024-06-01T10:14:00.370076",
     "exception": false,
     "start_time": "2024-06-01T10:14:00.312534",
     "status": "completed"
    },
    "tags": []
   },
   "outputs": [
    {
     "data": {
      "text/plain": [
       "count    51012.000000\n",
       "mean         9.709128\n",
       "std          5.496810\n",
       "min          0.000000\n",
       "25%         10.000000\n",
       "50%         12.166667\n",
       "75%         13.250000\n",
       "max         17.714286\n",
       "Name: Curricular units 2nd sem (grade), dtype: float64"
      ]
     },
     "execution_count": 72,
     "metadata": {},
     "output_type": "execute_result"
    }
   ],
   "source": [
    "test['Curricular units 2nd sem (grade)'].describe()"
   ]
  },
  {
   "cell_type": "code",
   "execution_count": 73,
   "id": "c425e102",
   "metadata": {
    "execution": {
     "iopub.execute_input": "2024-06-01T10:14:00.454009Z",
     "iopub.status.busy": "2024-06-01T10:14:00.453668Z",
     "iopub.status.idle": "2024-06-01T10:14:00.465557Z",
     "shell.execute_reply": "2024-06-01T10:14:00.464380Z"
    },
    "papermill": {
     "duration": 0.056603,
     "end_time": "2024-06-01T10:14:00.467960",
     "exception": false,
     "start_time": "2024-06-01T10:14:00.411357",
     "status": "completed"
    },
    "tags": []
   },
   "outputs": [
    {
     "data": {
      "text/plain": [
       "count    76518.000000\n",
       "mean         0.062443\n",
       "std          0.462107\n",
       "min          0.000000\n",
       "25%          0.000000\n",
       "50%          0.000000\n",
       "75%          0.000000\n",
       "max         12.000000\n",
       "Name: Curricular units 2nd sem (without evaluations), dtype: float64"
      ]
     },
     "execution_count": 73,
     "metadata": {},
     "output_type": "execute_result"
    }
   ],
   "source": [
    "train['Curricular units 2nd sem (without evaluations)'].describe()"
   ]
  },
  {
   "cell_type": "code",
   "execution_count": 74,
   "id": "44b4e36a",
   "metadata": {
    "execution": {
     "iopub.execute_input": "2024-06-01T10:14:00.554119Z",
     "iopub.status.busy": "2024-06-01T10:14:00.553743Z",
     "iopub.status.idle": "2024-06-01T10:14:00.566006Z",
     "shell.execute_reply": "2024-06-01T10:14:00.564978Z"
    },
    "papermill": {
     "duration": 0.058863,
     "end_time": "2024-06-01T10:14:00.568297",
     "exception": false,
     "start_time": "2024-06-01T10:14:00.509434",
     "status": "completed"
    },
    "tags": []
   },
   "outputs": [
    {
     "data": {
      "text/plain": [
       "count    51012.000000\n",
       "mean         0.063809\n",
       "std          0.467176\n",
       "min          0.000000\n",
       "25%          0.000000\n",
       "50%          0.000000\n",
       "75%          0.000000\n",
       "max         10.000000\n",
       "Name: Curricular units 2nd sem (without evaluations), dtype: float64"
      ]
     },
     "execution_count": 74,
     "metadata": {},
     "output_type": "execute_result"
    }
   ],
   "source": [
    "test['Curricular units 2nd sem (without evaluations)'].describe()"
   ]
  },
  {
   "cell_type": "code",
   "execution_count": 75,
   "id": "de5788d9",
   "metadata": {
    "execution": {
     "iopub.execute_input": "2024-06-01T10:14:00.653047Z",
     "iopub.status.busy": "2024-06-01T10:14:00.652706Z",
     "iopub.status.idle": "2024-06-01T10:14:00.666996Z",
     "shell.execute_reply": "2024-06-01T10:14:00.665384Z"
    },
    "papermill": {
     "duration": 0.060199,
     "end_time": "2024-06-01T10:14:00.670237",
     "exception": false,
     "start_time": "2024-06-01T10:14:00.610038",
     "status": "completed"
    },
    "tags": []
   },
   "outputs": [
    {
     "data": {
      "text/plain": [
       "count    76518.000000\n",
       "mean        11.520340\n",
       "std          2.653375\n",
       "min          7.600000\n",
       "25%          9.400000\n",
       "50%         11.100000\n",
       "75%         12.700000\n",
       "max         16.200000\n",
       "Name: Unemployment rate, dtype: float64"
      ]
     },
     "execution_count": 75,
     "metadata": {},
     "output_type": "execute_result"
    }
   ],
   "source": [
    "train['Unemployment rate'].describe()"
   ]
  },
  {
   "cell_type": "code",
   "execution_count": 76,
   "id": "4d550595",
   "metadata": {
    "execution": {
     "iopub.execute_input": "2024-06-01T10:14:00.757329Z",
     "iopub.status.busy": "2024-06-01T10:14:00.756941Z",
     "iopub.status.idle": "2024-06-01T10:14:00.770010Z",
     "shell.execute_reply": "2024-06-01T10:14:00.768794Z"
    },
    "papermill": {
     "duration": 0.059189,
     "end_time": "2024-06-01T10:14:00.772460",
     "exception": false,
     "start_time": "2024-06-01T10:14:00.713271",
     "status": "completed"
    },
    "tags": []
   },
   "outputs": [
    {
     "data": {
      "text/plain": [
       "count    51012.000000\n",
       "mean        11.520611\n",
       "std          2.651113\n",
       "min          7.600000\n",
       "25%          9.400000\n",
       "50%         11.100000\n",
       "75%         12.700000\n",
       "max         16.200000\n",
       "Name: Unemployment rate, dtype: float64"
      ]
     },
     "execution_count": 76,
     "metadata": {},
     "output_type": "execute_result"
    }
   ],
   "source": [
    "test['Unemployment rate'].describe()"
   ]
  },
  {
   "cell_type": "code",
   "execution_count": 77,
   "id": "f92647cf",
   "metadata": {
    "execution": {
     "iopub.execute_input": "2024-06-01T10:14:00.857758Z",
     "iopub.status.busy": "2024-06-01T10:14:00.857386Z",
     "iopub.status.idle": "2024-06-01T10:14:00.871962Z",
     "shell.execute_reply": "2024-06-01T10:14:00.870901Z"
    },
    "papermill": {
     "duration": 0.060374,
     "end_time": "2024-06-01T10:14:00.874424",
     "exception": false,
     "start_time": "2024-06-01T10:14:00.814050",
     "status": "completed"
    },
    "tags": []
   },
   "outputs": [
    {
     "data": {
      "text/plain": [
       "count    76518.000000\n",
       "mean         1.228218\n",
       "std          1.398816\n",
       "min         -0.800000\n",
       "25%          0.300000\n",
       "50%          1.400000\n",
       "75%          2.600000\n",
       "max          3.700000\n",
       "Name: Inflation rate, dtype: float64"
      ]
     },
     "execution_count": 77,
     "metadata": {},
     "output_type": "execute_result"
    }
   ],
   "source": [
    "train['Inflation rate'].describe()"
   ]
  },
  {
   "cell_type": "code",
   "execution_count": 78,
   "id": "bfa5c8d0",
   "metadata": {
    "execution": {
     "iopub.execute_input": "2024-06-01T10:14:00.961588Z",
     "iopub.status.busy": "2024-06-01T10:14:00.961173Z",
     "iopub.status.idle": "2024-06-01T10:14:00.973586Z",
     "shell.execute_reply": "2024-06-01T10:14:00.972484Z"
    },
    "papermill": {
     "duration": 0.058999,
     "end_time": "2024-06-01T10:14:00.975981",
     "exception": false,
     "start_time": "2024-06-01T10:14:00.916982",
     "status": "completed"
    },
    "tags": []
   },
   "outputs": [
    {
     "data": {
      "text/plain": [
       "count    51012.000000\n",
       "mean         1.228719\n",
       "std          1.402773\n",
       "min         -0.800000\n",
       "25%          0.300000\n",
       "50%          1.400000\n",
       "75%          2.600000\n",
       "max          3.700000\n",
       "Name: Inflation rate, dtype: float64"
      ]
     },
     "execution_count": 78,
     "metadata": {},
     "output_type": "execute_result"
    }
   ],
   "source": [
    "test['Inflation rate'].describe()"
   ]
  },
  {
   "cell_type": "code",
   "execution_count": 79,
   "id": "18bfbcec",
   "metadata": {
    "execution": {
     "iopub.execute_input": "2024-06-01T10:14:01.063413Z",
     "iopub.status.busy": "2024-06-01T10:14:01.062993Z",
     "iopub.status.idle": "2024-06-01T10:14:01.076956Z",
     "shell.execute_reply": "2024-06-01T10:14:01.075911Z"
    },
    "papermill": {
     "duration": 0.06069,
     "end_time": "2024-06-01T10:14:01.079407",
     "exception": false,
     "start_time": "2024-06-01T10:14:01.018717",
     "status": "completed"
    },
    "tags": []
   },
   "outputs": [
    {
     "data": {
      "text/plain": [
       "count    76518.000000\n",
       "mean        -0.080921\n",
       "std          2.251382\n",
       "min         -4.060000\n",
       "25%         -1.700000\n",
       "50%          0.320000\n",
       "75%          1.790000\n",
       "max          3.510000\n",
       "Name: GDP, dtype: float64"
      ]
     },
     "execution_count": 79,
     "metadata": {},
     "output_type": "execute_result"
    }
   ],
   "source": [
    "train['GDP'].describe()"
   ]
  },
  {
   "cell_type": "code",
   "execution_count": 80,
   "id": "b240e8ef",
   "metadata": {
    "execution": {
     "iopub.execute_input": "2024-06-01T10:14:01.165537Z",
     "iopub.status.busy": "2024-06-01T10:14:01.165135Z",
     "iopub.status.idle": "2024-06-01T10:14:01.178307Z",
     "shell.execute_reply": "2024-06-01T10:14:01.177159Z"
    },
    "papermill": {
     "duration": 0.058665,
     "end_time": "2024-06-01T10:14:01.180576",
     "exception": false,
     "start_time": "2024-06-01T10:14:01.121911",
     "status": "completed"
    },
    "tags": []
   },
   "outputs": [
    {
     "data": {
      "text/plain": [
       "count    51012.000000\n",
       "mean        -0.086477\n",
       "std          2.251650\n",
       "min         -4.060000\n",
       "25%         -1.700000\n",
       "50%          0.320000\n",
       "75%          1.790000\n",
       "max          3.510000\n",
       "Name: GDP, dtype: float64"
      ]
     },
     "execution_count": 80,
     "metadata": {},
     "output_type": "execute_result"
    }
   ],
   "source": [
    "test['GDP'].describe()"
   ]
  },
  {
   "cell_type": "code",
   "execution_count": 81,
   "id": "354cbac3",
   "metadata": {
    "execution": {
     "iopub.execute_input": "2024-06-01T10:14:01.266996Z",
     "iopub.status.busy": "2024-06-01T10:14:01.266603Z",
     "iopub.status.idle": "2024-06-01T10:14:01.282095Z",
     "shell.execute_reply": "2024-06-01T10:14:01.281090Z"
    },
    "papermill": {
     "duration": 0.061259,
     "end_time": "2024-06-01T10:14:01.284314",
     "exception": false,
     "start_time": "2024-06-01T10:14:01.223055",
     "status": "completed"
    },
    "tags": []
   },
   "outputs": [
    {
     "data": {
      "text/plain": [
       "Target\n",
       "Graduate    47.42\n",
       "Dropout     33.06\n",
       "Enrolled    19.52\n",
       "Name: count, dtype: float64"
      ]
     },
     "execution_count": 81,
     "metadata": {},
     "output_type": "execute_result"
    }
   ],
   "source": [
    "round(train['Target'].value_counts()*100/len(train),2)"
   ]
  },
  {
   "cell_type": "code",
   "execution_count": 82,
   "id": "a203f7cb",
   "metadata": {
    "execution": {
     "iopub.execute_input": "2024-06-01T10:14:01.430001Z",
     "iopub.status.busy": "2024-06-01T10:14:01.429642Z",
     "iopub.status.idle": "2024-06-01T10:14:01.551247Z",
     "shell.execute_reply": "2024-06-01T10:14:01.549785Z"
    },
    "papermill": {
     "duration": 0.16769,
     "end_time": "2024-06-01T10:14:01.553817",
     "exception": false,
     "start_time": "2024-06-01T10:14:01.386127",
     "status": "completed"
    },
    "tags": []
   },
   "outputs": [
    {
     "name": "stdout",
     "output_type": "stream",
     "text": [
      "Application mode need to be worked on\n",
      "Course need to be worked on\n",
      "Previous qualification need to be worked on\n",
      "Nationality need to be worked on\n",
      "Mother's qualification need to be worked on\n",
      "Father's qualification need to be worked on\n"
     ]
    }
   ],
   "source": [
    "for i in test.select_dtypes(include=['object']).columns.tolist():\n",
    "    if (len(list(set(train[i].unique().tolist())^set(test[i].unique().tolist())))!=0):\n",
    "        print(i ,'need to be worked on')\n",
    "    else:\n",
    "        continue"
   ]
  },
  {
   "cell_type": "code",
   "execution_count": 83,
   "id": "17735110",
   "metadata": {
    "execution": {
     "iopub.execute_input": "2024-06-01T10:14:01.641652Z",
     "iopub.status.busy": "2024-06-01T10:14:01.641282Z",
     "iopub.status.idle": "2024-06-01T10:14:01.651702Z",
     "shell.execute_reply": "2024-06-01T10:14:01.650618Z"
    },
    "papermill": {
     "duration": 0.056906,
     "end_time": "2024-06-01T10:14:01.653921",
     "exception": false,
     "start_time": "2024-06-01T10:14:01.597015",
     "status": "completed"
    },
    "tags": []
   },
   "outputs": [
    {
     "data": {
      "text/plain": [
       "[4, 9, 12, 14, 19, 'Ordinance No. 533-A/99, item b2) (Different Plan)']"
      ]
     },
     "execution_count": 83,
     "metadata": {},
     "output_type": "execute_result"
    }
   ],
   "source": [
    "list(set(train['Application mode'].unique().tolist())^set(test['Application mode'].unique().tolist()))"
   ]
  },
  {
   "cell_type": "code",
   "execution_count": 84,
   "id": "be0fb161",
   "metadata": {
    "execution": {
     "iopub.execute_input": "2024-06-01T10:14:01.746776Z",
     "iopub.status.busy": "2024-06-01T10:14:01.746412Z",
     "iopub.status.idle": "2024-06-01T10:14:01.840214Z",
     "shell.execute_reply": "2024-06-01T10:14:01.839146Z"
    },
    "papermill": {
     "duration": 0.143726,
     "end_time": "2024-06-01T10:14:01.842844",
     "exception": false,
     "start_time": "2024-06-01T10:14:01.699118",
     "status": "completed"
    },
    "tags": []
   },
   "outputs": [
    {
     "name": "stdout",
     "output_type": "stream",
     "text": [
      "<class 'pandas.core.frame.DataFrame'>\n",
      "RangeIndex: 76518 entries, 0 to 76517\n",
      "Data columns (total 37 columns):\n",
      " #   Column                                          Non-Null Count  Dtype  \n",
      "---  ------                                          --------------  -----  \n",
      " 0   Marital status                                  76518 non-null  object \n",
      " 1   Application mode                                76513 non-null  object \n",
      " 2   Application order                               76518 non-null  int64  \n",
      " 3   Course                                          76518 non-null  object \n",
      " 4   Daytime/evening attendance                      76518 non-null  object \n",
      " 5   Previous qualification                          76518 non-null  object \n",
      " 6   Previous qualification (grade)                  76518 non-null  float64\n",
      " 7   Nationality                                     76518 non-null  object \n",
      " 8   Mother's qualification                          76518 non-null  object \n",
      " 9   Father's qualification                          76518 non-null  object \n",
      " 10  Mother's occupation                             76518 non-null  int64  \n",
      " 11  Father's occupation                             76518 non-null  int64  \n",
      " 12  Admission grade                                 76518 non-null  int64  \n",
      " 13  Displaced                                       76518 non-null  object \n",
      " 14  Educational special needs                       76518 non-null  object \n",
      " 15  Debtor                                          76518 non-null  object \n",
      " 16  Tuition fees up to date                         76518 non-null  object \n",
      " 17  Gender                                          76518 non-null  object \n",
      " 18  Scholarship holder                              76518 non-null  object \n",
      " 19  Age at enrollment                               76518 non-null  int64  \n",
      " 20  International                                   76518 non-null  object \n",
      " 21  Curricular units 1st sem (credited)             76518 non-null  int64  \n",
      " 22  Curricular units 1st sem (enrolled)             76518 non-null  int64  \n",
      " 23  Curricular units 1st sem (evaluations)          76518 non-null  int64  \n",
      " 24  Curricular units 1st sem (approved)             76518 non-null  int64  \n",
      " 25  Curricular units 1st sem (grade)                76518 non-null  float64\n",
      " 26  Curricular units 1st sem (without evaluations)  76518 non-null  int64  \n",
      " 27  Curricular units 2nd sem (credited)             76518 non-null  int64  \n",
      " 28  Curricular units 2nd sem (enrolled)             76518 non-null  int64  \n",
      " 29  Curricular units 2nd sem (evaluations)          76518 non-null  int64  \n",
      " 30  Curricular units 2nd sem (approved)             76518 non-null  int64  \n",
      " 31  Curricular units 2nd sem (grade)                76518 non-null  float64\n",
      " 32  Curricular units 2nd sem (without evaluations)  76518 non-null  int64  \n",
      " 33  Unemployment rate                               76518 non-null  float64\n",
      " 34  Inflation rate                                  76518 non-null  float64\n",
      " 35  GDP                                             76518 non-null  float64\n",
      " 36  Target                                          76518 non-null  object \n",
      "dtypes: float64(6), int64(15), object(16)\n",
      "memory usage: 21.6+ MB\n"
     ]
    }
   ],
   "source": [
    "import numpy as np\n",
    "train['Application mode']=train['Application mode'].replace({12:np.NaN,\n",
    "                                                           4:np.NaN,\n",
    "                                                            35:np.NaN,\n",
    "                                                            9:np.NaN,\n",
    "                                                            3:np.NaN}\n",
    "                                                           )\n",
    "train.info()"
   ]
  },
  {
   "cell_type": "code",
   "execution_count": 85,
   "id": "d09019f1",
   "metadata": {
    "execution": {
     "iopub.execute_input": "2024-06-01T10:14:01.930507Z",
     "iopub.status.busy": "2024-06-01T10:14:01.930120Z",
     "iopub.status.idle": "2024-06-01T10:14:01.992847Z",
     "shell.execute_reply": "2024-06-01T10:14:01.991593Z"
    },
    "papermill": {
     "duration": 0.109644,
     "end_time": "2024-06-01T10:14:01.995175",
     "exception": false,
     "start_time": "2024-06-01T10:14:01.885531",
     "status": "completed"
    },
    "tags": []
   },
   "outputs": [
    {
     "name": "stdout",
     "output_type": "stream",
     "text": [
      "<class 'pandas.core.frame.DataFrame'>\n",
      "RangeIndex: 51012 entries, 0 to 51011\n",
      "Data columns (total 36 columns):\n",
      " #   Column                                          Non-Null Count  Dtype  \n",
      "---  ------                                          --------------  -----  \n",
      " 0   Marital status                                  51012 non-null  object \n",
      " 1   Application mode                                51008 non-null  object \n",
      " 2   Application order                               51012 non-null  int64  \n",
      " 3   Course                                          51012 non-null  object \n",
      " 4   Daytime/evening attendance                      51012 non-null  object \n",
      " 5   Previous qualification                          51012 non-null  object \n",
      " 6   Previous qualification (grade)                  51012 non-null  float64\n",
      " 7   Nationality                                     51012 non-null  object \n",
      " 8   Mother's qualification                          51012 non-null  object \n",
      " 9   Father's qualification                          51012 non-null  object \n",
      " 10  Mother's occupation                             51012 non-null  int64  \n",
      " 11  Father's occupation                             51012 non-null  int64  \n",
      " 12  Admission grade                                 51012 non-null  int64  \n",
      " 13  Displaced                                       51012 non-null  object \n",
      " 14  Educational special needs                       51012 non-null  object \n",
      " 15  Debtor                                          51012 non-null  object \n",
      " 16  Tuition fees up to date                         51012 non-null  object \n",
      " 17  Gender                                          51012 non-null  object \n",
      " 18  Scholarship holder                              51012 non-null  object \n",
      " 19  Age at enrollment                               51012 non-null  int64  \n",
      " 20  International                                   51012 non-null  object \n",
      " 21  Curricular units 1st sem (credited)             51012 non-null  int64  \n",
      " 22  Curricular units 1st sem (enrolled)             51012 non-null  int64  \n",
      " 23  Curricular units 1st sem (evaluations)          51012 non-null  int64  \n",
      " 24  Curricular units 1st sem (approved)             51012 non-null  int64  \n",
      " 25  Curricular units 1st sem (grade)                51012 non-null  float64\n",
      " 26  Curricular units 1st sem (without evaluations)  51012 non-null  int64  \n",
      " 27  Curricular units 2nd sem (credited)             51012 non-null  int64  \n",
      " 28  Curricular units 2nd sem (enrolled)             51012 non-null  int64  \n",
      " 29  Curricular units 2nd sem (evaluations)          51012 non-null  int64  \n",
      " 30  Curricular units 2nd sem (approved)             51012 non-null  int64  \n",
      " 31  Curricular units 2nd sem (grade)                51012 non-null  float64\n",
      " 32  Curricular units 2nd sem (without evaluations)  51012 non-null  int64  \n",
      " 33  Unemployment rate                               51012 non-null  float64\n",
      " 34  Inflation rate                                  51012 non-null  float64\n",
      " 35  GDP                                             51012 non-null  float64\n",
      "dtypes: float64(6), int64(15), object(15)\n",
      "memory usage: 14.0+ MB\n"
     ]
    }
   ],
   "source": [
    "test['Application mode']=test['Application mode'].replace({14:np.NaN,\n",
    "                                                           35:np.NaN,\n",
    "                                                            19:np.NaN,\n",
    "                                                            3:np.NaN}\n",
    "                                                           )\n",
    "test.info()"
   ]
  },
  {
   "cell_type": "code",
   "execution_count": 86,
   "id": "bcfe403e",
   "metadata": {
    "execution": {
     "iopub.execute_input": "2024-06-01T10:14:02.083962Z",
     "iopub.status.busy": "2024-06-01T10:14:02.083600Z",
     "iopub.status.idle": "2024-06-01T10:14:02.093437Z",
     "shell.execute_reply": "2024-06-01T10:14:02.092466Z"
    },
    "papermill": {
     "duration": 0.057546,
     "end_time": "2024-06-01T10:14:02.095602",
     "exception": false,
     "start_time": "2024-06-01T10:14:02.038056",
     "status": "completed"
    },
    "tags": []
   },
   "outputs": [
    {
     "data": {
      "text/plain": [
       "['Ordinance No. 533-A/99, item b2) (Different Plan)']"
      ]
     },
     "execution_count": 86,
     "metadata": {},
     "output_type": "execute_result"
    }
   ],
   "source": [
    "list(set(train['Application mode'].unique().tolist())^set(test['Application mode'].unique().tolist()))"
   ]
  },
  {
   "cell_type": "code",
   "execution_count": 87,
   "id": "ea90cc4e",
   "metadata": {
    "execution": {
     "iopub.execute_input": "2024-06-01T10:14:02.183779Z",
     "iopub.status.busy": "2024-06-01T10:14:02.182774Z",
     "iopub.status.idle": "2024-06-01T10:14:02.214356Z",
     "shell.execute_reply": "2024-06-01T10:14:02.213203Z"
    },
    "papermill": {
     "duration": 0.078016,
     "end_time": "2024-06-01T10:14:02.216726",
     "exception": false,
     "start_time": "2024-06-01T10:14:02.138710",
     "status": "completed"
    },
    "tags": []
   },
   "outputs": [
    {
     "data": {
      "text/html": [
       "<div>\n",
       "<style scoped>\n",
       "    .dataframe tbody tr th:only-of-type {\n",
       "        vertical-align: middle;\n",
       "    }\n",
       "\n",
       "    .dataframe tbody tr th {\n",
       "        vertical-align: top;\n",
       "    }\n",
       "\n",
       "    .dataframe thead th {\n",
       "        text-align: right;\n",
       "    }\n",
       "</style>\n",
       "<table border=\"1\" class=\"dataframe\">\n",
       "  <thead>\n",
       "    <tr style=\"text-align: right;\">\n",
       "      <th></th>\n",
       "      <th>Marital status</th>\n",
       "      <th>Application mode</th>\n",
       "      <th>Application order</th>\n",
       "      <th>Course</th>\n",
       "      <th>Daytime/evening attendance</th>\n",
       "      <th>Previous qualification</th>\n",
       "      <th>Previous qualification (grade)</th>\n",
       "      <th>Nationality</th>\n",
       "      <th>Mother's qualification</th>\n",
       "      <th>Father's qualification</th>\n",
       "      <th>...</th>\n",
       "      <th>Curricular units 2nd sem (credited)</th>\n",
       "      <th>Curricular units 2nd sem (enrolled)</th>\n",
       "      <th>Curricular units 2nd sem (evaluations)</th>\n",
       "      <th>Curricular units 2nd sem (approved)</th>\n",
       "      <th>Curricular units 2nd sem (grade)</th>\n",
       "      <th>Curricular units 2nd sem (without evaluations)</th>\n",
       "      <th>Unemployment rate</th>\n",
       "      <th>Inflation rate</th>\n",
       "      <th>GDP</th>\n",
       "      <th>Target</th>\n",
       "    </tr>\n",
       "  </thead>\n",
       "  <tbody>\n",
       "    <tr>\n",
       "      <th>18554</th>\n",
       "      <td>single</td>\n",
       "      <td>Ordinance No. 533-A/99, item b2) (Different Plan)</td>\n",
       "      <td>1</td>\n",
       "      <td>Social Service (evening attendance)</td>\n",
       "      <td>evening</td>\n",
       "      <td>Secondary education</td>\n",
       "      <td>130.0</td>\n",
       "      <td>Portuguese</td>\n",
       "      <td>Unknown</td>\n",
       "      <td>Unknown</td>\n",
       "      <td>...</td>\n",
       "      <td>6</td>\n",
       "      <td>11</td>\n",
       "      <td>17</td>\n",
       "      <td>10</td>\n",
       "      <td>12.8</td>\n",
       "      <td>0</td>\n",
       "      <td>7.6</td>\n",
       "      <td>2.6</td>\n",
       "      <td>0.32</td>\n",
       "      <td>Graduate</td>\n",
       "    </tr>\n",
       "  </tbody>\n",
       "</table>\n",
       "<p>1 rows × 37 columns</p>\n",
       "</div>"
      ],
      "text/plain": [
       "      Marital status                                   Application mode  \\\n",
       "18554         single  Ordinance No. 533-A/99, item b2) (Different Plan)   \n",
       "\n",
       "       Application order                               Course  \\\n",
       "18554                  1  Social Service (evening attendance)   \n",
       "\n",
       "      Daytime/evening attendance Previous qualification  \\\n",
       "18554                    evening    Secondary education   \n",
       "\n",
       "       Previous qualification (grade) Nationality Mother's qualification  \\\n",
       "18554                           130.0  Portuguese                Unknown   \n",
       "\n",
       "      Father's qualification  ...  Curricular units 2nd sem (credited)  \\\n",
       "18554                Unknown  ...                                    6   \n",
       "\n",
       "       Curricular units 2nd sem (enrolled)  \\\n",
       "18554                                   11   \n",
       "\n",
       "       Curricular units 2nd sem (evaluations)  \\\n",
       "18554                                      17   \n",
       "\n",
       "      Curricular units 2nd sem (approved) Curricular units 2nd sem (grade)  \\\n",
       "18554                                  10                             12.8   \n",
       "\n",
       "      Curricular units 2nd sem (without evaluations) Unemployment rate  \\\n",
       "18554                                              0               7.6   \n",
       "\n",
       "      Inflation rate   GDP    Target  \n",
       "18554            2.6  0.32  Graduate  \n",
       "\n",
       "[1 rows x 37 columns]"
      ]
     },
     "execution_count": 87,
     "metadata": {},
     "output_type": "execute_result"
    }
   ],
   "source": [
    "train[train['Application mode']=='Ordinance No. 533-A/99, item b2) (Different Plan)'].head()"
   ]
  },
  {
   "cell_type": "code",
   "execution_count": 88,
   "id": "28dc1e8f",
   "metadata": {
    "execution": {
     "iopub.execute_input": "2024-06-01T10:14:02.304455Z",
     "iopub.status.busy": "2024-06-01T10:14:02.303928Z",
     "iopub.status.idle": "2024-06-01T10:14:02.348487Z",
     "shell.execute_reply": "2024-06-01T10:14:02.347369Z"
    },
    "papermill": {
     "duration": 0.090901,
     "end_time": "2024-06-01T10:14:02.350760",
     "exception": false,
     "start_time": "2024-06-01T10:14:02.259859",
     "status": "completed"
    },
    "tags": []
   },
   "outputs": [
    {
     "data": {
      "text/plain": [
       "[]"
      ]
     },
     "execution_count": 88,
     "metadata": {},
     "output_type": "execute_result"
    }
   ],
   "source": [
    "train=train[train['Application mode']!='Ordinance No. 533-A/99, item b2) (Different Plan)']\n",
    "list(set(train['Application mode'].unique().tolist())^set(test['Application mode'].unique().tolist()))"
   ]
  },
  {
   "cell_type": "code",
   "execution_count": 89,
   "id": "4fac4d44",
   "metadata": {
    "execution": {
     "iopub.execute_input": "2024-06-01T10:14:02.438894Z",
     "iopub.status.busy": "2024-06-01T10:14:02.438549Z",
     "iopub.status.idle": "2024-06-01T10:14:02.451397Z",
     "shell.execute_reply": "2024-06-01T10:14:02.450222Z"
    },
    "papermill": {
     "duration": 0.059564,
     "end_time": "2024-06-01T10:14:02.453609",
     "exception": false,
     "start_time": "2024-06-01T10:14:02.394045",
     "status": "completed"
    },
    "tags": []
   },
   "outputs": [
    {
     "data": {
      "text/plain": [
       "Application mode\n",
       "1st phase - general contingent                         35227\n",
       "2nd phase - general contingent                         16523\n",
       "Over 23 years old                                      14519\n",
       "Technological specialization diploma holders            3012\n",
       "Change of course                                        2671\n",
       "Holders of other higher courses                         1498\n",
       "3rd phase - general contingent                          1256\n",
       "Transfer                                                 551\n",
       "Change of institution/course                             442\n",
       "1st phase - special contingent (Madeira Island)          265\n",
       "Short cycle diploma holders                              225\n",
       "International student (bachelor)                         183\n",
       "1st phase - special contingent (Azores Island)            87\n",
       "Ordinance No. 854-B/99                                    43\n",
       "Ordinance No. 612/93                                       8\n",
       "Ordinance No. 533-A/99, item b3 (Other Institution)        2\n",
       "Name: count, dtype: int64"
      ]
     },
     "execution_count": 89,
     "metadata": {},
     "output_type": "execute_result"
    }
   ],
   "source": [
    "train['Application mode'].value_counts()"
   ]
  },
  {
   "cell_type": "code",
   "execution_count": 90,
   "id": "242771eb",
   "metadata": {
    "execution": {
     "iopub.execute_input": "2024-06-01T10:14:02.541994Z",
     "iopub.status.busy": "2024-06-01T10:14:02.541618Z",
     "iopub.status.idle": "2024-06-01T10:14:02.553364Z",
     "shell.execute_reply": "2024-06-01T10:14:02.552369Z"
    },
    "papermill": {
     "duration": 0.058631,
     "end_time": "2024-06-01T10:14:02.555595",
     "exception": false,
     "start_time": "2024-06-01T10:14:02.496964",
     "status": "completed"
    },
    "tags": []
   },
   "outputs": [
    {
     "data": {
      "text/plain": [
       "Application mode\n",
       "1st phase - general contingent                         23357\n",
       "2nd phase - general contingent                         11207\n",
       "Over 23 years old                                       9585\n",
       "Technological specialization diploma holders            2000\n",
       "Change of course                                        1850\n",
       "Holders of other higher courses                         1011\n",
       "3rd phase - general contingent                           788\n",
       "Transfer                                                 347\n",
       "Change of institution/course                             296\n",
       "1st phase - special contingent (Madeira Island)          198\n",
       "Short cycle diploma holders                              147\n",
       "International student (bachelor)                         119\n",
       "1st phase - special contingent (Azores Island)            79\n",
       "Ordinance No. 854-B/99                                    20\n",
       "Ordinance No. 612/93                                       3\n",
       "Ordinance No. 533-A/99, item b3 (Other Institution)        1\n",
       "Name: count, dtype: int64"
      ]
     },
     "execution_count": 90,
     "metadata": {},
     "output_type": "execute_result"
    }
   ],
   "source": [
    "test['Application mode'].value_counts()"
   ]
  },
  {
   "cell_type": "code",
   "execution_count": 91,
   "id": "1d60450f",
   "metadata": {
    "execution": {
     "iopub.execute_input": "2024-06-01T10:14:02.643986Z",
     "iopub.status.busy": "2024-06-01T10:14:02.643619Z",
     "iopub.status.idle": "2024-06-01T10:14:02.666200Z",
     "shell.execute_reply": "2024-06-01T10:14:02.664926Z"
    },
    "papermill": {
     "duration": 0.069608,
     "end_time": "2024-06-01T10:14:02.668672",
     "exception": false,
     "start_time": "2024-06-01T10:14:02.599064",
     "status": "completed"
    },
    "tags": []
   },
   "outputs": [
    {
     "data": {
      "text/plain": [
       "Application mode\n",
       "1st phase - general contingent                     35229\n",
       "2nd phase - general contingent                     16523\n",
       "Over 23 years old                                  14519\n",
       "Technological specialization diploma holders        3012\n",
       "Change of course                                    2671\n",
       "Holders of other higher courses                     1498\n",
       "3rd phase - general contingent                      1256\n",
       "Transfer                                             551\n",
       "Change of institution/course                         442\n",
       "1st phase - special contingent (Madeira Island)      265\n",
       "Short cycle diploma holders                          225\n",
       "International student (bachelor)                     183\n",
       "1st phase - special contingent (Azores Island)        87\n",
       "Ordinance No. 854-B/99                                43\n",
       "Ordinance No. 612/93                                   8\n",
       "Name: count, dtype: int64"
      ]
     },
     "execution_count": 91,
     "metadata": {},
     "output_type": "execute_result"
    }
   ],
   "source": [
    "train['Application mode']=train['Application mode'].replace({'Ordinance No. 533-A/99, item b3 (Other Institution)':'1st phase - general contingent'})\n",
    "train['Application mode'].value_counts()"
   ]
  },
  {
   "cell_type": "code",
   "execution_count": 92,
   "id": "692425d4",
   "metadata": {
    "execution": {
     "iopub.execute_input": "2024-06-01T10:14:02.759903Z",
     "iopub.status.busy": "2024-06-01T10:14:02.759160Z",
     "iopub.status.idle": "2024-06-01T10:14:02.777362Z",
     "shell.execute_reply": "2024-06-01T10:14:02.776328Z"
    },
    "papermill": {
     "duration": 0.064908,
     "end_time": "2024-06-01T10:14:02.779522",
     "exception": false,
     "start_time": "2024-06-01T10:14:02.714614",
     "status": "completed"
    },
    "tags": []
   },
   "outputs": [
    {
     "data": {
      "text/plain": [
       "Application mode\n",
       "1st phase - general contingent                     23357\n",
       "2nd phase - general contingent                     11207\n",
       "Over 23 years old                                   9585\n",
       "Technological specialization diploma holders        2000\n",
       "Change of course                                    1850\n",
       "Holders of other higher courses                     1011\n",
       "3rd phase - general contingent                       788\n",
       "Transfer                                             347\n",
       "Change of institution/course                         296\n",
       "1st phase - special contingent (Madeira Island)      198\n",
       "Short cycle diploma holders                          147\n",
       "International student (bachelor)                     119\n",
       "1st phase - special contingent (Azores Island)        79\n",
       "Ordinance No. 854-B/99                                20\n",
       "Ordinance No. 612/93                                   3\n",
       "Name: count, dtype: int64"
      ]
     },
     "execution_count": 92,
     "metadata": {},
     "output_type": "execute_result"
    }
   ],
   "source": [
    "test['Application mode']=test['Application mode'].replace({'Ordinance No. 533-A/99, item b3 (Other Institution)':np.NAN})\n",
    "test['Application mode'].value_counts()"
   ]
  },
  {
   "cell_type": "code",
   "execution_count": 93,
   "id": "3e8dec19",
   "metadata": {
    "execution": {
     "iopub.execute_input": "2024-06-01T10:14:02.868300Z",
     "iopub.status.busy": "2024-06-01T10:14:02.867916Z",
     "iopub.status.idle": "2024-06-01T10:14:02.979306Z",
     "shell.execute_reply": "2024-06-01T10:14:02.978201Z"
    },
    "papermill": {
     "duration": 0.158467,
     "end_time": "2024-06-01T10:14:02.981801",
     "exception": false,
     "start_time": "2024-06-01T10:14:02.823334",
     "status": "completed"
    },
    "tags": []
   },
   "outputs": [
    {
     "name": "stdout",
     "output_type": "stream",
     "text": [
      "Course need to be worked on\n",
      "Previous qualification need to be worked on\n",
      "Nationality need to be worked on\n",
      "Mother's qualification need to be worked on\n",
      "Father's qualification need to be worked on\n"
     ]
    }
   ],
   "source": [
    "for i in test.select_dtypes(include=['object']).columns.tolist():\n",
    "    if (len(list(set(train[i].unique().tolist())^set(test[i].unique().tolist())))!=0):\n",
    "        print(i ,'need to be worked on')\n",
    "    else:\n",
    "        continue"
   ]
  },
  {
   "cell_type": "code",
   "execution_count": 94,
   "id": "53253d4d",
   "metadata": {
    "execution": {
     "iopub.execute_input": "2024-06-01T10:14:03.071804Z",
     "iopub.status.busy": "2024-06-01T10:14:03.071434Z",
     "iopub.status.idle": "2024-06-01T10:14:03.081556Z",
     "shell.execute_reply": "2024-06-01T10:14:03.080554Z"
    },
    "papermill": {
     "duration": 0.057897,
     "end_time": "2024-06-01T10:14:03.083756",
     "exception": false,
     "start_time": "2024-06-01T10:14:03.025859",
     "status": "completed"
    },
    "tags": []
   },
   "outputs": [
    {
     "data": {
      "text/plain": [
       "[7500, 979, 39, 9257, 4147, 2105]"
      ]
     },
     "execution_count": 94,
     "metadata": {},
     "output_type": "execute_result"
    }
   ],
   "source": [
    "list(set(train['Course'].unique().tolist())^set(test['Course'].unique().tolist()))"
   ]
  },
  {
   "cell_type": "code",
   "execution_count": 95,
   "id": "1cb181c0",
   "metadata": {
    "execution": {
     "iopub.execute_input": "2024-06-01T10:14:03.175906Z",
     "iopub.status.busy": "2024-06-01T10:14:03.175547Z",
     "iopub.status.idle": "2024-06-01T10:14:03.260033Z",
     "shell.execute_reply": "2024-06-01T10:14:03.258965Z"
    },
    "papermill": {
     "duration": 0.134021,
     "end_time": "2024-06-01T10:14:03.262725",
     "exception": false,
     "start_time": "2024-06-01T10:14:03.128704",
     "status": "completed"
    },
    "tags": []
   },
   "outputs": [
    {
     "name": "stdout",
     "output_type": "stream",
     "text": [
      "<class 'pandas.core.frame.DataFrame'>\n",
      "Index: 76517 entries, 0 to 76517\n",
      "Data columns (total 37 columns):\n",
      " #   Column                                          Non-Null Count  Dtype  \n",
      "---  ------                                          --------------  -----  \n",
      " 0   Marital status                                  76517 non-null  object \n",
      " 1   Application mode                                76512 non-null  object \n",
      " 2   Application order                               76517 non-null  int64  \n",
      " 3   Course                                          76515 non-null  object \n",
      " 4   Daytime/evening attendance                      76517 non-null  object \n",
      " 5   Previous qualification                          76517 non-null  object \n",
      " 6   Previous qualification (grade)                  76517 non-null  float64\n",
      " 7   Nationality                                     76517 non-null  object \n",
      " 8   Mother's qualification                          76517 non-null  object \n",
      " 9   Father's qualification                          76517 non-null  object \n",
      " 10  Mother's occupation                             76517 non-null  int64  \n",
      " 11  Father's occupation                             76517 non-null  int64  \n",
      " 12  Admission grade                                 76517 non-null  int64  \n",
      " 13  Displaced                                       76517 non-null  object \n",
      " 14  Educational special needs                       76517 non-null  object \n",
      " 15  Debtor                                          76517 non-null  object \n",
      " 16  Tuition fees up to date                         76517 non-null  object \n",
      " 17  Gender                                          76517 non-null  object \n",
      " 18  Scholarship holder                              76517 non-null  object \n",
      " 19  Age at enrollment                               76517 non-null  int64  \n",
      " 20  International                                   76517 non-null  object \n",
      " 21  Curricular units 1st sem (credited)             76517 non-null  int64  \n",
      " 22  Curricular units 1st sem (enrolled)             76517 non-null  int64  \n",
      " 23  Curricular units 1st sem (evaluations)          76517 non-null  int64  \n",
      " 24  Curricular units 1st sem (approved)             76517 non-null  int64  \n",
      " 25  Curricular units 1st sem (grade)                76517 non-null  float64\n",
      " 26  Curricular units 1st sem (without evaluations)  76517 non-null  int64  \n",
      " 27  Curricular units 2nd sem (credited)             76517 non-null  int64  \n",
      " 28  Curricular units 2nd sem (enrolled)             76517 non-null  int64  \n",
      " 29  Curricular units 2nd sem (evaluations)          76517 non-null  int64  \n",
      " 30  Curricular units 2nd sem (approved)             76517 non-null  int64  \n",
      " 31  Curricular units 2nd sem (grade)                76517 non-null  float64\n",
      " 32  Curricular units 2nd sem (without evaluations)  76517 non-null  int64  \n",
      " 33  Unemployment rate                               76517 non-null  float64\n",
      " 34  Inflation rate                                  76517 non-null  float64\n",
      " 35  GDP                                             76517 non-null  float64\n",
      " 36  Target                                          76517 non-null  object \n",
      "dtypes: float64(6), int64(15), object(16)\n",
      "memory usage: 22.2+ MB\n"
     ]
    }
   ],
   "source": [
    "train['Course']=train['Course'].replace({979:np.NaN,\n",
    "                                         39:np.NaN })\n",
    "train.info()"
   ]
  },
  {
   "cell_type": "code",
   "execution_count": 96,
   "id": "1dbd88c6",
   "metadata": {
    "execution": {
     "iopub.execute_input": "2024-06-01T10:14:03.354020Z",
     "iopub.status.busy": "2024-06-01T10:14:03.352743Z",
     "iopub.status.idle": "2024-06-01T10:14:03.416793Z",
     "shell.execute_reply": "2024-06-01T10:14:03.415694Z"
    },
    "papermill": {
     "duration": 0.112458,
     "end_time": "2024-06-01T10:14:03.419695",
     "exception": false,
     "start_time": "2024-06-01T10:14:03.307237",
     "status": "completed"
    },
    "tags": []
   },
   "outputs": [
    {
     "name": "stdout",
     "output_type": "stream",
     "text": [
      "<class 'pandas.core.frame.DataFrame'>\n",
      "RangeIndex: 51012 entries, 0 to 51011\n",
      "Data columns (total 36 columns):\n",
      " #   Column                                          Non-Null Count  Dtype  \n",
      "---  ------                                          --------------  -----  \n",
      " 0   Marital status                                  51012 non-null  object \n",
      " 1   Application mode                                51007 non-null  object \n",
      " 2   Application order                               51012 non-null  int64  \n",
      " 3   Course                                          51008 non-null  object \n",
      " 4   Daytime/evening attendance                      51012 non-null  object \n",
      " 5   Previous qualification                          51012 non-null  object \n",
      " 6   Previous qualification (grade)                  51012 non-null  float64\n",
      " 7   Nationality                                     51012 non-null  object \n",
      " 8   Mother's qualification                          51012 non-null  object \n",
      " 9   Father's qualification                          51012 non-null  object \n",
      " 10  Mother's occupation                             51012 non-null  int64  \n",
      " 11  Father's occupation                             51012 non-null  int64  \n",
      " 12  Admission grade                                 51012 non-null  int64  \n",
      " 13  Displaced                                       51012 non-null  object \n",
      " 14  Educational special needs                       51012 non-null  object \n",
      " 15  Debtor                                          51012 non-null  object \n",
      " 16  Tuition fees up to date                         51012 non-null  object \n",
      " 17  Gender                                          51012 non-null  object \n",
      " 18  Scholarship holder                              51012 non-null  object \n",
      " 19  Age at enrollment                               51012 non-null  int64  \n",
      " 20  International                                   51012 non-null  object \n",
      " 21  Curricular units 1st sem (credited)             51012 non-null  int64  \n",
      " 22  Curricular units 1st sem (enrolled)             51012 non-null  int64  \n",
      " 23  Curricular units 1st sem (evaluations)          51012 non-null  int64  \n",
      " 24  Curricular units 1st sem (approved)             51012 non-null  int64  \n",
      " 25  Curricular units 1st sem (grade)                51012 non-null  float64\n",
      " 26  Curricular units 1st sem (without evaluations)  51012 non-null  int64  \n",
      " 27  Curricular units 2nd sem (credited)             51012 non-null  int64  \n",
      " 28  Curricular units 2nd sem (enrolled)             51012 non-null  int64  \n",
      " 29  Curricular units 2nd sem (evaluations)          51012 non-null  int64  \n",
      " 30  Curricular units 2nd sem (approved)             51012 non-null  int64  \n",
      " 31  Curricular units 2nd sem (grade)                51012 non-null  float64\n",
      " 32  Curricular units 2nd sem (without evaluations)  51012 non-null  int64  \n",
      " 33  Unemployment rate                               51012 non-null  float64\n",
      " 34  Inflation rate                                  51012 non-null  float64\n",
      " 35  GDP                                             51012 non-null  float64\n",
      "dtypes: float64(6), int64(15), object(15)\n",
      "memory usage: 14.0+ MB\n"
     ]
    }
   ],
   "source": [
    "test['Course']=test['Course'].replace({7500:np.NaN,\n",
    "                                         9257:np.NaN,\n",
    "                                        2105:np.NaN,\n",
    "                                         4147:np.NaN,})\n",
    "test.info()"
   ]
  },
  {
   "cell_type": "code",
   "execution_count": 97,
   "id": "ea7e4468",
   "metadata": {
    "execution": {
     "iopub.execute_input": "2024-06-01T10:14:03.510040Z",
     "iopub.status.busy": "2024-06-01T10:14:03.509656Z",
     "iopub.status.idle": "2024-06-01T10:14:03.520644Z",
     "shell.execute_reply": "2024-06-01T10:14:03.519538Z"
    },
    "papermill": {
     "duration": 0.058818,
     "end_time": "2024-06-01T10:14:03.522901",
     "exception": false,
     "start_time": "2024-06-01T10:14:03.464083",
     "status": "completed"
    },
    "tags": []
   },
   "outputs": [
    {
     "data": {
      "text/plain": [
       "[]"
      ]
     },
     "execution_count": 97,
     "metadata": {},
     "output_type": "execute_result"
    }
   ],
   "source": [
    "list(set(train['Course'].unique().tolist())^set(test['Course'].unique().tolist()))"
   ]
  },
  {
   "cell_type": "code",
   "execution_count": 98,
   "id": "e9b24a80",
   "metadata": {
    "execution": {
     "iopub.execute_input": "2024-06-01T10:14:03.613990Z",
     "iopub.status.busy": "2024-06-01T10:14:03.613622Z",
     "iopub.status.idle": "2024-06-01T10:14:03.626066Z",
     "shell.execute_reply": "2024-06-01T10:14:03.625024Z"
    },
    "papermill": {
     "duration": 0.060811,
     "end_time": "2024-06-01T10:14:03.628328",
     "exception": false,
     "start_time": "2024-06-01T10:14:03.567517",
     "status": "completed"
    },
    "tags": []
   },
   "outputs": [
    {
     "data": {
      "text/plain": [
       "Course\n",
       "Nursing                                 12074\n",
       "Journalism and Communication             8214\n",
       "Social Service                           7935\n",
       "Management                               7741\n",
       "Tourism                                  5425\n",
       "Veterinary Nursing                       5373\n",
       "Advertising and Marketing Management     4760\n",
       "Management (evening attendance)          4057\n",
       "Agronomy                                 3733\n",
       "Communication Design                     3281\n",
       "Basic Education                          3198\n",
       "Informatics Engineering                  3004\n",
       "Animation and Multimedia Design          2859\n",
       "Social Service (evening attendance)      2437\n",
       "Equinculture                             1606\n",
       "Oral Hygiene                              746\n",
       "Biofuel Production Technologies            72\n",
       "Name: count, dtype: int64"
      ]
     },
     "execution_count": 98,
     "metadata": {},
     "output_type": "execute_result"
    }
   ],
   "source": [
    "train['Course'].value_counts()"
   ]
  },
  {
   "cell_type": "code",
   "execution_count": 99,
   "id": "0fce2c8a",
   "metadata": {
    "execution": {
     "iopub.execute_input": "2024-06-01T10:14:03.722134Z",
     "iopub.status.busy": "2024-06-01T10:14:03.721738Z",
     "iopub.status.idle": "2024-06-01T10:14:03.733175Z",
     "shell.execute_reply": "2024-06-01T10:14:03.732166Z"
    },
    "papermill": {
     "duration": 0.062717,
     "end_time": "2024-06-01T10:14:03.735334",
     "exception": false,
     "start_time": "2024-06-01T10:14:03.672617",
     "status": "completed"
    },
    "tags": []
   },
   "outputs": [
    {
     "data": {
      "text/plain": [
       "Course\n",
       "Nursing                                 8140\n",
       "Journalism and Communication            5610\n",
       "Social Service                          5300\n",
       "Management                              5042\n",
       "Tourism                                 3651\n",
       "Veterinary Nursing                      3511\n",
       "Advertising and Marketing Management    3270\n",
       "Management (evening attendance)         2647\n",
       "Agronomy                                2535\n",
       "Communication Design                    2267\n",
       "Basic Education                         2105\n",
       "Informatics Engineering                 1935\n",
       "Animation and Multimedia Design         1792\n",
       "Social Service (evening attendance)     1531\n",
       "Equinculture                            1138\n",
       "Oral Hygiene                             492\n",
       "Biofuel Production Technologies           42\n",
       "Name: count, dtype: int64"
      ]
     },
     "execution_count": 99,
     "metadata": {},
     "output_type": "execute_result"
    }
   ],
   "source": [
    "test['Course'].value_counts()"
   ]
  },
  {
   "cell_type": "code",
   "execution_count": 100,
   "id": "c4d83cdc",
   "metadata": {
    "execution": {
     "iopub.execute_input": "2024-06-01T10:14:03.826865Z",
     "iopub.status.busy": "2024-06-01T10:14:03.825947Z",
     "iopub.status.idle": "2024-06-01T10:14:03.935851Z",
     "shell.execute_reply": "2024-06-01T10:14:03.934639Z"
    },
    "papermill": {
     "duration": 0.158016,
     "end_time": "2024-06-01T10:14:03.938185",
     "exception": false,
     "start_time": "2024-06-01T10:14:03.780169",
     "status": "completed"
    },
    "tags": []
   },
   "outputs": [
    {
     "name": "stdout",
     "output_type": "stream",
     "text": [
      "Previous qualification need to be worked on\n",
      "Nationality need to be worked on\n",
      "Mother's qualification need to be worked on\n",
      "Father's qualification need to be worked on\n"
     ]
    }
   ],
   "source": [
    "for i in test.select_dtypes(include=['object']).columns.tolist():\n",
    "    if (len(list(set(train[i].unique().tolist())^set(test[i].unique().tolist())))!=0):\n",
    "        print(i ,'need to be worked on')\n",
    "    else:\n",
    "        continue"
   ]
  },
  {
   "cell_type": "code",
   "execution_count": 101,
   "id": "a273c9ae",
   "metadata": {
    "execution": {
     "iopub.execute_input": "2024-06-01T10:14:04.029679Z",
     "iopub.status.busy": "2024-06-01T10:14:04.029289Z",
     "iopub.status.idle": "2024-06-01T10:14:04.039429Z",
     "shell.execute_reply": "2024-06-01T10:14:04.038305Z"
    },
    "papermill": {
     "duration": 0.058415,
     "end_time": "2024-06-01T10:14:04.041762",
     "exception": false,
     "start_time": "2024-06-01T10:14:03.983347",
     "status": "completed"
    },
    "tags": []
   },
   "outputs": [
    {
     "data": {
      "text/plain": [
       "[16, 36, 37]"
      ]
     },
     "execution_count": 101,
     "metadata": {},
     "output_type": "execute_result"
    }
   ],
   "source": [
    "list(set(train['Previous qualification'].unique().tolist())^set(test['Previous qualification'].unique().tolist()))"
   ]
  },
  {
   "cell_type": "code",
   "execution_count": 102,
   "id": "238cbafe",
   "metadata": {
    "execution": {
     "iopub.execute_input": "2024-06-01T10:14:04.134837Z",
     "iopub.status.busy": "2024-06-01T10:14:04.134482Z",
     "iopub.status.idle": "2024-06-01T10:14:04.224227Z",
     "shell.execute_reply": "2024-06-01T10:14:04.223161Z"
    },
    "papermill": {
     "duration": 0.139369,
     "end_time": "2024-06-01T10:14:04.226919",
     "exception": false,
     "start_time": "2024-06-01T10:14:04.087550",
     "status": "completed"
    },
    "tags": []
   },
   "outputs": [
    {
     "name": "stdout",
     "output_type": "stream",
     "text": [
      "<class 'pandas.core.frame.DataFrame'>\n",
      "Index: 76517 entries, 0 to 76517\n",
      "Data columns (total 37 columns):\n",
      " #   Column                                          Non-Null Count  Dtype  \n",
      "---  ------                                          --------------  -----  \n",
      " 0   Marital status                                  76517 non-null  object \n",
      " 1   Application mode                                76512 non-null  object \n",
      " 2   Application order                               76517 non-null  int64  \n",
      " 3   Course                                          76515 non-null  object \n",
      " 4   Daytime/evening attendance                      76517 non-null  object \n",
      " 5   Previous qualification                          76509 non-null  object \n",
      " 6   Previous qualification (grade)                  76517 non-null  float64\n",
      " 7   Nationality                                     76517 non-null  object \n",
      " 8   Mother's qualification                          76517 non-null  object \n",
      " 9   Father's qualification                          76517 non-null  object \n",
      " 10  Mother's occupation                             76517 non-null  int64  \n",
      " 11  Father's occupation                             76517 non-null  int64  \n",
      " 12  Admission grade                                 76517 non-null  int64  \n",
      " 13  Displaced                                       76517 non-null  object \n",
      " 14  Educational special needs                       76517 non-null  object \n",
      " 15  Debtor                                          76517 non-null  object \n",
      " 16  Tuition fees up to date                         76517 non-null  object \n",
      " 17  Gender                                          76517 non-null  object \n",
      " 18  Scholarship holder                              76517 non-null  object \n",
      " 19  Age at enrollment                               76517 non-null  int64  \n",
      " 20  International                                   76517 non-null  object \n",
      " 21  Curricular units 1st sem (credited)             76517 non-null  int64  \n",
      " 22  Curricular units 1st sem (enrolled)             76517 non-null  int64  \n",
      " 23  Curricular units 1st sem (evaluations)          76517 non-null  int64  \n",
      " 24  Curricular units 1st sem (approved)             76517 non-null  int64  \n",
      " 25  Curricular units 1st sem (grade)                76517 non-null  float64\n",
      " 26  Curricular units 1st sem (without evaluations)  76517 non-null  int64  \n",
      " 27  Curricular units 2nd sem (credited)             76517 non-null  int64  \n",
      " 28  Curricular units 2nd sem (enrolled)             76517 non-null  int64  \n",
      " 29  Curricular units 2nd sem (evaluations)          76517 non-null  int64  \n",
      " 30  Curricular units 2nd sem (approved)             76517 non-null  int64  \n",
      " 31  Curricular units 2nd sem (grade)                76517 non-null  float64\n",
      " 32  Curricular units 2nd sem (without evaluations)  76517 non-null  int64  \n",
      " 33  Unemployment rate                               76517 non-null  float64\n",
      " 34  Inflation rate                                  76517 non-null  float64\n",
      " 35  GDP                                             76517 non-null  float64\n",
      " 36  Target                                          76517 non-null  object \n",
      "dtypes: float64(6), int64(15), object(16)\n",
      "memory usage: 22.2+ MB\n"
     ]
    }
   ],
   "source": [
    "train['Previous qualification']=train['Previous qualification'].replace({37:np.NaN,\n",
    "                                         36:np.NaN, \n",
    "                                        17:np.NaN,\n",
    "                                        11:np.NaN})\n",
    "train.info()"
   ]
  },
  {
   "cell_type": "code",
   "execution_count": 103,
   "id": "8512ae46",
   "metadata": {
    "execution": {
     "iopub.execute_input": "2024-06-01T10:14:04.317928Z",
     "iopub.status.busy": "2024-06-01T10:14:04.317581Z",
     "iopub.status.idle": "2024-06-01T10:14:04.378622Z",
     "shell.execute_reply": "2024-06-01T10:14:04.377566Z"
    },
    "papermill": {
     "duration": 0.10964,
     "end_time": "2024-06-01T10:14:04.381281",
     "exception": false,
     "start_time": "2024-06-01T10:14:04.271641",
     "status": "completed"
    },
    "tags": []
   },
   "outputs": [
    {
     "name": "stdout",
     "output_type": "stream",
     "text": [
      "<class 'pandas.core.frame.DataFrame'>\n",
      "RangeIndex: 51012 entries, 0 to 51011\n",
      "Data columns (total 36 columns):\n",
      " #   Column                                          Non-Null Count  Dtype  \n",
      "---  ------                                          --------------  -----  \n",
      " 0   Marital status                                  51012 non-null  object \n",
      " 1   Application mode                                51007 non-null  object \n",
      " 2   Application order                               51012 non-null  int64  \n",
      " 3   Course                                          51008 non-null  object \n",
      " 4   Daytime/evening attendance                      51012 non-null  object \n",
      " 5   Previous qualification                          51009 non-null  object \n",
      " 6   Previous qualification (grade)                  51012 non-null  float64\n",
      " 7   Nationality                                     51012 non-null  object \n",
      " 8   Mother's qualification                          51012 non-null  object \n",
      " 9   Father's qualification                          51012 non-null  object \n",
      " 10  Mother's occupation                             51012 non-null  int64  \n",
      " 11  Father's occupation                             51012 non-null  int64  \n",
      " 12  Admission grade                                 51012 non-null  int64  \n",
      " 13  Displaced                                       51012 non-null  object \n",
      " 14  Educational special needs                       51012 non-null  object \n",
      " 15  Debtor                                          51012 non-null  object \n",
      " 16  Tuition fees up to date                         51012 non-null  object \n",
      " 17  Gender                                          51012 non-null  object \n",
      " 18  Scholarship holder                              51012 non-null  object \n",
      " 19  Age at enrollment                               51012 non-null  int64  \n",
      " 20  International                                   51012 non-null  object \n",
      " 21  Curricular units 1st sem (credited)             51012 non-null  int64  \n",
      " 22  Curricular units 1st sem (enrolled)             51012 non-null  int64  \n",
      " 23  Curricular units 1st sem (evaluations)          51012 non-null  int64  \n",
      " 24  Curricular units 1st sem (approved)             51012 non-null  int64  \n",
      " 25  Curricular units 1st sem (grade)                51012 non-null  float64\n",
      " 26  Curricular units 1st sem (without evaluations)  51012 non-null  int64  \n",
      " 27  Curricular units 2nd sem (credited)             51012 non-null  int64  \n",
      " 28  Curricular units 2nd sem (enrolled)             51012 non-null  int64  \n",
      " 29  Curricular units 2nd sem (evaluations)          51012 non-null  int64  \n",
      " 30  Curricular units 2nd sem (approved)             51012 non-null  int64  \n",
      " 31  Curricular units 2nd sem (grade)                51012 non-null  float64\n",
      " 32  Curricular units 2nd sem (without evaluations)  51012 non-null  int64  \n",
      " 33  Unemployment rate                               51012 non-null  float64\n",
      " 34  Inflation rate                                  51012 non-null  float64\n",
      " 35  GDP                                             51012 non-null  float64\n",
      "dtypes: float64(6), int64(15), object(15)\n",
      "memory usage: 14.0+ MB\n"
     ]
    }
   ],
   "source": [
    "test['Previous qualification']=test['Previous qualification'].replace({17:np.NaN,\n",
    "                                                                       11:np.NaN,\n",
    "                                                                       16:np.NaN})\n",
    "test.info()"
   ]
  },
  {
   "cell_type": "code",
   "execution_count": 104,
   "id": "2e29bf98",
   "metadata": {
    "execution": {
     "iopub.execute_input": "2024-06-01T10:14:04.473197Z",
     "iopub.status.busy": "2024-06-01T10:14:04.472770Z",
     "iopub.status.idle": "2024-06-01T10:14:04.482625Z",
     "shell.execute_reply": "2024-06-01T10:14:04.481671Z"
    },
    "papermill": {
     "duration": 0.058444,
     "end_time": "2024-06-01T10:14:04.484711",
     "exception": false,
     "start_time": "2024-06-01T10:14:04.426267",
     "status": "completed"
    },
    "tags": []
   },
   "outputs": [
    {
     "data": {
      "text/plain": [
       "[]"
      ]
     },
     "execution_count": 104,
     "metadata": {},
     "output_type": "execute_result"
    }
   ],
   "source": [
    "list(set(train['Previous qualification'].unique().tolist())^set(test['Previous qualification'].unique().tolist()))"
   ]
  },
  {
   "cell_type": "code",
   "execution_count": 105,
   "id": "e7f27d7f",
   "metadata": {
    "execution": {
     "iopub.execute_input": "2024-06-01T10:14:04.576603Z",
     "iopub.status.busy": "2024-06-01T10:14:04.576078Z",
     "iopub.status.idle": "2024-06-01T10:14:04.589158Z",
     "shell.execute_reply": "2024-06-01T10:14:04.588121Z"
    },
    "papermill": {
     "duration": 0.061476,
     "end_time": "2024-06-01T10:14:04.591291",
     "exception": false,
     "start_time": "2024-06-01T10:14:04.529815",
     "status": "completed"
    },
    "tags": []
   },
   "outputs": [
    {
     "data": {
      "text/plain": [
       "Previous qualification\n",
       "Secondary education                                         67182\n",
       "Basic education 3rd cycle (9th/10th/11th year) or equiv.     2947\n",
       "Technological specialization course                          2928\n",
       "Higher education - degree                                    1401\n",
       "Other - 11th year of schooling                                899\n",
       "12th year of schooling - not completed                        308\n",
       "Higher education - degree (1st cycle)                         259\n",
       "Professional higher technical course                          229\n",
       "Higher education - bachelor's degree                           98\n",
       "Frequency of higher education                                  98\n",
       "11th year of schooling - not completed                         43\n",
       "Higher education - master (2nd cycle)                          39\n",
       "Basic education 2nd cycle (6th/7th/8th year) or equiv.         38\n",
       "Higher education - master's                                    23\n",
       "10th year of schooling - not completed                         11\n",
       "10th year of schooling                                          3\n",
       "Higher education - doctorate                                    3\n",
       "Name: count, dtype: int64"
      ]
     },
     "execution_count": 105,
     "metadata": {},
     "output_type": "execute_result"
    }
   ],
   "source": [
    "train['Previous qualification'].value_counts()"
   ]
  },
  {
   "cell_type": "code",
   "execution_count": 106,
   "id": "ab54aeb6",
   "metadata": {
    "execution": {
     "iopub.execute_input": "2024-06-01T10:14:04.684902Z",
     "iopub.status.busy": "2024-06-01T10:14:04.684439Z",
     "iopub.status.idle": "2024-06-01T10:14:04.696510Z",
     "shell.execute_reply": "2024-06-01T10:14:04.695434Z"
    },
    "papermill": {
     "duration": 0.061884,
     "end_time": "2024-06-01T10:14:04.698646",
     "exception": false,
     "start_time": "2024-06-01T10:14:04.636762",
     "status": "completed"
    },
    "tags": []
   },
   "outputs": [
    {
     "data": {
      "text/plain": [
       "Previous qualification\n",
       "Secondary education                                         44823\n",
       "Basic education 3rd cycle (9th/10th/11th year) or equiv.     1983\n",
       "Technological specialization course                          1927\n",
       "Higher education - degree                                     939\n",
       "Other - 11th year of schooling                                583\n",
       "12th year of schooling - not completed                        200\n",
       "Higher education - degree (1st cycle)                         170\n",
       "Professional higher technical course                          151\n",
       "Higher education - bachelor's degree                           67\n",
       "Frequency of higher education                                  58\n",
       "Basic education 2nd cycle (6th/7th/8th year) or equiv.         27\n",
       "11th year of schooling - not completed                         26\n",
       "Higher education - master (2nd cycle)                          22\n",
       "Higher education - master's                                    19\n",
       "10th year of schooling - not completed                          9\n",
       "10th year of schooling                                          3\n",
       "Higher education - doctorate                                    2\n",
       "Name: count, dtype: int64"
      ]
     },
     "execution_count": 106,
     "metadata": {},
     "output_type": "execute_result"
    }
   ],
   "source": [
    "test['Previous qualification'].value_counts()"
   ]
  },
  {
   "cell_type": "code",
   "execution_count": 107,
   "id": "1c72bf77",
   "metadata": {
    "execution": {
     "iopub.execute_input": "2024-06-01T10:14:04.791606Z",
     "iopub.status.busy": "2024-06-01T10:14:04.791233Z",
     "iopub.status.idle": "2024-06-01T10:14:04.901476Z",
     "shell.execute_reply": "2024-06-01T10:14:04.900085Z"
    },
    "papermill": {
     "duration": 0.159594,
     "end_time": "2024-06-01T10:14:04.903800",
     "exception": false,
     "start_time": "2024-06-01T10:14:04.744206",
     "status": "completed"
    },
    "tags": []
   },
   "outputs": [
    {
     "name": "stdout",
     "output_type": "stream",
     "text": [
      "Nationality need to be worked on\n",
      "Mother's qualification need to be worked on\n",
      "Father's qualification need to be worked on\n"
     ]
    }
   ],
   "source": [
    "for i in test.select_dtypes(include=['object']).columns.tolist():\n",
    "    if (len(list(set(train[i].unique().tolist())^set(test[i].unique().tolist())))!=0):\n",
    "        print(i ,'need to be worked on')\n",
    "    else:\n",
    "        continue"
   ]
  },
  {
   "cell_type": "code",
   "execution_count": 108,
   "id": "6cac6a89",
   "metadata": {
    "execution": {
     "iopub.execute_input": "2024-06-01T10:14:04.995953Z",
     "iopub.status.busy": "2024-06-01T10:14:04.995566Z",
     "iopub.status.idle": "2024-06-01T10:14:05.009784Z",
     "shell.execute_reply": "2024-06-01T10:14:05.008785Z"
    },
    "papermill": {
     "duration": 0.063194,
     "end_time": "2024-06-01T10:14:05.012205",
     "exception": false,
     "start_time": "2024-06-01T10:14:04.949011",
     "status": "completed"
    },
    "tags": []
   },
   "outputs": [
    {
     "data": {
      "text/plain": [
       "['English', 'Lithuanian']"
      ]
     },
     "execution_count": 108,
     "metadata": {},
     "output_type": "execute_result"
    }
   ],
   "source": [
    "list(set(train['Nationality'].unique().tolist())^set(test['Nationality'].unique().tolist()))"
   ]
  },
  {
   "cell_type": "code",
   "execution_count": 109,
   "id": "c6580d62",
   "metadata": {
    "execution": {
     "iopub.execute_input": "2024-06-01T10:14:05.107926Z",
     "iopub.status.busy": "2024-06-01T10:14:05.107541Z",
     "iopub.status.idle": "2024-06-01T10:14:05.134178Z",
     "shell.execute_reply": "2024-06-01T10:14:05.133112Z"
    },
    "papermill": {
     "duration": 0.077439,
     "end_time": "2024-06-01T10:14:05.136412",
     "exception": false,
     "start_time": "2024-06-01T10:14:05.058973",
     "status": "completed"
    },
    "tags": []
   },
   "outputs": [
    {
     "data": {
      "text/html": [
       "<div>\n",
       "<style scoped>\n",
       "    .dataframe tbody tr th:only-of-type {\n",
       "        vertical-align: middle;\n",
       "    }\n",
       "\n",
       "    .dataframe tbody tr th {\n",
       "        vertical-align: top;\n",
       "    }\n",
       "\n",
       "    .dataframe thead th {\n",
       "        text-align: right;\n",
       "    }\n",
       "</style>\n",
       "<table border=\"1\" class=\"dataframe\">\n",
       "  <thead>\n",
       "    <tr style=\"text-align: right;\">\n",
       "      <th></th>\n",
       "      <th>Marital status</th>\n",
       "      <th>Application mode</th>\n",
       "      <th>Application order</th>\n",
       "      <th>Course</th>\n",
       "      <th>Daytime/evening attendance</th>\n",
       "      <th>Previous qualification</th>\n",
       "      <th>Previous qualification (grade)</th>\n",
       "      <th>Nationality</th>\n",
       "      <th>Mother's qualification</th>\n",
       "      <th>Father's qualification</th>\n",
       "      <th>...</th>\n",
       "      <th>Curricular units 1st sem (without evaluations)</th>\n",
       "      <th>Curricular units 2nd sem (credited)</th>\n",
       "      <th>Curricular units 2nd sem (enrolled)</th>\n",
       "      <th>Curricular units 2nd sem (evaluations)</th>\n",
       "      <th>Curricular units 2nd sem (approved)</th>\n",
       "      <th>Curricular units 2nd sem (grade)</th>\n",
       "      <th>Curricular units 2nd sem (without evaluations)</th>\n",
       "      <th>Unemployment rate</th>\n",
       "      <th>Inflation rate</th>\n",
       "      <th>GDP</th>\n",
       "    </tr>\n",
       "  </thead>\n",
       "  <tbody>\n",
       "    <tr>\n",
       "      <th>47361</th>\n",
       "      <td>single</td>\n",
       "      <td>2nd phase - general contingent</td>\n",
       "      <td>2</td>\n",
       "      <td>Journalism and Communication</td>\n",
       "      <td>daytime</td>\n",
       "      <td>Secondary education</td>\n",
       "      <td>150.0</td>\n",
       "      <td>English</td>\n",
       "      <td>Secondary Education - 12th Year of Schooling o...</td>\n",
       "      <td>Basic Education 3rd Cycle (9th/10th/11th Year)...</td>\n",
       "      <td>...</td>\n",
       "      <td>0</td>\n",
       "      <td>0</td>\n",
       "      <td>6</td>\n",
       "      <td>7</td>\n",
       "      <td>6</td>\n",
       "      <td>12.666667</td>\n",
       "      <td>0</td>\n",
       "      <td>8.9</td>\n",
       "      <td>1.4</td>\n",
       "      <td>3.51</td>\n",
       "    </tr>\n",
       "  </tbody>\n",
       "</table>\n",
       "<p>1 rows × 36 columns</p>\n",
       "</div>"
      ],
      "text/plain": [
       "      Marital status                Application mode  Application order  \\\n",
       "47361         single  2nd phase - general contingent                  2   \n",
       "\n",
       "                             Course Daytime/evening attendance  \\\n",
       "47361  Journalism and Communication                    daytime   \n",
       "\n",
       "      Previous qualification  Previous qualification (grade) Nationality  \\\n",
       "47361    Secondary education                           150.0     English   \n",
       "\n",
       "                                  Mother's qualification  \\\n",
       "47361  Secondary Education - 12th Year of Schooling o...   \n",
       "\n",
       "                                  Father's qualification  ...  \\\n",
       "47361  Basic Education 3rd Cycle (9th/10th/11th Year)...  ...   \n",
       "\n",
       "       Curricular units 1st sem (without evaluations)  \\\n",
       "47361                                               0   \n",
       "\n",
       "       Curricular units 2nd sem (credited)  \\\n",
       "47361                                    0   \n",
       "\n",
       "       Curricular units 2nd sem (enrolled)  \\\n",
       "47361                                    6   \n",
       "\n",
       "      Curricular units 2nd sem (evaluations)  \\\n",
       "47361                                      7   \n",
       "\n",
       "      Curricular units 2nd sem (approved) Curricular units 2nd sem (grade)  \\\n",
       "47361                                   6                        12.666667   \n",
       "\n",
       "      Curricular units 2nd sem (without evaluations) Unemployment rate  \\\n",
       "47361                                              0               8.9   \n",
       "\n",
       "      Inflation rate   GDP  \n",
       "47361            1.4  3.51  \n",
       "\n",
       "[1 rows x 36 columns]"
      ]
     },
     "execution_count": 109,
     "metadata": {},
     "output_type": "execute_result"
    }
   ],
   "source": [
    "test[test['Nationality']=='English'].head()"
   ]
  },
  {
   "cell_type": "code",
   "execution_count": 110,
   "id": "ebff6b9f",
   "metadata": {
    "execution": {
     "iopub.execute_input": "2024-06-01T10:14:05.231532Z",
     "iopub.status.busy": "2024-06-01T10:14:05.231126Z",
     "iopub.status.idle": "2024-06-01T10:14:05.286829Z",
     "shell.execute_reply": "2024-06-01T10:14:05.285712Z"
    },
    "papermill": {
     "duration": 0.105477,
     "end_time": "2024-06-01T10:14:05.289370",
     "exception": false,
     "start_time": "2024-06-01T10:14:05.183893",
     "status": "completed"
    },
    "tags": []
   },
   "outputs": [
    {
     "name": "stdout",
     "output_type": "stream",
     "text": [
      "<class 'pandas.core.frame.DataFrame'>\n",
      "RangeIndex: 51012 entries, 0 to 51011\n",
      "Data columns (total 36 columns):\n",
      " #   Column                                          Non-Null Count  Dtype  \n",
      "---  ------                                          --------------  -----  \n",
      " 0   Marital status                                  51012 non-null  object \n",
      " 1   Application mode                                51007 non-null  object \n",
      " 2   Application order                               51012 non-null  int64  \n",
      " 3   Course                                          51008 non-null  object \n",
      " 4   Daytime/evening attendance                      51012 non-null  object \n",
      " 5   Previous qualification                          51009 non-null  object \n",
      " 6   Previous qualification (grade)                  51012 non-null  float64\n",
      " 7   Nationality                                     51011 non-null  object \n",
      " 8   Mother's qualification                          51012 non-null  object \n",
      " 9   Father's qualification                          51012 non-null  object \n",
      " 10  Mother's occupation                             51012 non-null  int64  \n",
      " 11  Father's occupation                             51012 non-null  int64  \n",
      " 12  Admission grade                                 51012 non-null  int64  \n",
      " 13  Displaced                                       51012 non-null  object \n",
      " 14  Educational special needs                       51012 non-null  object \n",
      " 15  Debtor                                          51012 non-null  object \n",
      " 16  Tuition fees up to date                         51012 non-null  object \n",
      " 17  Gender                                          51012 non-null  object \n",
      " 18  Scholarship holder                              51012 non-null  object \n",
      " 19  Age at enrollment                               51012 non-null  int64  \n",
      " 20  International                                   51012 non-null  object \n",
      " 21  Curricular units 1st sem (credited)             51012 non-null  int64  \n",
      " 22  Curricular units 1st sem (enrolled)             51012 non-null  int64  \n",
      " 23  Curricular units 1st sem (evaluations)          51012 non-null  int64  \n",
      " 24  Curricular units 1st sem (approved)             51012 non-null  int64  \n",
      " 25  Curricular units 1st sem (grade)                51012 non-null  float64\n",
      " 26  Curricular units 1st sem (without evaluations)  51012 non-null  int64  \n",
      " 27  Curricular units 2nd sem (credited)             51012 non-null  int64  \n",
      " 28  Curricular units 2nd sem (enrolled)             51012 non-null  int64  \n",
      " 29  Curricular units 2nd sem (evaluations)          51012 non-null  int64  \n",
      " 30  Curricular units 2nd sem (approved)             51012 non-null  int64  \n",
      " 31  Curricular units 2nd sem (grade)                51012 non-null  float64\n",
      " 32  Curricular units 2nd sem (without evaluations)  51012 non-null  int64  \n",
      " 33  Unemployment rate                               51012 non-null  float64\n",
      " 34  Inflation rate                                  51012 non-null  float64\n",
      " 35  GDP                                             51012 non-null  float64\n",
      "dtypes: float64(6), int64(15), object(15)\n",
      "memory usage: 14.0+ MB\n"
     ]
    }
   ],
   "source": [
    "test['Nationality']=test['Nationality'].replace({'English':np.NaN})\n",
    "test.info()"
   ]
  },
  {
   "cell_type": "code",
   "execution_count": 111,
   "id": "0f16b6f2",
   "metadata": {
    "execution": {
     "iopub.execute_input": "2024-06-01T10:14:05.383594Z",
     "iopub.status.busy": "2024-06-01T10:14:05.383183Z",
     "iopub.status.idle": "2024-06-01T10:14:05.412925Z",
     "shell.execute_reply": "2024-06-01T10:14:05.411836Z"
    },
    "papermill": {
     "duration": 0.079251,
     "end_time": "2024-06-01T10:14:05.415212",
     "exception": false,
     "start_time": "2024-06-01T10:14:05.335961",
     "status": "completed"
    },
    "tags": []
   },
   "outputs": [
    {
     "data": {
      "text/html": [
       "<div>\n",
       "<style scoped>\n",
       "    .dataframe tbody tr th:only-of-type {\n",
       "        vertical-align: middle;\n",
       "    }\n",
       "\n",
       "    .dataframe tbody tr th {\n",
       "        vertical-align: top;\n",
       "    }\n",
       "\n",
       "    .dataframe thead th {\n",
       "        text-align: right;\n",
       "    }\n",
       "</style>\n",
       "<table border=\"1\" class=\"dataframe\">\n",
       "  <thead>\n",
       "    <tr style=\"text-align: right;\">\n",
       "      <th></th>\n",
       "      <th>Marital status</th>\n",
       "      <th>Application mode</th>\n",
       "      <th>Application order</th>\n",
       "      <th>Course</th>\n",
       "      <th>Daytime/evening attendance</th>\n",
       "      <th>Previous qualification</th>\n",
       "      <th>Previous qualification (grade)</th>\n",
       "      <th>Nationality</th>\n",
       "      <th>Mother's qualification</th>\n",
       "      <th>Father's qualification</th>\n",
       "      <th>...</th>\n",
       "      <th>Curricular units 2nd sem (credited)</th>\n",
       "      <th>Curricular units 2nd sem (enrolled)</th>\n",
       "      <th>Curricular units 2nd sem (evaluations)</th>\n",
       "      <th>Curricular units 2nd sem (approved)</th>\n",
       "      <th>Curricular units 2nd sem (grade)</th>\n",
       "      <th>Curricular units 2nd sem (without evaluations)</th>\n",
       "      <th>Unemployment rate</th>\n",
       "      <th>Inflation rate</th>\n",
       "      <th>GDP</th>\n",
       "      <th>Target</th>\n",
       "    </tr>\n",
       "  </thead>\n",
       "  <tbody>\n",
       "    <tr>\n",
       "      <th>23632</th>\n",
       "      <td>single</td>\n",
       "      <td>3rd phase - general contingent</td>\n",
       "      <td>1</td>\n",
       "      <td>Journalism and Communication</td>\n",
       "      <td>daytime</td>\n",
       "      <td>Secondary education</td>\n",
       "      <td>121.0</td>\n",
       "      <td>Lithuanian</td>\n",
       "      <td>Higher Education - Bachelor's Degree</td>\n",
       "      <td>Secondary Education - 12th Year of Schooling o...</td>\n",
       "      <td>...</td>\n",
       "      <td>0</td>\n",
       "      <td>6</td>\n",
       "      <td>0</td>\n",
       "      <td>0</td>\n",
       "      <td>0.0</td>\n",
       "      <td>0</td>\n",
       "      <td>12.4</td>\n",
       "      <td>0.5</td>\n",
       "      <td>1.79</td>\n",
       "      <td>Dropout</td>\n",
       "    </tr>\n",
       "    <tr>\n",
       "      <th>41150</th>\n",
       "      <td>single</td>\n",
       "      <td>2nd phase - general contingent</td>\n",
       "      <td>2</td>\n",
       "      <td>Journalism and Communication</td>\n",
       "      <td>daytime</td>\n",
       "      <td>Secondary education</td>\n",
       "      <td>131.0</td>\n",
       "      <td>Lithuanian</td>\n",
       "      <td>Higher Education - Degree</td>\n",
       "      <td>Basic Education 2nd Cycle (6th/7th/8th Year) o...</td>\n",
       "      <td>...</td>\n",
       "      <td>0</td>\n",
       "      <td>6</td>\n",
       "      <td>8</td>\n",
       "      <td>5</td>\n",
       "      <td>11.2</td>\n",
       "      <td>0</td>\n",
       "      <td>12.7</td>\n",
       "      <td>3.7</td>\n",
       "      <td>-1.70</td>\n",
       "      <td>Graduate</td>\n",
       "    </tr>\n",
       "  </tbody>\n",
       "</table>\n",
       "<p>2 rows × 37 columns</p>\n",
       "</div>"
      ],
      "text/plain": [
       "      Marital status                Application mode  Application order  \\\n",
       "23632         single  3rd phase - general contingent                  1   \n",
       "41150         single  2nd phase - general contingent                  2   \n",
       "\n",
       "                             Course Daytime/evening attendance  \\\n",
       "23632  Journalism and Communication                    daytime   \n",
       "41150  Journalism and Communication                    daytime   \n",
       "\n",
       "      Previous qualification  Previous qualification (grade) Nationality  \\\n",
       "23632    Secondary education                           121.0  Lithuanian   \n",
       "41150    Secondary education                           131.0  Lithuanian   \n",
       "\n",
       "                     Mother's qualification  \\\n",
       "23632  Higher Education - Bachelor's Degree   \n",
       "41150             Higher Education - Degree   \n",
       "\n",
       "                                  Father's qualification  ...  \\\n",
       "23632  Secondary Education - 12th Year of Schooling o...  ...   \n",
       "41150  Basic Education 2nd Cycle (6th/7th/8th Year) o...  ...   \n",
       "\n",
       "       Curricular units 2nd sem (credited)  \\\n",
       "23632                                    0   \n",
       "41150                                    0   \n",
       "\n",
       "       Curricular units 2nd sem (enrolled)  \\\n",
       "23632                                    6   \n",
       "41150                                    6   \n",
       "\n",
       "       Curricular units 2nd sem (evaluations)  \\\n",
       "23632                                       0   \n",
       "41150                                       8   \n",
       "\n",
       "      Curricular units 2nd sem (approved) Curricular units 2nd sem (grade)  \\\n",
       "23632                                   0                              0.0   \n",
       "41150                                   5                             11.2   \n",
       "\n",
       "      Curricular units 2nd sem (without evaluations) Unemployment rate  \\\n",
       "23632                                              0              12.4   \n",
       "41150                                              0              12.7   \n",
       "\n",
       "      Inflation rate   GDP    Target  \n",
       "23632            0.5  1.79   Dropout  \n",
       "41150            3.7 -1.70  Graduate  \n",
       "\n",
       "[2 rows x 37 columns]"
      ]
     },
     "execution_count": 111,
     "metadata": {},
     "output_type": "execute_result"
    }
   ],
   "source": [
    "train[train['Nationality']=='Lithuanian'].head()"
   ]
  },
  {
   "cell_type": "code",
   "execution_count": 112,
   "id": "954642e4",
   "metadata": {
    "execution": {
     "iopub.execute_input": "2024-06-01T10:14:05.509855Z",
     "iopub.status.busy": "2024-06-01T10:14:05.508979Z",
     "iopub.status.idle": "2024-06-01T10:14:05.590166Z",
     "shell.execute_reply": "2024-06-01T10:14:05.588499Z"
    },
    "papermill": {
     "duration": 0.131066,
     "end_time": "2024-06-01T10:14:05.592678",
     "exception": false,
     "start_time": "2024-06-01T10:14:05.461612",
     "status": "completed"
    },
    "tags": []
   },
   "outputs": [
    {
     "name": "stdout",
     "output_type": "stream",
     "text": [
      "<class 'pandas.core.frame.DataFrame'>\n",
      "Index: 76517 entries, 0 to 76517\n",
      "Data columns (total 37 columns):\n",
      " #   Column                                          Non-Null Count  Dtype  \n",
      "---  ------                                          --------------  -----  \n",
      " 0   Marital status                                  76517 non-null  object \n",
      " 1   Application mode                                76512 non-null  object \n",
      " 2   Application order                               76517 non-null  int64  \n",
      " 3   Course                                          76515 non-null  object \n",
      " 4   Daytime/evening attendance                      76517 non-null  object \n",
      " 5   Previous qualification                          76509 non-null  object \n",
      " 6   Previous qualification (grade)                  76517 non-null  float64\n",
      " 7   Nationality                                     76515 non-null  object \n",
      " 8   Mother's qualification                          76517 non-null  object \n",
      " 9   Father's qualification                          76517 non-null  object \n",
      " 10  Mother's occupation                             76517 non-null  int64  \n",
      " 11  Father's occupation                             76517 non-null  int64  \n",
      " 12  Admission grade                                 76517 non-null  int64  \n",
      " 13  Displaced                                       76517 non-null  object \n",
      " 14  Educational special needs                       76517 non-null  object \n",
      " 15  Debtor                                          76517 non-null  object \n",
      " 16  Tuition fees up to date                         76517 non-null  object \n",
      " 17  Gender                                          76517 non-null  object \n",
      " 18  Scholarship holder                              76517 non-null  object \n",
      " 19  Age at enrollment                               76517 non-null  int64  \n",
      " 20  International                                   76517 non-null  object \n",
      " 21  Curricular units 1st sem (credited)             76517 non-null  int64  \n",
      " 22  Curricular units 1st sem (enrolled)             76517 non-null  int64  \n",
      " 23  Curricular units 1st sem (evaluations)          76517 non-null  int64  \n",
      " 24  Curricular units 1st sem (approved)             76517 non-null  int64  \n",
      " 25  Curricular units 1st sem (grade)                76517 non-null  float64\n",
      " 26  Curricular units 1st sem (without evaluations)  76517 non-null  int64  \n",
      " 27  Curricular units 2nd sem (credited)             76517 non-null  int64  \n",
      " 28  Curricular units 2nd sem (enrolled)             76517 non-null  int64  \n",
      " 29  Curricular units 2nd sem (evaluations)          76517 non-null  int64  \n",
      " 30  Curricular units 2nd sem (approved)             76517 non-null  int64  \n",
      " 31  Curricular units 2nd sem (grade)                76517 non-null  float64\n",
      " 32  Curricular units 2nd sem (without evaluations)  76517 non-null  int64  \n",
      " 33  Unemployment rate                               76517 non-null  float64\n",
      " 34  Inflation rate                                  76517 non-null  float64\n",
      " 35  GDP                                             76517 non-null  float64\n",
      " 36  Target                                          76517 non-null  object \n",
      "dtypes: float64(6), int64(15), object(16)\n",
      "memory usage: 22.2+ MB\n"
     ]
    }
   ],
   "source": [
    "train['Nationality']=train['Nationality'].replace({'Lithuanian':np.NaN})\n",
    "train.info()"
   ]
  },
  {
   "cell_type": "code",
   "execution_count": 113,
   "id": "e738f387",
   "metadata": {
    "execution": {
     "iopub.execute_input": "2024-06-01T10:14:05.687729Z",
     "iopub.status.busy": "2024-06-01T10:14:05.687269Z",
     "iopub.status.idle": "2024-06-01T10:14:05.700697Z",
     "shell.execute_reply": "2024-06-01T10:14:05.699664Z"
    },
    "papermill": {
     "duration": 0.063899,
     "end_time": "2024-06-01T10:14:05.702835",
     "exception": false,
     "start_time": "2024-06-01T10:14:05.638936",
     "status": "completed"
    },
    "tags": []
   },
   "outputs": [
    {
     "data": {
      "text/plain": [
       "Nationality\n",
       "Portuguese               76012\n",
       "Brazilian                  221\n",
       "Santomean                   67\n",
       "Cape Verdean                56\n",
       "Spanish                     56\n",
       "Italian                     15\n",
       "Guinean                     15\n",
       "German                      13\n",
       "Ukrainian                   12\n",
       "Moldova (Republic of)        9\n",
       "Mexican                      9\n",
       "Russian                      9\n",
       "Angolan                      6\n",
       "Mozambican                   6\n",
       "Romanian                     6\n",
       "Colombian                    2\n",
       "Turkish                      1\n",
       "Name: count, dtype: int64"
      ]
     },
     "execution_count": 113,
     "metadata": {},
     "output_type": "execute_result"
    }
   ],
   "source": [
    "train['Nationality'].value_counts()"
   ]
  },
  {
   "cell_type": "code",
   "execution_count": 114,
   "id": "f9848efc",
   "metadata": {
    "execution": {
     "iopub.execute_input": "2024-06-01T10:14:05.798907Z",
     "iopub.status.busy": "2024-06-01T10:14:05.797827Z",
     "iopub.status.idle": "2024-06-01T10:14:05.809133Z",
     "shell.execute_reply": "2024-06-01T10:14:05.808152Z"
    },
    "papermill": {
     "duration": 0.061555,
     "end_time": "2024-06-01T10:14:05.811314",
     "exception": false,
     "start_time": "2024-06-01T10:14:05.749759",
     "status": "completed"
    },
    "tags": []
   },
   "outputs": [
    {
     "data": {
      "text/plain": [
       "Nationality\n",
       "Portuguese               50719\n",
       "Brazilian                  106\n",
       "Santomean                   37\n",
       "Cape Verdean                36\n",
       "Spanish                     33\n",
       "Guinean                     13\n",
       "Romanian                    11\n",
       "Italian                      9\n",
       "Moldova (Republic of)        8\n",
       "German                       8\n",
       "Russian                      7\n",
       "Ukrainian                    7\n",
       "Mozambican                   7\n",
       "Angolan                      3\n",
       "Mexican                      3\n",
       "Turkish                      2\n",
       "Colombian                    2\n",
       "Name: count, dtype: int64"
      ]
     },
     "execution_count": 114,
     "metadata": {},
     "output_type": "execute_result"
    }
   ],
   "source": [
    "test['Nationality'].value_counts()"
   ]
  },
  {
   "cell_type": "code",
   "execution_count": 115,
   "id": "f753a4ed",
   "metadata": {
    "execution": {
     "iopub.execute_input": "2024-06-01T10:14:05.905805Z",
     "iopub.status.busy": "2024-06-01T10:14:05.905437Z",
     "iopub.status.idle": "2024-06-01T10:14:05.986005Z",
     "shell.execute_reply": "2024-06-01T10:14:05.984383Z"
    },
    "papermill": {
     "duration": 0.130676,
     "end_time": "2024-06-01T10:14:05.988482",
     "exception": false,
     "start_time": "2024-06-01T10:14:05.857806",
     "status": "completed"
    },
    "tags": []
   },
   "outputs": [
    {
     "name": "stdout",
     "output_type": "stream",
     "text": [
      "<class 'pandas.core.frame.DataFrame'>\n",
      "Index: 76517 entries, 0 to 76517\n",
      "Data columns (total 37 columns):\n",
      " #   Column                                          Non-Null Count  Dtype  \n",
      "---  ------                                          --------------  -----  \n",
      " 0   Marital status                                  76517 non-null  object \n",
      " 1   Application mode                                76512 non-null  object \n",
      " 2   Application order                               76517 non-null  int64  \n",
      " 3   Course                                          76515 non-null  object \n",
      " 4   Daytime/evening attendance                      76517 non-null  object \n",
      " 5   Previous qualification                          76509 non-null  object \n",
      " 6   Previous qualification (grade)                  76517 non-null  float64\n",
      " 7   Nationality                                     76514 non-null  object \n",
      " 8   Mother's qualification                          76517 non-null  object \n",
      " 9   Father's qualification                          76517 non-null  object \n",
      " 10  Mother's occupation                             76517 non-null  int64  \n",
      " 11  Father's occupation                             76517 non-null  int64  \n",
      " 12  Admission grade                                 76517 non-null  int64  \n",
      " 13  Displaced                                       76517 non-null  object \n",
      " 14  Educational special needs                       76517 non-null  object \n",
      " 15  Debtor                                          76517 non-null  object \n",
      " 16  Tuition fees up to date                         76517 non-null  object \n",
      " 17  Gender                                          76517 non-null  object \n",
      " 18  Scholarship holder                              76517 non-null  object \n",
      " 19  Age at enrollment                               76517 non-null  int64  \n",
      " 20  International                                   76517 non-null  object \n",
      " 21  Curricular units 1st sem (credited)             76517 non-null  int64  \n",
      " 22  Curricular units 1st sem (enrolled)             76517 non-null  int64  \n",
      " 23  Curricular units 1st sem (evaluations)          76517 non-null  int64  \n",
      " 24  Curricular units 1st sem (approved)             76517 non-null  int64  \n",
      " 25  Curricular units 1st sem (grade)                76517 non-null  float64\n",
      " 26  Curricular units 1st sem (without evaluations)  76517 non-null  int64  \n",
      " 27  Curricular units 2nd sem (credited)             76517 non-null  int64  \n",
      " 28  Curricular units 2nd sem (enrolled)             76517 non-null  int64  \n",
      " 29  Curricular units 2nd sem (evaluations)          76517 non-null  int64  \n",
      " 30  Curricular units 2nd sem (approved)             76517 non-null  int64  \n",
      " 31  Curricular units 2nd sem (grade)                76517 non-null  float64\n",
      " 32  Curricular units 2nd sem (without evaluations)  76517 non-null  int64  \n",
      " 33  Unemployment rate                               76517 non-null  float64\n",
      " 34  Inflation rate                                  76517 non-null  float64\n",
      " 35  GDP                                             76517 non-null  float64\n",
      " 36  Target                                          76517 non-null  object \n",
      "dtypes: float64(6), int64(15), object(16)\n",
      "memory usage: 22.2+ MB\n"
     ]
    }
   ],
   "source": [
    "train['Nationality']=train['Nationality'].replace({'Turkish':np.NaN})\n",
    "train.info()"
   ]
  },
  {
   "cell_type": "code",
   "execution_count": 116,
   "id": "0be6449c",
   "metadata": {
    "execution": {
     "iopub.execute_input": "2024-06-01T10:14:06.083654Z",
     "iopub.status.busy": "2024-06-01T10:14:06.083273Z",
     "iopub.status.idle": "2024-06-01T10:14:06.139871Z",
     "shell.execute_reply": "2024-06-01T10:14:06.138538Z"
    },
    "papermill": {
     "duration": 0.106935,
     "end_time": "2024-06-01T10:14:06.142281",
     "exception": false,
     "start_time": "2024-06-01T10:14:06.035346",
     "status": "completed"
    },
    "tags": []
   },
   "outputs": [
    {
     "name": "stdout",
     "output_type": "stream",
     "text": [
      "<class 'pandas.core.frame.DataFrame'>\n",
      "RangeIndex: 51012 entries, 0 to 51011\n",
      "Data columns (total 36 columns):\n",
      " #   Column                                          Non-Null Count  Dtype  \n",
      "---  ------                                          --------------  -----  \n",
      " 0   Marital status                                  51012 non-null  object \n",
      " 1   Application mode                                51007 non-null  object \n",
      " 2   Application order                               51012 non-null  int64  \n",
      " 3   Course                                          51008 non-null  object \n",
      " 4   Daytime/evening attendance                      51012 non-null  object \n",
      " 5   Previous qualification                          51009 non-null  object \n",
      " 6   Previous qualification (grade)                  51012 non-null  float64\n",
      " 7   Nationality                                     51009 non-null  object \n",
      " 8   Mother's qualification                          51012 non-null  object \n",
      " 9   Father's qualification                          51012 non-null  object \n",
      " 10  Mother's occupation                             51012 non-null  int64  \n",
      " 11  Father's occupation                             51012 non-null  int64  \n",
      " 12  Admission grade                                 51012 non-null  int64  \n",
      " 13  Displaced                                       51012 non-null  object \n",
      " 14  Educational special needs                       51012 non-null  object \n",
      " 15  Debtor                                          51012 non-null  object \n",
      " 16  Tuition fees up to date                         51012 non-null  object \n",
      " 17  Gender                                          51012 non-null  object \n",
      " 18  Scholarship holder                              51012 non-null  object \n",
      " 19  Age at enrollment                               51012 non-null  int64  \n",
      " 20  International                                   51012 non-null  object \n",
      " 21  Curricular units 1st sem (credited)             51012 non-null  int64  \n",
      " 22  Curricular units 1st sem (enrolled)             51012 non-null  int64  \n",
      " 23  Curricular units 1st sem (evaluations)          51012 non-null  int64  \n",
      " 24  Curricular units 1st sem (approved)             51012 non-null  int64  \n",
      " 25  Curricular units 1st sem (grade)                51012 non-null  float64\n",
      " 26  Curricular units 1st sem (without evaluations)  51012 non-null  int64  \n",
      " 27  Curricular units 2nd sem (credited)             51012 non-null  int64  \n",
      " 28  Curricular units 2nd sem (enrolled)             51012 non-null  int64  \n",
      " 29  Curricular units 2nd sem (evaluations)          51012 non-null  int64  \n",
      " 30  Curricular units 2nd sem (approved)             51012 non-null  int64  \n",
      " 31  Curricular units 2nd sem (grade)                51012 non-null  float64\n",
      " 32  Curricular units 2nd sem (without evaluations)  51012 non-null  int64  \n",
      " 33  Unemployment rate                               51012 non-null  float64\n",
      " 34  Inflation rate                                  51012 non-null  float64\n",
      " 35  GDP                                             51012 non-null  float64\n",
      "dtypes: float64(6), int64(15), object(15)\n",
      "memory usage: 14.0+ MB\n"
     ]
    }
   ],
   "source": [
    "test['Nationality']=test['Nationality'].replace({'Turkish':np.NaN})\n",
    "test.info()"
   ]
  },
  {
   "cell_type": "code",
   "execution_count": 117,
   "id": "35d5de02",
   "metadata": {
    "execution": {
     "iopub.execute_input": "2024-06-01T10:14:06.238726Z",
     "iopub.status.busy": "2024-06-01T10:14:06.238329Z",
     "iopub.status.idle": "2024-06-01T10:14:06.343079Z",
     "shell.execute_reply": "2024-06-01T10:14:06.342184Z"
    },
    "papermill": {
     "duration": 0.155616,
     "end_time": "2024-06-01T10:14:06.345702",
     "exception": false,
     "start_time": "2024-06-01T10:14:06.190086",
     "status": "completed"
    },
    "tags": []
   },
   "outputs": [
    {
     "name": "stdout",
     "output_type": "stream",
     "text": [
      "Mother's qualification need to be worked on\n",
      "Father's qualification need to be worked on\n"
     ]
    }
   ],
   "source": [
    "for i in test.select_dtypes(include=['object']).columns.tolist():\n",
    "    if (len(list(set(train[i].unique().tolist())^set(test[i].unique().tolist())))!=0):\n",
    "        print(i ,'need to be worked on')\n",
    "    else:\n",
    "        continue"
   ]
  },
  {
   "cell_type": "code",
   "execution_count": 118,
   "id": "1c0f4064",
   "metadata": {
    "execution": {
     "iopub.execute_input": "2024-06-01T10:14:06.441485Z",
     "iopub.status.busy": "2024-06-01T10:14:06.441044Z",
     "iopub.status.idle": "2024-06-01T10:14:06.451324Z",
     "shell.execute_reply": "2024-06-01T10:14:06.450159Z"
    },
    "papermill": {
     "duration": 0.060926,
     "end_time": "2024-06-01T10:14:06.453572",
     "exception": false,
     "start_time": "2024-06-01T10:14:06.392646",
     "status": "completed"
    },
    "tags": []
   },
   "outputs": [
    {
     "data": {
      "text/plain": [
       "[7, 8, 13, 15, 25, 28, '2nd cycle of the general high school course']"
      ]
     },
     "execution_count": 118,
     "metadata": {},
     "output_type": "execute_result"
    }
   ],
   "source": [
    "list(set(train[\"Mother's qualification\"].unique().tolist())^set(test[\"Mother's qualification\"].unique().tolist()))"
   ]
  },
  {
   "cell_type": "code",
   "execution_count": 119,
   "id": "d10ea934",
   "metadata": {
    "execution": {
     "iopub.execute_input": "2024-06-01T10:14:06.549791Z",
     "iopub.status.busy": "2024-06-01T10:14:06.549405Z",
     "iopub.status.idle": "2024-06-01T10:14:06.646194Z",
     "shell.execute_reply": "2024-06-01T10:14:06.644611Z"
    },
    "papermill": {
     "duration": 0.147746,
     "end_time": "2024-06-01T10:14:06.648672",
     "exception": false,
     "start_time": "2024-06-01T10:14:06.500926",
     "status": "completed"
    },
    "tags": []
   },
   "outputs": [
    {
     "name": "stdout",
     "output_type": "stream",
     "text": [
      "<class 'pandas.core.frame.DataFrame'>\n",
      "Index: 76517 entries, 0 to 76517\n",
      "Data columns (total 37 columns):\n",
      " #   Column                                          Non-Null Count  Dtype  \n",
      "---  ------                                          --------------  -----  \n",
      " 0   Marital status                                  76517 non-null  object \n",
      " 1   Application mode                                76512 non-null  object \n",
      " 2   Application order                               76517 non-null  int64  \n",
      " 3   Course                                          76515 non-null  object \n",
      " 4   Daytime/evening attendance                      76517 non-null  object \n",
      " 5   Previous qualification                          76509 non-null  object \n",
      " 6   Previous qualification (grade)                  76517 non-null  float64\n",
      " 7   Nationality                                     76514 non-null  object \n",
      " 8   Mother's qualification                          76509 non-null  object \n",
      " 9   Father's qualification                          76517 non-null  object \n",
      " 10  Mother's occupation                             76517 non-null  int64  \n",
      " 11  Father's occupation                             76517 non-null  int64  \n",
      " 12  Admission grade                                 76517 non-null  int64  \n",
      " 13  Displaced                                       76517 non-null  object \n",
      " 14  Educational special needs                       76517 non-null  object \n",
      " 15  Debtor                                          76517 non-null  object \n",
      " 16  Tuition fees up to date                         76517 non-null  object \n",
      " 17  Gender                                          76517 non-null  object \n",
      " 18  Scholarship holder                              76517 non-null  object \n",
      " 19  Age at enrollment                               76517 non-null  int64  \n",
      " 20  International                                   76517 non-null  object \n",
      " 21  Curricular units 1st sem (credited)             76517 non-null  int64  \n",
      " 22  Curricular units 1st sem (enrolled)             76517 non-null  int64  \n",
      " 23  Curricular units 1st sem (evaluations)          76517 non-null  int64  \n",
      " 24  Curricular units 1st sem (approved)             76517 non-null  int64  \n",
      " 25  Curricular units 1st sem (grade)                76517 non-null  float64\n",
      " 26  Curricular units 1st sem (without evaluations)  76517 non-null  int64  \n",
      " 27  Curricular units 2nd sem (credited)             76517 non-null  int64  \n",
      " 28  Curricular units 2nd sem (enrolled)             76517 non-null  int64  \n",
      " 29  Curricular units 2nd sem (evaluations)          76517 non-null  int64  \n",
      " 30  Curricular units 2nd sem (approved)             76517 non-null  int64  \n",
      " 31  Curricular units 2nd sem (grade)                76517 non-null  float64\n",
      " 32  Curricular units 2nd sem (without evaluations)  76517 non-null  int64  \n",
      " 33  Unemployment rate                               76517 non-null  float64\n",
      " 34  Inflation rate                                  76517 non-null  float64\n",
      " 35  GDP                                             76517 non-null  float64\n",
      " 36  Target                                          76517 non-null  object \n",
      "dtypes: float64(6), int64(15), object(16)\n",
      "memory usage: 22.2+ MB\n"
     ]
    }
   ],
   "source": [
    "train[\"Mother's qualification\"]=train[\"Mother's qualification\"].replace({15:np.NaN,\n",
    "                                         7:np.NaN, \n",
    "                                        33:np.NaN,\n",
    "                                        8:np.NaN,\n",
    "                                                                        28:np.NaN,\n",
    "                                    31:np.NaN})\n",
    "train.info()"
   ]
  },
  {
   "cell_type": "code",
   "execution_count": 120,
   "id": "cf119185",
   "metadata": {
    "execution": {
     "iopub.execute_input": "2024-06-01T10:14:06.747598Z",
     "iopub.status.busy": "2024-06-01T10:14:06.747195Z",
     "iopub.status.idle": "2024-06-01T10:14:06.810445Z",
     "shell.execute_reply": "2024-06-01T10:14:06.809300Z"
    },
    "papermill": {
     "duration": 0.115166,
     "end_time": "2024-06-01T10:14:06.812937",
     "exception": false,
     "start_time": "2024-06-01T10:14:06.697771",
     "status": "completed"
    },
    "tags": []
   },
   "outputs": [
    {
     "name": "stdout",
     "output_type": "stream",
     "text": [
      "<class 'pandas.core.frame.DataFrame'>\n",
      "RangeIndex: 51012 entries, 0 to 51011\n",
      "Data columns (total 36 columns):\n",
      " #   Column                                          Non-Null Count  Dtype  \n",
      "---  ------                                          --------------  -----  \n",
      " 0   Marital status                                  51012 non-null  object \n",
      " 1   Application mode                                51007 non-null  object \n",
      " 2   Application order                               51012 non-null  int64  \n",
      " 3   Course                                          51008 non-null  object \n",
      " 4   Daytime/evening attendance                      51012 non-null  object \n",
      " 5   Previous qualification                          51009 non-null  object \n",
      " 6   Previous qualification (grade)                  51012 non-null  float64\n",
      " 7   Nationality                                     51009 non-null  object \n",
      " 8   Mother's qualification                          51005 non-null  object \n",
      " 9   Father's qualification                          51012 non-null  object \n",
      " 10  Mother's occupation                             51012 non-null  int64  \n",
      " 11  Father's occupation                             51012 non-null  int64  \n",
      " 12  Admission grade                                 51012 non-null  int64  \n",
      " 13  Displaced                                       51012 non-null  object \n",
      " 14  Educational special needs                       51012 non-null  object \n",
      " 15  Debtor                                          51012 non-null  object \n",
      " 16  Tuition fees up to date                         51012 non-null  object \n",
      " 17  Gender                                          51012 non-null  object \n",
      " 18  Scholarship holder                              51012 non-null  object \n",
      " 19  Age at enrollment                               51012 non-null  int64  \n",
      " 20  International                                   51012 non-null  object \n",
      " 21  Curricular units 1st sem (credited)             51012 non-null  int64  \n",
      " 22  Curricular units 1st sem (enrolled)             51012 non-null  int64  \n",
      " 23  Curricular units 1st sem (evaluations)          51012 non-null  int64  \n",
      " 24  Curricular units 1st sem (approved)             51012 non-null  int64  \n",
      " 25  Curricular units 1st sem (grade)                51012 non-null  float64\n",
      " 26  Curricular units 1st sem (without evaluations)  51012 non-null  int64  \n",
      " 27  Curricular units 2nd sem (credited)             51012 non-null  int64  \n",
      " 28  Curricular units 2nd sem (enrolled)             51012 non-null  int64  \n",
      " 29  Curricular units 2nd sem (evaluations)          51012 non-null  int64  \n",
      " 30  Curricular units 2nd sem (approved)             51012 non-null  int64  \n",
      " 31  Curricular units 2nd sem (grade)                51012 non-null  float64\n",
      " 32  Curricular units 2nd sem (without evaluations)  51012 non-null  int64  \n",
      " 33  Unemployment rate                               51012 non-null  float64\n",
      " 34  Inflation rate                                  51012 non-null  float64\n",
      " 35  GDP                                             51012 non-null  float64\n",
      "dtypes: float64(6), int64(15), object(15)\n",
      "memory usage: 14.0+ MB\n"
     ]
    }
   ],
   "source": [
    "test[\"Mother's qualification\"]=test[\"Mother's qualification\"].replace({25:np.NaN,\n",
    "                                         13:np.NaN, \n",
    "                                        31:np.NaN,\n",
    "                                        33:np.NaN})\n",
    "test.info()"
   ]
  },
  {
   "cell_type": "code",
   "execution_count": 121,
   "id": "3671829f",
   "metadata": {
    "execution": {
     "iopub.execute_input": "2024-06-01T10:14:06.909444Z",
     "iopub.status.busy": "2024-06-01T10:14:06.909046Z",
     "iopub.status.idle": "2024-06-01T10:14:06.922365Z",
     "shell.execute_reply": "2024-06-01T10:14:06.921357Z"
    },
    "papermill": {
     "duration": 0.064122,
     "end_time": "2024-06-01T10:14:06.924442",
     "exception": false,
     "start_time": "2024-06-01T10:14:06.860320",
     "status": "completed"
    },
    "tags": []
   },
   "outputs": [
    {
     "data": {
      "text/plain": [
       "Mother's qualification\n",
       "Secondary Education - 12th Year of Schooling or Eq.         20202\n",
       "Basic Education 3rd Cycle (9th/10th/11th Year) or Equiv.    18980\n",
       "Basic education 1st cycle (4th/5th year) or equiv.          18664\n",
       "Basic Education 2nd Cycle (6th/7th/8th Year) or Equiv.       9059\n",
       "Higher Education - Degree                                    5890\n",
       "Unknown                                                      1992\n",
       "Higher Education - Bachelor's Degree                          613\n",
       "Other - 11th Year of Schooling                                358\n",
       "Higher Education - Master's                                   313\n",
       "Higher Education - Doctorate                                   99\n",
       "Higher education - degree (1st cycle)                          49\n",
       "Technological specialization course                            46\n",
       "12th Year of Schooling - Not Completed                         45\n",
       "7th Year (Old)                                                 32\n",
       "Specialized higher studies course                              26\n",
       "Frequency of Higher Education                                  21\n",
       "Professional higher technical course                           19\n",
       "Higher Education - Master (2nd cycle)                          16\n",
       "11th Year of Schooling - Not Completed                         15\n",
       "Can read without having a 4th year of schooling                15\n",
       "9th Year of Schooling - Not Completed                          15\n",
       "Can't read or write                                            10\n",
       "8th year of schooling                                          10\n",
       "Technical-professional course                                   5\n",
       "10th Year of Schooling                                          5\n",
       "7th year of schooling                                           4\n",
       "General commerce course                                         3\n",
       "Higher Education - Doctorate (3rd cycle)                        2\n",
       "2nd cycle of the general high school course                     1\n",
       "Name: count, dtype: int64"
      ]
     },
     "execution_count": 121,
     "metadata": {},
     "output_type": "execute_result"
    }
   ],
   "source": [
    "train[\"Mother's qualification\"].value_counts()"
   ]
  },
  {
   "cell_type": "code",
   "execution_count": 122,
   "id": "94957dfe",
   "metadata": {
    "execution": {
     "iopub.execute_input": "2024-06-01T10:14:07.021219Z",
     "iopub.status.busy": "2024-06-01T10:14:07.020807Z",
     "iopub.status.idle": "2024-06-01T10:14:07.101413Z",
     "shell.execute_reply": "2024-06-01T10:14:07.100149Z"
    },
    "papermill": {
     "duration": 0.131816,
     "end_time": "2024-06-01T10:14:07.103885",
     "exception": false,
     "start_time": "2024-06-01T10:14:06.972069",
     "status": "completed"
    },
    "tags": []
   },
   "outputs": [
    {
     "name": "stdout",
     "output_type": "stream",
     "text": [
      "<class 'pandas.core.frame.DataFrame'>\n",
      "Index: 76517 entries, 0 to 76517\n",
      "Data columns (total 37 columns):\n",
      " #   Column                                          Non-Null Count  Dtype  \n",
      "---  ------                                          --------------  -----  \n",
      " 0   Marital status                                  76517 non-null  object \n",
      " 1   Application mode                                76512 non-null  object \n",
      " 2   Application order                               76517 non-null  int64  \n",
      " 3   Course                                          76515 non-null  object \n",
      " 4   Daytime/evening attendance                      76517 non-null  object \n",
      " 5   Previous qualification                          76509 non-null  object \n",
      " 6   Previous qualification (grade)                  76517 non-null  float64\n",
      " 7   Nationality                                     76514 non-null  object \n",
      " 8   Mother's qualification                          76508 non-null  object \n",
      " 9   Father's qualification                          76517 non-null  object \n",
      " 10  Mother's occupation                             76517 non-null  int64  \n",
      " 11  Father's occupation                             76517 non-null  int64  \n",
      " 12  Admission grade                                 76517 non-null  int64  \n",
      " 13  Displaced                                       76517 non-null  object \n",
      " 14  Educational special needs                       76517 non-null  object \n",
      " 15  Debtor                                          76517 non-null  object \n",
      " 16  Tuition fees up to date                         76517 non-null  object \n",
      " 17  Gender                                          76517 non-null  object \n",
      " 18  Scholarship holder                              76517 non-null  object \n",
      " 19  Age at enrollment                               76517 non-null  int64  \n",
      " 20  International                                   76517 non-null  object \n",
      " 21  Curricular units 1st sem (credited)             76517 non-null  int64  \n",
      " 22  Curricular units 1st sem (enrolled)             76517 non-null  int64  \n",
      " 23  Curricular units 1st sem (evaluations)          76517 non-null  int64  \n",
      " 24  Curricular units 1st sem (approved)             76517 non-null  int64  \n",
      " 25  Curricular units 1st sem (grade)                76517 non-null  float64\n",
      " 26  Curricular units 1st sem (without evaluations)  76517 non-null  int64  \n",
      " 27  Curricular units 2nd sem (credited)             76517 non-null  int64  \n",
      " 28  Curricular units 2nd sem (enrolled)             76517 non-null  int64  \n",
      " 29  Curricular units 2nd sem (evaluations)          76517 non-null  int64  \n",
      " 30  Curricular units 2nd sem (approved)             76517 non-null  int64  \n",
      " 31  Curricular units 2nd sem (grade)                76517 non-null  float64\n",
      " 32  Curricular units 2nd sem (without evaluations)  76517 non-null  int64  \n",
      " 33  Unemployment rate                               76517 non-null  float64\n",
      " 34  Inflation rate                                  76517 non-null  float64\n",
      " 35  GDP                                             76517 non-null  float64\n",
      " 36  Target                                          76517 non-null  object \n",
      "dtypes: float64(6), int64(15), object(16)\n",
      "memory usage: 22.2+ MB\n"
     ]
    }
   ],
   "source": [
    "train[\"Mother's qualification\"]=train[\"Mother's qualification\"].replace({'2nd cycle of the general high school course':np.NaN\n",
    "                                        })\n",
    "train.info()"
   ]
  },
  {
   "cell_type": "code",
   "execution_count": 123,
   "id": "11d7cf41",
   "metadata": {
    "execution": {
     "iopub.execute_input": "2024-06-01T10:14:07.201908Z",
     "iopub.status.busy": "2024-06-01T10:14:07.200971Z",
     "iopub.status.idle": "2024-06-01T10:14:07.214300Z",
     "shell.execute_reply": "2024-06-01T10:14:07.213150Z"
    },
    "papermill": {
     "duration": 0.064821,
     "end_time": "2024-06-01T10:14:07.216679",
     "exception": false,
     "start_time": "2024-06-01T10:14:07.151858",
     "status": "completed"
    },
    "tags": []
   },
   "outputs": [
    {
     "data": {
      "text/plain": [
       "Mother's qualification\n",
       "Secondary Education - 12th Year of Schooling or Eq.         20202\n",
       "Basic Education 3rd Cycle (9th/10th/11th Year) or Equiv.    18980\n",
       "Basic education 1st cycle (4th/5th year) or equiv.          18664\n",
       "Basic Education 2nd Cycle (6th/7th/8th Year) or Equiv.       9059\n",
       "Higher Education - Degree                                    5890\n",
       "Unknown                                                      1992\n",
       "Higher Education - Bachelor's Degree                          613\n",
       "Other - 11th Year of Schooling                                358\n",
       "Higher Education - Master's                                   313\n",
       "Higher Education - Doctorate                                   99\n",
       "Higher education - degree (1st cycle)                          49\n",
       "Technological specialization course                            46\n",
       "12th Year of Schooling - Not Completed                         45\n",
       "7th Year (Old)                                                 32\n",
       "Specialized higher studies course                              26\n",
       "Frequency of Higher Education                                  21\n",
       "Professional higher technical course                           19\n",
       "Higher Education - Master (2nd cycle)                          16\n",
       "9th Year of Schooling - Not Completed                          15\n",
       "Can read without having a 4th year of schooling                15\n",
       "11th Year of Schooling - Not Completed                         15\n",
       "Can't read or write                                            10\n",
       "8th year of schooling                                          10\n",
       "Technical-professional course                                   5\n",
       "10th Year of Schooling                                          5\n",
       "7th year of schooling                                           4\n",
       "General commerce course                                         3\n",
       "Higher Education - Doctorate (3rd cycle)                        2\n",
       "Name: count, dtype: int64"
      ]
     },
     "execution_count": 123,
     "metadata": {},
     "output_type": "execute_result"
    }
   ],
   "source": [
    "train[\"Mother's qualification\"].value_counts()"
   ]
  },
  {
   "cell_type": "code",
   "execution_count": 124,
   "id": "398f0d5a",
   "metadata": {
    "execution": {
     "iopub.execute_input": "2024-06-01T10:14:07.314786Z",
     "iopub.status.busy": "2024-06-01T10:14:07.314390Z",
     "iopub.status.idle": "2024-06-01T10:14:07.326435Z",
     "shell.execute_reply": "2024-06-01T10:14:07.325265Z"
    },
    "papermill": {
     "duration": 0.063395,
     "end_time": "2024-06-01T10:14:07.328561",
     "exception": false,
     "start_time": "2024-06-01T10:14:07.265166",
     "status": "completed"
    },
    "tags": []
   },
   "outputs": [
    {
     "data": {
      "text/plain": [
       "Mother's qualification\n",
       "Secondary Education - 12th Year of Schooling or Eq.         13313\n",
       "Basic Education 3rd Cycle (9th/10th/11th Year) or Equiv.    12719\n",
       "Basic education 1st cycle (4th/5th year) or equiv.          12513\n",
       "Basic Education 2nd Cycle (6th/7th/8th Year) or Equiv.       6068\n",
       "Higher Education - Degree                                    3918\n",
       "Unknown                                                      1310\n",
       "Higher Education - Bachelor's Degree                          434\n",
       "Other - 11th Year of Schooling                                241\n",
       "Higher Education - Master's                                   219\n",
       "Higher Education - Doctorate                                   59\n",
       "12th Year of Schooling - Not Completed                         36\n",
       "Higher education - degree (1st cycle)                          31\n",
       "Technological specialization course                            29\n",
       "Specialized higher studies course                              18\n",
       "Frequency of Higher Education                                  16\n",
       "Professional higher technical course                           12\n",
       "Higher Education - Master (2nd cycle)                          11\n",
       "9th Year of Schooling - Not Completed                           9\n",
       "7th Year (Old)                                                  9\n",
       "Technical-professional course                                   7\n",
       "8th year of schooling                                           7\n",
       "11th Year of Schooling - Not Completed                          6\n",
       "Can't read or write                                             5\n",
       "Can read without having a 4th year of schooling                 4\n",
       "General commerce course                                         4\n",
       "10th Year of Schooling                                          3\n",
       "Higher Education - Doctorate (3rd cycle)                        3\n",
       "7th year of schooling                                           1\n",
       "Name: count, dtype: int64"
      ]
     },
     "execution_count": 124,
     "metadata": {},
     "output_type": "execute_result"
    }
   ],
   "source": [
    "test[\"Mother's qualification\"].value_counts()"
   ]
  },
  {
   "cell_type": "code",
   "execution_count": 125,
   "id": "b3bfe17d",
   "metadata": {
    "execution": {
     "iopub.execute_input": "2024-06-01T10:14:07.426783Z",
     "iopub.status.busy": "2024-06-01T10:14:07.426414Z",
     "iopub.status.idle": "2024-06-01T10:14:07.436333Z",
     "shell.execute_reply": "2024-06-01T10:14:07.435326Z"
    },
    "papermill": {
     "duration": 0.062023,
     "end_time": "2024-06-01T10:14:07.438497",
     "exception": false,
     "start_time": "2024-06-01T10:14:07.376474",
     "status": "completed"
    },
    "tags": []
   },
   "outputs": [
    {
     "data": {
      "text/plain": [
       "[]"
      ]
     },
     "execution_count": 125,
     "metadata": {},
     "output_type": "execute_result"
    }
   ],
   "source": [
    "list(set(train[\"Mother's qualification\"].unique().tolist())^set(test[\"Mother's qualification\"].unique().tolist()))"
   ]
  },
  {
   "cell_type": "code",
   "execution_count": 126,
   "id": "17c0730c",
   "metadata": {
    "execution": {
     "iopub.execute_input": "2024-06-01T10:14:07.535982Z",
     "iopub.status.busy": "2024-06-01T10:14:07.535590Z",
     "iopub.status.idle": "2024-06-01T10:14:07.641360Z",
     "shell.execute_reply": "2024-06-01T10:14:07.640146Z"
    },
    "papermill": {
     "duration": 0.157492,
     "end_time": "2024-06-01T10:14:07.643696",
     "exception": false,
     "start_time": "2024-06-01T10:14:07.486204",
     "status": "completed"
    },
    "tags": []
   },
   "outputs": [
    {
     "name": "stdout",
     "output_type": "stream",
     "text": [
      "Father's qualification need to be worked on\n"
     ]
    }
   ],
   "source": [
    "for i in test.select_dtypes(include=['object']).columns.tolist():\n",
    "    if (len(list(set(train[i].unique().tolist())^set(test[i].unique().tolist())))!=0):\n",
    "        print(i ,'need to be worked on')\n",
    "    else:\n",
    "        continue"
   ]
  },
  {
   "cell_type": "code",
   "execution_count": 127,
   "id": "80bb5cb2",
   "metadata": {
    "execution": {
     "iopub.execute_input": "2024-06-01T10:14:07.743803Z",
     "iopub.status.busy": "2024-06-01T10:14:07.743447Z",
     "iopub.status.idle": "2024-06-01T10:14:07.753616Z",
     "shell.execute_reply": "2024-06-01T10:14:07.752525Z"
    },
    "papermill": {
     "duration": 0.063909,
     "end_time": "2024-06-01T10:14:07.755721",
     "exception": false,
     "start_time": "2024-06-01T10:14:07.691812",
     "status": "completed"
    },
    "tags": []
   },
   "outputs": [
    {
     "data": {
      "text/plain": [
       "[15,\n",
       " 16,\n",
       " 23,\n",
       " 24,\n",
       " 28,\n",
       " 'Higher Education - Doctorate (3rd cycle)',\n",
       " 'Complementary High School Course']"
      ]
     },
     "execution_count": 127,
     "metadata": {},
     "output_type": "execute_result"
    }
   ],
   "source": [
    "list(set(train[\"Father's qualification\"].unique().tolist())^set(test[\"Father's qualification\"].unique().tolist()))"
   ]
  },
  {
   "cell_type": "code",
   "execution_count": 128,
   "id": "5e7f9b2e",
   "metadata": {
    "execution": {
     "iopub.execute_input": "2024-06-01T10:14:07.856799Z",
     "iopub.status.busy": "2024-06-01T10:14:07.856037Z",
     "iopub.status.idle": "2024-06-01T10:14:07.949450Z",
     "shell.execute_reply": "2024-06-01T10:14:07.948290Z"
    },
    "papermill": {
     "duration": 0.145916,
     "end_time": "2024-06-01T10:14:07.951996",
     "exception": false,
     "start_time": "2024-06-01T10:14:07.806080",
     "status": "completed"
    },
    "tags": []
   },
   "outputs": [
    {
     "name": "stdout",
     "output_type": "stream",
     "text": [
      "<class 'pandas.core.frame.DataFrame'>\n",
      "Index: 76517 entries, 0 to 76517\n",
      "Data columns (total 37 columns):\n",
      " #   Column                                          Non-Null Count  Dtype  \n",
      "---  ------                                          --------------  -----  \n",
      " 0   Marital status                                  76517 non-null  object \n",
      " 1   Application mode                                76512 non-null  object \n",
      " 2   Application order                               76517 non-null  int64  \n",
      " 3   Course                                          76515 non-null  object \n",
      " 4   Daytime/evening attendance                      76517 non-null  object \n",
      " 5   Previous qualification                          76509 non-null  object \n",
      " 6   Previous qualification (grade)                  76517 non-null  float64\n",
      " 7   Nationality                                     76514 non-null  object \n",
      " 8   Mother's qualification                          76508 non-null  object \n",
      " 9   Father's qualification                          76511 non-null  object \n",
      " 10  Mother's occupation                             76517 non-null  int64  \n",
      " 11  Father's occupation                             76517 non-null  int64  \n",
      " 12  Admission grade                                 76517 non-null  int64  \n",
      " 13  Displaced                                       76517 non-null  object \n",
      " 14  Educational special needs                       76517 non-null  object \n",
      " 15  Debtor                                          76517 non-null  object \n",
      " 16  Tuition fees up to date                         76517 non-null  object \n",
      " 17  Gender                                          76517 non-null  object \n",
      " 18  Scholarship holder                              76517 non-null  object \n",
      " 19  Age at enrollment                               76517 non-null  int64  \n",
      " 20  International                                   76517 non-null  object \n",
      " 21  Curricular units 1st sem (credited)             76517 non-null  int64  \n",
      " 22  Curricular units 1st sem (enrolled)             76517 non-null  int64  \n",
      " 23  Curricular units 1st sem (evaluations)          76517 non-null  int64  \n",
      " 24  Curricular units 1st sem (approved)             76517 non-null  int64  \n",
      " 25  Curricular units 1st sem (grade)                76517 non-null  float64\n",
      " 26  Curricular units 1st sem (without evaluations)  76517 non-null  int64  \n",
      " 27  Curricular units 2nd sem (credited)             76517 non-null  int64  \n",
      " 28  Curricular units 2nd sem (enrolled)             76517 non-null  int64  \n",
      " 29  Curricular units 2nd sem (evaluations)          76517 non-null  int64  \n",
      " 30  Curricular units 2nd sem (approved)             76517 non-null  int64  \n",
      " 31  Curricular units 2nd sem (grade)                76517 non-null  float64\n",
      " 32  Curricular units 2nd sem (without evaluations)  76517 non-null  int64  \n",
      " 33  Unemployment rate                               76517 non-null  float64\n",
      " 34  Inflation rate                                  76517 non-null  float64\n",
      " 35  GDP                                             76517 non-null  float64\n",
      " 36  Target                                          76517 non-null  object \n",
      "dtypes: float64(6), int64(15), object(16)\n",
      "memory usage: 22.2+ MB\n"
     ]
    }
   ],
   "source": [
    "train[\"Father's qualification\"]=train[\"Father's qualification\"].replace({21:np.NaN,\n",
    "                                         7:np.NaN, \n",
    "                                        23:np.NaN,\n",
    "                                        15:np.NaN,\n",
    "                                                                        24:np.NaN})\n",
    "train.info()"
   ]
  },
  {
   "cell_type": "code",
   "execution_count": 129,
   "id": "1e472c92",
   "metadata": {
    "execution": {
     "iopub.execute_input": "2024-06-01T10:14:08.050892Z",
     "iopub.status.busy": "2024-06-01T10:14:08.050540Z",
     "iopub.status.idle": "2024-06-01T10:14:08.114664Z",
     "shell.execute_reply": "2024-06-01T10:14:08.113402Z"
    },
    "papermill": {
     "duration": 0.116409,
     "end_time": "2024-06-01T10:14:08.117222",
     "exception": false,
     "start_time": "2024-06-01T10:14:08.000813",
     "status": "completed"
    },
    "tags": []
   },
   "outputs": [
    {
     "name": "stdout",
     "output_type": "stream",
     "text": [
      "<class 'pandas.core.frame.DataFrame'>\n",
      "RangeIndex: 51012 entries, 0 to 51011\n",
      "Data columns (total 36 columns):\n",
      " #   Column                                          Non-Null Count  Dtype  \n",
      "---  ------                                          --------------  -----  \n",
      " 0   Marital status                                  51012 non-null  object \n",
      " 1   Application mode                                51007 non-null  object \n",
      " 2   Application order                               51012 non-null  int64  \n",
      " 3   Course                                          51008 non-null  object \n",
      " 4   Daytime/evening attendance                      51012 non-null  object \n",
      " 5   Previous qualification                          51009 non-null  object \n",
      " 6   Previous qualification (grade)                  51012 non-null  float64\n",
      " 7   Nationality                                     51009 non-null  object \n",
      " 8   Mother's qualification                          51005 non-null  object \n",
      " 9   Father's qualification                          51008 non-null  object \n",
      " 10  Mother's occupation                             51012 non-null  int64  \n",
      " 11  Father's occupation                             51012 non-null  int64  \n",
      " 12  Admission grade                                 51012 non-null  int64  \n",
      " 13  Displaced                                       51012 non-null  object \n",
      " 14  Educational special needs                       51012 non-null  object \n",
      " 15  Debtor                                          51012 non-null  object \n",
      " 16  Tuition fees up to date                         51012 non-null  object \n",
      " 17  Gender                                          51012 non-null  object \n",
      " 18  Scholarship holder                              51012 non-null  object \n",
      " 19  Age at enrollment                               51012 non-null  int64  \n",
      " 20  International                                   51012 non-null  object \n",
      " 21  Curricular units 1st sem (credited)             51012 non-null  int64  \n",
      " 22  Curricular units 1st sem (enrolled)             51012 non-null  int64  \n",
      " 23  Curricular units 1st sem (evaluations)          51012 non-null  int64  \n",
      " 24  Curricular units 1st sem (approved)             51012 non-null  int64  \n",
      " 25  Curricular units 1st sem (grade)                51012 non-null  float64\n",
      " 26  Curricular units 1st sem (without evaluations)  51012 non-null  int64  \n",
      " 27  Curricular units 2nd sem (credited)             51012 non-null  int64  \n",
      " 28  Curricular units 2nd sem (enrolled)             51012 non-null  int64  \n",
      " 29  Curricular units 2nd sem (evaluations)          51012 non-null  int64  \n",
      " 30  Curricular units 2nd sem (approved)             51012 non-null  int64  \n",
      " 31  Curricular units 2nd sem (grade)                51012 non-null  float64\n",
      " 32  Curricular units 2nd sem (without evaluations)  51012 non-null  int64  \n",
      " 33  Unemployment rate                               51012 non-null  float64\n",
      " 34  Inflation rate                                  51012 non-null  float64\n",
      " 35  GDP                                             51012 non-null  float64\n",
      "dtypes: float64(6), int64(15), object(15)\n",
      "memory usage: 14.0+ MB\n"
     ]
    }
   ],
   "source": [
    "test[\"Father's qualification\"]=test[\"Father's qualification\"].replace({16:np.NaN,\n",
    "                                         28:np.NaN, \n",
    "                                        7:np.NaN,\n",
    "                                        21:np.NaN})\n",
    "test.info()"
   ]
  },
  {
   "cell_type": "code",
   "execution_count": 130,
   "id": "62ea8a3c",
   "metadata": {
    "execution": {
     "iopub.execute_input": "2024-06-01T10:14:08.217804Z",
     "iopub.status.busy": "2024-06-01T10:14:08.216944Z",
     "iopub.status.idle": "2024-06-01T10:14:08.227264Z",
     "shell.execute_reply": "2024-06-01T10:14:08.226021Z"
    },
    "papermill": {
     "duration": 0.062922,
     "end_time": "2024-06-01T10:14:08.229530",
     "exception": false,
     "start_time": "2024-06-01T10:14:08.166608",
     "status": "completed"
    },
    "tags": []
   },
   "outputs": [
    {
     "data": {
      "text/plain": [
       "['Higher Education - Doctorate (3rd cycle)',\n",
       " 'Complementary High School Course']"
      ]
     },
     "execution_count": 130,
     "metadata": {},
     "output_type": "execute_result"
    }
   ],
   "source": [
    "list(set(train[\"Father's qualification\"].unique().tolist())^set(test[\"Father's qualification\"].unique().tolist()))"
   ]
  },
  {
   "cell_type": "code",
   "execution_count": 131,
   "id": "836fa340",
   "metadata": {
    "execution": {
     "iopub.execute_input": "2024-06-01T10:14:08.329370Z",
     "iopub.status.busy": "2024-06-01T10:14:08.328662Z",
     "iopub.status.idle": "2024-06-01T10:14:08.359470Z",
     "shell.execute_reply": "2024-06-01T10:14:08.358428Z"
    },
    "papermill": {
     "duration": 0.083274,
     "end_time": "2024-06-01T10:14:08.361764",
     "exception": false,
     "start_time": "2024-06-01T10:14:08.278490",
     "status": "completed"
    },
    "tags": []
   },
   "outputs": [
    {
     "data": {
      "text/html": [
       "<div>\n",
       "<style scoped>\n",
       "    .dataframe tbody tr th:only-of-type {\n",
       "        vertical-align: middle;\n",
       "    }\n",
       "\n",
       "    .dataframe tbody tr th {\n",
       "        vertical-align: top;\n",
       "    }\n",
       "\n",
       "    .dataframe thead th {\n",
       "        text-align: right;\n",
       "    }\n",
       "</style>\n",
       "<table border=\"1\" class=\"dataframe\">\n",
       "  <thead>\n",
       "    <tr style=\"text-align: right;\">\n",
       "      <th></th>\n",
       "      <th>Marital status</th>\n",
       "      <th>Application mode</th>\n",
       "      <th>Application order</th>\n",
       "      <th>Course</th>\n",
       "      <th>Daytime/evening attendance</th>\n",
       "      <th>Previous qualification</th>\n",
       "      <th>Previous qualification (grade)</th>\n",
       "      <th>Nationality</th>\n",
       "      <th>Mother's qualification</th>\n",
       "      <th>Father's qualification</th>\n",
       "      <th>...</th>\n",
       "      <th>Curricular units 2nd sem (credited)</th>\n",
       "      <th>Curricular units 2nd sem (enrolled)</th>\n",
       "      <th>Curricular units 2nd sem (evaluations)</th>\n",
       "      <th>Curricular units 2nd sem (approved)</th>\n",
       "      <th>Curricular units 2nd sem (grade)</th>\n",
       "      <th>Curricular units 2nd sem (without evaluations)</th>\n",
       "      <th>Unemployment rate</th>\n",
       "      <th>Inflation rate</th>\n",
       "      <th>GDP</th>\n",
       "      <th>Target</th>\n",
       "    </tr>\n",
       "  </thead>\n",
       "  <tbody>\n",
       "    <tr>\n",
       "      <th>72075</th>\n",
       "      <td>single</td>\n",
       "      <td>1st phase - general contingent</td>\n",
       "      <td>1</td>\n",
       "      <td>Veterinary Nursing</td>\n",
       "      <td>daytime</td>\n",
       "      <td>Secondary education</td>\n",
       "      <td>135.0</td>\n",
       "      <td>Portuguese</td>\n",
       "      <td>Basic Education 3rd Cycle (9th/10th/11th Year)...</td>\n",
       "      <td>Complementary High School Course</td>\n",
       "      <td>...</td>\n",
       "      <td>0</td>\n",
       "      <td>5</td>\n",
       "      <td>12</td>\n",
       "      <td>0</td>\n",
       "      <td>0.0</td>\n",
       "      <td>4</td>\n",
       "      <td>10.8</td>\n",
       "      <td>1.4</td>\n",
       "      <td>1.74</td>\n",
       "      <td>Dropout</td>\n",
       "    </tr>\n",
       "    <tr>\n",
       "      <th>74811</th>\n",
       "      <td>single</td>\n",
       "      <td>Holders of other higher courses</td>\n",
       "      <td>1</td>\n",
       "      <td>Veterinary Nursing</td>\n",
       "      <td>daytime</td>\n",
       "      <td>Higher education - degree</td>\n",
       "      <td>130.0</td>\n",
       "      <td>Portuguese</td>\n",
       "      <td>Basic Education 3rd Cycle (9th/10th/11th Year)...</td>\n",
       "      <td>Complementary High School Course</td>\n",
       "      <td>...</td>\n",
       "      <td>0</td>\n",
       "      <td>6</td>\n",
       "      <td>0</td>\n",
       "      <td>0</td>\n",
       "      <td>0.0</td>\n",
       "      <td>0</td>\n",
       "      <td>10.8</td>\n",
       "      <td>1.4</td>\n",
       "      <td>1.74</td>\n",
       "      <td>Dropout</td>\n",
       "    </tr>\n",
       "    <tr>\n",
       "      <th>75959</th>\n",
       "      <td>single</td>\n",
       "      <td>1st phase - general contingent</td>\n",
       "      <td>4</td>\n",
       "      <td>Management</td>\n",
       "      <td>daytime</td>\n",
       "      <td>Secondary education</td>\n",
       "      <td>116.0</td>\n",
       "      <td>Portuguese</td>\n",
       "      <td>Basic Education 3rd Cycle (9th/10th/11th Year)...</td>\n",
       "      <td>Complementary High School Course</td>\n",
       "      <td>...</td>\n",
       "      <td>0</td>\n",
       "      <td>5</td>\n",
       "      <td>7</td>\n",
       "      <td>4</td>\n",
       "      <td>13.0</td>\n",
       "      <td>0</td>\n",
       "      <td>8.9</td>\n",
       "      <td>1.4</td>\n",
       "      <td>3.51</td>\n",
       "      <td>Dropout</td>\n",
       "    </tr>\n",
       "  </tbody>\n",
       "</table>\n",
       "<p>3 rows × 37 columns</p>\n",
       "</div>"
      ],
      "text/plain": [
       "      Marital status                 Application mode  Application order  \\\n",
       "72075         single   1st phase - general contingent                  1   \n",
       "74811         single  Holders of other higher courses                  1   \n",
       "75959         single   1st phase - general contingent                  4   \n",
       "\n",
       "                   Course Daytime/evening attendance  \\\n",
       "72075  Veterinary Nursing                    daytime   \n",
       "74811  Veterinary Nursing                    daytime   \n",
       "75959          Management                    daytime   \n",
       "\n",
       "          Previous qualification  Previous qualification (grade) Nationality  \\\n",
       "72075        Secondary education                           135.0  Portuguese   \n",
       "74811  Higher education - degree                           130.0  Portuguese   \n",
       "75959        Secondary education                           116.0  Portuguese   \n",
       "\n",
       "                                  Mother's qualification  \\\n",
       "72075  Basic Education 3rd Cycle (9th/10th/11th Year)...   \n",
       "74811  Basic Education 3rd Cycle (9th/10th/11th Year)...   \n",
       "75959  Basic Education 3rd Cycle (9th/10th/11th Year)...   \n",
       "\n",
       "                 Father's qualification  ...  \\\n",
       "72075  Complementary High School Course  ...   \n",
       "74811  Complementary High School Course  ...   \n",
       "75959  Complementary High School Course  ...   \n",
       "\n",
       "       Curricular units 2nd sem (credited)  \\\n",
       "72075                                    0   \n",
       "74811                                    0   \n",
       "75959                                    0   \n",
       "\n",
       "       Curricular units 2nd sem (enrolled)  \\\n",
       "72075                                    5   \n",
       "74811                                    6   \n",
       "75959                                    5   \n",
       "\n",
       "       Curricular units 2nd sem (evaluations)  \\\n",
       "72075                                      12   \n",
       "74811                                       0   \n",
       "75959                                       7   \n",
       "\n",
       "      Curricular units 2nd sem (approved) Curricular units 2nd sem (grade)  \\\n",
       "72075                                   0                              0.0   \n",
       "74811                                   0                              0.0   \n",
       "75959                                   4                             13.0   \n",
       "\n",
       "      Curricular units 2nd sem (without evaluations) Unemployment rate  \\\n",
       "72075                                              4              10.8   \n",
       "74811                                              0              10.8   \n",
       "75959                                              0               8.9   \n",
       "\n",
       "      Inflation rate   GDP   Target  \n",
       "72075            1.4  1.74  Dropout  \n",
       "74811            1.4  1.74  Dropout  \n",
       "75959            1.4  3.51  Dropout  \n",
       "\n",
       "[3 rows x 37 columns]"
      ]
     },
     "execution_count": 131,
     "metadata": {},
     "output_type": "execute_result"
    }
   ],
   "source": [
    "train[train[\"Father's qualification\"]=='Complementary High School Course']"
   ]
  },
  {
   "cell_type": "code",
   "execution_count": 132,
   "id": "6bc0b8d6",
   "metadata": {
    "execution": {
     "iopub.execute_input": "2024-06-01T10:14:08.462858Z",
     "iopub.status.busy": "2024-06-01T10:14:08.462479Z",
     "iopub.status.idle": "2024-06-01T10:14:08.493154Z",
     "shell.execute_reply": "2024-06-01T10:14:08.492045Z"
    },
    "papermill": {
     "duration": 0.083957,
     "end_time": "2024-06-01T10:14:08.495592",
     "exception": false,
     "start_time": "2024-06-01T10:14:08.411635",
     "status": "completed"
    },
    "tags": []
   },
   "outputs": [
    {
     "data": {
      "text/html": [
       "<div>\n",
       "<style scoped>\n",
       "    .dataframe tbody tr th:only-of-type {\n",
       "        vertical-align: middle;\n",
       "    }\n",
       "\n",
       "    .dataframe tbody tr th {\n",
       "        vertical-align: top;\n",
       "    }\n",
       "\n",
       "    .dataframe thead th {\n",
       "        text-align: right;\n",
       "    }\n",
       "</style>\n",
       "<table border=\"1\" class=\"dataframe\">\n",
       "  <thead>\n",
       "    <tr style=\"text-align: right;\">\n",
       "      <th></th>\n",
       "      <th>Marital status</th>\n",
       "      <th>Application mode</th>\n",
       "      <th>Application order</th>\n",
       "      <th>Course</th>\n",
       "      <th>Daytime/evening attendance</th>\n",
       "      <th>Previous qualification</th>\n",
       "      <th>Previous qualification (grade)</th>\n",
       "      <th>Nationality</th>\n",
       "      <th>Mother's qualification</th>\n",
       "      <th>Father's qualification</th>\n",
       "      <th>...</th>\n",
       "      <th>Curricular units 2nd sem (credited)</th>\n",
       "      <th>Curricular units 2nd sem (enrolled)</th>\n",
       "      <th>Curricular units 2nd sem (evaluations)</th>\n",
       "      <th>Curricular units 2nd sem (approved)</th>\n",
       "      <th>Curricular units 2nd sem (grade)</th>\n",
       "      <th>Curricular units 2nd sem (without evaluations)</th>\n",
       "      <th>Unemployment rate</th>\n",
       "      <th>Inflation rate</th>\n",
       "      <th>GDP</th>\n",
       "      <th>Target</th>\n",
       "    </tr>\n",
       "  </thead>\n",
       "  <tbody>\n",
       "    <tr>\n",
       "      <th>12656</th>\n",
       "      <td>single</td>\n",
       "      <td>Technological specialization diploma holders</td>\n",
       "      <td>1</td>\n",
       "      <td>Social Service</td>\n",
       "      <td>daytime</td>\n",
       "      <td>Technological specialization course</td>\n",
       "      <td>130.0</td>\n",
       "      <td>Portuguese</td>\n",
       "      <td>Higher Education - Doctorate</td>\n",
       "      <td>Higher Education - Doctorate (3rd cycle)</td>\n",
       "      <td>...</td>\n",
       "      <td>2</td>\n",
       "      <td>6</td>\n",
       "      <td>9</td>\n",
       "      <td>6</td>\n",
       "      <td>12.0</td>\n",
       "      <td>0</td>\n",
       "      <td>16.2</td>\n",
       "      <td>0.3</td>\n",
       "      <td>-0.92</td>\n",
       "      <td>Graduate</td>\n",
       "    </tr>\n",
       "    <tr>\n",
       "      <th>62070</th>\n",
       "      <td>single</td>\n",
       "      <td>Change of course</td>\n",
       "      <td>1</td>\n",
       "      <td>Social Service</td>\n",
       "      <td>daytime</td>\n",
       "      <td>Secondary education</td>\n",
       "      <td>120.0</td>\n",
       "      <td>Portuguese</td>\n",
       "      <td>Secondary Education - 12th Year of Schooling o...</td>\n",
       "      <td>Higher Education - Doctorate (3rd cycle)</td>\n",
       "      <td>...</td>\n",
       "      <td>2</td>\n",
       "      <td>6</td>\n",
       "      <td>6</td>\n",
       "      <td>2</td>\n",
       "      <td>11.0</td>\n",
       "      <td>0</td>\n",
       "      <td>12.4</td>\n",
       "      <td>0.5</td>\n",
       "      <td>1.79</td>\n",
       "      <td>Dropout</td>\n",
       "    </tr>\n",
       "    <tr>\n",
       "      <th>71674</th>\n",
       "      <td>single</td>\n",
       "      <td>Short cycle diploma holders</td>\n",
       "      <td>1</td>\n",
       "      <td>Veterinary Nursing</td>\n",
       "      <td>daytime</td>\n",
       "      <td>Professional higher technical course</td>\n",
       "      <td>140.0</td>\n",
       "      <td>Portuguese</td>\n",
       "      <td>Higher education - degree (1st cycle)</td>\n",
       "      <td>Higher Education - Doctorate (3rd cycle)</td>\n",
       "      <td>...</td>\n",
       "      <td>0</td>\n",
       "      <td>6</td>\n",
       "      <td>6</td>\n",
       "      <td>6</td>\n",
       "      <td>15.0</td>\n",
       "      <td>0</td>\n",
       "      <td>8.9</td>\n",
       "      <td>1.4</td>\n",
       "      <td>3.51</td>\n",
       "      <td>Graduate</td>\n",
       "    </tr>\n",
       "  </tbody>\n",
       "</table>\n",
       "<p>3 rows × 37 columns</p>\n",
       "</div>"
      ],
      "text/plain": [
       "      Marital status                              Application mode  \\\n",
       "12656         single  Technological specialization diploma holders   \n",
       "62070         single                              Change of course   \n",
       "71674         single                   Short cycle diploma holders   \n",
       "\n",
       "       Application order              Course Daytime/evening attendance  \\\n",
       "12656                  1      Social Service                    daytime   \n",
       "62070                  1      Social Service                    daytime   \n",
       "71674                  1  Veterinary Nursing                    daytime   \n",
       "\n",
       "                     Previous qualification  Previous qualification (grade)  \\\n",
       "12656   Technological specialization course                           130.0   \n",
       "62070                   Secondary education                           120.0   \n",
       "71674  Professional higher technical course                           140.0   \n",
       "\n",
       "      Nationality                             Mother's qualification  \\\n",
       "12656  Portuguese                       Higher Education - Doctorate   \n",
       "62070  Portuguese  Secondary Education - 12th Year of Schooling o...   \n",
       "71674  Portuguese              Higher education - degree (1st cycle)   \n",
       "\n",
       "                         Father's qualification  ...  \\\n",
       "12656  Higher Education - Doctorate (3rd cycle)  ...   \n",
       "62070  Higher Education - Doctorate (3rd cycle)  ...   \n",
       "71674  Higher Education - Doctorate (3rd cycle)  ...   \n",
       "\n",
       "       Curricular units 2nd sem (credited)  \\\n",
       "12656                                    2   \n",
       "62070                                    2   \n",
       "71674                                    0   \n",
       "\n",
       "       Curricular units 2nd sem (enrolled)  \\\n",
       "12656                                    6   \n",
       "62070                                    6   \n",
       "71674                                    6   \n",
       "\n",
       "       Curricular units 2nd sem (evaluations)  \\\n",
       "12656                                       9   \n",
       "62070                                       6   \n",
       "71674                                       6   \n",
       "\n",
       "      Curricular units 2nd sem (approved) Curricular units 2nd sem (grade)  \\\n",
       "12656                                   6                             12.0   \n",
       "62070                                   2                             11.0   \n",
       "71674                                   6                             15.0   \n",
       "\n",
       "      Curricular units 2nd sem (without evaluations) Unemployment rate  \\\n",
       "12656                                              0              16.2   \n",
       "62070                                              0              12.4   \n",
       "71674                                              0               8.9   \n",
       "\n",
       "      Inflation rate   GDP    Target  \n",
       "12656            0.3 -0.92  Graduate  \n",
       "62070            0.5  1.79   Dropout  \n",
       "71674            1.4  3.51  Graduate  \n",
       "\n",
       "[3 rows x 37 columns]"
      ]
     },
     "execution_count": 132,
     "metadata": {},
     "output_type": "execute_result"
    }
   ],
   "source": [
    "train[train[\"Father's qualification\"]=='Higher Education - Doctorate (3rd cycle)']"
   ]
  },
  {
   "cell_type": "code",
   "execution_count": 133,
   "id": "a64a45b5",
   "metadata": {
    "execution": {
     "iopub.execute_input": "2024-06-01T10:14:08.596982Z",
     "iopub.status.busy": "2024-06-01T10:14:08.596643Z",
     "iopub.status.idle": "2024-06-01T10:14:08.687842Z",
     "shell.execute_reply": "2024-06-01T10:14:08.686091Z"
    },
    "papermill": {
     "duration": 0.144575,
     "end_time": "2024-06-01T10:14:08.690204",
     "exception": false,
     "start_time": "2024-06-01T10:14:08.545629",
     "status": "completed"
    },
    "tags": []
   },
   "outputs": [
    {
     "name": "stdout",
     "output_type": "stream",
     "text": [
      "<class 'pandas.core.frame.DataFrame'>\n",
      "Index: 76517 entries, 0 to 76517\n",
      "Data columns (total 37 columns):\n",
      " #   Column                                          Non-Null Count  Dtype  \n",
      "---  ------                                          --------------  -----  \n",
      " 0   Marital status                                  76517 non-null  object \n",
      " 1   Application mode                                76512 non-null  object \n",
      " 2   Application order                               76517 non-null  int64  \n",
      " 3   Course                                          76515 non-null  object \n",
      " 4   Daytime/evening attendance                      76517 non-null  object \n",
      " 5   Previous qualification                          76509 non-null  object \n",
      " 6   Previous qualification (grade)                  76517 non-null  float64\n",
      " 7   Nationality                                     76514 non-null  object \n",
      " 8   Mother's qualification                          76508 non-null  object \n",
      " 9   Father's qualification                          76505 non-null  object \n",
      " 10  Mother's occupation                             76517 non-null  int64  \n",
      " 11  Father's occupation                             76517 non-null  int64  \n",
      " 12  Admission grade                                 76517 non-null  int64  \n",
      " 13  Displaced                                       76517 non-null  object \n",
      " 14  Educational special needs                       76517 non-null  object \n",
      " 15  Debtor                                          76517 non-null  object \n",
      " 16  Tuition fees up to date                         76517 non-null  object \n",
      " 17  Gender                                          76517 non-null  object \n",
      " 18  Scholarship holder                              76517 non-null  object \n",
      " 19  Age at enrollment                               76517 non-null  int64  \n",
      " 20  International                                   76517 non-null  object \n",
      " 21  Curricular units 1st sem (credited)             76517 non-null  int64  \n",
      " 22  Curricular units 1st sem (enrolled)             76517 non-null  int64  \n",
      " 23  Curricular units 1st sem (evaluations)          76517 non-null  int64  \n",
      " 24  Curricular units 1st sem (approved)             76517 non-null  int64  \n",
      " 25  Curricular units 1st sem (grade)                76517 non-null  float64\n",
      " 26  Curricular units 1st sem (without evaluations)  76517 non-null  int64  \n",
      " 27  Curricular units 2nd sem (credited)             76517 non-null  int64  \n",
      " 28  Curricular units 2nd sem (enrolled)             76517 non-null  int64  \n",
      " 29  Curricular units 2nd sem (evaluations)          76517 non-null  int64  \n",
      " 30  Curricular units 2nd sem (approved)             76517 non-null  int64  \n",
      " 31  Curricular units 2nd sem (grade)                76517 non-null  float64\n",
      " 32  Curricular units 2nd sem (without evaluations)  76517 non-null  int64  \n",
      " 33  Unemployment rate                               76517 non-null  float64\n",
      " 34  Inflation rate                                  76517 non-null  float64\n",
      " 35  GDP                                             76517 non-null  float64\n",
      " 36  Target                                          76517 non-null  object \n",
      "dtypes: float64(6), int64(15), object(16)\n",
      "memory usage: 22.2+ MB\n"
     ]
    }
   ],
   "source": [
    "train[\"Father's qualification\"]=train[\"Father's qualification\"].replace({'Higher Education - Doctorate (3rd cycle)':np.NaN,\n",
    " 'Complementary High School Course':np.NaN})\n",
    "train.info()"
   ]
  },
  {
   "cell_type": "code",
   "execution_count": 134,
   "id": "94628403",
   "metadata": {
    "execution": {
     "iopub.execute_input": "2024-06-01T10:14:08.814690Z",
     "iopub.status.busy": "2024-06-01T10:14:08.813764Z",
     "iopub.status.idle": "2024-06-01T10:14:08.826428Z",
     "shell.execute_reply": "2024-06-01T10:14:08.825409Z"
    },
    "papermill": {
     "duration": 0.082084,
     "end_time": "2024-06-01T10:14:08.828658",
     "exception": false,
     "start_time": "2024-06-01T10:14:08.746574",
     "status": "completed"
    },
    "tags": []
   },
   "outputs": [
    {
     "data": {
      "text/plain": [
       "Father's qualification\n",
       "Basic education 1st cycle (4th/5th year) or equiv.          23290\n",
       "Basic Education 3rd Cycle (9th/10th/11th Year) or Equiv.    19015\n",
       "Secondary Education - 12th Year of Schooling or Eq.         15604\n",
       "Basic Education 2nd Cycle (6th/7th/8th Year) or Equiv.      12253\n",
       "Higher Education - Degree                                    3011\n",
       "Unknown                                                      1789\n",
       "Higher Education - Bachelor's Degree                          496\n",
       "Other - 11th Year of Schooling                                294\n",
       "Higher Education - Master's                                   224\n",
       "Technological specialization course                           120\n",
       "Higher Education - Doctorate                                  100\n",
       "7th Year (Old)                                                 75\n",
       "Can read without having a 4th year of schooling                43\n",
       "9th Year of Schooling - Not Completed                          25\n",
       "Higher education - degree (1st cycle)                          25\n",
       "12th Year of Schooling - Not Completed                         19\n",
       "10th Year of Schooling                                         18\n",
       "8th year of schooling                                          14\n",
       "Higher Education - Master (2nd cycle)                          14\n",
       "Specialized higher studies course                              13\n",
       "Technical-professional course                                  11\n",
       "11th Year of Schooling - Not Completed                         10\n",
       "7th year of schooling                                           9\n",
       "Frequency of Higher Education                                   9\n",
       "Professional higher technical course                            7\n",
       "Can't read or write                                             5\n",
       "General commerce course                                         4\n",
       "2nd year complementary high school course                       3\n",
       "2nd cycle of the general high school course                     2\n",
       "Supplementary Accounting and Administration                     1\n",
       "General Course of Administration and Commerce                   1\n",
       "Complementary High School Course - not concluded                1\n",
       "Name: count, dtype: int64"
      ]
     },
     "execution_count": 134,
     "metadata": {},
     "output_type": "execute_result"
    }
   ],
   "source": [
    "train[\"Father's qualification\"].value_counts()"
   ]
  },
  {
   "cell_type": "code",
   "execution_count": 135,
   "id": "415e3bb1",
   "metadata": {
    "execution": {
     "iopub.execute_input": "2024-06-01T10:14:08.931058Z",
     "iopub.status.busy": "2024-06-01T10:14:08.930678Z",
     "iopub.status.idle": "2024-06-01T10:14:08.941977Z",
     "shell.execute_reply": "2024-06-01T10:14:08.941018Z"
    },
    "papermill": {
     "duration": 0.065673,
     "end_time": "2024-06-01T10:14:08.944227",
     "exception": false,
     "start_time": "2024-06-01T10:14:08.878554",
     "status": "completed"
    },
    "tags": []
   },
   "outputs": [
    {
     "data": {
      "text/plain": [
       "Father's qualification\n",
       "Basic education 1st cycle (4th/5th year) or equiv.          15536\n",
       "Basic Education 3rd Cycle (9th/10th/11th Year) or Equiv.    12736\n",
       "Secondary Education - 12th Year of Schooling or Eq.         10197\n",
       "Basic Education 2nd Cycle (6th/7th/8th Year) or Equiv.       8302\n",
       "Higher Education - Degree                                    2024\n",
       "Unknown                                                      1160\n",
       "Higher Education - Bachelor's Degree                          342\n",
       "Other - 11th Year of Schooling                                189\n",
       "Higher Education - Master's                                   148\n",
       "Technological specialization course                            91\n",
       "Higher Education - Doctorate                                   61\n",
       "7th Year (Old)                                                 39\n",
       "Can read without having a 4th year of schooling                28\n",
       "Higher education - degree (1st cycle)                          19\n",
       "8th year of schooling                                          17\n",
       "12th Year of Schooling - Not Completed                         16\n",
       "Technical-professional course                                  16\n",
       "9th Year of Schooling - Not Completed                          16\n",
       "Frequency of Higher Education                                  15\n",
       "11th Year of Schooling - Not Completed                         11\n",
       "10th Year of Schooling                                         11\n",
       "7th year of schooling                                           6\n",
       "Higher Education - Master (2nd cycle)                           5\n",
       "Specialized higher studies course                               5\n",
       "Can't read or write                                             4\n",
       "Supplementary Accounting and Administration                     3\n",
       "2nd cycle of the general high school course                     3\n",
       "General Course of Administration and Commerce                   2\n",
       "General commerce course                                         2\n",
       "Complementary High School Course - not concluded                2\n",
       "Professional higher technical course                            1\n",
       "2nd year complementary high school course                       1\n",
       "Name: count, dtype: int64"
      ]
     },
     "execution_count": 135,
     "metadata": {},
     "output_type": "execute_result"
    }
   ],
   "source": [
    "test[\"Father's qualification\"].value_counts()"
   ]
  },
  {
   "cell_type": "code",
   "execution_count": 136,
   "id": "6f79cbcc",
   "metadata": {
    "execution": {
     "iopub.execute_input": "2024-06-01T10:14:09.046218Z",
     "iopub.status.busy": "2024-06-01T10:14:09.045789Z",
     "iopub.status.idle": "2024-06-01T10:14:09.134437Z",
     "shell.execute_reply": "2024-06-01T10:14:09.132707Z"
    },
    "papermill": {
     "duration": 0.142958,
     "end_time": "2024-06-01T10:14:09.136917",
     "exception": false,
     "start_time": "2024-06-01T10:14:08.993959",
     "status": "completed"
    },
    "tags": []
   },
   "outputs": [
    {
     "name": "stdout",
     "output_type": "stream",
     "text": [
      "<class 'pandas.core.frame.DataFrame'>\n",
      "Index: 76517 entries, 0 to 76517\n",
      "Data columns (total 37 columns):\n",
      " #   Column                                          Non-Null Count  Dtype  \n",
      "---  ------                                          --------------  -----  \n",
      " 0   Marital status                                  76517 non-null  object \n",
      " 1   Application mode                                76512 non-null  object \n",
      " 2   Application order                               76517 non-null  int64  \n",
      " 3   Course                                          76515 non-null  object \n",
      " 4   Daytime/evening attendance                      76517 non-null  object \n",
      " 5   Previous qualification                          76509 non-null  object \n",
      " 6   Previous qualification (grade)                  76517 non-null  float64\n",
      " 7   Nationality                                     76514 non-null  object \n",
      " 8   Mother's qualification                          76508 non-null  object \n",
      " 9   Father's qualification                          76502 non-null  object \n",
      " 10  Mother's occupation                             76517 non-null  int64  \n",
      " 11  Father's occupation                             76517 non-null  int64  \n",
      " 12  Admission grade                                 76517 non-null  int64  \n",
      " 13  Displaced                                       76517 non-null  object \n",
      " 14  Educational special needs                       76517 non-null  object \n",
      " 15  Debtor                                          76517 non-null  object \n",
      " 16  Tuition fees up to date                         76517 non-null  object \n",
      " 17  Gender                                          76517 non-null  object \n",
      " 18  Scholarship holder                              76517 non-null  object \n",
      " 19  Age at enrollment                               76517 non-null  int64  \n",
      " 20  International                                   76517 non-null  object \n",
      " 21  Curricular units 1st sem (credited)             76517 non-null  int64  \n",
      " 22  Curricular units 1st sem (enrolled)             76517 non-null  int64  \n",
      " 23  Curricular units 1st sem (evaluations)          76517 non-null  int64  \n",
      " 24  Curricular units 1st sem (approved)             76517 non-null  int64  \n",
      " 25  Curricular units 1st sem (grade)                76517 non-null  float64\n",
      " 26  Curricular units 1st sem (without evaluations)  76517 non-null  int64  \n",
      " 27  Curricular units 2nd sem (credited)             76517 non-null  int64  \n",
      " 28  Curricular units 2nd sem (enrolled)             76517 non-null  int64  \n",
      " 29  Curricular units 2nd sem (evaluations)          76517 non-null  int64  \n",
      " 30  Curricular units 2nd sem (approved)             76517 non-null  int64  \n",
      " 31  Curricular units 2nd sem (grade)                76517 non-null  float64\n",
      " 32  Curricular units 2nd sem (without evaluations)  76517 non-null  int64  \n",
      " 33  Unemployment rate                               76517 non-null  float64\n",
      " 34  Inflation rate                                  76517 non-null  float64\n",
      " 35  GDP                                             76517 non-null  float64\n",
      " 36  Target                                          76517 non-null  object \n",
      "dtypes: float64(6), int64(15), object(16)\n",
      "memory usage: 22.2+ MB\n"
     ]
    }
   ],
   "source": [
    "train[\"Father's qualification\"]=train[\"Father's qualification\"].replace({'Supplementary Accounting and Administration':np.NaN,\n",
    "                                                                         'General Course of Administration and Commerce' :np.NaN,\n",
    "                                                                         'Complementary High School Course - not concluded' :np.NaN})\n",
    "train.info()"
   ]
  },
  {
   "cell_type": "code",
   "execution_count": 137,
   "id": "c0c20b2a",
   "metadata": {
    "execution": {
     "iopub.execute_input": "2024-06-01T10:14:09.240058Z",
     "iopub.status.busy": "2024-06-01T10:14:09.239693Z",
     "iopub.status.idle": "2024-06-01T10:14:09.300713Z",
     "shell.execute_reply": "2024-06-01T10:14:09.299540Z"
    },
    "papermill": {
     "duration": 0.115993,
     "end_time": "2024-06-01T10:14:09.303304",
     "exception": false,
     "start_time": "2024-06-01T10:14:09.187311",
     "status": "completed"
    },
    "tags": []
   },
   "outputs": [
    {
     "name": "stdout",
     "output_type": "stream",
     "text": [
      "<class 'pandas.core.frame.DataFrame'>\n",
      "RangeIndex: 51012 entries, 0 to 51011\n",
      "Data columns (total 36 columns):\n",
      " #   Column                                          Non-Null Count  Dtype  \n",
      "---  ------                                          --------------  -----  \n",
      " 0   Marital status                                  51012 non-null  object \n",
      " 1   Application mode                                51007 non-null  object \n",
      " 2   Application order                               51012 non-null  int64  \n",
      " 3   Course                                          51008 non-null  object \n",
      " 4   Daytime/evening attendance                      51012 non-null  object \n",
      " 5   Previous qualification                          51009 non-null  object \n",
      " 6   Previous qualification (grade)                  51012 non-null  float64\n",
      " 7   Nationality                                     51009 non-null  object \n",
      " 8   Mother's qualification                          51005 non-null  object \n",
      " 9   Father's qualification                          51001 non-null  object \n",
      " 10  Mother's occupation                             51012 non-null  int64  \n",
      " 11  Father's occupation                             51012 non-null  int64  \n",
      " 12  Admission grade                                 51012 non-null  int64  \n",
      " 13  Displaced                                       51012 non-null  object \n",
      " 14  Educational special needs                       51012 non-null  object \n",
      " 15  Debtor                                          51012 non-null  object \n",
      " 16  Tuition fees up to date                         51012 non-null  object \n",
      " 17  Gender                                          51012 non-null  object \n",
      " 18  Scholarship holder                              51012 non-null  object \n",
      " 19  Age at enrollment                               51012 non-null  int64  \n",
      " 20  International                                   51012 non-null  object \n",
      " 21  Curricular units 1st sem (credited)             51012 non-null  int64  \n",
      " 22  Curricular units 1st sem (enrolled)             51012 non-null  int64  \n",
      " 23  Curricular units 1st sem (evaluations)          51012 non-null  int64  \n",
      " 24  Curricular units 1st sem (approved)             51012 non-null  int64  \n",
      " 25  Curricular units 1st sem (grade)                51012 non-null  float64\n",
      " 26  Curricular units 1st sem (without evaluations)  51012 non-null  int64  \n",
      " 27  Curricular units 2nd sem (credited)             51012 non-null  int64  \n",
      " 28  Curricular units 2nd sem (enrolled)             51012 non-null  int64  \n",
      " 29  Curricular units 2nd sem (evaluations)          51012 non-null  int64  \n",
      " 30  Curricular units 2nd sem (approved)             51012 non-null  int64  \n",
      " 31  Curricular units 2nd sem (grade)                51012 non-null  float64\n",
      " 32  Curricular units 2nd sem (without evaluations)  51012 non-null  int64  \n",
      " 33  Unemployment rate                               51012 non-null  float64\n",
      " 34  Inflation rate                                  51012 non-null  float64\n",
      " 35  GDP                                             51012 non-null  float64\n",
      "dtypes: float64(6), int64(15), object(15)\n",
      "memory usage: 14.0+ MB\n"
     ]
    }
   ],
   "source": [
    "test[\"Father's qualification\"]=test[\"Father's qualification\"].replace({'Supplementary Accounting and Administration':np.NaN,\n",
    "                                                                         'General Course of Administration and Commerce' :np.NaN,\n",
    "                                                                         'Complementary High School Course - not concluded' :np.NaN})\n",
    "test.info()"
   ]
  },
  {
   "cell_type": "code",
   "execution_count": 138,
   "id": "b4dcec1e",
   "metadata": {
    "execution": {
     "iopub.execute_input": "2024-06-01T10:14:09.404944Z",
     "iopub.status.busy": "2024-06-01T10:14:09.404587Z",
     "iopub.status.idle": "2024-06-01T10:14:09.417697Z",
     "shell.execute_reply": "2024-06-01T10:14:09.416638Z"
    },
    "papermill": {
     "duration": 0.066444,
     "end_time": "2024-06-01T10:14:09.419880",
     "exception": false,
     "start_time": "2024-06-01T10:14:09.353436",
     "status": "completed"
    },
    "tags": []
   },
   "outputs": [
    {
     "data": {
      "text/plain": [
       "Father's qualification\n",
       "Basic education 1st cycle (4th/5th year) or equiv.          23290\n",
       "Basic Education 3rd Cycle (9th/10th/11th Year) or Equiv.    19015\n",
       "Secondary Education - 12th Year of Schooling or Eq.         15604\n",
       "Basic Education 2nd Cycle (6th/7th/8th Year) or Equiv.      12253\n",
       "Higher Education - Degree                                    3011\n",
       "Unknown                                                      1789\n",
       "Higher Education - Bachelor's Degree                          496\n",
       "Other - 11th Year of Schooling                                294\n",
       "Higher Education - Master's                                   224\n",
       "Technological specialization course                           120\n",
       "Higher Education - Doctorate                                  100\n",
       "7th Year (Old)                                                 75\n",
       "Can read without having a 4th year of schooling                43\n",
       "9th Year of Schooling - Not Completed                          25\n",
       "Higher education - degree (1st cycle)                          25\n",
       "12th Year of Schooling - Not Completed                         19\n",
       "10th Year of Schooling                                         18\n",
       "8th year of schooling                                          14\n",
       "Higher Education - Master (2nd cycle)                          14\n",
       "Specialized higher studies course                              13\n",
       "Technical-professional course                                  11\n",
       "11th Year of Schooling - Not Completed                         10\n",
       "7th year of schooling                                           9\n",
       "Frequency of Higher Education                                   9\n",
       "Professional higher technical course                            7\n",
       "Can't read or write                                             5\n",
       "General commerce course                                         4\n",
       "2nd year complementary high school course                       3\n",
       "2nd cycle of the general high school course                     2\n",
       "Name: count, dtype: int64"
      ]
     },
     "execution_count": 138,
     "metadata": {},
     "output_type": "execute_result"
    }
   ],
   "source": [
    "train[\"Father's qualification\"].value_counts()"
   ]
  },
  {
   "cell_type": "code",
   "execution_count": 139,
   "id": "4c1f7e26",
   "metadata": {
    "execution": {
     "iopub.execute_input": "2024-06-01T10:14:09.523929Z",
     "iopub.status.busy": "2024-06-01T10:14:09.523546Z",
     "iopub.status.idle": "2024-06-01T10:14:09.535365Z",
     "shell.execute_reply": "2024-06-01T10:14:09.534168Z"
    },
    "papermill": {
     "duration": 0.06625,
     "end_time": "2024-06-01T10:14:09.537725",
     "exception": false,
     "start_time": "2024-06-01T10:14:09.471475",
     "status": "completed"
    },
    "tags": []
   },
   "outputs": [
    {
     "data": {
      "text/plain": [
       "Father's qualification\n",
       "Basic education 1st cycle (4th/5th year) or equiv.          15536\n",
       "Basic Education 3rd Cycle (9th/10th/11th Year) or Equiv.    12736\n",
       "Secondary Education - 12th Year of Schooling or Eq.         10197\n",
       "Basic Education 2nd Cycle (6th/7th/8th Year) or Equiv.       8302\n",
       "Higher Education - Degree                                    2024\n",
       "Unknown                                                      1160\n",
       "Higher Education - Bachelor's Degree                          342\n",
       "Other - 11th Year of Schooling                                189\n",
       "Higher Education - Master's                                   148\n",
       "Technological specialization course                            91\n",
       "Higher Education - Doctorate                                   61\n",
       "7th Year (Old)                                                 39\n",
       "Can read without having a 4th year of schooling                28\n",
       "Higher education - degree (1st cycle)                          19\n",
       "8th year of schooling                                          17\n",
       "12th Year of Schooling - Not Completed                         16\n",
       "9th Year of Schooling - Not Completed                          16\n",
       "Technical-professional course                                  16\n",
       "Frequency of Higher Education                                  15\n",
       "10th Year of Schooling                                         11\n",
       "11th Year of Schooling - Not Completed                         11\n",
       "7th year of schooling                                           6\n",
       "Higher Education - Master (2nd cycle)                           5\n",
       "Specialized higher studies course                               5\n",
       "Can't read or write                                             4\n",
       "2nd cycle of the general high school course                     3\n",
       "General commerce course                                         2\n",
       "Professional higher technical course                            1\n",
       "2nd year complementary high school course                       1\n",
       "Name: count, dtype: int64"
      ]
     },
     "execution_count": 139,
     "metadata": {},
     "output_type": "execute_result"
    }
   ],
   "source": [
    "test[\"Father's qualification\"].value_counts()"
   ]
  },
  {
   "cell_type": "code",
   "execution_count": 140,
   "id": "dd6ded28",
   "metadata": {
    "execution": {
     "iopub.execute_input": "2024-06-01T10:14:09.641931Z",
     "iopub.status.busy": "2024-06-01T10:14:09.641578Z",
     "iopub.status.idle": "2024-06-01T10:14:09.651776Z",
     "shell.execute_reply": "2024-06-01T10:14:09.650701Z"
    },
    "papermill": {
     "duration": 0.065413,
     "end_time": "2024-06-01T10:14:09.653845",
     "exception": false,
     "start_time": "2024-06-01T10:14:09.588432",
     "status": "completed"
    },
    "tags": []
   },
   "outputs": [
    {
     "data": {
      "text/plain": [
       "[]"
      ]
     },
     "execution_count": 140,
     "metadata": {},
     "output_type": "execute_result"
    }
   ],
   "source": [
    "list(set(train[\"Father's qualification\"].unique().tolist())^set(test[\"Father's qualification\"].unique().tolist()))"
   ]
  },
  {
   "cell_type": "code",
   "execution_count": 141,
   "id": "3ed3286c",
   "metadata": {
    "execution": {
     "iopub.execute_input": "2024-06-01T10:14:09.758957Z",
     "iopub.status.busy": "2024-06-01T10:14:09.758582Z",
     "iopub.status.idle": "2024-06-01T10:14:09.861980Z",
     "shell.execute_reply": "2024-06-01T10:14:09.860876Z"
    },
    "papermill": {
     "duration": 0.157988,
     "end_time": "2024-06-01T10:14:09.864467",
     "exception": false,
     "start_time": "2024-06-01T10:14:09.706479",
     "status": "completed"
    },
    "tags": []
   },
   "outputs": [],
   "source": [
    "for i in test.select_dtypes(include=['object']).columns.tolist():\n",
    "    if (len(list(set(train[i].unique().tolist())^set(test[i].unique().tolist())))!=0):\n",
    "        print(i ,'need to be worked on')\n",
    "    else:\n",
    "        continue"
   ]
  },
  {
   "cell_type": "code",
   "execution_count": 142,
   "id": "97ea3ef8",
   "metadata": {
    "execution": {
     "iopub.execute_input": "2024-06-01T10:14:09.966700Z",
     "iopub.status.busy": "2024-06-01T10:14:09.966324Z",
     "iopub.status.idle": "2024-06-01T10:14:10.037314Z",
     "shell.execute_reply": "2024-06-01T10:14:10.035898Z"
    },
    "papermill": {
     "duration": 0.125135,
     "end_time": "2024-06-01T10:14:10.039780",
     "exception": false,
     "start_time": "2024-06-01T10:14:09.914645",
     "status": "completed"
    },
    "tags": []
   },
   "outputs": [
    {
     "name": "stdout",
     "output_type": "stream",
     "text": [
      "<class 'pandas.core.frame.DataFrame'>\n",
      "Index: 76517 entries, 0 to 76517\n",
      "Data columns (total 37 columns):\n",
      " #   Column                                          Non-Null Count  Dtype  \n",
      "---  ------                                          --------------  -----  \n",
      " 0   Marital status                                  76517 non-null  object \n",
      " 1   Application mode                                76512 non-null  object \n",
      " 2   Application order                               76517 non-null  int64  \n",
      " 3   Course                                          76515 non-null  object \n",
      " 4   Daytime/evening attendance                      76517 non-null  object \n",
      " 5   Previous qualification                          76509 non-null  object \n",
      " 6   Previous qualification (grade)                  76517 non-null  float64\n",
      " 7   Nationality                                     76514 non-null  object \n",
      " 8   Mother's qualification                          76508 non-null  object \n",
      " 9   Father's qualification                          76502 non-null  object \n",
      " 10  Mother's occupation                             76517 non-null  int64  \n",
      " 11  Father's occupation                             76517 non-null  int64  \n",
      " 12  Admission grade                                 76517 non-null  int64  \n",
      " 13  Displaced                                       76517 non-null  object \n",
      " 14  Educational special needs                       76517 non-null  object \n",
      " 15  Debtor                                          76517 non-null  object \n",
      " 16  Tuition fees up to date                         76517 non-null  object \n",
      " 17  Gender                                          76517 non-null  object \n",
      " 18  Scholarship holder                              76517 non-null  object \n",
      " 19  Age at enrollment                               76517 non-null  int64  \n",
      " 20  International                                   76517 non-null  object \n",
      " 21  Curricular units 1st sem (credited)             76517 non-null  int64  \n",
      " 22  Curricular units 1st sem (enrolled)             76517 non-null  int64  \n",
      " 23  Curricular units 1st sem (evaluations)          76517 non-null  int64  \n",
      " 24  Curricular units 1st sem (approved)             76517 non-null  int64  \n",
      " 25  Curricular units 1st sem (grade)                76517 non-null  float64\n",
      " 26  Curricular units 1st sem (without evaluations)  76517 non-null  int64  \n",
      " 27  Curricular units 2nd sem (credited)             76517 non-null  int64  \n",
      " 28  Curricular units 2nd sem (enrolled)             76517 non-null  int64  \n",
      " 29  Curricular units 2nd sem (evaluations)          76517 non-null  int64  \n",
      " 30  Curricular units 2nd sem (approved)             76517 non-null  int64  \n",
      " 31  Curricular units 2nd sem (grade)                76517 non-null  float64\n",
      " 32  Curricular units 2nd sem (without evaluations)  76517 non-null  int64  \n",
      " 33  Unemployment rate                               76517 non-null  float64\n",
      " 34  Inflation rate                                  76517 non-null  float64\n",
      " 35  GDP                                             76517 non-null  float64\n",
      " 36  Target                                          76517 non-null  object \n",
      "dtypes: float64(6), int64(15), object(16)\n",
      "memory usage: 22.2+ MB\n"
     ]
    }
   ],
   "source": [
    "train.info()"
   ]
  },
  {
   "cell_type": "code",
   "execution_count": 143,
   "id": "4a80e971",
   "metadata": {
    "execution": {
     "iopub.execute_input": "2024-06-01T10:14:10.144116Z",
     "iopub.status.busy": "2024-06-01T10:14:10.143751Z",
     "iopub.status.idle": "2024-06-01T10:14:10.211861Z",
     "shell.execute_reply": "2024-06-01T10:14:10.210584Z"
    },
    "papermill": {
     "duration": 0.123735,
     "end_time": "2024-06-01T10:14:10.214195",
     "exception": false,
     "start_time": "2024-06-01T10:14:10.090460",
     "status": "completed"
    },
    "tags": []
   },
   "outputs": [
    {
     "data": {
      "text/plain": [
       "Marital status                                     0\n",
       "Application mode                                   5\n",
       "Application order                                  0\n",
       "Course                                             2\n",
       "Daytime/evening attendance                         0\n",
       "Previous qualification                             8\n",
       "Previous qualification (grade)                     0\n",
       "Nationality                                        3\n",
       "Mother's qualification                             9\n",
       "Father's qualification                            15\n",
       "Mother's occupation                                0\n",
       "Father's occupation                                0\n",
       "Admission grade                                    0\n",
       "Displaced                                          0\n",
       "Educational special needs                          0\n",
       "Debtor                                             0\n",
       "Tuition fees up to date                            0\n",
       "Gender                                             0\n",
       "Scholarship holder                                 0\n",
       "Age at enrollment                                  0\n",
       "International                                      0\n",
       "Curricular units 1st sem (credited)                0\n",
       "Curricular units 1st sem (enrolled)                0\n",
       "Curricular units 1st sem (evaluations)             0\n",
       "Curricular units 1st sem (approved)                0\n",
       "Curricular units 1st sem (grade)                   0\n",
       "Curricular units 1st sem (without evaluations)     0\n",
       "Curricular units 2nd sem (credited)                0\n",
       "Curricular units 2nd sem (enrolled)                0\n",
       "Curricular units 2nd sem (evaluations)             0\n",
       "Curricular units 2nd sem (approved)                0\n",
       "Curricular units 2nd sem (grade)                   0\n",
       "Curricular units 2nd sem (without evaluations)     0\n",
       "Unemployment rate                                  0\n",
       "Inflation rate                                     0\n",
       "GDP                                                0\n",
       "Target                                             0\n",
       "dtype: int64"
      ]
     },
     "execution_count": 143,
     "metadata": {},
     "output_type": "execute_result"
    }
   ],
   "source": [
    "train.isnull().sum()"
   ]
  },
  {
   "cell_type": "code",
   "execution_count": 144,
   "id": "968470d2",
   "metadata": {
    "execution": {
     "iopub.execute_input": "2024-06-01T10:14:10.316886Z",
     "iopub.status.busy": "2024-06-01T10:14:10.316545Z",
     "iopub.status.idle": "2024-06-01T10:14:10.398335Z",
     "shell.execute_reply": "2024-06-01T10:14:10.397150Z"
    },
    "papermill": {
     "duration": 0.13598,
     "end_time": "2024-06-01T10:14:10.400617",
     "exception": false,
     "start_time": "2024-06-01T10:14:10.264637",
     "status": "completed"
    },
    "tags": []
   },
   "outputs": [
    {
     "data": {
      "text/html": [
       "<div>\n",
       "<style scoped>\n",
       "    .dataframe tbody tr th:only-of-type {\n",
       "        vertical-align: middle;\n",
       "    }\n",
       "\n",
       "    .dataframe tbody tr th {\n",
       "        vertical-align: top;\n",
       "    }\n",
       "\n",
       "    .dataframe thead th {\n",
       "        text-align: right;\n",
       "    }\n",
       "</style>\n",
       "<table border=\"1\" class=\"dataframe\">\n",
       "  <thead>\n",
       "    <tr style=\"text-align: right;\">\n",
       "      <th></th>\n",
       "      <th>Marital status</th>\n",
       "      <th>Application mode</th>\n",
       "      <th>Application order</th>\n",
       "      <th>Course</th>\n",
       "      <th>Daytime/evening attendance</th>\n",
       "      <th>Previous qualification</th>\n",
       "      <th>Previous qualification (grade)</th>\n",
       "      <th>Nationality</th>\n",
       "      <th>Mother's qualification</th>\n",
       "      <th>Father's qualification</th>\n",
       "      <th>...</th>\n",
       "      <th>Curricular units 2nd sem (credited)</th>\n",
       "      <th>Curricular units 2nd sem (enrolled)</th>\n",
       "      <th>Curricular units 2nd sem (evaluations)</th>\n",
       "      <th>Curricular units 2nd sem (approved)</th>\n",
       "      <th>Curricular units 2nd sem (grade)</th>\n",
       "      <th>Curricular units 2nd sem (without evaluations)</th>\n",
       "      <th>Unemployment rate</th>\n",
       "      <th>Inflation rate</th>\n",
       "      <th>GDP</th>\n",
       "      <th>Target</th>\n",
       "    </tr>\n",
       "  </thead>\n",
       "  <tbody>\n",
       "    <tr>\n",
       "      <th>1042</th>\n",
       "      <td>single</td>\n",
       "      <td>Over 23 years old</td>\n",
       "      <td>1</td>\n",
       "      <td>Basic Education</td>\n",
       "      <td>daytime</td>\n",
       "      <td>NaN</td>\n",
       "      <td>133.1</td>\n",
       "      <td>Portuguese</td>\n",
       "      <td>Basic education 1st cycle (4th/5th year) or eq...</td>\n",
       "      <td>Basic education 1st cycle (4th/5th year) or eq...</td>\n",
       "      <td>...</td>\n",
       "      <td>0</td>\n",
       "      <td>6</td>\n",
       "      <td>8</td>\n",
       "      <td>0</td>\n",
       "      <td>0.000000</td>\n",
       "      <td>0</td>\n",
       "      <td>9.4</td>\n",
       "      <td>-0.8</td>\n",
       "      <td>-3.12</td>\n",
       "      <td>Dropout</td>\n",
       "    </tr>\n",
       "    <tr>\n",
       "      <th>4877</th>\n",
       "      <td>single</td>\n",
       "      <td>NaN</td>\n",
       "      <td>1</td>\n",
       "      <td>Nursing</td>\n",
       "      <td>daytime</td>\n",
       "      <td>Secondary education</td>\n",
       "      <td>146.0</td>\n",
       "      <td>Portuguese</td>\n",
       "      <td>Basic Education 2nd Cycle (6th/7th/8th Year) o...</td>\n",
       "      <td>Basic Education 2nd Cycle (6th/7th/8th Year) o...</td>\n",
       "      <td>...</td>\n",
       "      <td>0</td>\n",
       "      <td>8</td>\n",
       "      <td>8</td>\n",
       "      <td>8</td>\n",
       "      <td>13.750000</td>\n",
       "      <td>0</td>\n",
       "      <td>13.9</td>\n",
       "      <td>-0.3</td>\n",
       "      <td>0.79</td>\n",
       "      <td>Graduate</td>\n",
       "    </tr>\n",
       "    <tr>\n",
       "      <th>12656</th>\n",
       "      <td>single</td>\n",
       "      <td>Technological specialization diploma holders</td>\n",
       "      <td>1</td>\n",
       "      <td>Social Service</td>\n",
       "      <td>daytime</td>\n",
       "      <td>Technological specialization course</td>\n",
       "      <td>130.0</td>\n",
       "      <td>Portuguese</td>\n",
       "      <td>Higher Education - Doctorate</td>\n",
       "      <td>NaN</td>\n",
       "      <td>...</td>\n",
       "      <td>2</td>\n",
       "      <td>6</td>\n",
       "      <td>9</td>\n",
       "      <td>6</td>\n",
       "      <td>12.000000</td>\n",
       "      <td>0</td>\n",
       "      <td>16.2</td>\n",
       "      <td>0.3</td>\n",
       "      <td>-0.92</td>\n",
       "      <td>Graduate</td>\n",
       "    </tr>\n",
       "    <tr>\n",
       "      <th>13888</th>\n",
       "      <td>divorced</td>\n",
       "      <td>Over 23 years old</td>\n",
       "      <td>1</td>\n",
       "      <td>Management (evening attendance)</td>\n",
       "      <td>evening</td>\n",
       "      <td>NaN</td>\n",
       "      <td>133.1</td>\n",
       "      <td>Portuguese</td>\n",
       "      <td>Basic Education 3rd Cycle (9th/10th/11th Year)...</td>\n",
       "      <td>Basic education 1st cycle (4th/5th year) or eq...</td>\n",
       "      <td>...</td>\n",
       "      <td>0</td>\n",
       "      <td>5</td>\n",
       "      <td>6</td>\n",
       "      <td>5</td>\n",
       "      <td>11.400000</td>\n",
       "      <td>0</td>\n",
       "      <td>10.8</td>\n",
       "      <td>1.4</td>\n",
       "      <td>1.74</td>\n",
       "      <td>Enrolled</td>\n",
       "    </tr>\n",
       "    <tr>\n",
       "      <th>15999</th>\n",
       "      <td>single</td>\n",
       "      <td>1st phase - general contingent</td>\n",
       "      <td>1</td>\n",
       "      <td>Equinculture</td>\n",
       "      <td>daytime</td>\n",
       "      <td>Secondary education</td>\n",
       "      <td>149.0</td>\n",
       "      <td>Portuguese</td>\n",
       "      <td>NaN</td>\n",
       "      <td>Basic Education 3rd Cycle (9th/10th/11th Year)...</td>\n",
       "      <td>...</td>\n",
       "      <td>0</td>\n",
       "      <td>5</td>\n",
       "      <td>7</td>\n",
       "      <td>3</td>\n",
       "      <td>12.333333</td>\n",
       "      <td>2</td>\n",
       "      <td>7.6</td>\n",
       "      <td>2.6</td>\n",
       "      <td>0.32</td>\n",
       "      <td>Graduate</td>\n",
       "    </tr>\n",
       "  </tbody>\n",
       "</table>\n",
       "<p>5 rows × 37 columns</p>\n",
       "</div>"
      ],
      "text/plain": [
       "      Marital status                              Application mode  \\\n",
       "1042          single                             Over 23 years old   \n",
       "4877          single                                           NaN   \n",
       "12656         single  Technological specialization diploma holders   \n",
       "13888       divorced                             Over 23 years old   \n",
       "15999         single                1st phase - general contingent   \n",
       "\n",
       "       Application order                           Course  \\\n",
       "1042                   1                  Basic Education   \n",
       "4877                   1                          Nursing   \n",
       "12656                  1                   Social Service   \n",
       "13888                  1  Management (evening attendance)   \n",
       "15999                  1                     Equinculture   \n",
       "\n",
       "      Daytime/evening attendance               Previous qualification  \\\n",
       "1042                     daytime                                  NaN   \n",
       "4877                     daytime                  Secondary education   \n",
       "12656                    daytime  Technological specialization course   \n",
       "13888                    evening                                  NaN   \n",
       "15999                    daytime                  Secondary education   \n",
       "\n",
       "       Previous qualification (grade) Nationality  \\\n",
       "1042                            133.1  Portuguese   \n",
       "4877                            146.0  Portuguese   \n",
       "12656                           130.0  Portuguese   \n",
       "13888                           133.1  Portuguese   \n",
       "15999                           149.0  Portuguese   \n",
       "\n",
       "                                  Mother's qualification  \\\n",
       "1042   Basic education 1st cycle (4th/5th year) or eq...   \n",
       "4877   Basic Education 2nd Cycle (6th/7th/8th Year) o...   \n",
       "12656                       Higher Education - Doctorate   \n",
       "13888  Basic Education 3rd Cycle (9th/10th/11th Year)...   \n",
       "15999                                                NaN   \n",
       "\n",
       "                                  Father's qualification  ...  \\\n",
       "1042   Basic education 1st cycle (4th/5th year) or eq...  ...   \n",
       "4877   Basic Education 2nd Cycle (6th/7th/8th Year) o...  ...   \n",
       "12656                                                NaN  ...   \n",
       "13888  Basic education 1st cycle (4th/5th year) or eq...  ...   \n",
       "15999  Basic Education 3rd Cycle (9th/10th/11th Year)...  ...   \n",
       "\n",
       "       Curricular units 2nd sem (credited)  \\\n",
       "1042                                     0   \n",
       "4877                                     0   \n",
       "12656                                    2   \n",
       "13888                                    0   \n",
       "15999                                    0   \n",
       "\n",
       "       Curricular units 2nd sem (enrolled)  \\\n",
       "1042                                     6   \n",
       "4877                                     8   \n",
       "12656                                    6   \n",
       "13888                                    5   \n",
       "15999                                    5   \n",
       "\n",
       "       Curricular units 2nd sem (evaluations)  \\\n",
       "1042                                        8   \n",
       "4877                                        8   \n",
       "12656                                       9   \n",
       "13888                                       6   \n",
       "15999                                       7   \n",
       "\n",
       "      Curricular units 2nd sem (approved) Curricular units 2nd sem (grade)  \\\n",
       "1042                                    0                         0.000000   \n",
       "4877                                    8                        13.750000   \n",
       "12656                                   6                        12.000000   \n",
       "13888                                   5                        11.400000   \n",
       "15999                                   3                        12.333333   \n",
       "\n",
       "      Curricular units 2nd sem (without evaluations) Unemployment rate  \\\n",
       "1042                                               0               9.4   \n",
       "4877                                               0              13.9   \n",
       "12656                                              0              16.2   \n",
       "13888                                              0              10.8   \n",
       "15999                                              2               7.6   \n",
       "\n",
       "      Inflation rate   GDP    Target  \n",
       "1042            -0.8 -3.12   Dropout  \n",
       "4877            -0.3  0.79  Graduate  \n",
       "12656            0.3 -0.92  Graduate  \n",
       "13888            1.4  1.74  Enrolled  \n",
       "15999            2.6  0.32  Graduate  \n",
       "\n",
       "[5 rows x 37 columns]"
      ]
     },
     "execution_count": 144,
     "metadata": {},
     "output_type": "execute_result"
    }
   ],
   "source": [
    "train[train.isnull().any(axis=1)].head()"
   ]
  },
  {
   "cell_type": "code",
   "execution_count": 145,
   "id": "ac7abfd7",
   "metadata": {
    "execution": {
     "iopub.execute_input": "2024-06-01T10:14:10.504556Z",
     "iopub.status.busy": "2024-06-01T10:14:10.504174Z",
     "iopub.status.idle": "2024-06-01T10:14:10.516439Z",
     "shell.execute_reply": "2024-06-01T10:14:10.515324Z"
    },
    "papermill": {
     "duration": 0.067089,
     "end_time": "2024-06-01T10:14:10.518831",
     "exception": false,
     "start_time": "2024-06-01T10:14:10.451742",
     "status": "completed"
    },
    "tags": []
   },
   "outputs": [],
   "source": [
    "def reduce_mem_usage(df):\n",
    "    \"\"\" iterate through all the columns of a dataframe and modify the data type\n",
    "        to reduce memory usage.        \n",
    "    \"\"\"\n",
    "    start_mem = df.memory_usage().sum() / 1024**2\n",
    "    print('Memory usage of dataframe is {:.2f} MB'.format(start_mem))\n",
    "    \n",
    "    for col in df.columns:\n",
    "        col_type = df[col].dtype\n",
    "        \n",
    "        if col_type != object:\n",
    "            c_min = df[col].min()\n",
    "            c_max = df[col].max()\n",
    "            if str(col_type)[:3] == 'int':\n",
    "                if c_min > np.iinfo(np.int8).min and c_max < np.iinfo(np.int8).max:\n",
    "                    df[col] = df[col].astype(np.int8)\n",
    "                elif c_min > np.iinfo(np.int16).min and c_max < np.iinfo(np.int16).max:\n",
    "                    df[col] = df[col].astype(np.int16)\n",
    "                elif c_min > np.iinfo(np.int32).min and c_max < np.iinfo(np.int32).max:\n",
    "                    df[col] = df[col].astype(np.int32)\n",
    "                elif c_min > np.iinfo(np.int64).min and c_max < np.iinfo(np.int64).max:\n",
    "                    df[col] = df[col].astype(np.int64)  \n",
    "            else:\n",
    "                if c_min > np.finfo(np.float16).min and c_max < np.finfo(np.float16).max:\n",
    "                    df[col] = df[col].astype(np.float16)\n",
    "                elif c_min > np.finfo(np.float32).min and c_max < np.finfo(np.float32).max:\n",
    "                    df[col] = df[col].astype(np.float32)\n",
    "                else:\n",
    "                    df[col] = df[col].astype(np.float64)\n",
    "        else:\n",
    "            df[col] = df[col].astype('object')\n",
    "\n",
    "    end_mem = df.memory_usage().sum() / 1024**2\n",
    "    print('Memory usage after optimization is: {:.2f} MB'.format(end_mem))\n",
    "    print('Decreased by {:.1f}%'.format(100 * (start_mem - end_mem) / start_mem))\n",
    "    \n",
    "    return df\n"
   ]
  },
  {
   "cell_type": "code",
   "execution_count": 146,
   "id": "2e7cc695",
   "metadata": {
    "execution": {
     "iopub.execute_input": "2024-06-01T10:14:10.624465Z",
     "iopub.status.busy": "2024-06-01T10:14:10.624059Z",
     "iopub.status.idle": "2024-06-01T10:14:10.744243Z",
     "shell.execute_reply": "2024-06-01T10:14:10.742445Z"
    },
    "papermill": {
     "duration": 0.176288,
     "end_time": "2024-06-01T10:14:10.746669",
     "exception": false,
     "start_time": "2024-06-01T10:14:10.570381",
     "status": "completed"
    },
    "tags": []
   },
   "outputs": [
    {
     "name": "stdout",
     "output_type": "stream",
     "text": [
      "Memory usage of dataframe is 22.18 MB\n",
      "Memory usage after optimization is: 12.11 MB\n",
      "Decreased by 45.4%\n",
      "<class 'pandas.core.frame.DataFrame'>\n",
      "Index: 76517 entries, 0 to 76517\n",
      "Data columns (total 37 columns):\n",
      " #   Column                                          Non-Null Count  Dtype  \n",
      "---  ------                                          --------------  -----  \n",
      " 0   Marital status                                  76517 non-null  object \n",
      " 1   Application mode                                76512 non-null  object \n",
      " 2   Application order                               76517 non-null  int8   \n",
      " 3   Course                                          76515 non-null  object \n",
      " 4   Daytime/evening attendance                      76517 non-null  object \n",
      " 5   Previous qualification                          76509 non-null  object \n",
      " 6   Previous qualification (grade)                  76517 non-null  float16\n",
      " 7   Nationality                                     76514 non-null  object \n",
      " 8   Mother's qualification                          76508 non-null  object \n",
      " 9   Father's qualification                          76502 non-null  object \n",
      " 10  Mother's occupation                             76517 non-null  int16  \n",
      " 11  Father's occupation                             76517 non-null  int16  \n",
      " 12  Admission grade                                 76517 non-null  int16  \n",
      " 13  Displaced                                       76517 non-null  object \n",
      " 14  Educational special needs                       76517 non-null  object \n",
      " 15  Debtor                                          76517 non-null  object \n",
      " 16  Tuition fees up to date                         76517 non-null  object \n",
      " 17  Gender                                          76517 non-null  object \n",
      " 18  Scholarship holder                              76517 non-null  object \n",
      " 19  Age at enrollment                               76517 non-null  int8   \n",
      " 20  International                                   76517 non-null  object \n",
      " 21  Curricular units 1st sem (credited)             76517 non-null  int8   \n",
      " 22  Curricular units 1st sem (enrolled)             76517 non-null  int8   \n",
      " 23  Curricular units 1st sem (evaluations)          76517 non-null  int8   \n",
      " 24  Curricular units 1st sem (approved)             76517 non-null  int8   \n",
      " 25  Curricular units 1st sem (grade)                76517 non-null  float16\n",
      " 26  Curricular units 1st sem (without evaluations)  76517 non-null  int8   \n",
      " 27  Curricular units 2nd sem (credited)             76517 non-null  int8   \n",
      " 28  Curricular units 2nd sem (enrolled)             76517 non-null  int8   \n",
      " 29  Curricular units 2nd sem (evaluations)          76517 non-null  int8   \n",
      " 30  Curricular units 2nd sem (approved)             76517 non-null  int8   \n",
      " 31  Curricular units 2nd sem (grade)                76517 non-null  float16\n",
      " 32  Curricular units 2nd sem (without evaluations)  76517 non-null  int8   \n",
      " 33  Unemployment rate                               76517 non-null  float16\n",
      " 34  Inflation rate                                  76517 non-null  float16\n",
      " 35  GDP                                             76517 non-null  float16\n",
      " 36  Target                                          76517 non-null  object \n",
      "dtypes: float16(6), int16(3), int8(12), object(16)\n",
      "memory usage: 12.1+ MB\n"
     ]
    }
   ],
   "source": [
    "import numpy as np\n",
    "train = reduce_mem_usage(train)\n",
    "train.info()"
   ]
  },
  {
   "cell_type": "code",
   "execution_count": 147,
   "id": "cf3a38c4",
   "metadata": {
    "execution": {
     "iopub.execute_input": "2024-06-01T10:14:10.852482Z",
     "iopub.status.busy": "2024-06-01T10:14:10.852077Z",
     "iopub.status.idle": "2024-06-01T10:14:10.935882Z",
     "shell.execute_reply": "2024-06-01T10:14:10.934601Z"
    },
    "papermill": {
     "duration": 0.139655,
     "end_time": "2024-06-01T10:14:10.938659",
     "exception": false,
     "start_time": "2024-06-01T10:14:10.799004",
     "status": "completed"
    },
    "tags": []
   },
   "outputs": [
    {
     "name": "stdout",
     "output_type": "stream",
     "text": [
      "Memory usage of dataframe is 14.01 MB\n",
      "Memory usage after optimization is: 7.30 MB\n",
      "Decreased by 47.9%\n",
      "<class 'pandas.core.frame.DataFrame'>\n",
      "RangeIndex: 51012 entries, 0 to 51011\n",
      "Data columns (total 36 columns):\n",
      " #   Column                                          Non-Null Count  Dtype  \n",
      "---  ------                                          --------------  -----  \n",
      " 0   Marital status                                  51012 non-null  object \n",
      " 1   Application mode                                51007 non-null  object \n",
      " 2   Application order                               51012 non-null  int8   \n",
      " 3   Course                                          51008 non-null  object \n",
      " 4   Daytime/evening attendance                      51012 non-null  object \n",
      " 5   Previous qualification                          51009 non-null  object \n",
      " 6   Previous qualification (grade)                  51012 non-null  float16\n",
      " 7   Nationality                                     51009 non-null  object \n",
      " 8   Mother's qualification                          51005 non-null  object \n",
      " 9   Father's qualification                          51001 non-null  object \n",
      " 10  Mother's occupation                             51012 non-null  int16  \n",
      " 11  Father's occupation                             51012 non-null  int16  \n",
      " 12  Admission grade                                 51012 non-null  int16  \n",
      " 13  Displaced                                       51012 non-null  object \n",
      " 14  Educational special needs                       51012 non-null  object \n",
      " 15  Debtor                                          51012 non-null  object \n",
      " 16  Tuition fees up to date                         51012 non-null  object \n",
      " 17  Gender                                          51012 non-null  object \n",
      " 18  Scholarship holder                              51012 non-null  object \n",
      " 19  Age at enrollment                               51012 non-null  int8   \n",
      " 20  International                                   51012 non-null  object \n",
      " 21  Curricular units 1st sem (credited)             51012 non-null  int8   \n",
      " 22  Curricular units 1st sem (enrolled)             51012 non-null  int8   \n",
      " 23  Curricular units 1st sem (evaluations)          51012 non-null  int8   \n",
      " 24  Curricular units 1st sem (approved)             51012 non-null  int8   \n",
      " 25  Curricular units 1st sem (grade)                51012 non-null  float16\n",
      " 26  Curricular units 1st sem (without evaluations)  51012 non-null  int8   \n",
      " 27  Curricular units 2nd sem (credited)             51012 non-null  int8   \n",
      " 28  Curricular units 2nd sem (enrolled)             51012 non-null  int8   \n",
      " 29  Curricular units 2nd sem (evaluations)          51012 non-null  int8   \n",
      " 30  Curricular units 2nd sem (approved)             51012 non-null  int8   \n",
      " 31  Curricular units 2nd sem (grade)                51012 non-null  float16\n",
      " 32  Curricular units 2nd sem (without evaluations)  51012 non-null  int8   \n",
      " 33  Unemployment rate                               51012 non-null  float16\n",
      " 34  Inflation rate                                  51012 non-null  float16\n",
      " 35  GDP                                             51012 non-null  float16\n",
      "dtypes: float16(6), int16(3), int8(12), object(15)\n",
      "memory usage: 7.3+ MB\n"
     ]
    }
   ],
   "source": [
    "test = reduce_mem_usage(test)\n",
    "test.info()"
   ]
  },
  {
   "cell_type": "code",
   "execution_count": 148,
   "id": "e80dc90b",
   "metadata": {
    "_kg_hide-output": true,
    "execution": {
     "iopub.execute_input": "2024-06-01T10:14:11.044963Z",
     "iopub.status.busy": "2024-06-01T10:14:11.044618Z",
     "iopub.status.idle": "2024-06-01T10:14:25.090745Z",
     "shell.execute_reply": "2024-06-01T10:14:25.089065Z"
    },
    "papermill": {
     "duration": 14.103047,
     "end_time": "2024-06-01T10:14:25.093430",
     "exception": false,
     "start_time": "2024-06-01T10:14:10.990383",
     "status": "completed"
    },
    "tags": []
   },
   "outputs": [
    {
     "name": "stdout",
     "output_type": "stream",
     "text": [
      "Collecting flaml\r\n",
      "  Downloading FLAML-2.1.2-py3-none-any.whl.metadata (15 kB)\r\n",
      "Requirement already satisfied: NumPy>=1.17 in /opt/conda/lib/python3.10/site-packages (from flaml) (1.26.4)\r\n",
      "Downloading FLAML-2.1.2-py3-none-any.whl (296 kB)\r\n",
      "\u001b[2K   \u001b[90m━━━━━━━━━━━━━━━━━━━━━━━━━━━━━━━━━━━━━━━━\u001b[0m \u001b[32m296.7/296.7 kB\u001b[0m \u001b[31m5.3 MB/s\u001b[0m eta \u001b[36m0:00:00\u001b[0m\r\n",
      "\u001b[?25h\u001b[33mWARNING: Error parsing requirements for aiohttp: [Errno 2] No such file or directory: '/opt/conda/lib/python3.10/site-packages/aiohttp-3.9.1.dist-info/METADATA'\u001b[0m\u001b[33m\r\n",
      "\u001b[0mInstalling collected packages: flaml\r\n",
      "Successfully installed flaml-2.1.2\r\n"
     ]
    }
   ],
   "source": [
    "!pip install flaml"
   ]
  },
  {
   "cell_type": "code",
   "execution_count": 149,
   "id": "87e98722",
   "metadata": {
    "execution": {
     "iopub.execute_input": "2024-06-01T10:14:25.204528Z",
     "iopub.status.busy": "2024-06-01T10:14:25.203534Z",
     "iopub.status.idle": "2024-06-01T10:14:30.501579Z",
     "shell.execute_reply": "2024-06-01T10:14:30.500478Z"
    },
    "papermill": {
     "duration": 5.355819,
     "end_time": "2024-06-01T10:14:30.504265",
     "exception": false,
     "start_time": "2024-06-01T10:14:25.148446",
     "status": "completed"
    },
    "tags": []
   },
   "outputs": [
    {
     "name": "stderr",
     "output_type": "stream",
     "text": [
      "2024-06-01 10:14:26,178\tINFO util.py:124 -- Outdated packages:\n",
      "  ipywidgets==7.7.1 found, needs ipywidgets>=8\n",
      "Run `pip install -U ipywidgets`, then restart the notebook server for rich notebook output.\n",
      "2024-06-01 10:14:27,138\tINFO util.py:124 -- Outdated packages:\n",
      "  ipywidgets==7.7.1 found, needs ipywidgets>=8\n",
      "Run `pip install -U ipywidgets`, then restart the notebook server for rich notebook output.\n"
     ]
    }
   ],
   "source": [
    "from flaml import AutoML\n",
    "automl = AutoML()"
   ]
  },
  {
   "cell_type": "code",
   "execution_count": 150,
   "id": "4d3a7cf4",
   "metadata": {
    "execution": {
     "iopub.execute_input": "2024-06-01T10:14:30.675314Z",
     "iopub.status.busy": "2024-06-01T10:14:30.674646Z",
     "iopub.status.idle": "2024-06-01T10:14:30.680977Z",
     "shell.execute_reply": "2024-06-01T10:14:30.679948Z"
    },
    "papermill": {
     "duration": 0.063469,
     "end_time": "2024-06-01T10:14:30.683256",
     "exception": false,
     "start_time": "2024-06-01T10:14:30.619787",
     "status": "completed"
    },
    "tags": []
   },
   "outputs": [],
   "source": [
    "y = train.pop('Target')\n",
    "X = train"
   ]
  },
  {
   "cell_type": "code",
   "execution_count": 151,
   "id": "7bc43937",
   "metadata": {
    "execution": {
     "iopub.execute_input": "2024-06-01T10:14:30.792976Z",
     "iopub.status.busy": "2024-06-01T10:14:30.792603Z",
     "iopub.status.idle": "2024-06-01T10:14:30.945337Z",
     "shell.execute_reply": "2024-06-01T10:14:30.944168Z"
    },
    "papermill": {
     "duration": 0.212009,
     "end_time": "2024-06-01T10:14:30.947767",
     "exception": false,
     "start_time": "2024-06-01T10:14:30.735758",
     "status": "completed"
    },
    "tags": []
   },
   "outputs": [],
   "source": [
    "from sklearn.model_selection import train_test_split\n",
    "X_train, X_test, y_train, y_test = train_test_split( X, y, test_size=0.2, random_state=42,shuffle=True, stratify=y)"
   ]
  },
  {
   "cell_type": "code",
   "execution_count": 152,
   "id": "eef5e947",
   "metadata": {
    "execution": {
     "iopub.execute_input": "2024-06-01T10:14:31.057050Z",
     "iopub.status.busy": "2024-06-01T10:14:31.056080Z",
     "iopub.status.idle": "2024-06-01T13:14:53.910458Z",
     "shell.execute_reply": "2024-06-01T13:14:53.909173Z"
    },
    "papermill": {
     "duration": 10822.911064,
     "end_time": "2024-06-01T13:14:53.912769",
     "exception": false,
     "start_time": "2024-06-01T10:14:31.001705",
     "status": "completed"
    },
    "tags": []
   },
   "outputs": [
    {
     "name": "stdout",
     "output_type": "stream",
     "text": [
      "[flaml.automl.logger: 06-01 10:14:31] {1680} INFO - task = classification\n",
      "[flaml.automl.logger: 06-01 10:14:31] {1691} INFO - Evaluation method: cv\n",
      "[flaml.automl.logger: 06-01 10:14:31] {1789} INFO - Minimizing error metric: 1-roc_auc_ovo\n",
      "[flaml.automl.logger: 06-01 10:14:31] {1901} INFO - List of ML learners in AutoML Run: ['lgbm', 'rf', 'catboost', 'xgboost', 'extra_tree', 'xgb_limitdepth', 'lrl1']\n",
      "[flaml.automl.logger: 06-01 10:14:31] {2219} INFO - iteration 0, current learner lgbm\n",
      "[flaml.automl.logger: 06-01 10:14:34] {2345} INFO - Estimated sufficient time budget=25485s. Estimated necessary time budget=626s.\n",
      "[flaml.automl.logger: 06-01 10:14:34] {2392} INFO -  at 3.5s,\testimator lgbm's best error=0.1122,\tbest estimator lgbm's best error=0.1122\n",
      "[flaml.automl.logger: 06-01 10:14:34] {2219} INFO - iteration 1, current learner lgbm\n",
      "[flaml.automl.logger: 06-01 10:14:37] {2392} INFO -  at 6.0s,\testimator lgbm's best error=0.1122,\tbest estimator lgbm's best error=0.1122\n",
      "[flaml.automl.logger: 06-01 10:14:37] {2219} INFO - iteration 2, current learner lgbm\n",
      "[flaml.automl.logger: 06-01 10:14:39] {2392} INFO -  at 8.7s,\testimator lgbm's best error=0.1014,\tbest estimator lgbm's best error=0.1014\n",
      "[flaml.automl.logger: 06-01 10:14:39] {2219} INFO - iteration 3, current learner xgboost\n",
      "[flaml.automl.logger: 06-01 10:14:42] {2392} INFO -  at 11.5s,\testimator xgboost's best error=0.1136,\tbest estimator lgbm's best error=0.1014\n",
      "[flaml.automl.logger: 06-01 10:14:42] {2219} INFO - iteration 4, current learner lgbm\n",
      "[flaml.automl.logger: 06-01 10:14:46] {2392} INFO -  at 15.8s,\testimator lgbm's best error=0.0803,\tbest estimator lgbm's best error=0.0803\n",
      "[flaml.automl.logger: 06-01 10:14:46] {2219} INFO - iteration 5, current learner lgbm\n",
      "[flaml.automl.logger: 06-01 10:14:49] {2392} INFO -  at 18.5s,\testimator lgbm's best error=0.0803,\tbest estimator lgbm's best error=0.0803\n",
      "[flaml.automl.logger: 06-01 10:14:49] {2219} INFO - iteration 6, current learner lgbm\n",
      "[flaml.automl.logger: 06-01 10:14:54] {2392} INFO -  at 23.3s,\testimator lgbm's best error=0.0775,\tbest estimator lgbm's best error=0.0775\n",
      "[flaml.automl.logger: 06-01 10:14:54] {2219} INFO - iteration 7, current learner lgbm\n",
      "[flaml.automl.logger: 06-01 10:14:58] {2392} INFO -  at 27.6s,\testimator lgbm's best error=0.0775,\tbest estimator lgbm's best error=0.0775\n",
      "[flaml.automl.logger: 06-01 10:14:58] {2219} INFO - iteration 8, current learner lgbm\n",
      "[flaml.automl.logger: 06-01 10:15:01] {2392} INFO -  at 30.4s,\testimator lgbm's best error=0.0775,\tbest estimator lgbm's best error=0.0775\n",
      "[flaml.automl.logger: 06-01 10:15:01] {2219} INFO - iteration 9, current learner xgboost\n",
      "[flaml.automl.logger: 06-01 10:15:04] {2392} INFO -  at 33.1s,\testimator xgboost's best error=0.1136,\tbest estimator lgbm's best error=0.0775\n",
      "[flaml.automl.logger: 06-01 10:15:04] {2219} INFO - iteration 10, current learner xgboost\n",
      "[flaml.automl.logger: 06-01 10:15:06] {2392} INFO -  at 35.9s,\testimator xgboost's best error=0.1040,\tbest estimator lgbm's best error=0.0775\n",
      "[flaml.automl.logger: 06-01 10:15:06] {2219} INFO - iteration 11, current learner extra_tree\n",
      "[flaml.automl.logger: 06-01 10:15:07] {2392} INFO -  at 36.7s,\testimator extra_tree's best error=0.1813,\tbest estimator lgbm's best error=0.0775\n",
      "[flaml.automl.logger: 06-01 10:15:07] {2219} INFO - iteration 12, current learner extra_tree\n",
      "[flaml.automl.logger: 06-01 10:15:08] {2392} INFO -  at 37.7s,\testimator extra_tree's best error=0.1291,\tbest estimator lgbm's best error=0.0775\n",
      "[flaml.automl.logger: 06-01 10:15:08] {2219} INFO - iteration 13, current learner extra_tree\n",
      "[flaml.automl.logger: 06-01 10:15:09] {2392} INFO -  at 38.5s,\testimator extra_tree's best error=0.1291,\tbest estimator lgbm's best error=0.0775\n",
      "[flaml.automl.logger: 06-01 10:15:09] {2219} INFO - iteration 14, current learner extra_tree\n",
      "[flaml.automl.logger: 06-01 10:15:10] {2392} INFO -  at 39.7s,\testimator extra_tree's best error=0.1272,\tbest estimator lgbm's best error=0.0775\n",
      "[flaml.automl.logger: 06-01 10:15:10] {2219} INFO - iteration 15, current learner rf\n",
      "[flaml.automl.logger: 06-01 10:15:11] {2392} INFO -  at 40.7s,\testimator rf's best error=0.1451,\tbest estimator lgbm's best error=0.0775\n",
      "[flaml.automl.logger: 06-01 10:15:11] {2219} INFO - iteration 16, current learner rf\n",
      "[flaml.automl.logger: 06-01 10:15:13] {2392} INFO -  at 42.0s,\testimator rf's best error=0.1030,\tbest estimator lgbm's best error=0.0775\n",
      "[flaml.automl.logger: 06-01 10:15:13] {2219} INFO - iteration 17, current learner rf\n",
      "[flaml.automl.logger: 06-01 10:15:14] {2392} INFO -  at 43.0s,\testimator rf's best error=0.1030,\tbest estimator lgbm's best error=0.0775\n",
      "[flaml.automl.logger: 06-01 10:15:14] {2219} INFO - iteration 18, current learner lgbm\n",
      "[flaml.automl.logger: 06-01 10:15:25] {2392} INFO -  at 54.2s,\testimator lgbm's best error=0.0744,\tbest estimator lgbm's best error=0.0744\n",
      "[flaml.automl.logger: 06-01 10:15:25] {2219} INFO - iteration 19, current learner rf\n",
      "[flaml.automl.logger: 06-01 10:15:26] {2392} INFO -  at 55.7s,\testimator rf's best error=0.1030,\tbest estimator lgbm's best error=0.0744\n",
      "[flaml.automl.logger: 06-01 10:15:26] {2219} INFO - iteration 20, current learner rf\n",
      "[flaml.automl.logger: 06-01 10:15:28] {2392} INFO -  at 57.4s,\testimator rf's best error=0.1020,\tbest estimator lgbm's best error=0.0744\n",
      "[flaml.automl.logger: 06-01 10:15:28] {2219} INFO - iteration 21, current learner lgbm\n",
      "[flaml.automl.logger: 06-01 10:15:33] {2392} INFO -  at 62.0s,\testimator lgbm's best error=0.0744,\tbest estimator lgbm's best error=0.0744\n",
      "[flaml.automl.logger: 06-01 10:15:33] {2219} INFO - iteration 22, current learner lgbm\n",
      "[flaml.automl.logger: 06-01 10:16:13] {2392} INFO -  at 102.8s,\testimator lgbm's best error=0.0729,\tbest estimator lgbm's best error=0.0729\n",
      "[flaml.automl.logger: 06-01 10:16:13] {2219} INFO - iteration 23, current learner lgbm\n",
      "[flaml.automl.logger: 06-01 10:17:07] {2392} INFO -  at 156.0s,\testimator lgbm's best error=0.0729,\tbest estimator lgbm's best error=0.0729\n",
      "[flaml.automl.logger: 06-01 10:17:07] {2219} INFO - iteration 24, current learner xgboost\n",
      "[flaml.automl.logger: 06-01 10:17:09] {2392} INFO -  at 158.8s,\testimator xgboost's best error=0.0885,\tbest estimator lgbm's best error=0.0729\n",
      "[flaml.automl.logger: 06-01 10:17:09] {2219} INFO - iteration 25, current learner extra_tree\n",
      "[flaml.automl.logger: 06-01 10:17:10] {2392} INFO -  at 159.8s,\testimator extra_tree's best error=0.1272,\tbest estimator lgbm's best error=0.0729\n",
      "[flaml.automl.logger: 06-01 10:17:10] {2219} INFO - iteration 26, current learner xgboost\n",
      "[flaml.automl.logger: 06-01 10:17:13] {2392} INFO -  at 162.8s,\testimator xgboost's best error=0.0885,\tbest estimator lgbm's best error=0.0729\n",
      "[flaml.automl.logger: 06-01 10:17:13] {2219} INFO - iteration 27, current learner xgboost\n",
      "[flaml.automl.logger: 06-01 10:17:16] {2392} INFO -  at 165.6s,\testimator xgboost's best error=0.0885,\tbest estimator lgbm's best error=0.0729\n",
      "[flaml.automl.logger: 06-01 10:17:16] {2219} INFO - iteration 28, current learner xgboost\n",
      "[flaml.automl.logger: 06-01 10:17:21] {2392} INFO -  at 170.5s,\testimator xgboost's best error=0.0796,\tbest estimator lgbm's best error=0.0729\n",
      "[flaml.automl.logger: 06-01 10:17:21] {2219} INFO - iteration 29, current learner xgboost\n",
      "[flaml.automl.logger: 06-01 10:17:29] {2392} INFO -  at 178.1s,\testimator xgboost's best error=0.0770,\tbest estimator lgbm's best error=0.0729\n",
      "[flaml.automl.logger: 06-01 10:17:29] {2219} INFO - iteration 30, current learner lgbm\n",
      "[flaml.automl.logger: 06-01 10:18:11] {2392} INFO -  at 220.4s,\testimator lgbm's best error=0.0729,\tbest estimator lgbm's best error=0.0729\n",
      "[flaml.automl.logger: 06-01 10:18:11] {2219} INFO - iteration 31, current learner lgbm\n",
      "[flaml.automl.logger: 06-01 10:19:02] {2392} INFO -  at 271.5s,\testimator lgbm's best error=0.0720,\tbest estimator lgbm's best error=0.0720\n",
      "[flaml.automl.logger: 06-01 10:19:02] {2219} INFO - iteration 32, current learner rf\n",
      "[flaml.automl.logger: 06-01 10:19:05] {2392} INFO -  at 274.2s,\testimator rf's best error=0.1020,\tbest estimator lgbm's best error=0.0720\n",
      "[flaml.automl.logger: 06-01 10:19:05] {2219} INFO - iteration 33, current learner xgboost\n",
      "[flaml.automl.logger: 06-01 10:19:10] {2392} INFO -  at 279.6s,\testimator xgboost's best error=0.0770,\tbest estimator lgbm's best error=0.0720\n",
      "[flaml.automl.logger: 06-01 10:19:10] {2219} INFO - iteration 34, current learner catboost\n",
      "[flaml.automl.logger: 06-01 10:22:24] {2392} INFO -  at 473.4s,\testimator catboost's best error=0.0744,\tbest estimator lgbm's best error=0.0720\n",
      "[flaml.automl.logger: 06-01 10:22:24] {2219} INFO - iteration 35, current learner lgbm\n",
      "[flaml.automl.logger: 06-01 10:23:05] {2392} INFO -  at 514.0s,\testimator lgbm's best error=0.0720,\tbest estimator lgbm's best error=0.0720\n",
      "[flaml.automl.logger: 06-01 10:23:05] {2219} INFO - iteration 36, current learner xgboost\n",
      "[flaml.automl.logger: 06-01 10:23:13] {2392} INFO -  at 522.8s,\testimator xgboost's best error=0.0742,\tbest estimator lgbm's best error=0.0720\n",
      "[flaml.automl.logger: 06-01 10:23:13] {2219} INFO - iteration 37, current learner extra_tree\n",
      "[flaml.automl.logger: 06-01 10:23:15] {2392} INFO -  at 524.6s,\testimator extra_tree's best error=0.1272,\tbest estimator lgbm's best error=0.0720\n",
      "[flaml.automl.logger: 06-01 10:23:15] {2219} INFO - iteration 38, current learner xgboost\n",
      "[flaml.automl.logger: 06-01 10:23:23] {2392} INFO -  at 532.2s,\testimator xgboost's best error=0.0742,\tbest estimator lgbm's best error=0.0720\n",
      "[flaml.automl.logger: 06-01 10:23:23] {2219} INFO - iteration 39, current learner xgboost\n",
      "[flaml.automl.logger: 06-01 10:23:28] {2392} INFO -  at 537.6s,\testimator xgboost's best error=0.0742,\tbest estimator lgbm's best error=0.0720\n",
      "[flaml.automl.logger: 06-01 10:23:28] {2219} INFO - iteration 40, current learner catboost\n",
      "[flaml.automl.logger: 06-01 10:38:30] {2392} INFO -  at 1439.1s,\testimator catboost's best error=0.0744,\tbest estimator lgbm's best error=0.0720\n",
      "[flaml.automl.logger: 06-01 10:38:30] {2219} INFO - iteration 41, current learner xgboost\n",
      "[flaml.automl.logger: 06-01 10:38:47] {2392} INFO -  at 1456.0s,\testimator xgboost's best error=0.0724,\tbest estimator lgbm's best error=0.0720\n",
      "[flaml.automl.logger: 06-01 10:38:47] {2219} INFO - iteration 42, current learner xgboost\n",
      "[flaml.automl.logger: 06-01 10:38:54] {2392} INFO -  at 1463.8s,\testimator xgboost's best error=0.0724,\tbest estimator lgbm's best error=0.0720\n",
      "[flaml.automl.logger: 06-01 10:38:54] {2219} INFO - iteration 43, current learner lgbm\n",
      "[flaml.automl.logger: 06-01 10:39:43] {2392} INFO -  at 1512.8s,\testimator lgbm's best error=0.0720,\tbest estimator lgbm's best error=0.0720\n",
      "[flaml.automl.logger: 06-01 10:39:43] {2219} INFO - iteration 44, current learner xgboost\n",
      "[flaml.automl.logger: 06-01 10:40:26] {2392} INFO -  at 1555.2s,\testimator xgboost's best error=0.0721,\tbest estimator lgbm's best error=0.0720\n",
      "[flaml.automl.logger: 06-01 10:40:26] {2219} INFO - iteration 45, current learner extra_tree\n",
      "[flaml.automl.logger: 06-01 10:40:27] {2392} INFO -  at 1556.1s,\testimator extra_tree's best error=0.1270,\tbest estimator lgbm's best error=0.0720\n",
      "[flaml.automl.logger: 06-01 10:40:27] {2219} INFO - iteration 46, current learner xgboost\n",
      "[flaml.automl.logger: 06-01 10:40:50] {2392} INFO -  at 1579.2s,\testimator xgboost's best error=0.0721,\tbest estimator lgbm's best error=0.0720\n",
      "[flaml.automl.logger: 06-01 10:40:50] {2219} INFO - iteration 47, current learner rf\n",
      "[flaml.automl.logger: 06-01 10:40:52] {2392} INFO -  at 1581.1s,\testimator rf's best error=0.0953,\tbest estimator lgbm's best error=0.0720\n",
      "[flaml.automl.logger: 06-01 10:40:52] {2219} INFO - iteration 48, current learner xgboost\n",
      "[flaml.automl.logger: 06-01 10:42:03] {2392} INFO -  at 1652.1s,\testimator xgboost's best error=0.0721,\tbest estimator lgbm's best error=0.0720\n",
      "[flaml.automl.logger: 06-01 10:42:03] {2219} INFO - iteration 49, current learner lgbm\n",
      "[flaml.automl.logger: 06-01 10:43:04] {2392} INFO -  at 1713.2s,\testimator lgbm's best error=0.0720,\tbest estimator lgbm's best error=0.0720\n",
      "[flaml.automl.logger: 06-01 10:43:04] {2219} INFO - iteration 50, current learner rf\n",
      "[flaml.automl.logger: 06-01 10:43:09] {2392} INFO -  at 1718.1s,\testimator rf's best error=0.0874,\tbest estimator lgbm's best error=0.0720\n",
      "[flaml.automl.logger: 06-01 10:43:09] {2219} INFO - iteration 51, current learner xgboost\n",
      "[flaml.automl.logger: 06-01 10:43:26] {2392} INFO -  at 1735.5s,\testimator xgboost's best error=0.0721,\tbest estimator lgbm's best error=0.0720\n",
      "[flaml.automl.logger: 06-01 10:43:26] {2219} INFO - iteration 52, current learner rf\n",
      "[flaml.automl.logger: 06-01 10:43:28] {2392} INFO -  at 1737.3s,\testimator rf's best error=0.0874,\tbest estimator lgbm's best error=0.0720\n",
      "[flaml.automl.logger: 06-01 10:43:28] {2219} INFO - iteration 53, current learner rf\n",
      "[flaml.automl.logger: 06-01 10:43:32] {2392} INFO -  at 1741.4s,\testimator rf's best error=0.0874,\tbest estimator lgbm's best error=0.0720\n",
      "[flaml.automl.logger: 06-01 10:43:32] {2219} INFO - iteration 54, current learner lgbm\n",
      "[flaml.automl.logger: 06-01 10:44:11] {2392} INFO -  at 1780.4s,\testimator lgbm's best error=0.0720,\tbest estimator lgbm's best error=0.0720\n",
      "[flaml.automl.logger: 06-01 10:44:11] {2219} INFO - iteration 55, current learner lgbm\n",
      "[flaml.automl.logger: 06-01 10:45:36] {2392} INFO -  at 1865.2s,\testimator lgbm's best error=0.0720,\tbest estimator lgbm's best error=0.0720\n",
      "[flaml.automl.logger: 06-01 10:45:36] {2219} INFO - iteration 56, current learner rf\n",
      "[flaml.automl.logger: 06-01 10:45:41] {2392} INFO -  at 1870.3s,\testimator rf's best error=0.0828,\tbest estimator lgbm's best error=0.0720\n",
      "[flaml.automl.logger: 06-01 10:45:41] {2219} INFO - iteration 57, current learner rf\n",
      "[flaml.automl.logger: 06-01 10:45:43] {2392} INFO -  at 1872.7s,\testimator rf's best error=0.0828,\tbest estimator lgbm's best error=0.0720\n",
      "[flaml.automl.logger: 06-01 10:45:43] {2219} INFO - iteration 58, current learner rf\n",
      "[flaml.automl.logger: 06-01 10:45:54] {2392} INFO -  at 1883.2s,\testimator rf's best error=0.0805,\tbest estimator lgbm's best error=0.0720\n",
      "[flaml.automl.logger: 06-01 10:45:54] {2219} INFO - iteration 59, current learner rf\n",
      "[flaml.automl.logger: 06-01 10:45:59] {2392} INFO -  at 1888.5s,\testimator rf's best error=0.0805,\tbest estimator lgbm's best error=0.0720\n",
      "[flaml.automl.logger: 06-01 10:45:59] {2219} INFO - iteration 60, current learner lgbm\n",
      "[flaml.automl.logger: 06-01 10:46:25] {2392} INFO -  at 1914.6s,\testimator lgbm's best error=0.0720,\tbest estimator lgbm's best error=0.0720\n",
      "[flaml.automl.logger: 06-01 10:46:25] {2219} INFO - iteration 61, current learner catboost\n",
      "[flaml.automl.logger: 06-01 10:47:35] {2392} INFO -  at 1984.7s,\testimator catboost's best error=0.0744,\tbest estimator lgbm's best error=0.0720\n",
      "[flaml.automl.logger: 06-01 10:47:35] {2219} INFO - iteration 62, current learner lgbm\n",
      "[flaml.automl.logger: 06-01 10:49:52] {2392} INFO -  at 2121.8s,\testimator lgbm's best error=0.0715,\tbest estimator lgbm's best error=0.0715\n",
      "[flaml.automl.logger: 06-01 10:49:52] {2219} INFO - iteration 63, current learner rf\n",
      "[flaml.automl.logger: 06-01 10:50:12] {2392} INFO -  at 2141.6s,\testimator rf's best error=0.0805,\tbest estimator lgbm's best error=0.0715\n",
      "[flaml.automl.logger: 06-01 10:50:12] {2219} INFO - iteration 64, current learner xgb_limitdepth\n",
      "[flaml.automl.logger: 06-01 10:50:18] {2392} INFO -  at 2147.6s,\testimator xgb_limitdepth's best error=0.0787,\tbest estimator lgbm's best error=0.0715\n",
      "[flaml.automl.logger: 06-01 10:50:18] {2219} INFO - iteration 65, current learner xgb_limitdepth\n",
      "[flaml.automl.logger: 06-01 10:50:24] {2392} INFO -  at 2153.5s,\testimator xgb_limitdepth's best error=0.0787,\tbest estimator lgbm's best error=0.0715\n",
      "[flaml.automl.logger: 06-01 10:50:24] {2219} INFO - iteration 66, current learner xgb_limitdepth\n",
      "[flaml.automl.logger: 06-01 10:50:30] {2392} INFO -  at 2159.8s,\testimator xgb_limitdepth's best error=0.0762,\tbest estimator lgbm's best error=0.0715\n",
      "[flaml.automl.logger: 06-01 10:50:30] {2219} INFO - iteration 67, current learner xgb_limitdepth\n",
      "[flaml.automl.logger: 06-01 10:50:36] {2392} INFO -  at 2165.4s,\testimator xgb_limitdepth's best error=0.0762,\tbest estimator lgbm's best error=0.0715\n",
      "[flaml.automl.logger: 06-01 10:50:36] {2219} INFO - iteration 68, current learner xgb_limitdepth\n",
      "[flaml.automl.logger: 06-01 10:50:43] {2392} INFO -  at 2172.5s,\testimator xgb_limitdepth's best error=0.0762,\tbest estimator lgbm's best error=0.0715\n",
      "[flaml.automl.logger: 06-01 10:50:43] {2219} INFO - iteration 69, current learner xgboost\n",
      "[flaml.automl.logger: 06-01 10:52:37] {2392} INFO -  at 2286.1s,\testimator xgboost's best error=0.0712,\tbest estimator xgboost's best error=0.0712\n",
      "[flaml.automl.logger: 06-01 10:52:37] {2219} INFO - iteration 70, current learner lgbm\n",
      "[flaml.automl.logger: 06-01 10:55:57] {2392} INFO -  at 2486.5s,\testimator lgbm's best error=0.0715,\tbest estimator xgboost's best error=0.0712\n",
      "[flaml.automl.logger: 06-01 10:55:57] {2219} INFO - iteration 71, current learner xgb_limitdepth\n",
      "[flaml.automl.logger: 06-01 10:56:01] {2392} INFO -  at 2490.0s,\testimator xgb_limitdepth's best error=0.0762,\tbest estimator xgboost's best error=0.0712\n",
      "[flaml.automl.logger: 06-01 10:56:01] {2219} INFO - iteration 72, current learner xgb_limitdepth\n",
      "[flaml.automl.logger: 06-01 10:56:14] {2392} INFO -  at 2503.1s,\testimator xgb_limitdepth's best error=0.0762,\tbest estimator xgboost's best error=0.0712\n",
      "[flaml.automl.logger: 06-01 10:56:14] {2219} INFO - iteration 73, current learner xgboost\n",
      "[flaml.automl.logger: 06-01 10:56:50] {2392} INFO -  at 2539.1s,\testimator xgboost's best error=0.0712,\tbest estimator xgboost's best error=0.0712\n",
      "[flaml.automl.logger: 06-01 10:56:50] {2219} INFO - iteration 74, current learner xgb_limitdepth\n",
      "[flaml.automl.logger: 06-01 10:56:58] {2392} INFO -  at 2547.8s,\testimator xgb_limitdepth's best error=0.0752,\tbest estimator xgboost's best error=0.0712\n",
      "[flaml.automl.logger: 06-01 10:56:58] {2219} INFO - iteration 75, current learner xgboost\n",
      "[flaml.automl.logger: 06-01 11:03:58] {2392} INFO -  at 2967.0s,\testimator xgboost's best error=0.0712,\tbest estimator xgboost's best error=0.0712\n",
      "[flaml.automl.logger: 06-01 11:03:58] {2219} INFO - iteration 76, current learner xgb_limitdepth\n",
      "[flaml.automl.logger: 06-01 11:04:04] {2392} INFO -  at 2973.6s,\testimator xgb_limitdepth's best error=0.0752,\tbest estimator xgboost's best error=0.0712\n",
      "[flaml.automl.logger: 06-01 11:04:04] {2219} INFO - iteration 77, current learner rf\n",
      "[flaml.automl.logger: 06-01 11:04:15] {2392} INFO -  at 2984.8s,\testimator rf's best error=0.0805,\tbest estimator xgboost's best error=0.0712\n",
      "[flaml.automl.logger: 06-01 11:04:15] {2219} INFO - iteration 78, current learner rf\n",
      "[flaml.automl.logger: 06-01 11:04:25] {2392} INFO -  at 2994.3s,\testimator rf's best error=0.0805,\tbest estimator xgboost's best error=0.0712\n",
      "[flaml.automl.logger: 06-01 11:04:25] {2219} INFO - iteration 79, current learner xgb_limitdepth\n",
      "[flaml.automl.logger: 06-01 11:04:35] {2392} INFO -  at 3004.4s,\testimator xgb_limitdepth's best error=0.0752,\tbest estimator xgboost's best error=0.0712\n",
      "[flaml.automl.logger: 06-01 11:04:35] {2219} INFO - iteration 80, current learner lrl1\n"
     ]
    },
    {
     "name": "stderr",
     "output_type": "stream",
     "text": [
      "/opt/conda/lib/python3.10/site-packages/sklearn/linear_model/_sag.py:350: ConvergenceWarning: The max_iter was reached which means the coef_ did not converge\n",
      "  warnings.warn(\n",
      "/opt/conda/lib/python3.10/site-packages/sklearn/linear_model/_sag.py:350: ConvergenceWarning: The max_iter was reached which means the coef_ did not converge\n",
      "  warnings.warn(\n",
      "/opt/conda/lib/python3.10/site-packages/sklearn/linear_model/_sag.py:350: ConvergenceWarning: The max_iter was reached which means the coef_ did not converge\n",
      "  warnings.warn(\n",
      "/opt/conda/lib/python3.10/site-packages/sklearn/linear_model/_sag.py:350: ConvergenceWarning: The max_iter was reached which means the coef_ did not converge\n",
      "  warnings.warn(\n"
     ]
    },
    {
     "name": "stdout",
     "output_type": "stream",
     "text": [
      "[flaml.automl.logger: 06-01 11:05:33] {2392} INFO -  at 3062.1s,\testimator lrl1's best error=0.0895,\tbest estimator xgboost's best error=0.0712\n",
      "[flaml.automl.logger: 06-01 11:05:33] {2219} INFO - iteration 81, current learner lrl1\n"
     ]
    },
    {
     "name": "stderr",
     "output_type": "stream",
     "text": [
      "/opt/conda/lib/python3.10/site-packages/sklearn/linear_model/_sag.py:350: ConvergenceWarning: The max_iter was reached which means the coef_ did not converge\n",
      "  warnings.warn(\n",
      "/opt/conda/lib/python3.10/site-packages/sklearn/linear_model/_sag.py:350: ConvergenceWarning: The max_iter was reached which means the coef_ did not converge\n",
      "  warnings.warn(\n",
      "/opt/conda/lib/python3.10/site-packages/sklearn/linear_model/_sag.py:350: ConvergenceWarning: The max_iter was reached which means the coef_ did not converge\n",
      "  warnings.warn(\n",
      "/opt/conda/lib/python3.10/site-packages/sklearn/linear_model/_sag.py:350: ConvergenceWarning: The max_iter was reached which means the coef_ did not converge\n",
      "  warnings.warn(\n",
      "/opt/conda/lib/python3.10/site-packages/sklearn/linear_model/_sag.py:350: ConvergenceWarning: The max_iter was reached which means the coef_ did not converge\n",
      "  warnings.warn(\n"
     ]
    },
    {
     "name": "stdout",
     "output_type": "stream",
     "text": [
      "[flaml.automl.logger: 06-01 11:06:30] {2392} INFO -  at 3119.5s,\testimator lrl1's best error=0.0895,\tbest estimator xgboost's best error=0.0712\n",
      "[flaml.automl.logger: 06-01 11:06:30] {2219} INFO - iteration 82, current learner rf\n"
     ]
    },
    {
     "name": "stderr",
     "output_type": "stream",
     "text": [
      "/opt/conda/lib/python3.10/site-packages/sklearn/linear_model/_sag.py:350: ConvergenceWarning: The max_iter was reached which means the coef_ did not converge\n",
      "  warnings.warn(\n"
     ]
    },
    {
     "name": "stdout",
     "output_type": "stream",
     "text": [
      "[flaml.automl.logger: 06-01 11:06:35] {2392} INFO -  at 3124.7s,\testimator rf's best error=0.0805,\tbest estimator xgboost's best error=0.0712\n",
      "[flaml.automl.logger: 06-01 11:06:35] {2219} INFO - iteration 83, current learner xgb_limitdepth\n",
      "[flaml.automl.logger: 06-01 11:06:43] {2392} INFO -  at 3132.4s,\testimator xgb_limitdepth's best error=0.0752,\tbest estimator xgboost's best error=0.0712\n",
      "[flaml.automl.logger: 06-01 11:06:43] {2219} INFO - iteration 84, current learner rf\n",
      "[flaml.automl.logger: 06-01 11:07:05] {2392} INFO -  at 3154.0s,\testimator rf's best error=0.0805,\tbest estimator xgboost's best error=0.0712\n",
      "[flaml.automl.logger: 06-01 11:07:05] {2219} INFO - iteration 85, current learner extra_tree\n",
      "[flaml.automl.logger: 06-01 11:07:07] {2392} INFO -  at 3156.2s,\testimator extra_tree's best error=0.1105,\tbest estimator xgboost's best error=0.0712\n",
      "[flaml.automl.logger: 06-01 11:07:07] {2219} INFO - iteration 86, current learner extra_tree\n",
      "[flaml.automl.logger: 06-01 11:07:08] {2392} INFO -  at 3157.2s,\testimator extra_tree's best error=0.1105,\tbest estimator xgboost's best error=0.0712\n",
      "[flaml.automl.logger: 06-01 11:07:08] {2219} INFO - iteration 87, current learner extra_tree\n",
      "[flaml.automl.logger: 06-01 11:07:09] {2392} INFO -  at 3158.8s,\testimator extra_tree's best error=0.1105,\tbest estimator xgboost's best error=0.0712\n",
      "[flaml.automl.logger: 06-01 11:07:09] {2219} INFO - iteration 88, current learner extra_tree\n",
      "[flaml.automl.logger: 06-01 11:07:12] {2392} INFO -  at 3161.2s,\testimator extra_tree's best error=0.0965,\tbest estimator xgboost's best error=0.0712\n",
      "[flaml.automl.logger: 06-01 11:07:12] {2219} INFO - iteration 89, current learner extra_tree\n",
      "[flaml.automl.logger: 06-01 11:07:13] {2392} INFO -  at 3162.8s,\testimator extra_tree's best error=0.0965,\tbest estimator xgboost's best error=0.0712\n",
      "[flaml.automl.logger: 06-01 11:07:13] {2219} INFO - iteration 90, current learner extra_tree\n",
      "[flaml.automl.logger: 06-01 11:07:18] {2392} INFO -  at 3167.3s,\testimator extra_tree's best error=0.0910,\tbest estimator xgboost's best error=0.0712\n",
      "[flaml.automl.logger: 06-01 11:07:18] {2219} INFO - iteration 91, current learner extra_tree\n",
      "[flaml.automl.logger: 06-01 11:07:20] {2392} INFO -  at 3169.6s,\testimator extra_tree's best error=0.0910,\tbest estimator xgboost's best error=0.0712\n",
      "[flaml.automl.logger: 06-01 11:07:20] {2219} INFO - iteration 92, current learner extra_tree\n",
      "[flaml.automl.logger: 06-01 11:07:31] {2392} INFO -  at 3180.2s,\testimator extra_tree's best error=0.0904,\tbest estimator xgboost's best error=0.0712\n",
      "[flaml.automl.logger: 06-01 11:07:31] {2219} INFO - iteration 93, current learner xgboost\n",
      "[flaml.automl.logger: 06-01 11:08:50] {2392} INFO -  at 3259.7s,\testimator xgboost's best error=0.0712,\tbest estimator xgboost's best error=0.0712\n",
      "[flaml.automl.logger: 06-01 11:08:50] {2219} INFO - iteration 94, current learner xgb_limitdepth\n",
      "[flaml.automl.logger: 06-01 11:08:56] {2392} INFO -  at 3265.0s,\testimator xgb_limitdepth's best error=0.0752,\tbest estimator xgboost's best error=0.0712\n",
      "[flaml.automl.logger: 06-01 11:08:56] {2219} INFO - iteration 95, current learner extra_tree\n",
      "[flaml.automl.logger: 06-01 11:09:06] {2392} INFO -  at 3275.1s,\testimator extra_tree's best error=0.0864,\tbest estimator xgboost's best error=0.0712\n",
      "[flaml.automl.logger: 06-01 11:09:06] {2219} INFO - iteration 96, current learner extra_tree\n",
      "[flaml.automl.logger: 06-01 11:09:16] {2392} INFO -  at 3285.2s,\testimator extra_tree's best error=0.0864,\tbest estimator xgboost's best error=0.0712\n",
      "[flaml.automl.logger: 06-01 11:09:16] {2219} INFO - iteration 97, current learner rf\n",
      "[flaml.automl.logger: 06-01 11:09:31] {2392} INFO -  at 3300.8s,\testimator rf's best error=0.0795,\tbest estimator xgboost's best error=0.0712\n",
      "[flaml.automl.logger: 06-01 11:09:31] {2219} INFO - iteration 98, current learner xgb_limitdepth\n",
      "[flaml.automl.logger: 06-01 11:09:48] {2392} INFO -  at 3317.1s,\testimator xgb_limitdepth's best error=0.0746,\tbest estimator xgboost's best error=0.0712\n",
      "[flaml.automl.logger: 06-01 11:09:48] {2219} INFO - iteration 99, current learner extra_tree\n",
      "[flaml.automl.logger: 06-01 11:09:53] {2392} INFO -  at 3322.0s,\testimator extra_tree's best error=0.0864,\tbest estimator xgboost's best error=0.0712\n",
      "[flaml.automl.logger: 06-01 11:09:53] {2219} INFO - iteration 100, current learner extra_tree\n",
      "[flaml.automl.logger: 06-01 11:10:14] {2392} INFO -  at 3343.4s,\testimator extra_tree's best error=0.0844,\tbest estimator xgboost's best error=0.0712\n",
      "[flaml.automl.logger: 06-01 11:10:14] {2219} INFO - iteration 101, current learner xgboost\n",
      "[flaml.automl.logger: 06-01 11:12:53] {2392} INFO -  at 3502.6s,\testimator xgboost's best error=0.0712,\tbest estimator xgboost's best error=0.0712\n",
      "[flaml.automl.logger: 06-01 11:12:53] {2219} INFO - iteration 102, current learner catboost\n",
      "[flaml.automl.logger: 06-01 11:25:48] {2392} INFO -  at 4277.4s,\testimator catboost's best error=0.0744,\tbest estimator xgboost's best error=0.0712\n",
      "[flaml.automl.logger: 06-01 11:25:48] {2219} INFO - iteration 103, current learner xgb_limitdepth\n",
      "[flaml.automl.logger: 06-01 11:25:55] {2392} INFO -  at 4284.8s,\testimator xgb_limitdepth's best error=0.0746,\tbest estimator xgboost's best error=0.0712\n",
      "[flaml.automl.logger: 06-01 11:25:55] {2219} INFO - iteration 104, current learner extra_tree\n",
      "[flaml.automl.logger: 06-01 11:26:24] {2392} INFO -  at 4313.5s,\testimator extra_tree's best error=0.0812,\tbest estimator xgboost's best error=0.0712\n",
      "[flaml.automl.logger: 06-01 11:26:24] {2219} INFO - iteration 105, current learner lgbm\n",
      "[flaml.automl.logger: 06-01 11:27:45] {2392} INFO -  at 4394.4s,\testimator lgbm's best error=0.0713,\tbest estimator xgboost's best error=0.0712\n",
      "[flaml.automl.logger: 06-01 11:27:45] {2219} INFO - iteration 106, current learner extra_tree\n",
      "[flaml.automl.logger: 06-01 11:28:08] {2392} INFO -  at 4417.3s,\testimator extra_tree's best error=0.0812,\tbest estimator xgboost's best error=0.0712\n",
      "[flaml.automl.logger: 06-01 11:28:08] {2219} INFO - iteration 107, current learner catboost\n",
      "[flaml.automl.logger: 06-01 11:29:18] {2392} INFO -  at 4487.0s,\testimator catboost's best error=0.0744,\tbest estimator xgboost's best error=0.0712\n",
      "[flaml.automl.logger: 06-01 11:29:18] {2219} INFO - iteration 108, current learner extra_tree\n",
      "[flaml.automl.logger: 06-01 11:29:54] {2392} INFO -  at 4523.2s,\testimator extra_tree's best error=0.0812,\tbest estimator xgboost's best error=0.0712\n",
      "[flaml.automl.logger: 06-01 11:29:54] {2219} INFO - iteration 109, current learner xgb_limitdepth\n",
      "[flaml.automl.logger: 06-01 11:30:37] {2392} INFO -  at 4566.5s,\testimator xgb_limitdepth's best error=0.0716,\tbest estimator xgboost's best error=0.0712\n",
      "[flaml.automl.logger: 06-01 11:30:37] {2219} INFO - iteration 110, current learner xgb_limitdepth\n",
      "[flaml.automl.logger: 06-01 11:31:02] {2392} INFO -  at 4591.2s,\testimator xgb_limitdepth's best error=0.0716,\tbest estimator xgboost's best error=0.0712\n",
      "[flaml.automl.logger: 06-01 11:31:02] {2219} INFO - iteration 111, current learner xgb_limitdepth\n",
      "[flaml.automl.logger: 06-01 11:32:22] {2392} INFO -  at 4671.7s,\testimator xgb_limitdepth's best error=0.0716,\tbest estimator xgboost's best error=0.0712\n",
      "[flaml.automl.logger: 06-01 11:32:22] {2219} INFO - iteration 112, current learner xgb_limitdepth\n",
      "[flaml.automl.logger: 06-01 11:32:41] {2392} INFO -  at 4690.7s,\testimator xgb_limitdepth's best error=0.0716,\tbest estimator xgboost's best error=0.0712\n",
      "[flaml.automl.logger: 06-01 11:32:41] {2219} INFO - iteration 113, current learner lgbm\n",
      "[flaml.automl.logger: 06-01 11:34:25] {2392} INFO -  at 4794.3s,\testimator lgbm's best error=0.0713,\tbest estimator xgboost's best error=0.0712\n",
      "[flaml.automl.logger: 06-01 11:34:25] {2219} INFO - iteration 114, current learner xgb_limitdepth\n",
      "[flaml.automl.logger: 06-01 11:36:12] {2392} INFO -  at 4901.7s,\testimator xgb_limitdepth's best error=0.0712,\tbest estimator xgboost's best error=0.0712\n",
      "[flaml.automl.logger: 06-01 11:36:12] {2219} INFO - iteration 115, current learner xgb_limitdepth\n",
      "[flaml.automl.logger: 06-01 11:36:48] {2392} INFO -  at 4937.5s,\testimator xgb_limitdepth's best error=0.0712,\tbest estimator xgboost's best error=0.0712\n",
      "[flaml.automl.logger: 06-01 11:36:48] {2219} INFO - iteration 116, current learner xgb_limitdepth\n",
      "[flaml.automl.logger: 06-01 11:42:13] {2392} INFO -  at 5262.5s,\testimator xgb_limitdepth's best error=0.0712,\tbest estimator xgboost's best error=0.0712\n",
      "[flaml.automl.logger: 06-01 11:42:13] {2219} INFO - iteration 117, current learner rf\n",
      "[flaml.automl.logger: 06-01 11:42:22] {2392} INFO -  at 5271.8s,\testimator rf's best error=0.0795,\tbest estimator xgboost's best error=0.0712\n",
      "[flaml.automl.logger: 06-01 11:42:22] {2219} INFO - iteration 118, current learner lgbm\n",
      "[flaml.automl.logger: 06-01 11:43:18] {2392} INFO -  at 5327.5s,\testimator lgbm's best error=0.0713,\tbest estimator xgboost's best error=0.0712\n",
      "[flaml.automl.logger: 06-01 11:43:18] {2219} INFO - iteration 119, current learner xgb_limitdepth\n",
      "[flaml.automl.logger: 06-01 11:44:42] {2392} INFO -  at 5411.7s,\testimator xgb_limitdepth's best error=0.0712,\tbest estimator xgboost's best error=0.0712\n",
      "[flaml.automl.logger: 06-01 11:44:42] {2219} INFO - iteration 120, current learner extra_tree\n",
      "[flaml.automl.logger: 06-01 11:45:11] {2392} INFO -  at 5440.1s,\testimator extra_tree's best error=0.0798,\tbest estimator xgboost's best error=0.0712\n",
      "[flaml.automl.logger: 06-01 11:45:11] {2219} INFO - iteration 121, current learner lgbm\n",
      "[flaml.automl.logger: 06-01 11:46:26] {2392} INFO -  at 5515.3s,\testimator lgbm's best error=0.0709,\tbest estimator lgbm's best error=0.0709\n",
      "[flaml.automl.logger: 06-01 11:46:26] {2219} INFO - iteration 122, current learner xgboost\n",
      "[flaml.automl.logger: 06-01 11:47:18] {2392} INFO -  at 5567.4s,\testimator xgboost's best error=0.0712,\tbest estimator lgbm's best error=0.0709\n",
      "[flaml.automl.logger: 06-01 11:47:18] {2219} INFO - iteration 123, current learner xgboost\n",
      "[flaml.automl.logger: 06-01 11:51:15] {2392} INFO -  at 5804.9s,\testimator xgboost's best error=0.0710,\tbest estimator lgbm's best error=0.0709\n",
      "[flaml.automl.logger: 06-01 11:51:15] {2219} INFO - iteration 124, current learner xgb_limitdepth\n",
      "[flaml.automl.logger: 06-01 11:53:35] {2392} INFO -  at 5944.3s,\testimator xgb_limitdepth's best error=0.0712,\tbest estimator lgbm's best error=0.0709\n",
      "[flaml.automl.logger: 06-01 11:53:35] {2219} INFO - iteration 125, current learner xgboost\n",
      "[flaml.automl.logger: 06-01 11:54:32] {2392} INFO -  at 6001.8s,\testimator xgboost's best error=0.0710,\tbest estimator lgbm's best error=0.0709\n",
      "[flaml.automl.logger: 06-01 11:54:32] {2219} INFO - iteration 126, current learner lgbm\n",
      "[flaml.automl.logger: 06-01 11:55:54] {2392} INFO -  at 6083.0s,\testimator lgbm's best error=0.0709,\tbest estimator lgbm's best error=0.0709\n",
      "[flaml.automl.logger: 06-01 11:55:54] {2219} INFO - iteration 127, current learner lgbm\n",
      "[flaml.automl.logger: 06-01 11:58:39] {2392} INFO -  at 6248.0s,\testimator lgbm's best error=0.0709,\tbest estimator lgbm's best error=0.0709\n",
      "[flaml.automl.logger: 06-01 11:58:39] {2219} INFO - iteration 128, current learner lgbm\n",
      "[flaml.automl.logger: 06-01 11:59:14] {2392} INFO -  at 6283.7s,\testimator lgbm's best error=0.0709,\tbest estimator lgbm's best error=0.0709\n",
      "[flaml.automl.logger: 06-01 11:59:14] {2219} INFO - iteration 129, current learner lgbm\n",
      "[flaml.automl.logger: 06-01 11:59:55] {2392} INFO -  at 6323.9s,\testimator lgbm's best error=0.0709,\tbest estimator lgbm's best error=0.0709\n",
      "[flaml.automl.logger: 06-01 11:59:55] {2219} INFO - iteration 130, current learner lgbm\n",
      "[flaml.automl.logger: 06-01 12:02:56] {2392} INFO -  at 6505.6s,\testimator lgbm's best error=0.0709,\tbest estimator lgbm's best error=0.0709\n",
      "[flaml.automl.logger: 06-01 12:02:56] {2219} INFO - iteration 131, current learner xgb_limitdepth\n",
      "[flaml.automl.logger: 06-01 12:03:49] {2392} INFO -  at 6558.8s,\testimator xgb_limitdepth's best error=0.0712,\tbest estimator lgbm's best error=0.0709\n",
      "[flaml.automl.logger: 06-01 12:03:49] {2219} INFO - iteration 132, current learner xgboost\n",
      "[flaml.automl.logger: 06-01 12:24:34] {2392} INFO -  at 7803.1s,\testimator xgboost's best error=0.0710,\tbest estimator lgbm's best error=0.0709\n",
      "[flaml.automl.logger: 06-01 12:24:34] {2219} INFO - iteration 133, current learner catboost\n",
      "[flaml.automl.logger: 06-01 12:59:02] {2392} INFO -  at 9871.9s,\testimator catboost's best error=0.0744,\tbest estimator lgbm's best error=0.0709\n",
      "[flaml.automl.logger: 06-01 12:59:02] {2219} INFO - iteration 134, current learner xgb_limitdepth\n",
      "[flaml.automl.logger: 06-01 13:02:55] {2392} INFO -  at 10104.4s,\testimator xgb_limitdepth's best error=0.0712,\tbest estimator lgbm's best error=0.0709\n",
      "[flaml.automl.logger: 06-01 13:02:55] {2219} INFO - iteration 135, current learner lgbm\n",
      "[flaml.automl.logger: 06-01 13:03:30] {2392} INFO -  at 10139.7s,\testimator lgbm's best error=0.0709,\tbest estimator lgbm's best error=0.0709\n",
      "[flaml.automl.logger: 06-01 13:03:30] {2219} INFO - iteration 136, current learner lgbm\n",
      "[flaml.automl.logger: 06-01 13:06:02] {2392} INFO -  at 10291.7s,\testimator lgbm's best error=0.0709,\tbest estimator lgbm's best error=0.0709\n",
      "[flaml.automl.logger: 06-01 13:06:02] {2219} INFO - iteration 137, current learner xgboost\n",
      "[flaml.automl.logger: 06-01 13:08:50] {2392} INFO -  at 10459.5s,\testimator xgboost's best error=0.0710,\tbest estimator lgbm's best error=0.0709\n",
      "[flaml.automl.logger: 06-01 13:08:50] {2219} INFO - iteration 138, current learner xgb_limitdepth\n",
      "[flaml.automl.logger: 06-01 13:09:16] {2392} INFO -  at 10485.1s,\testimator xgb_limitdepth's best error=0.0712,\tbest estimator lgbm's best error=0.0709\n",
      "[flaml.automl.logger: 06-01 13:09:16] {2219} INFO - iteration 139, current learner xgboost\n",
      "[flaml.automl.logger: 06-01 13:14:37] {2392} INFO -  at 10806.8s,\testimator xgboost's best error=0.0710,\tbest estimator lgbm's best error=0.0709\n",
      "[flaml.automl.logger: 06-01 13:14:53] {2628} INFO - retrain lgbm for 16.1s\n",
      "[flaml.automl.logger: 06-01 13:14:53] {2631} INFO - retrained model: LGBMClassifier(colsample_bytree=0.4804131128760313,\n",
      "               learning_rate=0.0526991568211921, max_bin=255,\n",
      "               min_child_samples=4, n_estimators=1, n_jobs=-1, num_leaves=115,\n",
      "               reg_alpha=0.0009765625, reg_lambda=0.029242177822527835,\n",
      "               verbose=-1)\n",
      "[flaml.automl.logger: 06-01 13:14:53] {1931} INFO - fit succeeded\n",
      "[flaml.automl.logger: 06-01 13:14:53] {1932} INFO - Time taken to find the best model: 5515.2611973285675\n"
     ]
    }
   ],
   "source": [
    "automl.fit(X, y, task=\"classification\",metric='roc_auc_ovo',time_budget=3600*3)"
   ]
  },
  {
   "cell_type": "code",
   "execution_count": 153,
   "id": "cc783d11",
   "metadata": {
    "execution": {
     "iopub.execute_input": "2024-06-01T13:14:54.059061Z",
     "iopub.status.busy": "2024-06-01T13:14:54.058649Z",
     "iopub.status.idle": "2024-06-01T13:14:54.065570Z",
     "shell.execute_reply": "2024-06-01T13:14:54.064267Z"
    },
    "papermill": {
     "duration": 0.082616,
     "end_time": "2024-06-01T13:14:54.067855",
     "exception": false,
     "start_time": "2024-06-01T13:14:53.985239",
     "status": "completed"
    },
    "tags": []
   },
   "outputs": [
    {
     "name": "stdout",
     "output_type": "stream",
     "text": [
      "Best ML leaner: lgbm\n",
      "Best hyperparmeter config: {'n_estimators': 211, 'num_leaves': 115, 'min_child_samples': 4, 'learning_rate': 0.0526991568211921, 'log_max_bin': 8, 'colsample_bytree': 0.4804131128760313, 'reg_alpha': 0.0009765625, 'reg_lambda': 0.029242177822527835}\n",
      "Best roc_auc_ovo  on validation data: 0.9291\n",
      "Training duration of best run: 16.05 s\n"
     ]
    }
   ],
   "source": [
    "print('Best ML leaner:', automl.best_estimator)\n",
    "print('Best hyperparmeter config:', automl.best_config)\n",
    "print('Best roc_auc_ovo  on validation data: {0:.4g}'.format(1-automl.best_loss))\n",
    "print('Training duration of best run: {0:.4g} s'.format(automl.best_config_train_time))"
   ]
  },
  {
   "cell_type": "code",
   "execution_count": 154,
   "id": "58d0fb57",
   "metadata": {
    "execution": {
     "iopub.execute_input": "2024-06-01T13:14:54.214761Z",
     "iopub.status.busy": "2024-06-01T13:14:54.213679Z",
     "iopub.status.idle": "2024-06-01T13:15:00.840194Z",
     "shell.execute_reply": "2024-06-01T13:15:00.839158Z"
    },
    "papermill": {
     "duration": 6.702315,
     "end_time": "2024-06-01T13:15:00.842661",
     "exception": false,
     "start_time": "2024-06-01T13:14:54.140346",
     "status": "completed"
    },
    "tags": []
   },
   "outputs": [
    {
     "data": {
      "text/plain": [
       "array(['Dropout', 'Graduate', 'Graduate', 'Graduate', 'Enrolled'],\n",
       "      dtype=object)"
      ]
     },
     "execution_count": 154,
     "metadata": {},
     "output_type": "execute_result"
    }
   ],
   "source": [
    "y_pred = automl.predict(test)\n",
    "y_pred[:5]"
   ]
  },
  {
   "cell_type": "code",
   "execution_count": 155,
   "id": "bb202511",
   "metadata": {
    "execution": {
     "iopub.execute_input": "2024-06-01T13:15:00.990451Z",
     "iopub.status.busy": "2024-06-01T13:15:00.990058Z",
     "iopub.status.idle": "2024-06-01T13:15:01.000395Z",
     "shell.execute_reply": "2024-06-01T13:15:00.999320Z"
    },
    "papermill": {
     "duration": 0.087286,
     "end_time": "2024-06-01T13:15:01.002502",
     "exception": false,
     "start_time": "2024-06-01T13:15:00.915216",
     "status": "completed"
    },
    "tags": []
   },
   "outputs": [
    {
     "data": {
      "text/html": [
       "<div>\n",
       "<style scoped>\n",
       "    .dataframe tbody tr th:only-of-type {\n",
       "        vertical-align: middle;\n",
       "    }\n",
       "\n",
       "    .dataframe tbody tr th {\n",
       "        vertical-align: top;\n",
       "    }\n",
       "\n",
       "    .dataframe thead th {\n",
       "        text-align: right;\n",
       "    }\n",
       "</style>\n",
       "<table border=\"1\" class=\"dataframe\">\n",
       "  <thead>\n",
       "    <tr style=\"text-align: right;\">\n",
       "      <th></th>\n",
       "      <th>Target</th>\n",
       "    </tr>\n",
       "  </thead>\n",
       "  <tbody>\n",
       "    <tr>\n",
       "      <th>0</th>\n",
       "      <td>Dropout</td>\n",
       "    </tr>\n",
       "    <tr>\n",
       "      <th>1</th>\n",
       "      <td>Graduate</td>\n",
       "    </tr>\n",
       "    <tr>\n",
       "      <th>2</th>\n",
       "      <td>Graduate</td>\n",
       "    </tr>\n",
       "    <tr>\n",
       "      <th>3</th>\n",
       "      <td>Graduate</td>\n",
       "    </tr>\n",
       "    <tr>\n",
       "      <th>4</th>\n",
       "      <td>Enrolled</td>\n",
       "    </tr>\n",
       "  </tbody>\n",
       "</table>\n",
       "</div>"
      ],
      "text/plain": [
       "     Target\n",
       "0   Dropout\n",
       "1  Graduate\n",
       "2  Graduate\n",
       "3  Graduate\n",
       "4  Enrolled"
      ]
     },
     "execution_count": 155,
     "metadata": {},
     "output_type": "execute_result"
    }
   ],
   "source": [
    "df = pd.DataFrame(y_pred,columns=['Target'])\n",
    "df.head()"
   ]
  },
  {
   "cell_type": "code",
   "execution_count": 156,
   "id": "df1de928",
   "metadata": {
    "execution": {
     "iopub.execute_input": "2024-06-01T13:15:01.152514Z",
     "iopub.status.busy": "2024-06-01T13:15:01.152125Z",
     "iopub.status.idle": "2024-06-01T13:15:01.200531Z",
     "shell.execute_reply": "2024-06-01T13:15:01.199443Z"
    },
    "papermill": {
     "duration": 0.125706,
     "end_time": "2024-06-01T13:15:01.202976",
     "exception": false,
     "start_time": "2024-06-01T13:15:01.077270",
     "status": "completed"
    },
    "tags": []
   },
   "outputs": [
    {
     "data": {
      "text/html": [
       "<div>\n",
       "<style scoped>\n",
       "    .dataframe tbody tr th:only-of-type {\n",
       "        vertical-align: middle;\n",
       "    }\n",
       "\n",
       "    .dataframe tbody tr th {\n",
       "        vertical-align: top;\n",
       "    }\n",
       "\n",
       "    .dataframe thead th {\n",
       "        text-align: right;\n",
       "    }\n",
       "</style>\n",
       "<table border=\"1\" class=\"dataframe\">\n",
       "  <thead>\n",
       "    <tr style=\"text-align: right;\">\n",
       "      <th></th>\n",
       "      <th>id</th>\n",
       "      <th>Target</th>\n",
       "    </tr>\n",
       "  </thead>\n",
       "  <tbody>\n",
       "    <tr>\n",
       "      <th>0</th>\n",
       "      <td>76518</td>\n",
       "      <td>Graduate</td>\n",
       "    </tr>\n",
       "    <tr>\n",
       "      <th>1</th>\n",
       "      <td>76519</td>\n",
       "      <td>Graduate</td>\n",
       "    </tr>\n",
       "    <tr>\n",
       "      <th>2</th>\n",
       "      <td>76520</td>\n",
       "      <td>Graduate</td>\n",
       "    </tr>\n",
       "    <tr>\n",
       "      <th>3</th>\n",
       "      <td>76521</td>\n",
       "      <td>Graduate</td>\n",
       "    </tr>\n",
       "    <tr>\n",
       "      <th>4</th>\n",
       "      <td>76522</td>\n",
       "      <td>Graduate</td>\n",
       "    </tr>\n",
       "  </tbody>\n",
       "</table>\n",
       "</div>"
      ],
      "text/plain": [
       "      id    Target\n",
       "0  76518  Graduate\n",
       "1  76519  Graduate\n",
       "2  76520  Graduate\n",
       "3  76521  Graduate\n",
       "4  76522  Graduate"
      ]
     },
     "execution_count": 156,
     "metadata": {},
     "output_type": "execute_result"
    }
   ],
   "source": [
    "sol=pd.read_csv('/kaggle/input/playground-series-s4e6/sample_submission.csv')\n",
    "sol.head()"
   ]
  },
  {
   "cell_type": "code",
   "execution_count": 157,
   "id": "020252ca",
   "metadata": {
    "execution": {
     "iopub.execute_input": "2024-06-01T13:15:01.353081Z",
     "iopub.status.busy": "2024-06-01T13:15:01.352674Z",
     "iopub.status.idle": "2024-06-01T13:15:01.364199Z",
     "shell.execute_reply": "2024-06-01T13:15:01.363093Z"
    },
    "papermill": {
     "duration": 0.089355,
     "end_time": "2024-06-01T13:15:01.366782",
     "exception": false,
     "start_time": "2024-06-01T13:15:01.277427",
     "status": "completed"
    },
    "tags": []
   },
   "outputs": [
    {
     "data": {
      "text/html": [
       "<div>\n",
       "<style scoped>\n",
       "    .dataframe tbody tr th:only-of-type {\n",
       "        vertical-align: middle;\n",
       "    }\n",
       "\n",
       "    .dataframe tbody tr th {\n",
       "        vertical-align: top;\n",
       "    }\n",
       "\n",
       "    .dataframe thead th {\n",
       "        text-align: right;\n",
       "    }\n",
       "</style>\n",
       "<table border=\"1\" class=\"dataframe\">\n",
       "  <thead>\n",
       "    <tr style=\"text-align: right;\">\n",
       "      <th></th>\n",
       "      <th>id</th>\n",
       "      <th>Target</th>\n",
       "    </tr>\n",
       "  </thead>\n",
       "  <tbody>\n",
       "    <tr>\n",
       "      <th>0</th>\n",
       "      <td>76518</td>\n",
       "      <td>Dropout</td>\n",
       "    </tr>\n",
       "    <tr>\n",
       "      <th>1</th>\n",
       "      <td>76519</td>\n",
       "      <td>Graduate</td>\n",
       "    </tr>\n",
       "    <tr>\n",
       "      <th>2</th>\n",
       "      <td>76520</td>\n",
       "      <td>Graduate</td>\n",
       "    </tr>\n",
       "    <tr>\n",
       "      <th>3</th>\n",
       "      <td>76521</td>\n",
       "      <td>Graduate</td>\n",
       "    </tr>\n",
       "    <tr>\n",
       "      <th>4</th>\n",
       "      <td>76522</td>\n",
       "      <td>Enrolled</td>\n",
       "    </tr>\n",
       "  </tbody>\n",
       "</table>\n",
       "</div>"
      ],
      "text/plain": [
       "      id    Target\n",
       "0  76518   Dropout\n",
       "1  76519  Graduate\n",
       "2  76520  Graduate\n",
       "3  76521  Graduate\n",
       "4  76522  Enrolled"
      ]
     },
     "execution_count": 157,
     "metadata": {},
     "output_type": "execute_result"
    }
   ],
   "source": [
    "sol['Target']=df['Target']\n",
    "sol.head()"
   ]
  },
  {
   "cell_type": "code",
   "execution_count": 158,
   "id": "a3f8291b",
   "metadata": {
    "execution": {
     "iopub.execute_input": "2024-06-01T13:15:01.519997Z",
     "iopub.status.busy": "2024-06-01T13:15:01.519161Z",
     "iopub.status.idle": "2024-06-01T13:15:01.578965Z",
     "shell.execute_reply": "2024-06-01T13:15:01.577596Z"
    },
    "papermill": {
     "duration": 0.141359,
     "end_time": "2024-06-01T13:15:01.581581",
     "exception": false,
     "start_time": "2024-06-01T13:15:01.440222",
     "status": "completed"
    },
    "tags": []
   },
   "outputs": [],
   "source": [
    "sol.to_csv('./roc_auc_ovo.csv',index=False)"
   ]
  }
 ],
 "metadata": {
  "kaggle": {
   "accelerator": "none",
   "dataSources": [
    {
     "databundleVersionId": 8710574,
     "sourceId": 73290,
     "sourceType": "competition"
    }
   ],
   "dockerImageVersionId": 30715,
   "isGpuEnabled": false,
   "isInternetEnabled": true,
   "language": "python",
   "sourceType": "notebook"
  },
  "kernelspec": {
   "display_name": "Python 3",
   "language": "python",
   "name": "python3"
  },
  "language_info": {
   "codemirror_mode": {
    "name": "ipython",
    "version": 3
   },
   "file_extension": ".py",
   "mimetype": "text/x-python",
   "name": "python",
   "nbconvert_exporter": "python",
   "pygments_lexer": "ipython3",
   "version": "3.10.13"
  },
  "papermill": {
   "default_parameters": {},
   "duration": 10873.880388,
   "end_time": "2024-06-01T13:15:02.797261",
   "environment_variables": {},
   "exception": null,
   "input_path": "__notebook__.ipynb",
   "output_path": "__notebook__.ipynb",
   "parameters": {},
   "start_time": "2024-06-01T10:13:48.916873",
   "version": "2.5.0"
  }
 },
 "nbformat": 4,
 "nbformat_minor": 5
}
